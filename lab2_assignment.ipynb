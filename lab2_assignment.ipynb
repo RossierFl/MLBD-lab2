{
 "metadata": {
  "signature": "sha256:26c4be815d068a2898afb0ec80cb4f42fa774a5724ee64fe08270b2a357699c9"
 },
 "nbformat": 3,
 "nbformat_minor": 0,
 "worksheets": [
  {
   "cells": [
    {
     "cell_type": "heading",
     "level": 1,
     "metadata": {},
     "source": [
      "MLBD / Lab 2 / Features extraction"
     ]
    },
    {
     "cell_type": "heading",
     "level": 2,
     "metadata": {},
     "source": [
      "Report submission"
     ]
    },
    {
     "cell_type": "markdown",
     "metadata": {},
     "source": [
      "This laboratory will be graded, so you have to submit a report. You can work in groups of up to 3 persons and submit a single zip (max 10 MByte) for each group containing :\n",
      "\n",
      "- a PDF report of about 4 pages (+/- 2 pages) with explanation about the experiments you performed and the results you obtained. This should include answers to the questions of this notebook. Do not forget to include the name of the group members on the front page.\n",
      "- the *.ipnyb* and *.py* (if any) files you used to perform your experiments\n",
      "- **DO NOT** include the data files\n",
      "\n",
      "Submit the zip by email to <a href=\"mailto:julien.rebetez@gmail.com\">julien.rebetez@gmail.com</a> by **Monday 23rd March, 23:59 (swiss time)**. "
     ]
    },
    {
     "cell_type": "heading",
     "level": 2,
     "metadata": {},
     "source": [
      "Introduction"
     ]
    },
    {
     "cell_type": "markdown",
     "metadata": {},
     "source": [
      "In this laboratory, we will work with images of plant leaves. The goal is to identify the plant species from the image.\n",
      "\n",
      "To do so, we will use some concepts that have been presented in the theoretical part of the course :\n",
      "- Feature extraction to turn an image into a vector of features\n",
      "    - This will involve using PCA (Principal Component Analysis)\n",
      "- Multi-Layer Perceptron (a type of artificial neural network) to perform the classification"
     ]
    },
    {
     "cell_type": "heading",
     "level": 3,
     "metadata": {},
     "source": [
      "Dataset information"
     ]
    },
    {
     "cell_type": "markdown",
     "metadata": {},
     "source": [
      "We will use the ImageClef 2012 Plant classification dataset. To simplify things, we have already extracted a small part of the dataset that we will be working on (in the \"data/preprocessed\" directory).\n",
      "\n",
      "The notebook additionals/lab2_preprocess contains the preprocessing code (background substraction, image size normalization) that was used to create the subset of the data used in this laboratory.\n",
      "\n",
      "Note that **it is not required** to download the full dataset. Neither do you need to run the lab2_preprocess notebook as this has already been done for you. But you can have a look if you are interested.\n",
      "\n",
      "The full dataset can be downloaded from : \n",
      "\n",
      "http://www.imageclef.org/2012/plant\n",
      "\n",
      "The direct link is :\n",
      "\n",
      "http://otmedia.lirmm.fr/LifeCLEF/ImageCLEF2011-2012-2013/ImageCLEF2012PlantIdentificationTaskFinalPackage.zip\n",
      "\n",
      "It is interesting to download this dataset and have a look at the files in *data/SomeStatAndHtmlViewBySpecies/TrainAndTestViewsBySpecies*, which gives a nice overview of the type of plants in the dataset.\n",
      "\n",
      "This dataset was originally used in a challenge. In the *OralPresentationsAndPosters* directory, there are some presentations from the teams that participated in the challenge with information about the type of preprocessing, features and classifiers used. This is very interesting if you are looking for inspiration about what you could implement.\n"
     ]
    },
    {
     "cell_type": "markdown",
     "metadata": {},
     "source": [
      "<p style=\"background-color:#bb2222; color:#fff;padding:5px; font-weight:bold\">Note about OpenCV</p>"
     ]
    },
    {
     "cell_type": "markdown",
     "metadata": {},
     "source": [
      "We will use the OpenCV image processing library to extract some features from the images. You can install it using anaconda with the following command :\n",
      "\n",
      "    $ conda install opencv\n",
      "    \n",
      "You should then be able to import the OpenCV python module, called **cv2**."
     ]
    },
    {
     "cell_type": "heading",
     "level": 2,
     "metadata": {},
     "source": [
      "Dataset overview"
     ]
    },
    {
     "cell_type": "code",
     "collapsed": false,
     "input": [
      "import os\n",
      "import cv2 # opencv\n",
      "import pandas as pd\n",
      "import numpy.ma as ma\n",
      "import numpy.linalg as la\n",
      "import skimage\n",
      "import skimage.io\n",
      "import pylab as pl\n",
      "import matplotlib.cm as cm\n",
      "%pylab inline --no-import-all\n",
      "np.set_printoptions(precision=5, suppress=True)"
     ],
     "language": "python",
     "metadata": {},
     "outputs": [
      {
       "output_type": "stream",
       "stream": "stdout",
       "text": [
        "Populating the interactive namespace from numpy and matplotlib\n"
       ]
      }
     ],
     "prompt_number": 72
    },
    {
     "cell_type": "code",
     "collapsed": false,
     "input": [
      "DIR = 'data/preprocessed/'\n",
      "meta = pd.io.pickle.read_pickle(os.path.join(DIR, 'meta.pkl'))\n",
      "\n",
      "def load_img(name):\n",
      "    \"\"\"Loads the given image by name and returns a masked array\"\"\"\n",
      "    img = skimage.io.imread(os.path.join(DIR, 'imgs', name + \".png\"))\n",
      "    img = skimage.img_as_float(img)\n",
      "    img = ma.masked_where(img == 0, img)\n",
      "    # same mask for all 3 axes\n",
      "    mask = np.all(img == 0, axis=2)\n",
      "    img = ma.array(img)\n",
      "    for i in xrange(img.shape[2]):\n",
      "        img.mask[:,:,i] = mask\n",
      "    \n",
      "    return img"
     ],
     "language": "python",
     "metadata": {},
     "outputs": [],
     "prompt_number": 73
    },
    {
     "cell_type": "markdown",
     "metadata": {},
     "source": [
      "The meta dataframe contains information for each image :\n",
      "\n",
      "- *basename* is the filename (without extension) of the image.\n",
      "- *content* gives information about the image content. To simplify the problem, we selected only images of plant leaves on uniform backgrounds, but the original dataset has more variety. \n",
      "- *classid* is the class. We selected 9 classes from the original dataset.\n",
      "- *photo_type* is the type of photo. To simplify, we used only scan and pseudoscan (=uniform background) images"
     ]
    },
    {
     "cell_type": "code",
     "collapsed": false,
     "input": [
      "meta.iloc[:5]"
     ],
     "language": "python",
     "metadata": {},
     "outputs": [
      {
       "html": [
        "<div style=\"max-height:1000px;max-width:1500px;overflow:auto;\">\n",
        "<table border=\"1\" class=\"dataframe\">\n",
        "  <thead>\n",
        "    <tr style=\"text-align: right;\">\n",
        "      <th></th>\n",
        "      <th>basename</th>\n",
        "      <th>content</th>\n",
        "      <th>classid</th>\n",
        "      <th>photo_type</th>\n",
        "    </tr>\n",
        "  </thead>\n",
        "  <tbody>\n",
        "    <tr>\n",
        "      <th>49 </th>\n",
        "      <td> 10047</td>\n",
        "      <td> leaf</td>\n",
        "      <td>     arbutus unedo</td>\n",
        "      <td> pseudoscan</td>\n",
        "    </tr>\n",
        "    <tr>\n",
        "      <th>70 </th>\n",
        "      <td> 10073</td>\n",
        "      <td> leaf</td>\n",
        "      <td>   nerium oleander</td>\n",
        "      <td> pseudoscan</td>\n",
        "    </tr>\n",
        "    <tr>\n",
        "      <th>85 </th>\n",
        "      <td> 10092</td>\n",
        "      <td> leaf</td>\n",
        "      <td>   nerium oleander</td>\n",
        "      <td>       scan</td>\n",
        "    </tr>\n",
        "    <tr>\n",
        "      <th>117</th>\n",
        "      <td> 10129</td>\n",
        "      <td> leaf</td>\n",
        "      <td>    acer campestre</td>\n",
        "      <td>       scan</td>\n",
        "    </tr>\n",
        "    <tr>\n",
        "      <th>123</th>\n",
        "      <td> 10135</td>\n",
        "      <td> leaf</td>\n",
        "      <td> quercus pubescens</td>\n",
        "      <td> pseudoscan</td>\n",
        "    </tr>\n",
        "  </tbody>\n",
        "</table>\n",
        "</div>"
       ],
       "metadata": {},
       "output_type": "pyout",
       "prompt_number": 74,
       "text": [
        "    basename content            classid  photo_type\n",
        "49     10047    leaf      arbutus unedo  pseudoscan\n",
        "70     10073    leaf    nerium oleander  pseudoscan\n",
        "85     10092    leaf    nerium oleander        scan\n",
        "117    10129    leaf     acer campestre        scan\n",
        "123    10135    leaf  quercus pubescens  pseudoscan"
       ]
      }
     ],
     "prompt_number": 74
    },
    {
     "cell_type": "markdown",
     "metadata": {},
     "source": [
      "You can use the *load_img* function to load an image. \n",
      "\n",
      "**masked arrays** Note that we are using [numpy *masked* arrays](http://docs.scipy.org/doc/numpy/reference/maskedarray.html), which are a special type of numpy array that have a mask. The mask is a boolean array that indicates if an entry is valid (mask[i,j] == False) or invalid (mask[i,j] == True). For our images, the background pixels are all masked. You can access the mask by using the .mask attribute of the array. Below, we use img.filled(1) to get a copy of the array with masked values replaced by 1. "
     ]
    },
    {
     "cell_type": "code",
     "collapsed": false,
     "input": [
      "# Show 3 example images\n",
      "examples = [0, 50, 300]\n",
      "\n",
      "pl.figure(figsize=(10, 3))\n",
      "for i, idx in enumerate(examples): \n",
      "    pl.subplot(1, 3, i + 1)\n",
      "    img = load_img(meta.iloc[idx]['basename'])\n",
      "    pl.title(meta.iloc[idx]['classid'])\n",
      "    pl.imshow(img.filled(1))"
     ],
     "language": "python",
     "metadata": {},
     "outputs": [
      {
       "metadata": {},
       "output_type": "display_data",
       "png": "[encoded data removed]",
       "text": [
        "<matplotlib.figure.Figure at 0x7fd72aeb2090>"
       ]
      }
     ],
     "prompt_number": 75
    },
    {
     "cell_type": "code",
     "collapsed": false,
     "input": [
      "# The classes we will work with\n",
      "print np.unique(meta['classid'])"
     ],
     "language": "python",
     "metadata": {},
     "outputs": [
      {
       "output_type": "stream",
       "stream": "stdout",
       "text": [
        "['acer campestre' 'ailanthus altissima' 'alnus glutinosa' 'arbutus unedo'\n",
        " 'castanea sativa' 'liquidambar styraciflua' 'nerium oleander'\n",
        " 'quercus pubescens' 'vitex agnus-castus']\n"
       ]
      }
     ],
     "prompt_number": 76
    },
    {
     "cell_type": "code",
     "collapsed": false,
     "input": [
      "# You can plot some examples images for a given species\n",
      "import random\n",
      "examples = np.flatnonzero(meta['classid'] == 'acer campestre')\n",
      "\n",
      "for idx in random.sample(examples, 3):\n",
      "    pl.figure()\n",
      "    img = load_img(meta.iloc[idx]['basename'])\n",
      "    pl.title(meta.iloc[idx]['classid'])\n",
      "    pl.imshow(img.filled(1))"
     ],
     "language": "python",
     "metadata": {},
     "outputs": [
      {
       "metadata": {},
       "output_type": "display_data",
       "png": "[encoded data removed]",
       "text": [
        "<matplotlib.figure.Figure at 0x7fd730306cd0>"
       ]
      },
      {
       "metadata": {},
       "output_type": "display_data",
       "png": "[encoded data removed]",
       "text": [
        "<matplotlib.figure.Figure at 0x7fd73b501890>"
       ]
      },
      {
       "metadata": {},
       "output_type": "display_data",
       "png": "[encoded data removed]",
       "text": [
        "<matplotlib.figure.Figure at 0x7fd73b5018d0>"
       ]
      }
     ],
     "prompt_number": 77
    },
    {
     "cell_type": "heading",
     "level": 2,
     "metadata": {},
     "source": [
      "Features extraction"
     ]
    },
    {
     "cell_type": "markdown",
     "metadata": {},
     "source": [
      "So, we have images of leaves and we want to train a classifier to automatically determine the species of a leaf.\n",
      "\n",
      "What should we use as input vectors for our classifier ?\n",
      "\n",
      "The bruteforce approach could be to use a flattened version of all the image pixels (you concatenate all the rows in the image). Since we have images that have a size of 512x512, this would result in 262144 (512*512) dimensional input vectors.\n",
      "\n",
      "For most classifiers, this is way too much dimensions. Also, this would mean that if you translate your image by one pixel, the input vector will change dramatically. Later in the course, we will see that deep learning classifiers are able to use data in such an unprocessed form, but for now, we have to extract features.\n",
      "\n",
      "The better approach is to extract features to represent each image. If we ask you to manually classify those images, what will you look at ? Color ? The general shape of the leaf (i.e. elongated, round) ? The texture of the leaf ?\n",
      "\n",
      "We will try to extract features that allow our classifier to use the same kind of hints that a human would use. We will start with two features : *eccentricity* and *curvature*. You will then have to propose and implement a new feature and see how the new information impacts classification performance."
     ]
    },
    {
     "cell_type": "markdown",
     "metadata": {},
     "source": [
      "First, we define some utility functions :"
     ]
    },
    {
     "cell_type": "code",
     "collapsed": false,
     "input": [
      "def get_plant_points(img):\n",
      "    \"\"\"\n",
      "    Given the image of a plant, returns a Nx2 array containing the (x, y) coordinate\n",
      "    of all non-masked points\n",
      "    \"\"\"\n",
      "    # this returns (y, x) tuple\n",
      "    points = np.transpose(np.nonzero(~img.mask)[:2])\n",
      "    # makes that an (x, y) tuple\n",
      "    points = np.roll(points, 1, axis=1)\n",
      "    return points\n",
      "\n",
      "def extract_contour(img):\n",
      "    \"\"\"\n",
      "    Wrapper around OpenCV's contour extraction methods. This returns only the longest\n",
      "    contour\n",
      "    \"\"\"\n",
      "    contours, hierarchy = cv2.findContours(\n",
      "        skimage.img_as_ubyte(~img.mask[:,:,0]),\n",
      "        cv2.RETR_EXTERNAL,\n",
      "        cv2.CHAIN_APPROX_NONE\n",
      "    )\n",
      "\n",
      "    # only take longest contour into account\n",
      "    longest_contour = np.argmax([len(c) for c in contours])\n",
      "    cnt = contours[longest_contour]\n",
      "    cnt = np.squeeze(cnt)\n",
      "    return cnt"
     ],
     "language": "python",
     "metadata": {},
     "outputs": [],
     "prompt_number": 78
    },
    {
     "cell_type": "heading",
     "level": 3,
     "metadata": {},
     "source": [
      "Eccentricity"
     ]
    },
    {
     "cell_type": "markdown",
     "metadata": {},
     "source": [
      "Eccentricity gives us information about how the distribution of the leaf points deviates from a perfect circle.\n",
      "\n",
      "The *get_plant_points* method above gives us the coordinate $(x, y)$ of all foreground (non-masked) points in the image. If we perform PCA on those points, we get two orthogonal (uncorrelated) principal axis (components) which are :\n",
      "\n",
      "- The first axis is the axis with maximum variance\n",
      "- The second axis is orthogonal to the first\n",
      "\n",
      "In addition, each axis (which are the eigenvectors of the covariance matrix of our data) has an associated eigenvalue. The eigenvalue informs us about the relative importance of each axis.\n",
      "\n",
      "We compute the eccentricity as the ratio of the eigenvalues of the two axis. If our points are distributed in a perfect circle, both axes will have equal importance and the ratio will be 1."
     ]
    },
    {
     "cell_type": "code",
     "collapsed": false,
     "input": [
      "from sklearn.decomposition import PCA\n",
      "\n",
      "def eccentricity(img, plot=False):\n",
      "    \"\"\"Compute eccentricity : the ratio of the eigenvalues of principal components\"\"\"\n",
      "    points = get_plant_points(img)\n",
      "    pca = PCA(n_components=2).fit(points)\n",
      "    centroid = pca.mean_\n",
      "    eccentricity = pca.explained_variance_[0] / pca.explained_variance_[1]\n",
      "\n",
      "    if plot:\n",
      "        pl.title('eccentricity : %f' % eccentricity)\n",
      "        pl.imshow(img)\n",
      "        \n",
      "        # direction of the two principal components\n",
      "        d1 = pca.components_[0,:]\n",
      "        d2 = pca.components_[1,:]\n",
      "        \n",
      "        scale = 100\n",
      "        p1 = centroid + scale * d1 * pca.explained_variance_ratio_[0]\n",
      "        pl.plot([centroid[0], p1[0]], [centroid[1], p1[1]], c='r')\n",
      "        \n",
      "        p2 = centroid + scale * d2 * pca.explained_variance_ratio_[1]\n",
      "        pl.plot([centroid[0], p2[0]], [centroid[1], p2[1]], c='y')\n",
      "        \n",
      "        pl.xlim((0, img.shape[1]))\n",
      "        pl.ylim((img.shape[0], 0))\n",
      "        \n",
      "    return eccentricity"
     ],
     "language": "python",
     "metadata": {},
     "outputs": [],
     "prompt_number": 79
    },
    {
     "cell_type": "markdown",
     "metadata": {},
     "source": [
      "First, let's play with circles and ellipses"
     ]
    },
    {
     "cell_type": "code",
     "collapsed": false,
     "input": [
      "import skimage.draw\n",
      "\n",
      "def get_ellipse_image(yradius, xradius):\n",
      "    img = ma.masked_all((512, 512), dtype=np.float)\n",
      "    rr, cc = skimage.draw.ellipse(256, 256, yradius=yradius, xradius=xradius, shape=(512, 512))\n",
      "    img[rr, cc] = 1\n",
      "    return img\n",
      "\n",
      "pl.figure(figsize=(8, 3))\n",
      "pl.subplot(121)\n",
      "# This is a circle\n",
      "eccentricity(get_ellipse_image(64, 64), plot=True)\n",
      "\n",
      "pl.subplot(122)\n",
      "# An ellipse\n",
      "eccentricity(get_ellipse_image(128, 64), plot=True)"
     ],
     "language": "python",
     "metadata": {},
     "outputs": [
      {
       "metadata": {},
       "output_type": "pyout",
       "prompt_number": 80,
       "text": [
        "4.0057977326922609"
       ]
      },
      {
       "metadata": {},
       "output_type": "display_data",
       "png": "[encoded data removed]",
       "text": [
        "<matplotlib.figure.Figure at 0x7fd73100ef90>"
       ]
      }
     ],
     "prompt_number": 80
    },
    {
     "cell_type": "markdown",
     "metadata": {},
     "source": [
      "Ok so now we can apply eccentricity on our images"
     ]
    },
    {
     "cell_type": "code",
     "collapsed": false,
     "input": [
      "examples = [0, 50, 300]\n",
      "pl.figure(figsize=(10, 3))\n",
      "for i, idx in enumerate(examples): \n",
      "    pl.subplot(1, 3, i + 1)\n",
      "    img = load_img(meta.iloc[idx]['basename'])\n",
      "    eccentricity(img, plot=True)"
     ],
     "language": "python",
     "metadata": {},
     "outputs": [
      {
       "metadata": {},
       "output_type": "display_data",
       "png": "[encoded data removed]",
       "text": [
        "<matplotlib.figure.Figure at 0x7fd730dc0910>"
       ]
      }
     ],
     "prompt_number": 81
    },
    {
     "cell_type": "heading",
     "level": 3,
     "metadata": {},
     "source": [
      "Curvature"
     ]
    },
    {
     "cell_type": "markdown",
     "metadata": {},
     "source": [
      "We will compute the [curvature](http://en.wikipedia.org/wiki/Curvature#Curvature_of_plane_curves) of the contour of the leaf. This will help describe the \"pointiness\" of the contour.\n",
      "\n",
      "The function does the following steps :\n",
      "\n",
      "- Extract the leaf contour (using OpenCV's contour extraction functions).\n",
      "- Compute the curvature for each point on the contour.\n",
      "- Compute an histogram of all the curvatures of contour points.\n",
      "\n",
      "The final feature vector will be the histogram. The number of bins in the histogram define the dimensionality of the feature vector.\n",
      "\n",
      "There are three parameters that are important when computing our curvature feature :\n",
      "\n",
      "- *step* : To compute curvature for a given point, we need a previous and next point and then use those 3 points to construct a circumcircle, the (inverse of the) radius of which is the curvature. The step determine how far away we pick our previous and next point.\n",
      "\n",
      "<img width=\"200px\" src=\"http://upload.wikimedia.org/wikipedia/commons/thumb/8/84/Osculating_circle.svg/460px-Osculating_circle.svg.png\" />\n",
      "\n",
      "- *nbins* and *vmax* : When computing our histogram of curvatures, we have to decide the number of bins in the histogram. We also have to decide the range of the bins, which will be in [0, vmax] . "
     ]
    },
    {
     "cell_type": "code",
     "collapsed": false,
     "input": [
      "from matplotlib import gridspec\n",
      "\n",
      "def circumcircle_radius(p1, p2, p3):\n",
      "    \"\"\"\n",
      "    Given 3 points of a triangle, computes the radius of the circumcircle\n",
      "    http://www.mathopenref.com/trianglecircumcircle.html\n",
      "\n",
      "    This function can return np.inf if the triangle has an area of zero\n",
      "    \"\"\"\n",
      "    a = la.norm(p2 - p1)\n",
      "    b = la.norm(p3 - p2)\n",
      "    c = la.norm(p1 - p3)\n",
      "    #print a, b, c\n",
      "\n",
      "    # Check for degenerate case (triangle has an area of zero)\n",
      "    denom = np.fabs((a+b+c)*(b+c-a)*(c+a-b)*(a+b-c))\n",
      "    if abs(denom) < 1e-5:\n",
      "        return np.inf\n",
      "    else:\n",
      "        r = (a * b * c)/np.sqrt(denom)\n",
      "        return r\n",
      "\n",
      "def curvature_from_cnt(line, step=10):\n",
      "    \"\"\"\n",
      "    Curvature computation for a line given as a Nx2 array\n",
      "    We assumes the line is closed (ie the last and first point are contiguous)\n",
      "\n",
      "    Each set of 3 consecutive (see step) points on the line forms a triangle\n",
      "    and the radius of the circumcircle of this triangle is the radius of\n",
      "    the curve for that set. The curvature is 1/r where r is this radius.\n",
      "\n",
      "    Taking immediatly consecutive points doesn't work well, so `step` specify\n",
      "    how points triplets are formed : (i-step, i, i+step)\n",
      "    \"\"\"\n",
      "    # Append line end at beginning and beginning at end to simulate closed\n",
      "    # line\n",
      "    l = np.r_[line[-1].reshape(-1, 2),\n",
      "              np.array(line),\n",
      "              line[0].reshape(-1, 2)]\n",
      "    curv = []\n",
      "    linelen = line.shape[0]\n",
      "    for i in xrange(linelen):\n",
      "        # indices in l are shifted by -1\n",
      "        #r = circumcircle_radius(l[i], l[i+1], l[i+2])\n",
      "        r = circumcircle_radius(line[(i-step)%linelen],\n",
      "                                line[i],\n",
      "                                line[(i+step)%linelen])\n",
      "        if np.isinf(r):\n",
      "            # Flat => curvature = 0\n",
      "            curv.append(0)\n",
      "        else:\n",
      "            curv.append(1.0 / r)\n",
      "    return np.array(curv)\n",
      "\n",
      "def curvature(img, step=10, plot=False, gs=None):\n",
      "    cnt = extract_contour(img)\n",
      "    \n",
      "    cvt = curvature_from_cnt(cnt, step=step)\n",
      "    \n",
      "    if plot:\n",
      "        if gs is None:\n",
      "            gs = gridspec.GridSpec(1, 2)\n",
      "        vimg = skimage.img_as_ubyte(img)\n",
      "        cv2.drawContours(vimg, [cnt], 0, (0,255,0), 3)\n",
      "        \n",
      "        pl.subplot(gs[0])\n",
      "        pl.title('contour')\n",
      "        pl.imshow(vimg)\n",
      "        pl.axis('off')\n",
      "        \n",
      "        pl.subplot(gs[1])\n",
      "        pl.title('curvature')\n",
      "        pl.imshow(img)\n",
      "        pl.scatter(cnt[:,0], cnt[:,1], c=cvt, linewidths=0, s=5)\n",
      "        pl.xlim((0, img.shape[1]))\n",
      "        pl.ylim((img.shape[0], 0))\n",
      "        pl.axis('off')\n",
      "        \n",
      "    return cvt"
     ],
     "language": "python",
     "metadata": {},
     "outputs": [],
     "prompt_number": 82
    },
    {
     "cell_type": "markdown",
     "metadata": {},
     "source": [
      "<p style=\"background-color:#660066; color:#fff;padding:5px; font-weight:bold\">Q: Implement the curvature_hist function.</p>\n",
      "\n",
      "This function should take an image as input and return a vector of dimension $n$ representing the histogram of contour curvatures for the given image with $n$ bins. The signature should be :\n",
      "\n",
      "    def curvature_hist(img, step=10, plot=False):\n",
      "        # implement here\n"
     ]
    },
    {
     "cell_type": "code",
     "collapsed": false,
     "input": [
      "#\n",
      "# curvature_hist code\n",
      "#\n",
      "def curvature_hist(img, step=10, plot=False):\n",
      "    cvt = curvature(img, step=10, plot=plot)\n",
      "    hist = np.histogram(cvt,bins=10)\n",
      "    if plot:\n",
      "        pl.figure(figsize=(10, 5))\n",
      "        pl.hist(cvt, bins=10, color='blue')\n",
      "    return hist[0]\n",
      "    "
     ],
     "language": "python",
     "metadata": {},
     "outputs": [],
     "prompt_number": 83
    },
    {
     "cell_type": "code",
     "collapsed": false,
     "input": [
      "m1 = meta['classid'] == 'alnus glutinosa'\n",
      "m2 = meta['classid'] == 'acer campestre'\n",
      "print np.flatnonzero(m1)\n",
      "print np.flatnonzero(m2)"
     ],
     "language": "python",
     "metadata": {},
     "outputs": [
      {
       "output_type": "stream",
       "stream": "stdout",
       "text": [
        "[ 19  44  64 170 178 194 208 214 232 250 286 303 306 313 328 338 421 423\n",
        " 433 444 478 484 507 512 516 537 540 574]\n",
        "[  3   6  11  14  17  24  43  63  78  80  91  95 111 125 126 129 130 146\n",
        " 182 200 213 246 248 264 273 280 281 282 289 290 292 295 307 318 319 325\n",
        " 339 355 360 375 384 411 420 427 430 434 436 453 454 458 460 463 464 465\n",
        " 508 510 513 527 530 531 541 552 555 557 558 562 566]\n"
       ]
      }
     ],
     "prompt_number": 84
    },
    {
     "cell_type": "code",
     "collapsed": false,
     "input": [
      "examples = [1, 13, 7]\n",
      "#examples = [19, 44, 3, 6]\n",
      "for i, idx in enumerate(examples): \n",
      "    pl.figure(figsize=(10, 5))\n",
      "    img = load_img(meta.iloc[idx]['basename'])\n",
      "    c = curvature_hist(img, step=10, plot=True)\n",
      "    print c"
     ],
     "language": "python",
     "metadata": {},
     "outputs": [
      {
       "output_type": "stream",
       "stream": "stdout",
       "text": [
        "[890  36  22  30  48  28   6   4   5   5]\n",
        "[1523  579  178   89   58   69  132  223   13    5]"
       ]
      },
      {
       "output_type": "stream",
       "stream": "stdout",
       "text": [
        "\n",
        "[415 293 132 115  82 107  89  57  31  11]"
       ]
      },
      {
       "output_type": "stream",
       "stream": "stdout",
       "text": [
        "\n"
       ]
      },
      {
       "metadata": {},
       "output_type": "display_data",
       "png": "[encoded data removed]",
       "text": [
        "<matplotlib.figure.Figure at 0x7fd73b5fc9d0>"
       ]
      },
      {
       "metadata": {},
       "output_type": "display_data",
       "png": "[encoded data removed]",
       "text": [
        "<matplotlib.figure.Figure at 0x7fd73b877450>"
       ]
      },
      {
       "metadata": {},
       "output_type": "display_data",
       "png": "[encoded data removed]",
       "text": [
        "<matplotlib.figure.Figure at 0x7fd73042aa90>"
       ]
      },
      {
       "metadata": {},
       "output_type": "display_data",
       "png": "[encoded data removed]",
       "text": [
        "<matplotlib.figure.Figure at 0x7fd730e47a50>"
       ]
      },
      {
       "metadata": {},
       "output_type": "display_data",
       "png": "[encoded data removed]",
       "text": [
        "<matplotlib.figure.Figure at 0x7fd72ae6b050>"
       ]
      },
      {
       "metadata": {},
       "output_type": "display_data",
       "png": "[encoded data removed]",
       "text": [
        "<matplotlib.figure.Figure at 0x7fd73b87e850>"
       ]
      }
     ],
     "prompt_number": 85
    },
    {
     "cell_type": "heading",
     "level": 3,
     "metadata": {},
     "source": [
      "Implement your own features"
     ]
    },
    {
     "cell_type": "markdown",
     "metadata": {},
     "source": [
      "http://www.math.uci.edu/icamp/summer/research_11/park/shape_descriptors_survey.pdf"
     ]
    },
    {
     "cell_type": "markdown",
     "metadata": {},
     "source": [
      "<p style=\"background-color:#660066; color:#fff;padding:5px; font-weight:bold\">Q: Implement a new feature</p>\n",
      "\n",
      "Implement a new feature extractor that you think could be useful for this classification task. Explain why your feature extractor is useful. You can look at the presentations accompanying the original dataset for inspiration. You can also start building on the convex hull example below."
     ]
    },
    {
     "cell_type": "code",
     "collapsed": false,
     "input": [
      "# As an example, OpenCV allows you to compute the convex hull of a shape. An idea of feature might be\n",
      "# to compute the ratio of area covered by valid pixels versus the convex hull area\n",
      "cnt = extract_contour(img)\n",
      "hull = cv2.convexHull(cnt)\n",
      "vimg = skimage.img_as_ubyte(img)\n",
      "cv2.drawContours(vimg, [hull], 0, (0,255,0), -1)\n",
      "pl.imshow(vimg)"
     ],
     "language": "python",
     "metadata": {},
     "outputs": [
      {
       "metadata": {},
       "output_type": "pyout",
       "prompt_number": 86,
       "text": [
        "<matplotlib.image.AxesImage at 0x7fd72add4950>"
       ]
      },
      {
       "metadata": {},
       "output_type": "display_data",
       "png": "[encoded data removed]",
       "text": [
        "<matplotlib.figure.Figure at 0x7fd730e719d0>"
       ]
      }
     ],
     "prompt_number": 86
    },
    {
     "cell_type": "heading",
     "level": 3,
     "metadata": {},
     "source": [
      "Solidity"
     ]
    },
    {
     "cell_type": "markdown",
     "metadata": {},
     "source": [
      "This feature represents the ratio between convex hull and valid pixel as mentionned above\n",
      "To do this, we have to compute convex hull and contourArea we just need to use the opencv function to do this one, no need to reinvent the wheel :\n",
      "\n"
     ]
    },
    {
     "cell_type": "code",
     "collapsed": false,
     "input": [
      "#\n",
      "# compute_solidity code\n",
      "#\n",
      "def compute_solidity(img,plot=False):\n",
      "    cnt = extract_contour(img)\n",
      "    hull = cv2.convexHull(cnt)\n",
      "    hullValue = cv2.contourArea(hull)\n",
      "    #print \"hull :\",hullValue\n",
      "    contourArea = cv2.contourArea(cnt)\n",
      "    #print \"contourArea :\",contourArea\n",
      "    ratio = contourArea/hullValue\n",
      "    if plot:\n",
      "        vimg = skimage.img_as_ubyte(img)\n",
      "        cv2.drawContours(vimg, [hull], 0, (0,255,0), -1)\n",
      "        cv2.drawContours(vimg, [cnt], 0, (255,0,0), -1)\n",
      "        pl.imshow(vimg)\n",
      "        #print ratio\n",
      "    return ratio"
     ],
     "language": "python",
     "metadata": {},
     "outputs": [],
     "prompt_number": 87
    },
    {
     "cell_type": "code",
     "collapsed": false,
     "input": [
      "#use the same exemple as histogram\n",
      "examples = [1, 13, 7]\n",
      "#examples = [19, 44, 3, 6]\n",
      "for i, idx in enumerate(examples): \n",
      "    pl.figure(figsize=(10, 5))\n",
      "    img = load_img(meta.iloc[idx]['basename'])\n",
      "    solidity = compute_solidity(img, plot=True)\n",
      "    #print solidity"
     ],
     "language": "python",
     "metadata": {},
     "outputs": [
      {
       "metadata": {},
       "output_type": "display_data",
       "png": "[encoded data removed]",
       "text": [
        "<matplotlib.figure.Figure at 0x7fd72ae0b450>"
       ]
      },
      {
       "metadata": {},
       "output_type": "display_data",
       "png": "[encoded data removed]",
       "text": [
        "<matplotlib.figure.Figure at 0x7fd731085650>"
       ]
      },
      {
       "metadata": {},
       "output_type": "display_data",
       "png": "[encoded data removed]",
       "text": [
        "<matplotlib.figure.Figure at 0x7fd730ed0850>"
       ]
      }
     ],
     "prompt_number": 88
    },
    {
     "cell_type": "markdown",
     "metadata": {},
     "source": [
      "<p style=\"background-color:#660066; color:#fff;padding:5px; font-weight:bold\">Q: Use the features to train and evaluate a k-NN classifier</p>\n",
      "\n",
      "This involves :\n",
      "\n",
      "- Compute the feature vector of each image (by concatenating individual features of the image).\n",
      "- Build a $n$ x $m$ data matrix $X$ with the feature vectors of all the images, where $n$ is the number of images and $m$ the number of features.\n",
      "- Build an integer vector of length $n$, $y$, containing the target class for each image. *sklearn.preprocessing.LabelEncoder* is useful for converting text labels into integers.\n",
      "- Split your dataset into training and test : X_train, X_test, y_train, y_test. *sklearn.cross_validation* has useful utility functions for that.\n",
      "- Normalizing your data. *sklearn.preprocessing.MinMaxScaler* might be useful (or other similar scaler classes)\n",
      "- Build a classifier with *sklearn.neighbors.KNeighborsClassifier* on your training dataset and evaluate on your test dataset.\n",
      "    - this the *y_pred = knn.predict(X_test)* cell\n",
      "\n",
      "After you have evaluated your model **write a short analysis of your results**.\n"
     ]
    },
    {
     "cell_type": "heading",
     "level": 3,
     "metadata": {},
     "source": [
      "Create Dataset"
     ]
    },
    {
     "cell_type": "markdown",
     "metadata": {},
     "source": [
      "Here we simply load the dataset to a matrix X \n",
      "\n",
      "|       \t| Solidity \t| Eccentricity \t| Curvature*10 \t|\n",
      "|-------\t|----------\t|--------------\t|--------------\t|\n",
      "| Leaf1 \t|          \t|              \t|              \t|\n",
      "| Leaf2 \t|          \t|              \t|              \t|\n",
      "| Leaf3 \t|          \t|              \t|              \t|"
     ]
    },
    {
     "cell_type": "markdown",
     "metadata": {},
     "source": [
      "Change textual classes to unique integer to simplify"
     ]
    },
    {
     "cell_type": "code",
     "collapsed": false,
     "input": [],
     "language": "python",
     "metadata": {},
     "outputs": [],
     "prompt_number": 88
    },
    {
     "cell_type": "code",
     "collapsed": false,
     "input": [
      "tel = {}\n",
      "def getUniqueId(classid,init=True):\n",
      "    index = np.unique(meta['classid'])\n",
      "    id = 0\n",
      "    for x in index:\n",
      "        tel[x] = id;\n",
      "        id=id+1\n",
      "    return tel"
     ],
     "language": "python",
     "metadata": {},
     "outputs": [],
     "prompt_number": 89
    },
    {
     "cell_type": "code",
     "collapsed": false,
     "input": [
      "colnames = np.array([\n",
      "    'class', 'solidity', 'Eccentricity', 'curvature0', 'curvature1', 'curvature2', 'curvature3', \n",
      "    'curvature4', 'curvature5', 'curvature6', 'curvature7', 'curvature8',\n",
      "    'curvature9'\n",
      "])\n",
      "index = len(np.unique(meta['basename']))\n",
      "print index\n",
      "data = []\n",
      "classid = []\n",
      "solidity = []\n",
      "encentricity = []\n",
      "curve_histo = np.matrix((0,1,2,3,4,5,6,7,8,9))\n",
      "#print curve_histo\n",
      "#init\n",
      "id = getUniqueId(-1)\n",
      "for i in range(0,index):\n",
      "    pl.figure(figsize=(10, 5))\n",
      "    img = load_img(meta.iloc[i]['basename'])\n",
      "    classid_tmp = id[meta.iloc[i]['classid']]\n",
      "    classid.append(classid_tmp)\n",
      "    solidity_tmp = compute_solidity(img, plot=False)\n",
      "    solidity.append(solidity_tmp)\n",
      "    eccentricity_tmp = eccentricity(img)\n",
      "    encentricity.append(eccentricity_tmp)\n",
      "    curve_histo_tmp = curvature_hist(img)\n",
      "    curve_histo=np.vstack((curve_histo,np.matrix(curve_histo_tmp)))\n",
      "    \n",
      "data = np.matrix(np.matrix(classid).T)\n",
      "data = np.concatenate((data,np.matrix(solidity).T),axis=1)\n",
      "data = np.concatenate((data,np.matrix(encentricity).T),axis=1)\n",
      "histo = curve_histo[1:len(curve_histo),:]\n",
      "data = np.hstack((data,histo))\n",
      "#print data\n",
      "\n",
      "\n",
      "df = pd.DataFrame(data=data, columns=colnames)\n",
      "# Ensure the class column is an int\n",
      "df['classid'] = data[:,0].astype(np.int)\n",
      "\n",
      "# Pandas dataframes have a nice pretty-printing for ipython notebooks\n",
      "df\n",
      "\n",
      "\n",
      "#df = pd.DataFrame(index=index, columns=colnames)\n",
      "#df = df.fillna(0) # with 0s rather than NaNs\n",
      "\n",
      "#df\n",
      "\n",
      "#for i in df.index:\n",
      "    #do_something(df.ix[i])\n"
     ],
     "language": "python",
     "metadata": {},
     "outputs": [
      {
       "output_type": "stream",
       "stream": "stdout",
       "text": [
        "583\n"
       ]
      },
      {
       "html": [
        "<div style=\"max-height:1000px;max-width:1500px;overflow:auto;\">\n",
        "<table border=\"1\" class=\"dataframe\">\n",
        "  <thead>\n",
        "    <tr style=\"text-align: right;\">\n",
        "      <th></th>\n",
        "      <th>class</th>\n",
        "      <th>solidity</th>\n",
        "      <th>Eccentricity</th>\n",
        "      <th>curvature0</th>\n",
        "      <th>curvature1</th>\n",
        "      <th>curvature2</th>\n",
        "      <th>curvature3</th>\n",
        "      <th>curvature4</th>\n",
        "      <th>curvature5</th>\n",
        "      <th>curvature6</th>\n",
        "      <th>curvature7</th>\n",
        "      <th>curvature8</th>\n",
        "      <th>curvature9</th>\n",
        "      <th>classid</th>\n",
        "    </tr>\n",
        "  </thead>\n",
        "  <tbody>\n",
        "    <tr>\n",
        "      <th>0  </th>\n",
        "      <td> 3</td>\n",
        "      <td> 0.894554</td>\n",
        "      <td>  4.541101</td>\n",
        "      <td>  437</td>\n",
        "      <td> 281</td>\n",
        "      <td> 115</td>\n",
        "      <td>  90</td>\n",
        "      <td>  67</td>\n",
        "      <td>  31</td>\n",
        "      <td>  26</td>\n",
        "      <td>  11</td>\n",
        "      <td>  2</td>\n",
        "      <td>  3</td>\n",
        "      <td> 3</td>\n",
        "    </tr>\n",
        "    <tr>\n",
        "      <th>1  </th>\n",
        "      <td> 6</td>\n",
        "      <td> 0.915427</td>\n",
        "      <td>  1.955519</td>\n",
        "      <td>  890</td>\n",
        "      <td>  36</td>\n",
        "      <td>  22</td>\n",
        "      <td>  30</td>\n",
        "      <td>  48</td>\n",
        "      <td>  28</td>\n",
        "      <td>   6</td>\n",
        "      <td>   4</td>\n",
        "      <td>  5</td>\n",
        "      <td>  5</td>\n",
        "      <td> 6</td>\n",
        "    </tr>\n",
        "    <tr>\n",
        "      <th>2  </th>\n",
        "      <td> 6</td>\n",
        "      <td> 0.941368</td>\n",
        "      <td> 45.564273</td>\n",
        "      <td>  851</td>\n",
        "      <td>  71</td>\n",
        "      <td>   3</td>\n",
        "      <td>   3</td>\n",
        "      <td>   2</td>\n",
        "      <td>   5</td>\n",
        "      <td>   5</td>\n",
        "      <td>   5</td>\n",
        "      <td>  8</td>\n",
        "      <td> 11</td>\n",
        "      <td> 6</td>\n",
        "    </tr>\n",
        "    <tr>\n",
        "      <th>3  </th>\n",
        "      <td> 0</td>\n",
        "      <td> 0.623541</td>\n",
        "      <td>  1.210492</td>\n",
        "      <td>  879</td>\n",
        "      <td> 291</td>\n",
        "      <td> 131</td>\n",
        "      <td>  91</td>\n",
        "      <td>  58</td>\n",
        "      <td>  30</td>\n",
        "      <td>  19</td>\n",
        "      <td>  16</td>\n",
        "      <td> 16</td>\n",
        "      <td> 17</td>\n",
        "      <td> 0</td>\n",
        "    </tr>\n",
        "    <tr>\n",
        "      <th>4  </th>\n",
        "      <td> 7</td>\n",
        "      <td> 0.850167</td>\n",
        "      <td>  3.097474</td>\n",
        "      <td>  287</td>\n",
        "      <td> 244</td>\n",
        "      <td> 163</td>\n",
        "      <td> 101</td>\n",
        "      <td>  62</td>\n",
        "      <td>  42</td>\n",
        "      <td>  48</td>\n",
        "      <td>  36</td>\n",
        "      <td> 18</td>\n",
        "      <td>  7</td>\n",
        "      <td> 7</td>\n",
        "    </tr>\n",
        "    <tr>\n",
        "      <th>5  </th>\n",
        "      <td> 6</td>\n",
        "      <td> 0.934410</td>\n",
        "      <td> 31.826622</td>\n",
        "      <td>  882</td>\n",
        "      <td>  62</td>\n",
        "      <td>   8</td>\n",
        "      <td>   3</td>\n",
        "      <td>   3</td>\n",
        "      <td>   4</td>\n",
        "      <td>   3</td>\n",
        "      <td>   6</td>\n",
        "      <td>  8</td>\n",
        "      <td>  6</td>\n",
        "      <td> 6</td>\n",
        "    </tr>\n",
        "    <tr>\n",
        "      <th>6  </th>\n",
        "      <td> 0</td>\n",
        "      <td> 0.620685</td>\n",
        "      <td>  1.118477</td>\n",
        "      <td>  469</td>\n",
        "      <td> 298</td>\n",
        "      <td> 190</td>\n",
        "      <td> 122</td>\n",
        "      <td>  76</td>\n",
        "      <td>  73</td>\n",
        "      <td>  49</td>\n",
        "      <td>  31</td>\n",
        "      <td>  7</td>\n",
        "      <td>  9</td>\n",
        "      <td> 0</td>\n",
        "    </tr>\n",
        "    <tr>\n",
        "      <th>7  </th>\n",
        "      <td> 7</td>\n",
        "      <td> 0.826498</td>\n",
        "      <td>  2.337273</td>\n",
        "      <td>  415</td>\n",
        "      <td> 293</td>\n",
        "      <td> 132</td>\n",
        "      <td> 115</td>\n",
        "      <td>  82</td>\n",
        "      <td> 107</td>\n",
        "      <td>  89</td>\n",
        "      <td>  57</td>\n",
        "      <td> 31</td>\n",
        "      <td> 11</td>\n",
        "      <td> 7</td>\n",
        "    </tr>\n",
        "    <tr>\n",
        "      <th>8  </th>\n",
        "      <td> 5</td>\n",
        "      <td> 0.696275</td>\n",
        "      <td>  1.297559</td>\n",
        "      <td>  391</td>\n",
        "      <td> 177</td>\n",
        "      <td>  66</td>\n",
        "      <td>  34</td>\n",
        "      <td>  29</td>\n",
        "      <td>  31</td>\n",
        "      <td>  20</td>\n",
        "      <td>   4</td>\n",
        "      <td>  1</td>\n",
        "      <td>  4</td>\n",
        "      <td> 5</td>\n",
        "    </tr>\n",
        "    <tr>\n",
        "      <th>9  </th>\n",
        "      <td> 6</td>\n",
        "      <td> 0.955274</td>\n",
        "      <td> 41.860062</td>\n",
        "      <td>  781</td>\n",
        "      <td>  78</td>\n",
        "      <td>   3</td>\n",
        "      <td>   3</td>\n",
        "      <td>   5</td>\n",
        "      <td>   2</td>\n",
        "      <td>   3</td>\n",
        "      <td>   6</td>\n",
        "      <td>  5</td>\n",
        "      <td> 12</td>\n",
        "      <td> 6</td>\n",
        "    </tr>\n",
        "    <tr>\n",
        "      <th>10 </th>\n",
        "      <td> 6</td>\n",
        "      <td> 0.965548</td>\n",
        "      <td> 38.093738</td>\n",
        "      <td>  875</td>\n",
        "      <td>  17</td>\n",
        "      <td>   4</td>\n",
        "      <td>   3</td>\n",
        "      <td>   3</td>\n",
        "      <td>  10</td>\n",
        "      <td>   7</td>\n",
        "      <td>   6</td>\n",
        "      <td>  1</td>\n",
        "      <td>  9</td>\n",
        "      <td> 6</td>\n",
        "    </tr>\n",
        "    <tr>\n",
        "      <th>11 </th>\n",
        "      <td> 0</td>\n",
        "      <td> 0.457805</td>\n",
        "      <td>  2.576494</td>\n",
        "      <td>  808</td>\n",
        "      <td> 144</td>\n",
        "      <td>  83</td>\n",
        "      <td>  54</td>\n",
        "      <td>  56</td>\n",
        "      <td>  38</td>\n",
        "      <td>  23</td>\n",
        "      <td>  21</td>\n",
        "      <td>  1</td>\n",
        "      <td> 10</td>\n",
        "      <td> 0</td>\n",
        "    </tr>\n",
        "    <tr>\n",
        "      <th>12 </th>\n",
        "      <td> 6</td>\n",
        "      <td> 0.917779</td>\n",
        "      <td> 29.340773</td>\n",
        "      <td>  742</td>\n",
        "      <td> 100</td>\n",
        "      <td>   2</td>\n",
        "      <td>   4</td>\n",
        "      <td>   2</td>\n",
        "      <td>   9</td>\n",
        "      <td>  11</td>\n",
        "      <td>   6</td>\n",
        "      <td>  4</td>\n",
        "      <td>  6</td>\n",
        "      <td> 6</td>\n",
        "    </tr>\n",
        "    <tr>\n",
        "      <th>13 </th>\n",
        "      <td> 1</td>\n",
        "      <td> 0.530858</td>\n",
        "      <td>  8.363456</td>\n",
        "      <td> 1523</td>\n",
        "      <td> 579</td>\n",
        "      <td> 178</td>\n",
        "      <td>  89</td>\n",
        "      <td>  58</td>\n",
        "      <td>  69</td>\n",
        "      <td> 132</td>\n",
        "      <td> 223</td>\n",
        "      <td> 13</td>\n",
        "      <td>  5</td>\n",
        "      <td> 1</td>\n",
        "    </tr>\n",
        "    <tr>\n",
        "      <th>14 </th>\n",
        "      <td> 0</td>\n",
        "      <td> 0.788177</td>\n",
        "      <td>  1.211621</td>\n",
        "      <td>  416</td>\n",
        "      <td> 332</td>\n",
        "      <td> 123</td>\n",
        "      <td>  86</td>\n",
        "      <td>  46</td>\n",
        "      <td>  59</td>\n",
        "      <td>  51</td>\n",
        "      <td>  56</td>\n",
        "      <td> 25</td>\n",
        "      <td> 12</td>\n",
        "      <td> 0</td>\n",
        "    </tr>\n",
        "    <tr>\n",
        "      <th>15 </th>\n",
        "      <td> 6</td>\n",
        "      <td> 0.947856</td>\n",
        "      <td> 48.261616</td>\n",
        "      <td>  820</td>\n",
        "      <td>  50</td>\n",
        "      <td>  11</td>\n",
        "      <td>   6</td>\n",
        "      <td>   3</td>\n",
        "      <td>   4</td>\n",
        "      <td>   3</td>\n",
        "      <td>   5</td>\n",
        "      <td>  6</td>\n",
        "      <td>  9</td>\n",
        "      <td> 6</td>\n",
        "    </tr>\n",
        "    <tr>\n",
        "      <th>16 </th>\n",
        "      <td> 1</td>\n",
        "      <td> 0.455317</td>\n",
        "      <td>  5.914125</td>\n",
        "      <td> 1889</td>\n",
        "      <td> 429</td>\n",
        "      <td> 195</td>\n",
        "      <td>  94</td>\n",
        "      <td>  70</td>\n",
        "      <td>  94</td>\n",
        "      <td> 219</td>\n",
        "      <td>  41</td>\n",
        "      <td>  2</td>\n",
        "      <td>  2</td>\n",
        "      <td> 1</td>\n",
        "    </tr>\n",
        "    <tr>\n",
        "      <th>17 </th>\n",
        "      <td> 0</td>\n",
        "      <td> 0.577743</td>\n",
        "      <td>  1.317468</td>\n",
        "      <td>  709</td>\n",
        "      <td> 224</td>\n",
        "      <td>  94</td>\n",
        "      <td>  76</td>\n",
        "      <td>  72</td>\n",
        "      <td>  41</td>\n",
        "      <td>  40</td>\n",
        "      <td>  32</td>\n",
        "      <td> 16</td>\n",
        "      <td>  9</td>\n",
        "      <td> 0</td>\n",
        "    </tr>\n",
        "    <tr>\n",
        "      <th>18 </th>\n",
        "      <td> 6</td>\n",
        "      <td> 0.953918</td>\n",
        "      <td> 40.273264</td>\n",
        "      <td>  844</td>\n",
        "      <td>  58</td>\n",
        "      <td>   6</td>\n",
        "      <td>   5</td>\n",
        "      <td>   5</td>\n",
        "      <td>   4</td>\n",
        "      <td>  10</td>\n",
        "      <td>   9</td>\n",
        "      <td>  6</td>\n",
        "      <td>  4</td>\n",
        "      <td> 6</td>\n",
        "    </tr>\n",
        "    <tr>\n",
        "      <th>19 </th>\n",
        "      <td> 2</td>\n",
        "      <td> 0.671718</td>\n",
        "      <td>  2.718551</td>\n",
        "      <td>  320</td>\n",
        "      <td> 135</td>\n",
        "      <td>  75</td>\n",
        "      <td>  18</td>\n",
        "      <td>   4</td>\n",
        "      <td>   0</td>\n",
        "      <td>   2</td>\n",
        "      <td>   1</td>\n",
        "      <td>  7</td>\n",
        "      <td>  3</td>\n",
        "      <td> 2</td>\n",
        "    </tr>\n",
        "    <tr>\n",
        "      <th>20 </th>\n",
        "      <td> 7</td>\n",
        "      <td> 0.818944</td>\n",
        "      <td>  2.765560</td>\n",
        "      <td>  363</td>\n",
        "      <td> 309</td>\n",
        "      <td> 208</td>\n",
        "      <td> 140</td>\n",
        "      <td> 125</td>\n",
        "      <td>  96</td>\n",
        "      <td>  64</td>\n",
        "      <td>  76</td>\n",
        "      <td> 43</td>\n",
        "      <td> 17</td>\n",
        "      <td> 7</td>\n",
        "    </tr>\n",
        "    <tr>\n",
        "      <th>21 </th>\n",
        "      <td> 6</td>\n",
        "      <td> 0.933121</td>\n",
        "      <td> 46.442878</td>\n",
        "      <td>  880</td>\n",
        "      <td>  33</td>\n",
        "      <td>   2</td>\n",
        "      <td>   4</td>\n",
        "      <td>   3</td>\n",
        "      <td>   2</td>\n",
        "      <td>   4</td>\n",
        "      <td>   5</td>\n",
        "      <td> 11</td>\n",
        "      <td>  4</td>\n",
        "      <td> 6</td>\n",
        "    </tr>\n",
        "    <tr>\n",
        "      <th>22 </th>\n",
        "      <td> 7</td>\n",
        "      <td> 0.864537</td>\n",
        "      <td>  2.029329</td>\n",
        "      <td>  442</td>\n",
        "      <td> 329</td>\n",
        "      <td> 231</td>\n",
        "      <td> 151</td>\n",
        "      <td> 158</td>\n",
        "      <td>  83</td>\n",
        "      <td>  49</td>\n",
        "      <td>  54</td>\n",
        "      <td> 12</td>\n",
        "      <td>  7</td>\n",
        "      <td> 7</td>\n",
        "    </tr>\n",
        "    <tr>\n",
        "      <th>23 </th>\n",
        "      <td> 6</td>\n",
        "      <td> 0.940308</td>\n",
        "      <td> 38.901928</td>\n",
        "      <td>  712</td>\n",
        "      <td> 156</td>\n",
        "      <td>  14</td>\n",
        "      <td>   5</td>\n",
        "      <td>   3</td>\n",
        "      <td>   6</td>\n",
        "      <td>   3</td>\n",
        "      <td>   5</td>\n",
        "      <td> 14</td>\n",
        "      <td>  7</td>\n",
        "      <td> 6</td>\n",
        "    </tr>\n",
        "    <tr>\n",
        "      <th>24 </th>\n",
        "      <td> 0</td>\n",
        "      <td> 0.503207</td>\n",
        "      <td>  1.092422</td>\n",
        "      <td>  863</td>\n",
        "      <td> 283</td>\n",
        "      <td>  75</td>\n",
        "      <td>  50</td>\n",
        "      <td>  60</td>\n",
        "      <td>  54</td>\n",
        "      <td>  52</td>\n",
        "      <td>  18</td>\n",
        "      <td> 18</td>\n",
        "      <td> 24</td>\n",
        "      <td> 0</td>\n",
        "    </tr>\n",
        "    <tr>\n",
        "      <th>25 </th>\n",
        "      <td> 6</td>\n",
        "      <td> 0.957511</td>\n",
        "      <td> 38.793766</td>\n",
        "      <td>  737</td>\n",
        "      <td> 129</td>\n",
        "      <td>  15</td>\n",
        "      <td>   5</td>\n",
        "      <td>   2</td>\n",
        "      <td>   5</td>\n",
        "      <td>   3</td>\n",
        "      <td>  13</td>\n",
        "      <td>  6</td>\n",
        "      <td>  7</td>\n",
        "      <td> 6</td>\n",
        "    </tr>\n",
        "    <tr>\n",
        "      <th>26 </th>\n",
        "      <td> 3</td>\n",
        "      <td> 0.907853</td>\n",
        "      <td>  7.582008</td>\n",
        "      <td>  461</td>\n",
        "      <td> 204</td>\n",
        "      <td> 115</td>\n",
        "      <td>  83</td>\n",
        "      <td>  27</td>\n",
        "      <td>  10</td>\n",
        "      <td>   7</td>\n",
        "      <td>   8</td>\n",
        "      <td>  1</td>\n",
        "      <td>  9</td>\n",
        "      <td> 3</td>\n",
        "    </tr>\n",
        "    <tr>\n",
        "      <th>27 </th>\n",
        "      <td> 6</td>\n",
        "      <td> 0.907305</td>\n",
        "      <td> 51.966614</td>\n",
        "      <td>  807</td>\n",
        "      <td>  48</td>\n",
        "      <td>  21</td>\n",
        "      <td>   2</td>\n",
        "      <td>   4</td>\n",
        "      <td>   2</td>\n",
        "      <td>   7</td>\n",
        "      <td>   9</td>\n",
        "      <td>  3</td>\n",
        "      <td>  1</td>\n",
        "      <td> 6</td>\n",
        "    </tr>\n",
        "    <tr>\n",
        "      <th>28 </th>\n",
        "      <td> 6</td>\n",
        "      <td> 0.949808</td>\n",
        "      <td> 30.580783</td>\n",
        "      <td>  849</td>\n",
        "      <td>  28</td>\n",
        "      <td>  12</td>\n",
        "      <td>  10</td>\n",
        "      <td>   3</td>\n",
        "      <td>   3</td>\n",
        "      <td>   2</td>\n",
        "      <td>   7</td>\n",
        "      <td> 10</td>\n",
        "      <td>  2</td>\n",
        "      <td> 6</td>\n",
        "    </tr>\n",
        "    <tr>\n",
        "      <th>29 </th>\n",
        "      <td> 3</td>\n",
        "      <td> 0.946274</td>\n",
        "      <td>  6.568037</td>\n",
        "      <td>  324</td>\n",
        "      <td> 231</td>\n",
        "      <td> 135</td>\n",
        "      <td>  86</td>\n",
        "      <td>  65</td>\n",
        "      <td>  50</td>\n",
        "      <td>  58</td>\n",
        "      <td>  32</td>\n",
        "      <td> 22</td>\n",
        "      <td> 28</td>\n",
        "      <td> 3</td>\n",
        "    </tr>\n",
        "    <tr>\n",
        "      <th>...</th>\n",
        "      <td>...</td>\n",
        "      <td>...</td>\n",
        "      <td>...</td>\n",
        "      <td>...</td>\n",
        "      <td>...</td>\n",
        "      <td>...</td>\n",
        "      <td>...</td>\n",
        "      <td>...</td>\n",
        "      <td>...</td>\n",
        "      <td>...</td>\n",
        "      <td>...</td>\n",
        "      <td>...</td>\n",
        "      <td>...</td>\n",
        "      <td>...</td>\n",
        "    </tr>\n",
        "    <tr>\n",
        "      <th>553</th>\n",
        "      <td> 1</td>\n",
        "      <td> 0.469912</td>\n",
        "      <td>  5.540137</td>\n",
        "      <td> 1545</td>\n",
        "      <td> 656</td>\n",
        "      <td> 187</td>\n",
        "      <td>  89</td>\n",
        "      <td>  72</td>\n",
        "      <td>  59</td>\n",
        "      <td>  65</td>\n",
        "      <td> 119</td>\n",
        "      <td> 94</td>\n",
        "      <td> 18</td>\n",
        "      <td> 1</td>\n",
        "    </tr>\n",
        "    <tr>\n",
        "      <th>554</th>\n",
        "      <td> 8</td>\n",
        "      <td> 0.418705</td>\n",
        "      <td>  1.302054</td>\n",
        "      <td> 1667</td>\n",
        "      <td> 191</td>\n",
        "      <td>  27</td>\n",
        "      <td>  19</td>\n",
        "      <td>  16</td>\n",
        "      <td>  19</td>\n",
        "      <td>  20</td>\n",
        "      <td>  35</td>\n",
        "      <td> 76</td>\n",
        "      <td> 30</td>\n",
        "      <td> 8</td>\n",
        "    </tr>\n",
        "    <tr>\n",
        "      <th>555</th>\n",
        "      <td> 0</td>\n",
        "      <td> 0.839491</td>\n",
        "      <td>  2.094733</td>\n",
        "      <td>  554</td>\n",
        "      <td> 372</td>\n",
        "      <td> 189</td>\n",
        "      <td> 104</td>\n",
        "      <td>  68</td>\n",
        "      <td>  50</td>\n",
        "      <td>  35</td>\n",
        "      <td>  18</td>\n",
        "      <td> 15</td>\n",
        "      <td> 14</td>\n",
        "      <td> 0</td>\n",
        "    </tr>\n",
        "    <tr>\n",
        "      <th>556</th>\n",
        "      <td> 4</td>\n",
        "      <td> 0.925724</td>\n",
        "      <td>  4.831579</td>\n",
        "      <td>  454</td>\n",
        "      <td> 325</td>\n",
        "      <td> 182</td>\n",
        "      <td> 112</td>\n",
        "      <td>  64</td>\n",
        "      <td>  57</td>\n",
        "      <td>  67</td>\n",
        "      <td>  84</td>\n",
        "      <td> 11</td>\n",
        "      <td>  4</td>\n",
        "      <td> 4</td>\n",
        "    </tr>\n",
        "    <tr>\n",
        "      <th>557</th>\n",
        "      <td> 0</td>\n",
        "      <td> 0.617318</td>\n",
        "      <td>  1.196712</td>\n",
        "      <td> 1127</td>\n",
        "      <td> 278</td>\n",
        "      <td> 148</td>\n",
        "      <td> 110</td>\n",
        "      <td>  71</td>\n",
        "      <td>  15</td>\n",
        "      <td>  22</td>\n",
        "      <td>  19</td>\n",
        "      <td> 25</td>\n",
        "      <td> 24</td>\n",
        "      <td> 0</td>\n",
        "    </tr>\n",
        "    <tr>\n",
        "      <th>558</th>\n",
        "      <td> 0</td>\n",
        "      <td> 0.562923</td>\n",
        "      <td>  1.194363</td>\n",
        "      <td>  686</td>\n",
        "      <td> 363</td>\n",
        "      <td> 121</td>\n",
        "      <td> 127</td>\n",
        "      <td>  70</td>\n",
        "      <td>  25</td>\n",
        "      <td>  29</td>\n",
        "      <td>  10</td>\n",
        "      <td> 21</td>\n",
        "      <td> 22</td>\n",
        "      <td> 0</td>\n",
        "    </tr>\n",
        "    <tr>\n",
        "      <th>559</th>\n",
        "      <td> 7</td>\n",
        "      <td> 0.821820</td>\n",
        "      <td>  4.648514</td>\n",
        "      <td>  309</td>\n",
        "      <td> 293</td>\n",
        "      <td> 252</td>\n",
        "      <td> 176</td>\n",
        "      <td>  96</td>\n",
        "      <td>  67</td>\n",
        "      <td>  23</td>\n",
        "      <td>   9</td>\n",
        "      <td> 22</td>\n",
        "      <td> 29</td>\n",
        "      <td> 7</td>\n",
        "    </tr>\n",
        "    <tr>\n",
        "      <th>560</th>\n",
        "      <td> 8</td>\n",
        "      <td> 0.300466</td>\n",
        "      <td>  1.604857</td>\n",
        "      <td> 1930</td>\n",
        "      <td> 114</td>\n",
        "      <td>  24</td>\n",
        "      <td>  24</td>\n",
        "      <td>  15</td>\n",
        "      <td>  21</td>\n",
        "      <td>  23</td>\n",
        "      <td>  46</td>\n",
        "      <td> 40</td>\n",
        "      <td> 12</td>\n",
        "      <td> 8</td>\n",
        "    </tr>\n",
        "    <tr>\n",
        "      <th>561</th>\n",
        "      <td> 3</td>\n",
        "      <td> 0.948723</td>\n",
        "      <td>  4.615101</td>\n",
        "      <td>  512</td>\n",
        "      <td> 321</td>\n",
        "      <td>  92</td>\n",
        "      <td>  37</td>\n",
        "      <td>  26</td>\n",
        "      <td>   8</td>\n",
        "      <td>   2</td>\n",
        "      <td>   4</td>\n",
        "      <td>  7</td>\n",
        "      <td>  4</td>\n",
        "      <td> 3</td>\n",
        "    </tr>\n",
        "    <tr>\n",
        "      <th>562</th>\n",
        "      <td> 0</td>\n",
        "      <td> 0.700144</td>\n",
        "      <td>  1.434295</td>\n",
        "      <td>  665</td>\n",
        "      <td> 214</td>\n",
        "      <td> 119</td>\n",
        "      <td>  68</td>\n",
        "      <td>  49</td>\n",
        "      <td>  34</td>\n",
        "      <td>   4</td>\n",
        "      <td>   1</td>\n",
        "      <td>  1</td>\n",
        "      <td>  2</td>\n",
        "      <td> 0</td>\n",
        "    </tr>\n",
        "    <tr>\n",
        "      <th>563</th>\n",
        "      <td> 6</td>\n",
        "      <td> 0.965574</td>\n",
        "      <td> 37.200224</td>\n",
        "      <td>  828</td>\n",
        "      <td>  67</td>\n",
        "      <td>   5</td>\n",
        "      <td>   6</td>\n",
        "      <td>   3</td>\n",
        "      <td>   2</td>\n",
        "      <td>  11</td>\n",
        "      <td>   7</td>\n",
        "      <td>  6</td>\n",
        "      <td>  4</td>\n",
        "      <td> 6</td>\n",
        "    </tr>\n",
        "    <tr>\n",
        "      <th>564</th>\n",
        "      <td> 5</td>\n",
        "      <td> 0.490868</td>\n",
        "      <td>  1.235698</td>\n",
        "      <td>  486</td>\n",
        "      <td> 198</td>\n",
        "      <td>  69</td>\n",
        "      <td>  43</td>\n",
        "      <td>  24</td>\n",
        "      <td>  25</td>\n",
        "      <td>  27</td>\n",
        "      <td>  32</td>\n",
        "      <td> 37</td>\n",
        "      <td> 35</td>\n",
        "      <td> 5</td>\n",
        "    </tr>\n",
        "    <tr>\n",
        "      <th>565</th>\n",
        "      <td> 1</td>\n",
        "      <td> 0.484384</td>\n",
        "      <td>  5.878366</td>\n",
        "      <td> 2132</td>\n",
        "      <td> 395</td>\n",
        "      <td> 185</td>\n",
        "      <td> 113</td>\n",
        "      <td> 155</td>\n",
        "      <td> 261</td>\n",
        "      <td>  24</td>\n",
        "      <td>   6</td>\n",
        "      <td>  2</td>\n",
        "      <td>  1</td>\n",
        "      <td> 1</td>\n",
        "    </tr>\n",
        "    <tr>\n",
        "      <th>566</th>\n",
        "      <td> 0</td>\n",
        "      <td> 0.659638</td>\n",
        "      <td>  1.365189</td>\n",
        "      <td> 1110</td>\n",
        "      <td> 242</td>\n",
        "      <td> 105</td>\n",
        "      <td>  69</td>\n",
        "      <td>  63</td>\n",
        "      <td>  20</td>\n",
        "      <td>  15</td>\n",
        "      <td>   7</td>\n",
        "      <td>  3</td>\n",
        "      <td>  3</td>\n",
        "      <td> 0</td>\n",
        "    </tr>\n",
        "    <tr>\n",
        "      <th>567</th>\n",
        "      <td> 3</td>\n",
        "      <td> 0.950914</td>\n",
        "      <td>  2.914202</td>\n",
        "      <td>  424</td>\n",
        "      <td> 233</td>\n",
        "      <td> 168</td>\n",
        "      <td>  77</td>\n",
        "      <td>  32</td>\n",
        "      <td>   9</td>\n",
        "      <td>  12</td>\n",
        "      <td>   3</td>\n",
        "      <td>  2</td>\n",
        "      <td>  9</td>\n",
        "      <td> 3</td>\n",
        "    </tr>\n",
        "    <tr>\n",
        "      <th>568</th>\n",
        "      <td> 7</td>\n",
        "      <td> 0.799009</td>\n",
        "      <td>  1.482022</td>\n",
        "      <td>  511</td>\n",
        "      <td> 390</td>\n",
        "      <td> 233</td>\n",
        "      <td> 121</td>\n",
        "      <td> 119</td>\n",
        "      <td> 100</td>\n",
        "      <td>  84</td>\n",
        "      <td>  68</td>\n",
        "      <td> 31</td>\n",
        "      <td> 19</td>\n",
        "      <td> 7</td>\n",
        "    </tr>\n",
        "    <tr>\n",
        "      <th>569</th>\n",
        "      <td> 1</td>\n",
        "      <td> 0.541852</td>\n",
        "      <td>  8.475304</td>\n",
        "      <td> 1904</td>\n",
        "      <td> 254</td>\n",
        "      <td> 138</td>\n",
        "      <td> 200</td>\n",
        "      <td> 298</td>\n",
        "      <td> 184</td>\n",
        "      <td>  31</td>\n",
        "      <td>   8</td>\n",
        "      <td>  3</td>\n",
        "      <td>  3</td>\n",
        "      <td> 1</td>\n",
        "    </tr>\n",
        "    <tr>\n",
        "      <th>570</th>\n",
        "      <td> 4</td>\n",
        "      <td> 0.913452</td>\n",
        "      <td> 10.446647</td>\n",
        "      <td>  285</td>\n",
        "      <td> 239</td>\n",
        "      <td> 198</td>\n",
        "      <td> 170</td>\n",
        "      <td> 136</td>\n",
        "      <td>  68</td>\n",
        "      <td>  20</td>\n",
        "      <td>   4</td>\n",
        "      <td>  9</td>\n",
        "      <td>  7</td>\n",
        "      <td> 4</td>\n",
        "    </tr>\n",
        "    <tr>\n",
        "      <th>571</th>\n",
        "      <td> 3</td>\n",
        "      <td> 0.930237</td>\n",
        "      <td>  3.587607</td>\n",
        "      <td>  358</td>\n",
        "      <td> 238</td>\n",
        "      <td> 135</td>\n",
        "      <td>  97</td>\n",
        "      <td>  80</td>\n",
        "      <td>  76</td>\n",
        "      <td>  70</td>\n",
        "      <td>  16</td>\n",
        "      <td>  7</td>\n",
        "      <td>  5</td>\n",
        "      <td> 3</td>\n",
        "    </tr>\n",
        "    <tr>\n",
        "      <th>572</th>\n",
        "      <td> 5</td>\n",
        "      <td> 0.497449</td>\n",
        "      <td>  1.175474</td>\n",
        "      <td> 1080</td>\n",
        "      <td> 319</td>\n",
        "      <td> 100</td>\n",
        "      <td>  59</td>\n",
        "      <td>  49</td>\n",
        "      <td>  33</td>\n",
        "      <td>  31</td>\n",
        "      <td>  20</td>\n",
        "      <td> 24</td>\n",
        "      <td>  8</td>\n",
        "      <td> 5</td>\n",
        "    </tr>\n",
        "    <tr>\n",
        "      <th>573</th>\n",
        "      <td> 3</td>\n",
        "      <td> 0.921244</td>\n",
        "      <td>  4.973872</td>\n",
        "      <td>  357</td>\n",
        "      <td> 239</td>\n",
        "      <td> 141</td>\n",
        "      <td>  79</td>\n",
        "      <td>  59</td>\n",
        "      <td>  46</td>\n",
        "      <td>  53</td>\n",
        "      <td>  14</td>\n",
        "      <td> 11</td>\n",
        "      <td>  7</td>\n",
        "      <td> 3</td>\n",
        "    </tr>\n",
        "    <tr>\n",
        "      <th>574</th>\n",
        "      <td> 2</td>\n",
        "      <td> 0.844957</td>\n",
        "      <td>  1.810143</td>\n",
        "      <td>  515</td>\n",
        "      <td> 317</td>\n",
        "      <td> 140</td>\n",
        "      <td>  72</td>\n",
        "      <td>  27</td>\n",
        "      <td>  11</td>\n",
        "      <td>   2</td>\n",
        "      <td>   4</td>\n",
        "      <td>  3</td>\n",
        "      <td>  4</td>\n",
        "      <td> 2</td>\n",
        "    </tr>\n",
        "    <tr>\n",
        "      <th>575</th>\n",
        "      <td> 7</td>\n",
        "      <td> 0.804234</td>\n",
        "      <td>  3.331455</td>\n",
        "      <td>  494</td>\n",
        "      <td> 358</td>\n",
        "      <td> 204</td>\n",
        "      <td> 149</td>\n",
        "      <td> 129</td>\n",
        "      <td>  94</td>\n",
        "      <td>  23</td>\n",
        "      <td>  11</td>\n",
        "      <td>  2</td>\n",
        "      <td>  3</td>\n",
        "      <td> 7</td>\n",
        "    </tr>\n",
        "    <tr>\n",
        "      <th>576</th>\n",
        "      <td> 8</td>\n",
        "      <td> 0.371227</td>\n",
        "      <td>  1.311433</td>\n",
        "      <td> 2061</td>\n",
        "      <td> 215</td>\n",
        "      <td>  49</td>\n",
        "      <td>  27</td>\n",
        "      <td>  22</td>\n",
        "      <td>  19</td>\n",
        "      <td>  21</td>\n",
        "      <td>  50</td>\n",
        "      <td> 33</td>\n",
        "      <td> 32</td>\n",
        "      <td> 8</td>\n",
        "    </tr>\n",
        "    <tr>\n",
        "      <th>577</th>\n",
        "      <td> 1</td>\n",
        "      <td> 0.630307</td>\n",
        "      <td>  6.495551</td>\n",
        "      <td> 1671</td>\n",
        "      <td> 442</td>\n",
        "      <td> 122</td>\n",
        "      <td>  76</td>\n",
        "      <td>  87</td>\n",
        "      <td> 166</td>\n",
        "      <td> 185</td>\n",
        "      <td>   8</td>\n",
        "      <td>  6</td>\n",
        "      <td>  4</td>\n",
        "      <td> 1</td>\n",
        "    </tr>\n",
        "    <tr>\n",
        "      <th>578</th>\n",
        "      <td> 3</td>\n",
        "      <td> 0.940458</td>\n",
        "      <td>  2.439444</td>\n",
        "      <td>  327</td>\n",
        "      <td> 228</td>\n",
        "      <td> 157</td>\n",
        "      <td>  85</td>\n",
        "      <td>  50</td>\n",
        "      <td>  32</td>\n",
        "      <td>  27</td>\n",
        "      <td>  19</td>\n",
        "      <td> 13</td>\n",
        "      <td>  5</td>\n",
        "      <td> 3</td>\n",
        "    </tr>\n",
        "    <tr>\n",
        "      <th>579</th>\n",
        "      <td> 1</td>\n",
        "      <td> 0.590079</td>\n",
        "      <td>  5.216758</td>\n",
        "      <td> 1809</td>\n",
        "      <td> 398</td>\n",
        "      <td> 113</td>\n",
        "      <td>  74</td>\n",
        "      <td>  73</td>\n",
        "      <td> 115</td>\n",
        "      <td> 184</td>\n",
        "      <td> 106</td>\n",
        "      <td>  2</td>\n",
        "      <td>  3</td>\n",
        "      <td> 1</td>\n",
        "    </tr>\n",
        "    <tr>\n",
        "      <th>580</th>\n",
        "      <td> 4</td>\n",
        "      <td> 0.903638</td>\n",
        "      <td>  7.975261</td>\n",
        "      <td>  585</td>\n",
        "      <td> 159</td>\n",
        "      <td>  92</td>\n",
        "      <td>  66</td>\n",
        "      <td>  61</td>\n",
        "      <td>  85</td>\n",
        "      <td> 123</td>\n",
        "      <td>  97</td>\n",
        "      <td> 25</td>\n",
        "      <td>  7</td>\n",
        "      <td> 4</td>\n",
        "    </tr>\n",
        "    <tr>\n",
        "      <th>581</th>\n",
        "      <td> 1</td>\n",
        "      <td> 0.461219</td>\n",
        "      <td>  9.921117</td>\n",
        "      <td> 1898</td>\n",
        "      <td> 328</td>\n",
        "      <td> 142</td>\n",
        "      <td> 177</td>\n",
        "      <td> 294</td>\n",
        "      <td>  70</td>\n",
        "      <td>   5</td>\n",
        "      <td>   0</td>\n",
        "      <td>  2</td>\n",
        "      <td>  1</td>\n",
        "      <td> 1</td>\n",
        "    </tr>\n",
        "    <tr>\n",
        "      <th>582</th>\n",
        "      <td> 6</td>\n",
        "      <td> 0.949386</td>\n",
        "      <td> 32.801657</td>\n",
        "      <td>  758</td>\n",
        "      <td>  98</td>\n",
        "      <td>   7</td>\n",
        "      <td>   3</td>\n",
        "      <td>   3</td>\n",
        "      <td>   3</td>\n",
        "      <td>   7</td>\n",
        "      <td>   6</td>\n",
        "      <td> 10</td>\n",
        "      <td>  7</td>\n",
        "      <td> 6</td>\n",
        "    </tr>\n",
        "  </tbody>\n",
        "</table>\n",
        "<p>583 rows \u00d7 14 columns</p>\n",
        "</div>"
       ],
       "metadata": {},
       "output_type": "pyout",
       "prompt_number": 90,
       "text": [
        "     class  solidity  Eccentricity  curvature0  curvature1  curvature2  \\\n",
        "0        3  0.894554      4.541101         437         281         115   \n",
        "1        6  0.915427      1.955519         890          36          22   \n",
        "2        6  0.941368     45.564273         851          71           3   \n",
        "3        0  0.623541      1.210492         879         291         131   \n",
        "4        7  0.850167      3.097474         287         244         163   \n",
        "5        6  0.934410     31.826622         882          62           8   \n",
        "6        0  0.620685      1.118477         469         298         190   \n",
        "7        7  0.826498      2.337273         415         293         132   \n",
        "8        5  0.696275      1.297559         391         177          66   \n",
        "9        6  0.955274     41.860062         781          78           3   \n",
        "10       6  0.965548     38.093738         875          17           4   \n",
        "11       0  0.457805      2.576494         808         144          83   \n",
        "12       6  0.917779     29.340773         742         100           2   \n",
        "13       1  0.530858      8.363456        1523         579         178   \n",
        "14       0  0.788177      1.211621         416         332         123   \n",
        "15       6  0.947856     48.261616         820          50          11   \n",
        "16       1  0.455317      5.914125        1889         429         195   \n",
        "17       0  0.577743      1.317468         709         224          94   \n",
        "18       6  0.953918     40.273264         844          58           6   \n",
        "19       2  0.671718      2.718551         320         135          75   \n",
        "20       7  0.818944      2.765560         363         309         208   \n",
        "21       6  0.933121     46.442878         880          33           2   \n",
        "22       7  0.864537      2.029329         442         329         231   \n",
        "23       6  0.940308     38.901928         712         156          14   \n",
        "24       0  0.503207      1.092422         863         283          75   \n",
        "25       6  0.957511     38.793766         737         129          15   \n",
        "26       3  0.907853      7.582008         461         204         115   \n",
        "27       6  0.907305     51.966614         807          48          21   \n",
        "28       6  0.949808     30.580783         849          28          12   \n",
        "29       3  0.946274      6.568037         324         231         135   \n",
        "..     ...       ...           ...         ...         ...         ...   \n",
        "553      1  0.469912      5.540137        1545         656         187   \n",
        "554      8  0.418705      1.302054        1667         191          27   \n",
        "555      0  0.839491      2.094733         554         372         189   \n",
        "556      4  0.925724      4.831579         454         325         182   \n",
        "557      0  0.617318      1.196712        1127         278         148   \n",
        "558      0  0.562923      1.194363         686         363         121   \n",
        "559      7  0.821820      4.648514         309         293         252   \n",
        "560      8  0.300466      1.604857        1930         114          24   \n",
        "561      3  0.948723      4.615101         512         321          92   \n",
        "562      0  0.700144      1.434295         665         214         119   \n",
        "563      6  0.965574     37.200224         828          67           5   \n",
        "564      5  0.490868      1.235698         486         198          69   \n",
        "565      1  0.484384      5.878366        2132         395         185   \n",
        "566      0  0.659638      1.365189        1110         242         105   \n",
        "567      3  0.950914      2.914202         424         233         168   \n",
        "568      7  0.799009      1.482022         511         390         233   \n",
        "569      1  0.541852      8.475304        1904         254         138   \n",
        "570      4  0.913452     10.446647         285         239         198   \n",
        "571      3  0.930237      3.587607         358         238         135   \n",
        "572      5  0.497449      1.175474        1080         319         100   \n",
        "573      3  0.921244      4.973872         357         239         141   \n",
        "574      2  0.844957      1.810143         515         317         140   \n",
        "575      7  0.804234      3.331455         494         358         204   \n",
        "576      8  0.371227      1.311433        2061         215          49   \n",
        "577      1  0.630307      6.495551        1671         442         122   \n",
        "578      3  0.940458      2.439444         327         228         157   \n",
        "579      1  0.590079      5.216758        1809         398         113   \n",
        "580      4  0.903638      7.975261         585         159          92   \n",
        "581      1  0.461219      9.921117        1898         328         142   \n",
        "582      6  0.949386     32.801657         758          98           7   \n",
        "\n",
        "     curvature3  curvature4  curvature5  curvature6  curvature7  curvature8  \\\n",
        "0            90          67          31          26          11           2   \n",
        "1            30          48          28           6           4           5   \n",
        "2             3           2           5           5           5           8   \n",
        "3            91          58          30          19          16          16   \n",
        "4           101          62          42          48          36          18   \n",
        "5             3           3           4           3           6           8   \n",
        "6           122          76          73          49          31           7   \n",
        "7           115          82         107          89          57          31   \n",
        "8            34          29          31          20           4           1   \n",
        "9             3           5           2           3           6           5   \n",
        "10            3           3          10           7           6           1   \n",
        "11           54          56          38          23          21           1   \n",
        "12            4           2           9          11           6           4   \n",
        "13           89          58          69         132         223          13   \n",
        "14           86          46          59          51          56          25   \n",
        "15            6           3           4           3           5           6   \n",
        "16           94          70          94         219          41           2   \n",
        "17           76          72          41          40          32          16   \n",
        "18            5           5           4          10           9           6   \n",
        "19           18           4           0           2           1           7   \n",
        "20          140         125          96          64          76          43   \n",
        "21            4           3           2           4           5          11   \n",
        "22          151         158          83          49          54          12   \n",
        "23            5           3           6           3           5          14   \n",
        "24           50          60          54          52          18          18   \n",
        "25            5           2           5           3          13           6   \n",
        "26           83          27          10           7           8           1   \n",
        "27            2           4           2           7           9           3   \n",
        "28           10           3           3           2           7          10   \n",
        "29           86          65          50          58          32          22   \n",
        "..          ...         ...         ...         ...         ...         ...   \n",
        "553          89          72          59          65         119          94   \n",
        "554          19          16          19          20          35          76   \n",
        "555         104          68          50          35          18          15   \n",
        "556         112          64          57          67          84          11   \n",
        "557         110          71          15          22          19          25   \n",
        "558         127          70          25          29          10          21   \n",
        "559         176          96          67          23           9          22   \n",
        "560          24          15          21          23          46          40   \n",
        "561          37          26           8           2           4           7   \n",
        "562          68          49          34           4           1           1   \n",
        "563           6           3           2          11           7           6   \n",
        "564          43          24          25          27          32          37   \n",
        "565         113         155         261          24           6           2   \n",
        "566          69          63          20          15           7           3   \n",
        "567          77          32           9          12           3           2   \n",
        "568         121         119         100          84          68          31   \n",
        "569         200         298         184          31           8           3   \n",
        "570         170         136          68          20           4           9   \n",
        "571          97          80          76          70          16           7   \n",
        "572          59          49          33          31          20          24   \n",
        "573          79          59          46          53          14          11   \n",
        "574          72          27          11           2           4           3   \n",
        "575         149         129          94          23          11           2   \n",
        "576          27          22          19          21          50          33   \n",
        "577          76          87         166         185           8           6   \n",
        "578          85          50          32          27          19          13   \n",
        "579          74          73         115         184         106           2   \n",
        "580          66          61          85         123          97          25   \n",
        "581         177         294          70           5           0           2   \n",
        "582           3           3           3           7           6          10   \n",
        "\n",
        "     curvature9  classid  \n",
        "0             3        3  \n",
        "1             5        6  \n",
        "2            11        6  \n",
        "3            17        0  \n",
        "4             7        7  \n",
        "5             6        6  \n",
        "6             9        0  \n",
        "7            11        7  \n",
        "8             4        5  \n",
        "9            12        6  \n",
        "10            9        6  \n",
        "11           10        0  \n",
        "12            6        6  \n",
        "13            5        1  \n",
        "14           12        0  \n",
        "15            9        6  \n",
        "16            2        1  \n",
        "17            9        0  \n",
        "18            4        6  \n",
        "19            3        2  \n",
        "20           17        7  \n",
        "21            4        6  \n",
        "22            7        7  \n",
        "23            7        6  \n",
        "24           24        0  \n",
        "25            7        6  \n",
        "26            9        3  \n",
        "27            1        6  \n",
        "28            2        6  \n",
        "29           28        3  \n",
        "..          ...      ...  \n",
        "553          18        1  \n",
        "554          30        8  \n",
        "555          14        0  \n",
        "556           4        4  \n",
        "557          24        0  \n",
        "558          22        0  \n",
        "559          29        7  \n",
        "560          12        8  \n",
        "561           4        3  \n",
        "562           2        0  \n",
        "563           4        6  \n",
        "564          35        5  \n",
        "565           1        1  \n",
        "566           3        0  \n",
        "567           9        3  \n",
        "568          19        7  \n",
        "569           3        1  \n",
        "570           7        4  \n",
        "571           5        3  \n",
        "572           8        5  \n",
        "573           7        3  \n",
        "574           4        2  \n",
        "575           3        7  \n",
        "576          32        8  \n",
        "577           4        1  \n",
        "578           5        3  \n",
        "579           3        1  \n",
        "580           7        4  \n",
        "581           1        1  \n",
        "582           7        6  \n",
        "\n",
        "[583 rows x 14 columns]"
       ]
      },
      {
       "metadata": {},
       "output_type": "display_data",
       "text": [
        "<matplotlib.figure.Figure at 0x7fd73b5b1b50>"
       ]
      },
      {
       "metadata": {},
       "output_type": "display_data",
       "text": [
        "<matplotlib.figure.Figure at 0x7fd7310a13d0>"
       ]
      },
      {
       "metadata": {},
       "output_type": "display_data",
       "text": [
        "<matplotlib.figure.Figure at 0x7fd73b520c90>"
       ]
      },
      {
       "metadata": {},
       "output_type": "display_data",
       "text": [
        "<matplotlib.figure.Figure at 0x7fd764a7f9d0>"
       ]
      },
      {
       "metadata": {},
       "output_type": "display_data",
       "text": [
        "<matplotlib.figure.Figure at 0x7fd730f7f090>"
       ]
      },
      {
       "metadata": {},
       "output_type": "display_data",
       "text": [
        "<matplotlib.figure.Figure at 0x7fd730f7fa10>"
       ]
      },
      {
       "metadata": {},
       "output_type": "display_data",
       "text": [
        "<matplotlib.figure.Figure at 0x7fd730f7f3d0>"
       ]
      },
      {
       "metadata": {},
       "output_type": "display_data",
       "text": [
        "<matplotlib.figure.Figure at 0x7fd730f7f350>"
       ]
      },
      {
       "metadata": {},
       "output_type": "display_data",
       "text": [
        "<matplotlib.figure.Figure at 0x7fd730dc9b50>"
       ]
      },
      {
       "metadata": {},
       "output_type": "display_data",
       "text": [
        "<matplotlib.figure.Figure at 0x7fd73048ffd0>"
       ]
      },
      {
       "metadata": {},
       "output_type": "display_data",
       "text": [
        "<matplotlib.figure.Figure at 0x7fd73048fa10>"
       ]
      },
      {
       "metadata": {},
       "output_type": "display_data",
       "text": [
        "<matplotlib.figure.Figure at 0x7fd73048f210>"
       ]
      },
      {
       "metadata": {},
       "output_type": "display_data",
       "text": [
        "<matplotlib.figure.Figure at 0x7fd730e285d0>"
       ]
      },
      {
       "metadata": {},
       "output_type": "display_data",
       "text": [
        "<matplotlib.figure.Figure at 0x7fd73b4e6b10>"
       ]
      },
      {
       "metadata": {},
       "output_type": "display_data",
       "text": [
        "<matplotlib.figure.Figure at 0x7fd73b4e6390>"
       ]
      },
      {
       "metadata": {},
       "output_type": "display_data",
       "text": [
        "<matplotlib.figure.Figure at 0x7fd7304d3bd0>"
       ]
      },
      {
       "metadata": {},
       "output_type": "display_data",
       "text": [
        "<matplotlib.figure.Figure at 0x7fd7304d3a10>"
       ]
      },
      {
       "metadata": {},
       "output_type": "display_data",
       "text": [
        "<matplotlib.figure.Figure at 0x7fd7304d3e90>"
       ]
      },
      {
       "metadata": {},
       "output_type": "display_data",
       "text": [
        "<matplotlib.figure.Figure at 0x7fd7304c2490>"
       ]
      },
      {
       "metadata": {},
       "output_type": "display_data",
       "text": [
        "<matplotlib.figure.Figure at 0x7fd7304c2650>"
       ]
      },
      {
       "metadata": {},
       "output_type": "display_data",
       "text": [
        "<matplotlib.figure.Figure at 0x7fd731066a50>"
       ]
      },
      {
       "metadata": {},
       "output_type": "display_data",
       "text": [
        "<matplotlib.figure.Figure at 0x7fd731066590>"
       ]
      },
      {
       "metadata": {},
       "output_type": "display_data",
       "text": [
        "<matplotlib.figure.Figure at 0x7fd73b4a77d0>"
       ]
      },
      {
       "metadata": {},
       "output_type": "display_data",
       "text": [
        "<matplotlib.figure.Figure at 0x7fd73b4a7710>"
       ]
      },
      {
       "metadata": {},
       "output_type": "display_data",
       "text": [
        "<matplotlib.figure.Figure at 0x7fd73b49fc90>"
       ]
      },
      {
       "metadata": {},
       "output_type": "display_data",
       "text": [
        "<matplotlib.figure.Figure at 0x7fd73b49f1d0>"
       ]
      },
      {
       "metadata": {},
       "output_type": "display_data",
       "text": [
        "<matplotlib.figure.Figure at 0x7fd730f949d0>"
       ]
      },
      {
       "metadata": {},
       "output_type": "display_data",
       "text": [
        "<matplotlib.figure.Figure at 0x7fd730f94610>"
       ]
      },
      {
       "metadata": {},
       "output_type": "display_data",
       "text": [
        "<matplotlib.figure.Figure at 0x7fd730f94590>"
       ]
      },
      {
       "metadata": {},
       "output_type": "display_data",
       "text": [
        "<matplotlib.figure.Figure at 0x7fd730eec610>"
       ]
      },
      {
       "metadata": {},
       "output_type": "display_data",
       "text": [
        "<matplotlib.figure.Figure at 0x7fd730eec810>"
       ]
      },
      {
       "metadata": {},
       "output_type": "display_data",
       "text": [
        "<matplotlib.figure.Figure at 0x7fd7302fb510>"
       ]
      },
      {
       "metadata": {},
       "output_type": "display_data",
       "text": [
        "<matplotlib.figure.Figure at 0x7fd7302fbe50>"
       ]
      },
      {
       "metadata": {},
       "output_type": "display_data",
       "text": [
        "<matplotlib.figure.Figure at 0x7fd73113bd10>"
       ]
      },
      {
       "metadata": {},
       "output_type": "display_data",
       "text": [
        "<matplotlib.figure.Figure at 0x7fd73113bb90>"
       ]
      },
      {
       "metadata": {},
       "output_type": "display_data",
       "text": [
        "<matplotlib.figure.Figure at 0x7fd730fb1bd0>"
       ]
      },
      {
       "metadata": {},
       "output_type": "display_data",
       "text": [
        "<matplotlib.figure.Figure at 0x7fd730fb1b90>"
       ]
      },
      {
       "metadata": {},
       "output_type": "display_data",
       "text": [
        "<matplotlib.figure.Figure at 0x7fd73b68f990>"
       ]
      },
      {
       "metadata": {},
       "output_type": "display_data",
       "text": [
        "<matplotlib.figure.Figure at 0x7fd73b68f910>"
       ]
      },
      {
       "metadata": {},
       "output_type": "display_data",
       "text": [
        "<matplotlib.figure.Figure at 0x7fd731092350>"
       ]
      },
      {
       "metadata": {},
       "output_type": "display_data",
       "text": [
        "<matplotlib.figure.Figure at 0x7fd7310923d0>"
       ]
      },
      {
       "metadata": {},
       "output_type": "display_data",
       "text": [
        "<matplotlib.figure.Figure at 0x7fd7311cd390>"
       ]
      },
      {
       "metadata": {},
       "output_type": "display_data",
       "text": [
        "<matplotlib.figure.Figure at 0x7fd7310a7950>"
       ]
      },
      {
       "metadata": {},
       "output_type": "display_data",
       "text": [
        "<matplotlib.figure.Figure at 0x7fd730e49650>"
       ]
      },
      {
       "metadata": {},
       "output_type": "display_data",
       "text": [
        "<matplotlib.figure.Figure at 0x7fd73117c090>"
       ]
      },
      {
       "metadata": {},
       "output_type": "display_data",
       "text": [
        "<matplotlib.figure.Figure at 0x7fd73117c950>"
       ]
      },
      {
       "metadata": {},
       "output_type": "display_data",
       "text": [
        "<matplotlib.figure.Figure at 0x7fd73117cf50>"
       ]
      },
      {
       "metadata": {},
       "output_type": "display_data",
       "text": [
        "<matplotlib.figure.Figure at 0x7fd73b87eb90>"
       ]
      },
      {
       "metadata": {},
       "output_type": "display_data",
       "text": [
        "<matplotlib.figure.Figure at 0x7fd73b87ea10>"
       ]
      },
      {
       "metadata": {},
       "output_type": "display_data",
       "text": [
        "<matplotlib.figure.Figure at 0x7fd73b651110>"
       ]
      },
      {
       "metadata": {},
       "output_type": "display_data",
       "text": [
        "<matplotlib.figure.Figure at 0x7fd73b651250>"
       ]
      },
      {
       "metadata": {},
       "output_type": "display_data",
       "text": [
        "<matplotlib.figure.Figure at 0x7fd7304cc1d0>"
       ]
      },
      {
       "metadata": {},
       "output_type": "display_data",
       "text": [
        "<matplotlib.figure.Figure at 0x7fd7304cca10>"
       ]
      },
      {
       "metadata": {},
       "output_type": "display_data",
       "text": [
        "<matplotlib.figure.Figure at 0x7fd7304cc0d0>"
       ]
      },
      {
       "metadata": {},
       "output_type": "display_data",
       "text": [
        "<matplotlib.figure.Figure at 0x7fd730f737d0>"
       ]
      },
      {
       "metadata": {},
       "output_type": "display_data",
       "text": [
        "<matplotlib.figure.Figure at 0x7fd730fa7a50>"
       ]
      },
      {
       "metadata": {},
       "output_type": "display_data",
       "text": [
        "<matplotlib.figure.Figure at 0x7fd730f73290>"
       ]
      },
      {
       "metadata": {},
       "output_type": "display_data",
       "text": [
        "<matplotlib.figure.Figure at 0x7fd73b7dd810>"
       ]
      },
      {
       "metadata": {},
       "output_type": "display_data",
       "text": [
        "<matplotlib.figure.Figure at 0x7fd73b59dc50>"
       ]
      },
      {
       "metadata": {},
       "output_type": "display_data",
       "text": [
        "<matplotlib.figure.Figure at 0x7fd73b59df10>"
       ]
      },
      {
       "metadata": {},
       "output_type": "display_data",
       "text": [
        "<matplotlib.figure.Figure at 0x7fd73b84c790>"
       ]
      },
      {
       "metadata": {},
       "output_type": "display_data",
       "text": [
        "<matplotlib.figure.Figure at 0x7fd73b84c490>"
       ]
      },
      {
       "metadata": {},
       "output_type": "display_data",
       "text": [
        "<matplotlib.figure.Figure at 0x7fd73b520290>"
       ]
      },
      {
       "metadata": {},
       "output_type": "display_data",
       "text": [
        "<matplotlib.figure.Figure at 0x7fd730f368d0>"
       ]
      },
      {
       "metadata": {},
       "output_type": "display_data",
       "text": [
        "<matplotlib.figure.Figure at 0x7fd730f360d0>"
       ]
      },
      {
       "metadata": {},
       "output_type": "display_data",
       "text": [
        "<matplotlib.figure.Figure at 0x7fd73b3f6390>"
       ]
      },
      {
       "metadata": {},
       "output_type": "display_data",
       "text": [
        "<matplotlib.figure.Figure at 0x7fd73b3f6950>"
       ]
      },
      {
       "metadata": {},
       "output_type": "display_data",
       "text": [
        "<matplotlib.figure.Figure at 0x7fd73b6e5b90>"
       ]
      },
      {
       "metadata": {},
       "output_type": "display_data",
       "text": [
        "<matplotlib.figure.Figure at 0x7fd73b6e5150>"
       ]
      },
      {
       "metadata": {},
       "output_type": "display_data",
       "text": [
        "<matplotlib.figure.Figure at 0x7fd73b58c490>"
       ]
      },
      {
       "metadata": {},
       "output_type": "display_data",
       "text": [
        "<matplotlib.figure.Figure at 0x7fd73b58c510>"
       ]
      },
      {
       "metadata": {},
       "output_type": "display_data",
       "text": [
        "<matplotlib.figure.Figure at 0x7fd73b830f50>"
       ]
      },
      {
       "metadata": {},
       "output_type": "display_data",
       "text": [
        "<matplotlib.figure.Figure at 0x7fd73b830050>"
       ]
      },
      {
       "metadata": {},
       "output_type": "display_data",
       "text": [
        "<matplotlib.figure.Figure at 0x7fd73b841690>"
       ]
      },
      {
       "metadata": {},
       "output_type": "display_data",
       "text": [
        "<matplotlib.figure.Figure at 0x7fd73b841dd0>"
       ]
      },
      {
       "metadata": {},
       "output_type": "display_data",
       "text": [
        "<matplotlib.figure.Figure at 0x7fd73b8416d0>"
       ]
      },
      {
       "metadata": {},
       "output_type": "display_data",
       "text": [
        "<matplotlib.figure.Figure at 0x7fd7305609d0>"
       ]
      },
      {
       "metadata": {},
       "output_type": "display_data",
       "text": [
        "<matplotlib.figure.Figure at 0x7fd730560510>"
       ]
      },
      {
       "metadata": {},
       "output_type": "display_data",
       "text": [
        "<matplotlib.figure.Figure at 0x7fd73b673910>"
       ]
      },
      {
       "metadata": {},
       "output_type": "display_data",
       "text": [
        "<matplotlib.figure.Figure at 0x7fd73b673f50>"
       ]
      },
      {
       "metadata": {},
       "output_type": "display_data",
       "text": [
        "<matplotlib.figure.Figure at 0x7fd73b43a850>"
       ]
      },
      {
       "metadata": {},
       "output_type": "display_data",
       "text": [
        "<matplotlib.figure.Figure at 0x7fd7311314d0>"
       ]
      },
      {
       "metadata": {},
       "output_type": "display_data",
       "text": [
        "<matplotlib.figure.Figure at 0x7fd731131f10>"
       ]
      },
      {
       "metadata": {},
       "output_type": "display_data",
       "text": [
        "<matplotlib.figure.Figure at 0x7fd73b7b9ed0>"
       ]
      },
      {
       "metadata": {},
       "output_type": "display_data",
       "text": [
        "<matplotlib.figure.Figure at 0x7fd73b7b9210>"
       ]
      },
      {
       "metadata": {},
       "output_type": "display_data",
       "text": [
        "<matplotlib.figure.Figure at 0x7fd730595c50>"
       ]
      },
      {
       "metadata": {},
       "output_type": "display_data",
       "text": [
        "<matplotlib.figure.Figure at 0x7fd730595890>"
       ]
      },
      {
       "metadata": {},
       "output_type": "display_data",
       "text": [
        "<matplotlib.figure.Figure at 0x7fd730f5db10>"
       ]
      },
      {
       "metadata": {},
       "output_type": "display_data",
       "text": [
        "<matplotlib.figure.Figure at 0x7fd730f5d390>"
       ]
      },
      {
       "metadata": {},
       "output_type": "display_data",
       "text": [
        "<matplotlib.figure.Figure at 0x7fd73b428d50>"
       ]
      },
      {
       "metadata": {},
       "output_type": "display_data",
       "text": [
        "<matplotlib.figure.Figure at 0x7fd73b428050>"
       ]
      },
      {
       "metadata": {},
       "output_type": "display_data",
       "text": [
        "<matplotlib.figure.Figure at 0x7fd73b428650>"
       ]
      },
      {
       "metadata": {},
       "output_type": "display_data",
       "text": [
        "<matplotlib.figure.Figure at 0x7fd73b466210>"
       ]
      },
      {
       "metadata": {},
       "output_type": "display_data",
       "text": [
        "<matplotlib.figure.Figure at 0x7fd73b466690>"
       ]
      },
      {
       "metadata": {},
       "output_type": "display_data",
       "text": [
        "<matplotlib.figure.Figure at 0x7fd730ea5b10>"
       ]
      },
      {
       "metadata": {},
       "output_type": "display_data",
       "text": [
        "<matplotlib.figure.Figure at 0x7fd730ea5910>"
       ]
      },
      {
       "metadata": {},
       "output_type": "display_data",
       "text": [
        "<matplotlib.figure.Figure at 0x7fd7310c03d0>"
       ]
      },
      {
       "metadata": {},
       "output_type": "display_data",
       "text": [
        "<matplotlib.figure.Figure at 0x7fd7310c0950>"
       ]
      },
      {
       "metadata": {},
       "output_type": "display_data",
       "text": [
        "<matplotlib.figure.Figure at 0x7fd730db2310>"
       ]
      },
      {
       "metadata": {},
       "output_type": "display_data",
       "text": [
        "<matplotlib.figure.Figure at 0x7fd764aa0250>"
       ]
      },
      {
       "metadata": {},
       "output_type": "display_data",
       "text": [
        "<matplotlib.figure.Figure at 0x7fd730487e10>"
       ]
      },
      {
       "metadata": {},
       "output_type": "display_data",
       "text": [
        "<matplotlib.figure.Figure at 0x7fd730487090>"
       ]
      },
      {
       "metadata": {},
       "output_type": "display_data",
       "text": [
        "<matplotlib.figure.Figure at 0x7fd730487d90>"
       ]
      },
      {
       "metadata": {},
       "output_type": "display_data",
       "text": [
        "<matplotlib.figure.Figure at 0x7fd73b3e8c90>"
       ]
      },
      {
       "metadata": {},
       "output_type": "display_data",
       "text": [
        "<matplotlib.figure.Figure at 0x7fd73b3e8ed0>"
       ]
      },
      {
       "metadata": {},
       "output_type": "display_data",
       "text": [
        "<matplotlib.figure.Figure at 0x7fd730422150>"
       ]
      },
      {
       "metadata": {},
       "output_type": "display_data",
       "text": [
        "<matplotlib.figure.Figure at 0x7fd730422650>"
       ]
      },
      {
       "metadata": {},
       "output_type": "display_data",
       "text": [
        "<matplotlib.figure.Figure at 0x7fd73b3eeb90>"
       ]
      },
      {
       "metadata": {},
       "output_type": "display_data",
       "text": [
        "<matplotlib.figure.Figure at 0x7fd73b3ee390>"
       ]
      },
      {
       "metadata": {},
       "output_type": "display_data",
       "text": [
        "<matplotlib.figure.Figure at 0x7fd730e47c50>"
       ]
      },
      {
       "metadata": {},
       "output_type": "display_data",
       "text": [
        "<matplotlib.figure.Figure at 0x7fd73b724350>"
       ]
      },
      {
       "metadata": {},
       "output_type": "display_data",
       "text": [
        "<matplotlib.figure.Figure at 0x7fd73b724c90>"
       ]
      },
      {
       "metadata": {},
       "output_type": "display_data",
       "text": [
        "<matplotlib.figure.Figure at 0x7fd73b724d10>"
       ]
      },
      {
       "metadata": {},
       "output_type": "display_data",
       "text": [
        "<matplotlib.figure.Figure at 0x7fd730fb2e10>"
       ]
      },
      {
       "metadata": {},
       "output_type": "display_data",
       "text": [
        "<matplotlib.figure.Figure at 0x7fd730fb2810>"
       ]
      },
      {
       "metadata": {},
       "output_type": "display_data",
       "text": [
        "<matplotlib.figure.Figure at 0x7fd730589ed0>"
       ]
      },
      {
       "metadata": {},
       "output_type": "display_data",
       "text": [
        "<matplotlib.figure.Figure at 0x7fd730589210>"
       ]
      },
      {
       "metadata": {},
       "output_type": "display_data",
       "text": [
        "<matplotlib.figure.Figure at 0x7fd730f1fa50>"
       ]
      },
      {
       "metadata": {},
       "output_type": "display_data",
       "text": [
        "<matplotlib.figure.Figure at 0x7fd730f1fe50>"
       ]
      },
      {
       "metadata": {},
       "output_type": "display_data",
       "text": [
        "<matplotlib.figure.Figure at 0x7fd73b66ec10>"
       ]
      },
      {
       "metadata": {},
       "output_type": "display_data",
       "text": [
        "<matplotlib.figure.Figure at 0x7fd73b66ef90>"
       ]
      },
      {
       "metadata": {},
       "output_type": "display_data",
       "text": [
        "<matplotlib.figure.Figure at 0x7fd73b66e8d0>"
       ]
      },
      {
       "metadata": {},
       "output_type": "display_data",
       "text": [
        "<matplotlib.figure.Figure at 0x7fd731154b90>"
       ]
      },
      {
       "metadata": {},
       "output_type": "display_data",
       "text": [
        "<matplotlib.figure.Figure at 0x7fd731154410>"
       ]
      },
      {
       "metadata": {},
       "output_type": "display_data",
       "text": [
        "<matplotlib.figure.Figure at 0x7fd73b862110>"
       ]
      },
      {
       "metadata": {},
       "output_type": "display_data",
       "text": [
        "<matplotlib.figure.Figure at 0x7fd73b8627d0>"
       ]
      },
      {
       "metadata": {},
       "output_type": "display_data",
       "text": [
        "<matplotlib.figure.Figure at 0x7fd731134990>"
       ]
      },
      {
       "metadata": {},
       "output_type": "display_data",
       "text": [
        "<matplotlib.figure.Figure at 0x7fd731134f10>"
       ]
      },
      {
       "metadata": {},
       "output_type": "display_data",
       "text": [
        "<matplotlib.figure.Figure at 0x7fd731134e90>"
       ]
      },
      {
       "metadata": {},
       "output_type": "display_data",
       "text": [
        "<matplotlib.figure.Figure at 0x7fd73b40bd10>"
       ]
      },
      {
       "metadata": {},
       "output_type": "display_data",
       "text": [
        "<matplotlib.figure.Figure at 0x7fd73b826bd0>"
       ]
      },
      {
       "metadata": {},
       "output_type": "display_data",
       "text": [
        "<matplotlib.figure.Figure at 0x7fd730eb5210>"
       ]
      },
      {
       "metadata": {},
       "output_type": "display_data",
       "text": [
        "<matplotlib.figure.Figure at 0x7fd730eb5250>"
       ]
      },
      {
       "metadata": {},
       "output_type": "display_data",
       "text": [
        "<matplotlib.figure.Figure at 0x7fd730e9dfd0>"
       ]
      },
      {
       "metadata": {},
       "output_type": "display_data",
       "text": [
        "<matplotlib.figure.Figure at 0x7fd730e9d190>"
       ]
      },
      {
       "metadata": {},
       "output_type": "display_data",
       "text": [
        "<matplotlib.figure.Figure at 0x7fd73b7c6710>"
       ]
      },
      {
       "metadata": {},
       "output_type": "display_data",
       "text": [
        "<matplotlib.figure.Figure at 0x7fd73b7c6ad0>"
       ]
      },
      {
       "metadata": {},
       "output_type": "display_data",
       "text": [
        "<matplotlib.figure.Figure at 0x7fd73b7c6cd0>"
       ]
      },
      {
       "metadata": {},
       "output_type": "display_data",
       "text": [
        "<matplotlib.figure.Figure at 0x7fd7310c3890>"
       ]
      },
      {
       "metadata": {},
       "output_type": "display_data",
       "text": [
        "<matplotlib.figure.Figure at 0x7fd72ad9d090>"
       ]
      },
      {
       "metadata": {},
       "output_type": "display_data",
       "text": [
        "<matplotlib.figure.Figure at 0x7fd72ad9d7d0>"
       ]
      },
      {
       "metadata": {},
       "output_type": "display_data",
       "text": [
        "<matplotlib.figure.Figure at 0x7fd72ad9d590>"
       ]
      },
      {
       "metadata": {},
       "output_type": "display_data",
       "text": [
        "<matplotlib.figure.Figure at 0x7fd73b6118d0>"
       ]
      },
      {
       "metadata": {},
       "output_type": "display_data",
       "text": [
        "<matplotlib.figure.Figure at 0x7fd73b6110d0>"
       ]
      },
      {
       "metadata": {},
       "output_type": "display_data",
       "text": [
        "<matplotlib.figure.Figure at 0x7fd730dfc210>"
       ]
      },
      {
       "metadata": {},
       "output_type": "display_data",
       "text": [
        "<matplotlib.figure.Figure at 0x7fd730dfca10>"
       ]
      },
      {
       "metadata": {},
       "output_type": "display_data",
       "text": [
        "<matplotlib.figure.Figure at 0x7fd730dfccd0>"
       ]
      },
      {
       "metadata": {},
       "output_type": "display_data",
       "text": [
        "<matplotlib.figure.Figure at 0x7fd7310ecd10>"
       ]
      },
      {
       "metadata": {},
       "output_type": "display_data",
       "text": [
        "<matplotlib.figure.Figure at 0x7fd7310ec410>"
       ]
      },
      {
       "metadata": {},
       "output_type": "display_data",
       "text": [
        "<matplotlib.figure.Figure at 0x7fd73b482510>"
       ]
      },
      {
       "metadata": {},
       "output_type": "display_data",
       "text": [
        "<matplotlib.figure.Figure at 0x7fd73b482b50>"
       ]
      },
      {
       "metadata": {},
       "output_type": "display_data",
       "text": [
        "<matplotlib.figure.Figure at 0x7fd730f67c50>"
       ]
      },
      {
       "metadata": {},
       "output_type": "display_data",
       "text": [
        "<matplotlib.figure.Figure at 0x7fd730f67cd0>"
       ]
      },
      {
       "metadata": {},
       "output_type": "display_data",
       "text": [
        "<matplotlib.figure.Figure at 0x7fd730f67ad0>"
       ]
      },
      {
       "metadata": {},
       "output_type": "display_data",
       "text": [
        "<matplotlib.figure.Figure at 0x7fd730e0a790>"
       ]
      },
      {
       "metadata": {},
       "output_type": "display_data",
       "text": [
        "<matplotlib.figure.Figure at 0x7fd730e0ad10>"
       ]
      },
      {
       "metadata": {},
       "output_type": "display_data",
       "text": [
        "<matplotlib.figure.Figure at 0x7fd731033510>"
       ]
      },
      {
       "metadata": {},
       "output_type": "display_data",
       "text": [
        "<matplotlib.figure.Figure at 0x7fd731033150>"
       ]
      },
      {
       "metadata": {},
       "output_type": "display_data",
       "text": [
        "<matplotlib.figure.Figure at 0x7fd7310330d0>"
       ]
      },
      {
       "metadata": {},
       "output_type": "display_data",
       "text": [
        "<matplotlib.figure.Figure at 0x7fd730475d10>"
       ]
      },
      {
       "metadata": {},
       "output_type": "display_data",
       "text": [
        "<matplotlib.figure.Figure at 0x7fd730475050>"
       ]
      },
      {
       "metadata": {},
       "output_type": "display_data",
       "text": [
        "<matplotlib.figure.Figure at 0x7fd73b563b10>"
       ]
      },
      {
       "metadata": {},
       "output_type": "display_data",
       "text": [
        "<matplotlib.figure.Figure at 0x7fd73b563890>"
       ]
      },
      {
       "metadata": {},
       "output_type": "display_data",
       "text": [
        "<matplotlib.figure.Figure at 0x7fd7302f4550>"
       ]
      },
      {
       "metadata": {},
       "output_type": "display_data",
       "text": [
        "<matplotlib.figure.Figure at 0x7fd7302f4450>"
       ]
      },
      {
       "metadata": {},
       "output_type": "display_data",
       "text": [
        "<matplotlib.figure.Figure at 0x7fd730ec3ad0>"
       ]
      },
      {
       "metadata": {},
       "output_type": "display_data",
       "text": [
        "<matplotlib.figure.Figure at 0x7fd730ec3a90>"
       ]
      },
      {
       "metadata": {},
       "output_type": "display_data",
       "text": [
        "<matplotlib.figure.Figure at 0x7fd73b763410>"
       ]
      },
      {
       "metadata": {},
       "output_type": "display_data",
       "text": [
        "<matplotlib.figure.Figure at 0x7fd73b763710>"
       ]
      },
      {
       "metadata": {},
       "output_type": "display_data",
       "text": [
        "<matplotlib.figure.Figure at 0x7fd7311b1390>"
       ]
      },
      {
       "metadata": {},
       "output_type": "display_data",
       "text": [
        "<matplotlib.figure.Figure at 0x7fd73b679190>"
       ]
      },
      {
       "metadata": {},
       "output_type": "display_data",
       "text": [
        "<matplotlib.figure.Figure at 0x7fd73b6799d0>"
       ]
      },
      {
       "metadata": {},
       "output_type": "display_data",
       "text": [
        "<matplotlib.figure.Figure at 0x7fd73b4b7fd0>"
       ]
      },
      {
       "metadata": {},
       "output_type": "display_data",
       "text": [
        "<matplotlib.figure.Figure at 0x7fd73b4b76d0>"
       ]
      },
      {
       "metadata": {},
       "output_type": "display_data",
       "text": [
        "<matplotlib.figure.Figure at 0x7fd730e2a490>"
       ]
      },
      {
       "metadata": {},
       "output_type": "display_data",
       "text": [
        "<matplotlib.figure.Figure at 0x7fd730e2af90>"
       ]
      },
      {
       "metadata": {},
       "output_type": "display_data",
       "text": [
        "<matplotlib.figure.Figure at 0x7fd730e2a790>"
       ]
      },
      {
       "metadata": {},
       "output_type": "display_data",
       "text": [
        "<matplotlib.figure.Figure at 0x7fd73b658790>"
       ]
      },
      {
       "metadata": {},
       "output_type": "display_data",
       "text": [
        "<matplotlib.figure.Figure at 0x7fd73b6582d0>"
       ]
      },
      {
       "metadata": {},
       "output_type": "display_data",
       "text": [
        "<matplotlib.figure.Figure at 0x7fd73b7b8050>"
       ]
      },
      {
       "metadata": {},
       "output_type": "display_data",
       "text": [
        "<matplotlib.figure.Figure at 0x7fd73b7b8810>"
       ]
      },
      {
       "metadata": {},
       "output_type": "display_data",
       "text": [
        "<matplotlib.figure.Figure at 0x7fd7310eb7d0>"
       ]
      },
      {
       "metadata": {},
       "output_type": "display_data",
       "text": [
        "<matplotlib.figure.Figure at 0x7fd7310eb350>"
       ]
      },
      {
       "metadata": {},
       "output_type": "display_data",
       "text": [
        "<matplotlib.figure.Figure at 0x7fd7310eb3d0>"
       ]
      },
      {
       "metadata": {},
       "output_type": "display_data",
       "text": [
        "<matplotlib.figure.Figure at 0x7fd73b4dc7d0>"
       ]
      },
      {
       "metadata": {},
       "output_type": "display_data",
       "text": [
        "<matplotlib.figure.Figure at 0x7fd73b4dc450>"
       ]
      },
      {
       "metadata": {},
       "output_type": "display_data",
       "text": [
        "<matplotlib.figure.Figure at 0x7fd730fcfe10>"
       ]
      },
      {
       "metadata": {},
       "output_type": "display_data",
       "text": [
        "<matplotlib.figure.Figure at 0x7fd730fcf210>"
       ]
      },
      {
       "metadata": {},
       "output_type": "display_data",
       "text": [
        "<matplotlib.figure.Figure at 0x7fd7304ca310>"
       ]
      },
      {
       "metadata": {},
       "output_type": "display_data",
       "text": [
        "<matplotlib.figure.Figure at 0x7fd7304ca290>"
       ]
      },
      {
       "metadata": {},
       "output_type": "display_data",
       "text": [
        "<matplotlib.figure.Figure at 0x7fd7304cad10>"
       ]
      },
      {
       "metadata": {},
       "output_type": "display_data",
       "text": [
        "<matplotlib.figure.Figure at 0x7fd730e9a590>"
       ]
      },
      {
       "metadata": {},
       "output_type": "display_data",
       "text": [
        "<matplotlib.figure.Figure at 0x7fd73b84bb90>"
       ]
      },
      {
       "metadata": {},
       "output_type": "display_data",
       "text": [
        "<matplotlib.figure.Figure at 0x7fd73b84bc90>"
       ]
      },
      {
       "metadata": {},
       "output_type": "display_data",
       "text": [
        "<matplotlib.figure.Figure at 0x7fd73b510710>"
       ]
      },
      {
       "metadata": {},
       "output_type": "display_data",
       "text": [
        "<matplotlib.figure.Figure at 0x7fd73b5109d0>"
       ]
      },
      {
       "metadata": {},
       "output_type": "display_data",
       "text": [
        "<matplotlib.figure.Figure at 0x7fd73b445810>"
       ]
      },
      {
       "metadata": {},
       "output_type": "display_data",
       "text": [
        "<matplotlib.figure.Figure at 0x7fd73b445e10>"
       ]
      },
      {
       "metadata": {},
       "output_type": "display_data",
       "text": [
        "<matplotlib.figure.Figure at 0x7fd73b445210>"
       ]
      },
      {
       "metadata": {},
       "output_type": "display_data",
       "text": [
        "<matplotlib.figure.Figure at 0x7fd730ec8b50>"
       ]
      },
      {
       "metadata": {},
       "output_type": "display_data",
       "text": [
        "<matplotlib.figure.Figure at 0x7fd730ec8790>"
       ]
      },
      {
       "metadata": {},
       "output_type": "display_data",
       "text": [
        "<matplotlib.figure.Figure at 0x7fd73042aa10>"
       ]
      },
      {
       "metadata": {},
       "output_type": "display_data",
       "text": [
        "<matplotlib.figure.Figure at 0x7fd73042a590>"
       ]
      },
      {
       "metadata": {},
       "output_type": "display_data",
       "text": [
        "<matplotlib.figure.Figure at 0x7fd730306910>"
       ]
      },
      {
       "metadata": {},
       "output_type": "display_data",
       "text": [
        "<matplotlib.figure.Figure at 0x7fd730306690>"
       ]
      },
      {
       "metadata": {},
       "output_type": "display_data",
       "text": [
        "<matplotlib.figure.Figure at 0x7fd730fdca90>"
       ]
      },
      {
       "metadata": {},
       "output_type": "display_data",
       "text": [
        "<matplotlib.figure.Figure at 0x7fd730fdc710>"
       ]
      },
      {
       "metadata": {},
       "output_type": "display_data",
       "text": [
        "<matplotlib.figure.Figure at 0x7fd730fdced0>"
       ]
      },
      {
       "metadata": {},
       "output_type": "display_data",
       "text": [
        "<matplotlib.figure.Figure at 0x7fd73b62eb50>"
       ]
      },
      {
       "metadata": {},
       "output_type": "display_data",
       "text": [
        "<matplotlib.figure.Figure at 0x7fd73b62e310>"
       ]
      },
      {
       "metadata": {},
       "output_type": "display_data",
       "text": [
        "<matplotlib.figure.Figure at 0x7fd730498c90>"
       ]
      },
      {
       "metadata": {},
       "output_type": "display_data",
       "text": [
        "<matplotlib.figure.Figure at 0x7fd7304984d0>"
       ]
      },
      {
       "metadata": {},
       "output_type": "display_data",
       "text": [
        "<matplotlib.figure.Figure at 0x7fd730db92d0>"
       ]
      },
      {
       "metadata": {},
       "output_type": "display_data",
       "text": [
        "<matplotlib.figure.Figure at 0x7fd73b5a8350>"
       ]
      },
      {
       "metadata": {},
       "output_type": "display_data",
       "text": [
        "<matplotlib.figure.Figure at 0x7fd73b5a8410>"
       ]
      },
      {
       "metadata": {},
       "output_type": "display_data",
       "text": [
        "<matplotlib.figure.Figure at 0x7fd73b414590>"
       ]
      },
      {
       "metadata": {},
       "output_type": "display_data",
       "text": [
        "<matplotlib.figure.Figure at 0x7fd73b414f50>"
       ]
      },
      {
       "metadata": {},
       "output_type": "display_data",
       "text": [
        "<matplotlib.figure.Figure at 0x7fd730506f10>"
       ]
      },
      {
       "metadata": {},
       "output_type": "display_data",
       "text": [
        "<matplotlib.figure.Figure at 0x7fd730506d10>"
       ]
      },
      {
       "metadata": {},
       "output_type": "display_data",
       "text": [
        "<matplotlib.figure.Figure at 0x7fd7304c6a90>"
       ]
      },
      {
       "metadata": {},
       "output_type": "display_data",
       "text": [
        "<matplotlib.figure.Figure at 0x7fd7304c6e10>"
       ]
      },
      {
       "metadata": {},
       "output_type": "display_data",
       "text": [
        "<matplotlib.figure.Figure at 0x7fd7304c6710>"
       ]
      },
      {
       "metadata": {},
       "output_type": "display_data",
       "text": [
        "<matplotlib.figure.Figure at 0x7fd73b607ad0>"
       ]
      },
      {
       "metadata": {},
       "output_type": "display_data",
       "text": [
        "<matplotlib.figure.Figure at 0x7fd73b607e90>"
       ]
      },
      {
       "metadata": {},
       "output_type": "display_data",
       "text": [
        "<matplotlib.figure.Figure at 0x7fd7304bff50>"
       ]
      },
      {
       "metadata": {},
       "output_type": "display_data",
       "text": [
        "<matplotlib.figure.Figure at 0x7fd7304bfa90>"
       ]
      },
      {
       "metadata": {},
       "output_type": "display_data",
       "text": [
        "<matplotlib.figure.Figure at 0x7fd7304bf5d0>"
       ]
      },
      {
       "metadata": {},
       "output_type": "display_data",
       "text": [
        "<matplotlib.figure.Figure at 0x7fd73b877c90>"
       ]
      },
      {
       "metadata": {},
       "output_type": "display_data",
       "text": [
        "<matplotlib.figure.Figure at 0x7fd73b877790>"
       ]
      },
      {
       "metadata": {},
       "output_type": "display_data",
       "text": [
        "<matplotlib.figure.Figure at 0x7fd73b505350>"
       ]
      },
      {
       "metadata": {},
       "output_type": "display_data",
       "text": [
        "<matplotlib.figure.Figure at 0x7fd73b505450>"
       ]
      },
      {
       "metadata": {},
       "output_type": "display_data",
       "text": [
        "<matplotlib.figure.Figure at 0x7fd73b501690>"
       ]
      },
      {
       "metadata": {},
       "output_type": "display_data",
       "text": [
        "<matplotlib.figure.Figure at 0x7fd73b501b50>"
       ]
      },
      {
       "metadata": {},
       "output_type": "display_data",
       "text": [
        "<matplotlib.figure.Figure at 0x7fd73b501f10>"
       ]
      },
      {
       "metadata": {},
       "output_type": "display_data",
       "text": [
        "<matplotlib.figure.Figure at 0x7fd73b454950>"
       ]
      },
      {
       "metadata": {},
       "output_type": "display_data",
       "text": [
        "<matplotlib.figure.Figure at 0x7fd73b454450>"
       ]
      },
      {
       "metadata": {},
       "output_type": "display_data",
       "text": [
        "<matplotlib.figure.Figure at 0x7fd73b70e290>"
       ]
      },
      {
       "metadata": {},
       "output_type": "display_data",
       "text": [
        "<matplotlib.figure.Figure at 0x7fd73b70ef10>"
       ]
      },
      {
       "metadata": {},
       "output_type": "display_data",
       "text": [
        "<matplotlib.figure.Figure at 0x7fd730e3f290>"
       ]
      },
      {
       "metadata": {},
       "output_type": "display_data",
       "text": [
        "<matplotlib.figure.Figure at 0x7fd730e3fa50>"
       ]
      },
      {
       "metadata": {},
       "output_type": "display_data",
       "text": [
        "<matplotlib.figure.Figure at 0x7fd73b541250>"
       ]
      },
      {
       "metadata": {},
       "output_type": "display_data",
       "text": [
        "<matplotlib.figure.Figure at 0x7fd73b541f50>"
       ]
      },
      {
       "metadata": {},
       "output_type": "display_data",
       "text": [
        "<matplotlib.figure.Figure at 0x7fd73b5fc310>"
       ]
      },
      {
       "metadata": {},
       "output_type": "display_data",
       "text": [
        "<matplotlib.figure.Figure at 0x7fd73b5fc890>"
       ]
      },
      {
       "metadata": {},
       "output_type": "display_data",
       "text": [
        "<matplotlib.figure.Figure at 0x7fd730f3b4d0>"
       ]
      },
      {
       "metadata": {},
       "output_type": "display_data",
       "text": [
        "<matplotlib.figure.Figure at 0x7fd730f3bf90>"
       ]
      },
      {
       "metadata": {},
       "output_type": "display_data",
       "text": [
        "<matplotlib.figure.Figure at 0x7fd730e6b490>"
       ]
      },
      {
       "metadata": {},
       "output_type": "display_data",
       "text": [
        "<matplotlib.figure.Figure at 0x7fd730e6b350>"
       ]
      },
      {
       "metadata": {},
       "output_type": "display_data",
       "text": [
        "<matplotlib.figure.Figure at 0x7fd730ea50d0>"
       ]
      },
      {
       "metadata": {},
       "output_type": "display_data",
       "text": [
        "<matplotlib.figure.Figure at 0x7fd731157d50>"
       ]
      },
      {
       "metadata": {},
       "output_type": "display_data",
       "text": [
        "<matplotlib.figure.Figure at 0x7fd731157f90>"
       ]
      },
      {
       "metadata": {},
       "output_type": "display_data",
       "text": [
        "<matplotlib.figure.Figure at 0x7fd73b849d90>"
       ]
      },
      {
       "metadata": {},
       "output_type": "display_data",
       "text": [
        "<matplotlib.figure.Figure at 0x7fd73b849c90>"
       ]
      },
      {
       "metadata": {},
       "output_type": "display_data",
       "text": [
        "<matplotlib.figure.Figure at 0x7fd731031690>"
       ]
      },
      {
       "metadata": {},
       "output_type": "display_data",
       "text": [
        "<matplotlib.figure.Figure at 0x7fd731031290>"
       ]
      },
      {
       "metadata": {},
       "output_type": "display_data",
       "text": [
        "<matplotlib.figure.Figure at 0x7fd73b82e1d0>"
       ]
      },
      {
       "metadata": {},
       "output_type": "display_data",
       "text": [
        "<matplotlib.figure.Figure at 0x7fd73b82e350>"
       ]
      },
      {
       "metadata": {},
       "output_type": "display_data",
       "text": [
        "<matplotlib.figure.Figure at 0x7fd730f1a790>"
       ]
      },
      {
       "metadata": {},
       "output_type": "display_data",
       "text": [
        "<matplotlib.figure.Figure at 0x7fd730f1aa10>"
       ]
      },
      {
       "metadata": {},
       "output_type": "display_data",
       "text": [
        "<matplotlib.figure.Figure at 0x7fd730f1ac50>"
       ]
      },
      {
       "metadata": {},
       "output_type": "display_data",
       "text": [
        "<matplotlib.figure.Figure at 0x7fd73b432450>"
       ]
      },
      {
       "metadata": {},
       "output_type": "display_data",
       "text": [
        "<matplotlib.figure.Figure at 0x7fd730dd0bd0>"
       ]
      },
      {
       "metadata": {},
       "output_type": "display_data",
       "text": [
        "<matplotlib.figure.Figure at 0x7fd730f2add0>"
       ]
      },
      {
       "metadata": {},
       "output_type": "display_data",
       "text": [
        "<matplotlib.figure.Figure at 0x7fd730f2a550>"
       ]
      },
      {
       "metadata": {},
       "output_type": "display_data",
       "text": [
        "<matplotlib.figure.Figure at 0x7fd730e23e90>"
       ]
      },
      {
       "metadata": {},
       "output_type": "display_data",
       "text": [
        "<matplotlib.figure.Figure at 0x7fd73b6cd590>"
       ]
      },
      {
       "metadata": {},
       "output_type": "display_data",
       "text": [
        "<matplotlib.figure.Figure at 0x7fd73b6cd150>"
       ]
      },
      {
       "metadata": {},
       "output_type": "display_data",
       "text": [
        "<matplotlib.figure.Figure at 0x7fd73b6cda50>"
       ]
      },
      {
       "metadata": {},
       "output_type": "display_data",
       "text": [
        "<matplotlib.figure.Figure at 0x7fd730f4b410>"
       ]
      },
      {
       "metadata": {},
       "output_type": "display_data",
       "text": [
        "<matplotlib.figure.Figure at 0x7fd730f4bd50>"
       ]
      },
      {
       "metadata": {},
       "output_type": "display_data",
       "text": [
        "<matplotlib.figure.Figure at 0x7fd73b3ae590>"
       ]
      },
      {
       "metadata": {},
       "output_type": "display_data",
       "text": [
        "<matplotlib.figure.Figure at 0x7fd73b3ae490>"
       ]
      },
      {
       "metadata": {},
       "output_type": "display_data",
       "text": [
        "<matplotlib.figure.Figure at 0x7fd730448050>"
       ]
      },
      {
       "metadata": {},
       "output_type": "display_data",
       "text": [
        "<matplotlib.figure.Figure at 0x7fd731065910>"
       ]
      },
      {
       "metadata": {},
       "output_type": "display_data",
       "text": [
        "<matplotlib.figure.Figure at 0x7fd731065550>"
       ]
      },
      {
       "metadata": {},
       "output_type": "display_data",
       "text": [
        "<matplotlib.figure.Figure at 0x7fd731040590>"
       ]
      },
      {
       "metadata": {},
       "output_type": "display_data",
       "text": [
        "<matplotlib.figure.Figure at 0x7fd731040c10>"
       ]
      },
      {
       "metadata": {},
       "output_type": "display_data",
       "text": [
        "<matplotlib.figure.Figure at 0x7fd731040050>"
       ]
      },
      {
       "metadata": {},
       "output_type": "display_data",
       "text": [
        "<matplotlib.figure.Figure at 0x7fd73b3dc550>"
       ]
      },
      {
       "metadata": {},
       "output_type": "display_data",
       "text": [
        "<matplotlib.figure.Figure at 0x7fd730461c50>"
       ]
      },
      {
       "metadata": {},
       "output_type": "display_data",
       "text": [
        "<matplotlib.figure.Figure at 0x7fd7304614d0>"
       ]
      },
      {
       "metadata": {},
       "output_type": "display_data",
       "text": [
        "<matplotlib.figure.Figure at 0x7fd73b8a7650>"
       ]
      },
      {
       "metadata": {},
       "output_type": "display_data",
       "text": [
        "<matplotlib.figure.Figure at 0x7fd730ef9d50>"
       ]
      },
      {
       "metadata": {},
       "output_type": "display_data",
       "text": [
        "<matplotlib.figure.Figure at 0x7fd730ef9c90>"
       ]
      },
      {
       "metadata": {},
       "output_type": "display_data",
       "text": [
        "<matplotlib.figure.Figure at 0x7fd730ef9690>"
       ]
      },
      {
       "metadata": {},
       "output_type": "display_data",
       "text": [
        "<matplotlib.figure.Figure at 0x7fd72aeb2d90>"
       ]
      },
      {
       "metadata": {},
       "output_type": "display_data",
       "text": [
        "<matplotlib.figure.Figure at 0x7fd730fe92d0>"
       ]
      },
      {
       "metadata": {},
       "output_type": "display_data",
       "text": [
        "<matplotlib.figure.Figure at 0x7fd730fe9ad0>"
       ]
      },
      {
       "metadata": {},
       "output_type": "display_data",
       "text": [
        "<matplotlib.figure.Figure at 0x7fd73b596dd0>"
       ]
      },
      {
       "metadata": {},
       "output_type": "display_data",
       "text": [
        "<matplotlib.figure.Figure at 0x7fd73034cfd0>"
       ]
      },
      {
       "metadata": {},
       "output_type": "display_data",
       "text": [
        "<matplotlib.figure.Figure at 0x7fd730ffa090>"
       ]
      },
      {
       "metadata": {},
       "output_type": "display_data",
       "text": [
        "<matplotlib.figure.Figure at 0x7fd730e0d490>"
       ]
      },
      {
       "metadata": {},
       "output_type": "display_data",
       "text": [
        "<matplotlib.figure.Figure at 0x7fd73b5b1710>"
       ]
      },
      {
       "metadata": {},
       "output_type": "display_data",
       "text": [
        "<matplotlib.figure.Figure at 0x7fd7304e4e50>"
       ]
      },
      {
       "metadata": {},
       "output_type": "display_data",
       "text": [
        "<matplotlib.figure.Figure at 0x7fd7304e4250>"
       ]
      },
      {
       "metadata": {},
       "output_type": "display_data",
       "text": [
        "<matplotlib.figure.Figure at 0x7fd730da7a10>"
       ]
      },
      {
       "metadata": {},
       "output_type": "display_data",
       "text": [
        "<matplotlib.figure.Figure at 0x7fd730da7050>"
       ]
      },
      {
       "metadata": {},
       "output_type": "display_data",
       "text": [
        "<matplotlib.figure.Figure at 0x7fd731007590>"
       ]
      },
      {
       "metadata": {},
       "output_type": "display_data",
       "text": [
        "<matplotlib.figure.Figure at 0x7fd731007050>"
       ]
      },
      {
       "metadata": {},
       "output_type": "display_data",
       "text": [
        "<matplotlib.figure.Figure at 0x7fd73056a690>"
       ]
      },
      {
       "metadata": {},
       "output_type": "display_data",
       "text": [
        "<matplotlib.figure.Figure at 0x7fd73056a110>"
       ]
      },
      {
       "metadata": {},
       "output_type": "display_data",
       "text": [
        "<matplotlib.figure.Figure at 0x7fd73111bc10>"
       ]
      },
      {
       "metadata": {},
       "output_type": "display_data",
       "text": [
        "<matplotlib.figure.Figure at 0x7fd73111b210>"
       ]
      },
      {
       "metadata": {},
       "output_type": "display_data",
       "text": [
        "<matplotlib.figure.Figure at 0x7fd73111b490>"
       ]
      },
      {
       "metadata": {},
       "output_type": "display_data",
       "text": [
        "<matplotlib.figure.Figure at 0x7fd73b69c0d0>"
       ]
      },
      {
       "metadata": {},
       "output_type": "display_data",
       "text": [
        "<matplotlib.figure.Figure at 0x7fd730ed73d0>"
       ]
      },
      {
       "metadata": {},
       "output_type": "display_data",
       "text": [
        "<matplotlib.figure.Figure at 0x7fd730ed7210>"
       ]
      },
      {
       "metadata": {},
       "output_type": "display_data",
       "text": [
        "<matplotlib.figure.Figure at 0x7fd730fe6310>"
       ]
      },
      {
       "metadata": {},
       "output_type": "display_data",
       "text": [
        "<matplotlib.figure.Figure at 0x7fd730fe6250>"
       ]
      },
      {
       "metadata": {},
       "output_type": "display_data",
       "text": [
        "<matplotlib.figure.Figure at 0x7fd730fe6410>"
       ]
      },
      {
       "metadata": {},
       "output_type": "display_data",
       "text": [
        "<matplotlib.figure.Figure at 0x7fd730f506d0>"
       ]
      },
      {
       "metadata": {},
       "output_type": "display_data",
       "text": [
        "<matplotlib.figure.Figure at 0x7fd73b5206d0>"
       ]
      },
      {
       "metadata": {},
       "output_type": "display_data",
       "text": [
        "<matplotlib.figure.Figure at 0x7fd730ed0bd0>"
       ]
      },
      {
       "metadata": {},
       "output_type": "display_data",
       "text": [
        "<matplotlib.figure.Figure at 0x7fd730ed0fd0>"
       ]
      },
      {
       "metadata": {},
       "output_type": "display_data",
       "text": [
        "<matplotlib.figure.Figure at 0x7fd7310d1610>"
       ]
      },
      {
       "metadata": {},
       "output_type": "display_data",
       "text": [
        "<matplotlib.figure.Figure at 0x7fd7310d1d10>"
       ]
      },
      {
       "metadata": {},
       "output_type": "display_data",
       "text": [
        "<matplotlib.figure.Figure at 0x7fd731083910>"
       ]
      },
      {
       "metadata": {},
       "output_type": "display_data",
       "text": [
        "<matplotlib.figure.Figure at 0x7fd7310836d0>"
       ]
      },
      {
       "metadata": {},
       "output_type": "display_data",
       "text": [
        "<matplotlib.figure.Figure at 0x7fd7310a18d0>"
       ]
      },
      {
       "metadata": {},
       "output_type": "display_data",
       "text": [
        "<matplotlib.figure.Figure at 0x7fd7310a1990>"
       ]
      },
      {
       "metadata": {},
       "output_type": "display_data",
       "text": [
        "<matplotlib.figure.Figure at 0x7fd7310a1a10>"
       ]
      },
      {
       "metadata": {},
       "output_type": "display_data",
       "text": [
        "<matplotlib.figure.Figure at 0x7fd7310b2050>"
       ]
      },
      {
       "metadata": {},
       "output_type": "display_data",
       "text": [
        "<matplotlib.figure.Figure at 0x7fd7310b2ed0>"
       ]
      },
      {
       "metadata": {},
       "output_type": "display_data",
       "text": [
        "<matplotlib.figure.Figure at 0x7fd73100eed0>"
       ]
      },
      {
       "metadata": {},
       "output_type": "display_data",
       "text": [
        "<matplotlib.figure.Figure at 0x7fd73100eb10>"
       ]
      },
      {
       "metadata": {},
       "output_type": "display_data",
       "text": [
        "<matplotlib.figure.Figure at 0x7fd730f32b10>"
       ]
      },
      {
       "metadata": {},
       "output_type": "display_data",
       "text": [
        "<matplotlib.figure.Figure at 0x7fd730f32b90>"
       ]
      },
      {
       "metadata": {},
       "output_type": "display_data",
       "text": [
        "<matplotlib.figure.Figure at 0x7fd730e71750>"
       ]
      },
      {
       "metadata": {},
       "output_type": "display_data",
       "text": [
        "<matplotlib.figure.Figure at 0x7fd730e71690>"
       ]
      },
      {
       "metadata": {},
       "output_type": "display_data",
       "text": [
        "<matplotlib.figure.Figure at 0x7fd730e86d50>"
       ]
      },
      {
       "metadata": {},
       "output_type": "display_data",
       "text": [
        "<matplotlib.figure.Figure at 0x7fd730e86350>"
       ]
      },
      {
       "metadata": {},
       "output_type": "display_data",
       "text": [
        "<matplotlib.figure.Figure at 0x7fd731078610>"
       ]
      },
      {
       "metadata": {},
       "output_type": "display_data",
       "text": [
        "<matplotlib.figure.Figure at 0x7fd731078650>"
       ]
      },
      {
       "metadata": {},
       "output_type": "display_data",
       "text": [
        "<matplotlib.figure.Figure at 0x7fd731056850>"
       ]
      },
      {
       "metadata": {},
       "output_type": "display_data",
       "text": [
        "<matplotlib.figure.Figure at 0x7fd73b6c0110>"
       ]
      },
      {
       "metadata": {},
       "output_type": "display_data",
       "text": [
        "<matplotlib.figure.Figure at 0x7fd73b6c00d0>"
       ]
      },
      {
       "metadata": {},
       "output_type": "display_data",
       "text": [
        "<matplotlib.figure.Figure at 0x7fd73b6f0590>"
       ]
      },
      {
       "metadata": {},
       "output_type": "display_data",
       "text": [
        "<matplotlib.figure.Figure at 0x7fd73b6f0f90>"
       ]
      },
      {
       "metadata": {},
       "output_type": "display_data",
       "text": [
        "<matplotlib.figure.Figure at 0x7fd73b701610>"
       ]
      },
      {
       "metadata": {},
       "output_type": "display_data",
       "text": [
        "<matplotlib.figure.Figure at 0x7fd73b701990>"
       ]
      },
      {
       "metadata": {},
       "output_type": "display_data",
       "text": [
        "<matplotlib.figure.Figure at 0x7fd7302f7290>"
       ]
      },
      {
       "metadata": {},
       "output_type": "display_data",
       "text": [
        "<matplotlib.figure.Figure at 0x7fd7302f76d0>"
       ]
      },
      {
       "metadata": {},
       "output_type": "display_data",
       "text": [
        "<matplotlib.figure.Figure at 0x7fd73b4765d0>"
       ]
      },
      {
       "metadata": {},
       "output_type": "display_data",
       "text": [
        "<matplotlib.figure.Figure at 0x7fd73b476850>"
       ]
      },
      {
       "metadata": {},
       "output_type": "display_data",
       "text": [
        "<matplotlib.figure.Figure at 0x7fd730598610>"
       ]
      },
      {
       "metadata": {},
       "output_type": "display_data",
       "text": [
        "<matplotlib.figure.Figure at 0x7fd7305984d0>"
       ]
      },
      {
       "metadata": {},
       "output_type": "display_data",
       "text": [
        "<matplotlib.figure.Figure at 0x7fd72ae3a790>"
       ]
      },
      {
       "metadata": {},
       "output_type": "display_data",
       "text": [
        "<matplotlib.figure.Figure at 0x7fd730f56490>"
       ]
      },
      {
       "metadata": {},
       "output_type": "display_data",
       "text": [
        "<matplotlib.figure.Figure at 0x7fd730f56cd0>"
       ]
      },
      {
       "metadata": {},
       "output_type": "display_data",
       "text": [
        "<matplotlib.figure.Figure at 0x7fd73b776cd0>"
       ]
      },
      {
       "metadata": {},
       "output_type": "display_data",
       "text": [
        "<matplotlib.figure.Figure at 0x7fd73b776050>"
       ]
      },
      {
       "metadata": {},
       "output_type": "display_data",
       "text": [
        "<matplotlib.figure.Figure at 0x7fd730e07110>"
       ]
      },
      {
       "metadata": {},
       "output_type": "display_data",
       "text": [
        "<matplotlib.figure.Figure at 0x7fd73b83d110>"
       ]
      },
      {
       "metadata": {},
       "output_type": "display_data",
       "text": [
        "<matplotlib.figure.Figure at 0x7fd73b83d710>"
       ]
      },
      {
       "metadata": {},
       "output_type": "display_data",
       "text": [
        "<matplotlib.figure.Figure at 0x7fd73055c510>"
       ]
      },
      {
       "metadata": {},
       "output_type": "display_data",
       "text": [
        "<matplotlib.figure.Figure at 0x7fd73055c610>"
       ]
      },
      {
       "metadata": {},
       "output_type": "display_data",
       "text": [
        "<matplotlib.figure.Figure at 0x7fd730e67850>"
       ]
      },
      {
       "metadata": {},
       "output_type": "display_data",
       "text": [
        "<matplotlib.figure.Figure at 0x7fd7310201d0>"
       ]
      },
      {
       "metadata": {},
       "output_type": "display_data",
       "text": [
        "<matplotlib.figure.Figure at 0x7fd730e6df10>"
       ]
      },
      {
       "metadata": {},
       "output_type": "display_data",
       "text": [
        "<matplotlib.figure.Figure at 0x7fd730e6dbd0>"
       ]
      },
      {
       "metadata": {},
       "output_type": "display_data",
       "text": [
        "<matplotlib.figure.Figure at 0x7fd73b41f390>"
       ]
      },
      {
       "metadata": {},
       "output_type": "display_data",
       "text": [
        "<matplotlib.figure.Figure at 0x7fd73b41f2d0>"
       ]
      },
      {
       "metadata": {},
       "output_type": "display_data",
       "text": [
        "<matplotlib.figure.Figure at 0x7fd7310854d0>"
       ]
      },
      {
       "metadata": {},
       "output_type": "display_data",
       "text": [
        "<matplotlib.figure.Figure at 0x7fd731085190>"
       ]
      },
      {
       "metadata": {},
       "output_type": "display_data",
       "text": [
        "<matplotlib.figure.Figure at 0x7fd731085910>"
       ]
      },
      {
       "metadata": {},
       "output_type": "display_data",
       "text": [
        "<matplotlib.figure.Figure at 0x7fd72ae33e50>"
       ]
      },
      {
       "metadata": {},
       "output_type": "display_data",
       "text": [
        "<matplotlib.figure.Figure at 0x7fd7304bd590>"
       ]
      },
      {
       "metadata": {},
       "output_type": "display_data",
       "text": [
        "<matplotlib.figure.Figure at 0x7fd7304bde50>"
       ]
      },
      {
       "metadata": {},
       "output_type": "display_data",
       "text": [
        "<matplotlib.figure.Figure at 0x7fd7304bd110>"
       ]
      },
      {
       "metadata": {},
       "output_type": "display_data",
       "text": [
        "<matplotlib.figure.Figure at 0x7fd72ae0b0d0>"
       ]
      },
      {
       "metadata": {},
       "output_type": "display_data",
       "text": [
        "<matplotlib.figure.Figure at 0x7fd7310828d0>"
       ]
      },
      {
       "metadata": {},
       "output_type": "display_data",
       "text": [
        "<matplotlib.figure.Figure at 0x7fd731082790>"
       ]
      },
      {
       "metadata": {},
       "output_type": "display_data",
       "text": [
        "<matplotlib.figure.Figure at 0x7fd730e3c6d0>"
       ]
      },
      {
       "metadata": {},
       "output_type": "display_data",
       "text": [
        "<matplotlib.figure.Figure at 0x7fd730fe3ed0>"
       ]
      },
      {
       "metadata": {},
       "output_type": "display_data",
       "text": [
        "<matplotlib.figure.Figure at 0x7fd730fe3d90>"
       ]
      },
      {
       "metadata": {},
       "output_type": "display_data",
       "text": [
        "<matplotlib.figure.Figure at 0x7fd730fe3910>"
       ]
      },
      {
       "metadata": {},
       "output_type": "display_data",
       "text": [
        "<matplotlib.figure.Figure at 0x7fd72ae57450>"
       ]
      },
      {
       "metadata": {},
       "output_type": "display_data",
       "text": [
        "<matplotlib.figure.Figure at 0x7fd72ae57b90>"
       ]
      },
      {
       "metadata": {},
       "output_type": "display_data",
       "text": [
        "<matplotlib.figure.Figure at 0x7fd72af27210>"
       ]
      },
      {
       "metadata": {},
       "output_type": "display_data",
       "text": [
        "<matplotlib.figure.Figure at 0x7fd72af27850>"
       ]
      },
      {
       "metadata": {},
       "output_type": "display_data",
       "text": [
        "<matplotlib.figure.Figure at 0x7fd72af27e90>"
       ]
      },
      {
       "metadata": {},
       "output_type": "display_data",
       "text": [
        "<matplotlib.figure.Figure at 0x7fd72af13510>"
       ]
      },
      {
       "metadata": {},
       "output_type": "display_data",
       "text": [
        "<matplotlib.figure.Figure at 0x7fd72af13b50>"
       ]
      },
      {
       "metadata": {},
       "output_type": "display_data",
       "text": [
        "<matplotlib.figure.Figure at 0x7fd72af0a1d0>"
       ]
      },
      {
       "metadata": {},
       "output_type": "display_data",
       "text": [
        "<matplotlib.figure.Figure at 0x7fd72af0a810>"
       ]
      },
      {
       "metadata": {},
       "output_type": "display_data",
       "text": [
        "<matplotlib.figure.Figure at 0x7fd72af0ae50>"
       ]
      },
      {
       "metadata": {},
       "output_type": "display_data",
       "text": [
        "<matplotlib.figure.Figure at 0x7fd7302644d0>"
       ]
      },
      {
       "metadata": {},
       "output_type": "display_data",
       "text": [
        "<matplotlib.figure.Figure at 0x7fd730264b10>"
       ]
      },
      {
       "metadata": {},
       "output_type": "display_data",
       "text": [
        "<matplotlib.figure.Figure at 0x7fd73026e190>"
       ]
      },
      {
       "metadata": {},
       "output_type": "display_data",
       "text": [
        "<matplotlib.figure.Figure at 0x7fd73026e7d0>"
       ]
      },
      {
       "metadata": {},
       "output_type": "display_data",
       "text": [
        "<matplotlib.figure.Figure at 0x7fd73026ee10>"
       ]
      },
      {
       "metadata": {},
       "output_type": "display_data",
       "text": [
        "<matplotlib.figure.Figure at 0x7fd73027e490>"
       ]
      },
      {
       "metadata": {},
       "output_type": "display_data",
       "text": [
        "<matplotlib.figure.Figure at 0x7fd73027ead0>"
       ]
      },
      {
       "metadata": {},
       "output_type": "display_data",
       "text": [
        "<matplotlib.figure.Figure at 0x7fd73028a150>"
       ]
      },
      {
       "metadata": {},
       "output_type": "display_data",
       "text": [
        "<matplotlib.figure.Figure at 0x7fd73028a790>"
       ]
      },
      {
       "metadata": {},
       "output_type": "display_data",
       "text": [
        "<matplotlib.figure.Figure at 0x7fd73028add0>"
       ]
      },
      {
       "metadata": {},
       "output_type": "display_data",
       "text": [
        "<matplotlib.figure.Figure at 0x7fd730298450>"
       ]
      },
      {
       "metadata": {},
       "output_type": "display_data",
       "text": [
        "<matplotlib.figure.Figure at 0x7fd730298a90>"
       ]
      },
      {
       "metadata": {},
       "output_type": "display_data",
       "text": [
        "<matplotlib.figure.Figure at 0x7fd7301e6110>"
       ]
      },
      {
       "metadata": {},
       "output_type": "display_data",
       "text": [
        "<matplotlib.figure.Figure at 0x7fd7301e6750>"
       ]
      },
      {
       "metadata": {},
       "output_type": "display_data",
       "text": [
        "<matplotlib.figure.Figure at 0x7fd7301e6d90>"
       ]
      },
      {
       "metadata": {},
       "output_type": "display_data",
       "text": [
        "<matplotlib.figure.Figure at 0x7fd7301f1410>"
       ]
      },
      {
       "metadata": {},
       "output_type": "display_data",
       "text": [
        "<matplotlib.figure.Figure at 0x7fd7301f1a50>"
       ]
      },
      {
       "metadata": {},
       "output_type": "display_data",
       "text": [
        "<matplotlib.figure.Figure at 0x7fd7301ff0d0>"
       ]
      },
      {
       "metadata": {},
       "output_type": "display_data",
       "text": [
        "<matplotlib.figure.Figure at 0x7fd7301ff710>"
       ]
      },
      {
       "metadata": {},
       "output_type": "display_data",
       "text": [
        "<matplotlib.figure.Figure at 0x7fd7301ffd50>"
       ]
      },
      {
       "metadata": {},
       "output_type": "display_data",
       "text": [
        "<matplotlib.figure.Figure at 0x7fd73020f3d0>"
       ]
      },
      {
       "metadata": {},
       "output_type": "display_data",
       "text": [
        "<matplotlib.figure.Figure at 0x7fd73020fa10>"
       ]
      },
      {
       "metadata": {},
       "output_type": "display_data",
       "text": [
        "<matplotlib.figure.Figure at 0x7fd73019b090>"
       ]
      },
      {
       "metadata": {},
       "output_type": "display_data",
       "text": [
        "<matplotlib.figure.Figure at 0x7fd73019b6d0>"
       ]
      },
      {
       "metadata": {},
       "output_type": "display_data",
       "text": [
        "<matplotlib.figure.Figure at 0x7fd73019bd10>"
       ]
      },
      {
       "metadata": {},
       "output_type": "display_data",
       "text": [
        "<matplotlib.figure.Figure at 0x7fd7301b1390>"
       ]
      },
      {
       "metadata": {},
       "output_type": "display_data",
       "text": [
        "<matplotlib.figure.Figure at 0x7fd7301b19d0>"
       ]
      },
      {
       "metadata": {},
       "output_type": "display_data",
       "text": [
        "<matplotlib.figure.Figure at 0x7fd7301b8050>"
       ]
      },
      {
       "metadata": {},
       "output_type": "display_data",
       "text": [
        "<matplotlib.figure.Figure at 0x7fd7301b8690>"
       ]
      },
      {
       "metadata": {},
       "output_type": "display_data",
       "text": [
        "<matplotlib.figure.Figure at 0x7fd7301b8cd0>"
       ]
      },
      {
       "metadata": {},
       "output_type": "display_data",
       "text": [
        "<matplotlib.figure.Figure at 0x7fd7301c3350>"
       ]
      },
      {
       "metadata": {},
       "output_type": "display_data",
       "text": [
        "<matplotlib.figure.Figure at 0x7fd7301c3990>"
       ]
      },
      {
       "metadata": {},
       "output_type": "display_data",
       "text": [
        "<matplotlib.figure.Figure at 0x7fd7301c3fd0>"
       ]
      },
      {
       "metadata": {},
       "output_type": "display_data",
       "text": [
        "<matplotlib.figure.Figure at 0x7fd7301d0650>"
       ]
      },
      {
       "metadata": {},
       "output_type": "display_data",
       "text": [
        "<matplotlib.figure.Figure at 0x7fd7301d0c90>"
       ]
      },
      {
       "metadata": {},
       "output_type": "display_data",
       "text": [
        "<matplotlib.figure.Figure at 0x7fd730160310>"
       ]
      },
      {
       "metadata": {},
       "output_type": "display_data",
       "text": [
        "<matplotlib.figure.Figure at 0x7fd730160950>"
       ]
      },
      {
       "metadata": {},
       "output_type": "display_data",
       "text": [
        "<matplotlib.figure.Figure at 0x7fd730160f90>"
       ]
      },
      {
       "metadata": {},
       "output_type": "display_data",
       "text": [
        "<matplotlib.figure.Figure at 0x7fd73016d610>"
       ]
      },
      {
       "metadata": {},
       "output_type": "display_data",
       "text": [
        "<matplotlib.figure.Figure at 0x7fd73016dc50>"
       ]
      },
      {
       "metadata": {},
       "output_type": "display_data",
       "text": [
        "<matplotlib.figure.Figure at 0x7fd73017a2d0>"
       ]
      },
      {
       "metadata": {},
       "output_type": "display_data",
       "text": [
        "<matplotlib.figure.Figure at 0x7fd73017a910>"
       ]
      },
      {
       "metadata": {},
       "output_type": "display_data",
       "text": [
        "<matplotlib.figure.Figure at 0x7fd73017af50>"
       ]
      },
      {
       "metadata": {},
       "output_type": "display_data",
       "text": [
        "<matplotlib.figure.Figure at 0x7fd7301885d0>"
       ]
      },
      {
       "metadata": {},
       "output_type": "display_data",
       "text": [
        "<matplotlib.figure.Figure at 0x7fd730188c10>"
       ]
      },
      {
       "metadata": {},
       "output_type": "display_data",
       "text": [
        "<matplotlib.figure.Figure at 0x7fd730195290>"
       ]
      },
      {
       "metadata": {},
       "output_type": "display_data",
       "text": [
        "<matplotlib.figure.Figure at 0x7fd7301958d0>"
       ]
      },
      {
       "metadata": {},
       "output_type": "display_data",
       "text": [
        "<matplotlib.figure.Figure at 0x7fd730195f10>"
       ]
      },
      {
       "metadata": {},
       "output_type": "display_data",
       "text": [
        "<matplotlib.figure.Figure at 0x7fd730121590>"
       ]
      },
      {
       "metadata": {},
       "output_type": "display_data",
       "text": [
        "<matplotlib.figure.Figure at 0x7fd730121bd0>"
       ]
      },
      {
       "metadata": {},
       "output_type": "display_data",
       "text": [
        "<matplotlib.figure.Figure at 0x7fd730130250>"
       ]
      },
      {
       "metadata": {},
       "output_type": "display_data",
       "text": [
        "<matplotlib.figure.Figure at 0x7fd730130890>"
       ]
      },
      {
       "metadata": {},
       "output_type": "display_data",
       "text": [
        "<matplotlib.figure.Figure at 0x7fd730130ed0>"
       ]
      },
      {
       "metadata": {},
       "output_type": "display_data",
       "text": [
        "<matplotlib.figure.Figure at 0x7fd730142550>"
       ]
      },
      {
       "metadata": {},
       "output_type": "display_data",
       "text": [
        "<matplotlib.figure.Figure at 0x7fd730142b90>"
       ]
      },
      {
       "metadata": {},
       "output_type": "display_data",
       "text": [
        "<matplotlib.figure.Figure at 0x7fd73014a210>"
       ]
      },
      {
       "metadata": {},
       "output_type": "display_data",
       "text": [
        "<matplotlib.figure.Figure at 0x7fd73014a850>"
       ]
      },
      {
       "metadata": {},
       "output_type": "display_data",
       "text": [
        "<matplotlib.figure.Figure at 0x7fd73014ae90>"
       ]
      },
      {
       "metadata": {},
       "output_type": "display_data",
       "text": [
        "<matplotlib.figure.Figure at 0x7fd73009a510>"
       ]
      },
      {
       "metadata": {},
       "output_type": "display_data",
       "text": [
        "<matplotlib.figure.Figure at 0x7fd73009ab50>"
       ]
      },
      {
       "metadata": {},
       "output_type": "display_data",
       "text": [
        "<matplotlib.figure.Figure at 0x7fd7300a61d0>"
       ]
      },
      {
       "metadata": {},
       "output_type": "display_data",
       "text": [
        "<matplotlib.figure.Figure at 0x7fd7300a6810>"
       ]
      },
      {
       "metadata": {},
       "output_type": "display_data",
       "text": [
        "<matplotlib.figure.Figure at 0x7fd7300a6e50>"
       ]
      },
      {
       "metadata": {},
       "output_type": "display_data",
       "text": [
        "<matplotlib.figure.Figure at 0x7fd7300b44d0>"
       ]
      },
      {
       "metadata": {},
       "output_type": "display_data",
       "text": [
        "<matplotlib.figure.Figure at 0x7fd7300b4b10>"
       ]
      },
      {
       "metadata": {},
       "output_type": "display_data",
       "text": [
        "<matplotlib.figure.Figure at 0x7fd7300c1190>"
       ]
      },
      {
       "metadata": {},
       "output_type": "display_data",
       "text": [
        "<matplotlib.figure.Figure at 0x7fd7300c17d0>"
       ]
      },
      {
       "metadata": {},
       "output_type": "display_data",
       "text": [
        "<matplotlib.figure.Figure at 0x7fd7300c1e10>"
       ]
      },
      {
       "metadata": {},
       "output_type": "display_data",
       "text": [
        "<matplotlib.figure.Figure at 0x7fd7310d1790>"
       ]
      },
      {
       "metadata": {},
       "output_type": "display_data",
       "text": [
        "<matplotlib.figure.Figure at 0x7fd7300cfa90>"
       ]
      },
      {
       "metadata": {},
       "output_type": "display_data",
       "text": [
        "<matplotlib.figure.Figure at 0x7fd73005e110>"
       ]
      },
      {
       "metadata": {},
       "output_type": "display_data",
       "text": [
        "<matplotlib.figure.Figure at 0x7fd73005e750>"
       ]
      },
      {
       "metadata": {},
       "output_type": "display_data",
       "text": [
        "<matplotlib.figure.Figure at 0x7fd73005ed90>"
       ]
      },
      {
       "metadata": {},
       "output_type": "display_data",
       "text": [
        "<matplotlib.figure.Figure at 0x7fd73006c410>"
       ]
      },
      {
       "metadata": {},
       "output_type": "display_data",
       "text": [
        "<matplotlib.figure.Figure at 0x7fd73006ca50>"
       ]
      },
      {
       "metadata": {},
       "output_type": "display_data",
       "text": [
        "<matplotlib.figure.Figure at 0x7fd7300780d0>"
       ]
      },
      {
       "metadata": {},
       "output_type": "display_data",
       "text": [
        "<matplotlib.figure.Figure at 0x7fd730078710>"
       ]
      },
      {
       "metadata": {},
       "output_type": "display_data",
       "text": [
        "<matplotlib.figure.Figure at 0x7fd730078d50>"
       ]
      },
      {
       "metadata": {},
       "output_type": "display_data",
       "text": [
        "<matplotlib.figure.Figure at 0x7fd7300873d0>"
       ]
      },
      {
       "metadata": {},
       "output_type": "display_data",
       "text": [
        "<matplotlib.figure.Figure at 0x7fd730087a10>"
       ]
      },
      {
       "metadata": {},
       "output_type": "display_data",
       "text": [
        "<matplotlib.figure.Figure at 0x7fd730095090>"
       ]
      },
      {
       "metadata": {},
       "output_type": "display_data",
       "text": [
        "<matplotlib.figure.Figure at 0x7fd7300956d0>"
       ]
      },
      {
       "metadata": {},
       "output_type": "display_data",
       "text": [
        "<matplotlib.figure.Figure at 0x7fd730095d10>"
       ]
      },
      {
       "metadata": {},
       "output_type": "display_data",
       "text": [
        "<matplotlib.figure.Figure at 0x7fd730021390>"
       ]
      },
      {
       "metadata": {},
       "output_type": "display_data",
       "text": [
        "<matplotlib.figure.Figure at 0x7fd7300219d0>"
       ]
      },
      {
       "metadata": {},
       "output_type": "display_data",
       "text": [
        "<matplotlib.figure.Figure at 0x7fd730030050>"
       ]
      },
      {
       "metadata": {},
       "output_type": "display_data",
       "text": [
        "<matplotlib.figure.Figure at 0x7fd730030690>"
       ]
      },
      {
       "metadata": {},
       "output_type": "display_data",
       "text": [
        "<matplotlib.figure.Figure at 0x7fd730030cd0>"
       ]
      },
      {
       "metadata": {},
       "output_type": "display_data",
       "text": [
        "<matplotlib.figure.Figure at 0x7fd73003b350>"
       ]
      },
      {
       "metadata": {},
       "output_type": "display_data",
       "text": [
        "<matplotlib.figure.Figure at 0x7fd73003b990>"
       ]
      },
      {
       "metadata": {},
       "output_type": "display_data",
       "text": [
        "<matplotlib.figure.Figure at 0x7fd73003bfd0>"
       ]
      },
      {
       "metadata": {},
       "output_type": "display_data",
       "text": [
        "<matplotlib.figure.Figure at 0x7fd73004a650>"
       ]
      },
      {
       "metadata": {},
       "output_type": "display_data",
       "text": [
        "<matplotlib.figure.Figure at 0x7fd73004ac90>"
       ]
      },
      {
       "metadata": {},
       "output_type": "display_data",
       "text": [
        "<matplotlib.figure.Figure at 0x7fd72afbf310>"
       ]
      },
      {
       "metadata": {},
       "output_type": "display_data",
       "text": [
        "<matplotlib.figure.Figure at 0x7fd72afbf950>"
       ]
      },
      {
       "metadata": {},
       "output_type": "display_data",
       "text": [
        "<matplotlib.figure.Figure at 0x7fd72afbff90>"
       ]
      },
      {
       "metadata": {},
       "output_type": "display_data",
       "text": [
        "<matplotlib.figure.Figure at 0x7fd72afca610>"
       ]
      },
      {
       "metadata": {},
       "output_type": "display_data",
       "text": [
        "<matplotlib.figure.Figure at 0x7fd72afcac50>"
       ]
      },
      {
       "metadata": {},
       "output_type": "display_data",
       "text": [
        "<matplotlib.figure.Figure at 0x7fd72afd72d0>"
       ]
      },
      {
       "metadata": {},
       "output_type": "display_data",
       "text": [
        "<matplotlib.figure.Figure at 0x7fd72afd7910>"
       ]
      },
      {
       "metadata": {},
       "output_type": "display_data",
       "text": [
        "<matplotlib.figure.Figure at 0x7fd72afd7f50>"
       ]
      },
      {
       "metadata": {},
       "output_type": "display_data",
       "text": [
        "<matplotlib.figure.Figure at 0x7fd72afe75d0>"
       ]
      },
      {
       "metadata": {},
       "output_type": "display_data",
       "text": [
        "<matplotlib.figure.Figure at 0x7fd72afe7c10>"
       ]
      },
      {
       "metadata": {},
       "output_type": "display_data",
       "text": [
        "<matplotlib.figure.Figure at 0x7fd72aff3290>"
       ]
      },
      {
       "metadata": {},
       "output_type": "display_data",
       "text": [
        "<matplotlib.figure.Figure at 0x7fd72aff38d0>"
       ]
      },
      {
       "metadata": {},
       "output_type": "display_data",
       "text": [
        "<matplotlib.figure.Figure at 0x7fd72aff3f10>"
       ]
      },
      {
       "metadata": {},
       "output_type": "display_data",
       "text": [
        "<matplotlib.figure.Figure at 0x7fd72af84590>"
       ]
      },
      {
       "metadata": {},
       "output_type": "display_data",
       "text": [
        "<matplotlib.figure.Figure at 0x7fd72af84bd0>"
       ]
      },
      {
       "metadata": {},
       "output_type": "display_data",
       "text": [
        "<matplotlib.figure.Figure at 0x7fd72af90250>"
       ]
      },
      {
       "metadata": {},
       "output_type": "display_data",
       "text": [
        "<matplotlib.figure.Figure at 0x7fd72af90890>"
       ]
      },
      {
       "metadata": {},
       "output_type": "display_data",
       "text": [
        "<matplotlib.figure.Figure at 0x7fd72af90ed0>"
       ]
      },
      {
       "metadata": {},
       "output_type": "display_data",
       "text": [
        "<matplotlib.figure.Figure at 0x7fd72af9f550>"
       ]
      },
      {
       "metadata": {},
       "output_type": "display_data",
       "text": [
        "<matplotlib.figure.Figure at 0x7fd72af9fb90>"
       ]
      },
      {
       "metadata": {},
       "output_type": "display_data",
       "text": [
        "<matplotlib.figure.Figure at 0x7fd72afac210>"
       ]
      },
      {
       "metadata": {},
       "output_type": "display_data",
       "text": [
        "<matplotlib.figure.Figure at 0x7fd72afac850>"
       ]
      },
      {
       "metadata": {},
       "output_type": "display_data",
       "text": [
        "<matplotlib.figure.Figure at 0x7fd72aface90>"
       ]
      },
      {
       "metadata": {},
       "output_type": "display_data",
       "text": [
        "<matplotlib.figure.Figure at 0x7fd72afbb510>"
       ]
      },
      {
       "metadata": {},
       "output_type": "display_data",
       "text": [
        "<matplotlib.figure.Figure at 0x7fd72afbbb50>"
       ]
      },
      {
       "metadata": {},
       "output_type": "display_data",
       "text": [
        "<matplotlib.figure.Figure at 0x7fd72af461d0>"
       ]
      },
      {
       "metadata": {},
       "output_type": "display_data",
       "text": [
        "<matplotlib.figure.Figure at 0x7fd72af46810>"
       ]
      },
      {
       "metadata": {},
       "output_type": "display_data",
       "text": [
        "<matplotlib.figure.Figure at 0x7fd72af46e50>"
       ]
      },
      {
       "metadata": {},
       "output_type": "display_data",
       "text": [
        "<matplotlib.figure.Figure at 0x7fd72af5a4d0>"
       ]
      },
      {
       "metadata": {},
       "output_type": "display_data",
       "text": [
        "<matplotlib.figure.Figure at 0x7fd72af5ab10>"
       ]
      },
      {
       "metadata": {},
       "output_type": "display_data",
       "text": [
        "<matplotlib.figure.Figure at 0x7fd72af62190>"
       ]
      },
      {
       "metadata": {},
       "output_type": "display_data",
       "text": [
        "<matplotlib.figure.Figure at 0x7fd72af627d0>"
       ]
      },
      {
       "metadata": {},
       "output_type": "display_data",
       "text": [
        "<matplotlib.figure.Figure at 0x7fd72af62e10>"
       ]
      },
      {
       "metadata": {},
       "output_type": "display_data",
       "text": [
        "<matplotlib.figure.Figure at 0x7fd72af71490>"
       ]
      },
      {
       "metadata": {},
       "output_type": "display_data",
       "text": [
        "<matplotlib.figure.Figure at 0x7fd72af71ad0>"
       ]
      },
      {
       "metadata": {},
       "output_type": "display_data",
       "text": [
        "<matplotlib.figure.Figure at 0x7fd72aebf150>"
       ]
      },
      {
       "metadata": {},
       "output_type": "display_data",
       "text": [
        "<matplotlib.figure.Figure at 0x7fd72aebf790>"
       ]
      },
      {
       "metadata": {},
       "output_type": "display_data",
       "text": [
        "<matplotlib.figure.Figure at 0x7fd72aebfdd0>"
       ]
      },
      {
       "metadata": {},
       "output_type": "display_data",
       "text": [
        "<matplotlib.figure.Figure at 0x7fd72aed3450>"
       ]
      },
      {
       "metadata": {},
       "output_type": "display_data",
       "text": [
        "<matplotlib.figure.Figure at 0x7fd72aed3a90>"
       ]
      },
      {
       "metadata": {},
       "output_type": "display_data",
       "text": [
        "<matplotlib.figure.Figure at 0x7fd72aed9110>"
       ]
      },
      {
       "metadata": {},
       "output_type": "display_data",
       "text": [
        "<matplotlib.figure.Figure at 0x7fd72aed9750>"
       ]
      },
      {
       "metadata": {},
       "output_type": "display_data",
       "text": [
        "<matplotlib.figure.Figure at 0x7fd72aed9d90>"
       ]
      },
      {
       "metadata": {},
       "output_type": "display_data",
       "text": [
        "<matplotlib.figure.Figure at 0x7fd72aee9410>"
       ]
      },
      {
       "metadata": {},
       "output_type": "display_data",
       "text": [
        "<matplotlib.figure.Figure at 0x7fd72aee9a50>"
       ]
      },
      {
       "metadata": {},
       "output_type": "display_data",
       "text": [
        "<matplotlib.figure.Figure at 0x7fd72aef50d0>"
       ]
      },
      {
       "metadata": {},
       "output_type": "display_data",
       "text": [
        "<matplotlib.figure.Figure at 0x7fd72aef5710>"
       ]
      },
      {
       "metadata": {},
       "output_type": "display_data",
       "text": [
        "<matplotlib.figure.Figure at 0x7fd72aef5d50>"
       ]
      },
      {
       "metadata": {},
       "output_type": "display_data",
       "text": [
        "<matplotlib.figure.Figure at 0x7fd72ad023d0>"
       ]
      },
      {
       "metadata": {},
       "output_type": "display_data",
       "text": [
        "<matplotlib.figure.Figure at 0x7fd72ad02a10>"
       ]
      },
      {
       "metadata": {},
       "output_type": "display_data",
       "text": [
        "<matplotlib.figure.Figure at 0x7fd72ad11090>"
       ]
      },
      {
       "metadata": {},
       "output_type": "display_data",
       "text": [
        "<matplotlib.figure.Figure at 0x7fd72ad116d0>"
       ]
      },
      {
       "metadata": {},
       "output_type": "display_data",
       "text": [
        "<matplotlib.figure.Figure at 0x7fd72ad11d10>"
       ]
      },
      {
       "metadata": {},
       "output_type": "display_data",
       "text": [
        "<matplotlib.figure.Figure at 0x7fd72ad1d390>"
       ]
      },
      {
       "metadata": {},
       "output_type": "display_data",
       "text": [
        "<matplotlib.figure.Figure at 0x7fd72ad1d9d0>"
       ]
      },
      {
       "metadata": {},
       "output_type": "display_data",
       "text": [
        "<matplotlib.figure.Figure at 0x7fd72ad2f050>"
       ]
      },
      {
       "metadata": {},
       "output_type": "display_data",
       "text": [
        "<matplotlib.figure.Figure at 0x7fd72ad2f690>"
       ]
      },
      {
       "metadata": {},
       "output_type": "display_data",
       "text": [
        "<matplotlib.figure.Figure at 0x7fd72ad2fcd0>"
       ]
      },
      {
       "metadata": {},
       "output_type": "display_data",
       "text": [
        "<matplotlib.figure.Figure at 0x7fd72ad3b350>"
       ]
      },
      {
       "metadata": {},
       "output_type": "display_data",
       "text": [
        "<matplotlib.figure.Figure at 0x7fd72ad3b990>"
       ]
      },
      {
       "metadata": {},
       "output_type": "display_data",
       "text": [
        "<matplotlib.figure.Figure at 0x7fd72ad3bfd0>"
       ]
      },
      {
       "metadata": {},
       "output_type": "display_data",
       "text": [
        "<matplotlib.figure.Figure at 0x7fd72acc9650>"
       ]
      },
      {
       "metadata": {},
       "output_type": "display_data",
       "text": [
        "<matplotlib.figure.Figure at 0x7fd72acc9c90>"
       ]
      },
      {
       "metadata": {},
       "output_type": "display_data",
       "text": [
        "<matplotlib.figure.Figure at 0x7fd72acd5310>"
       ]
      },
      {
       "metadata": {},
       "output_type": "display_data",
       "text": [
        "<matplotlib.figure.Figure at 0x7fd72acd5950>"
       ]
      },
      {
       "metadata": {},
       "output_type": "display_data",
       "text": [
        "<matplotlib.figure.Figure at 0x7fd72acd5f90>"
       ]
      },
      {
       "metadata": {},
       "output_type": "display_data",
       "text": [
        "<matplotlib.figure.Figure at 0x7fd72ace5610>"
       ]
      },
      {
       "metadata": {},
       "output_type": "display_data",
       "text": [
        "<matplotlib.figure.Figure at 0x7fd72ace5c50>"
       ]
      },
      {
       "metadata": {},
       "output_type": "display_data",
       "text": [
        "<matplotlib.figure.Figure at 0x7fd72acee2d0>"
       ]
      },
      {
       "metadata": {},
       "output_type": "display_data",
       "text": [
        "<matplotlib.figure.Figure at 0x7fd72acee910>"
       ]
      },
      {
       "metadata": {},
       "output_type": "display_data",
       "text": [
        "<matplotlib.figure.Figure at 0x7fd72aceef50>"
       ]
      },
      {
       "metadata": {},
       "output_type": "display_data",
       "text": [
        "<matplotlib.figure.Figure at 0x7fd72ac815d0>"
       ]
      },
      {
       "metadata": {},
       "output_type": "display_data",
       "text": [
        "<matplotlib.figure.Figure at 0x7fd72ac81c10>"
       ]
      },
      {
       "metadata": {},
       "output_type": "display_data",
       "text": [
        "<matplotlib.figure.Figure at 0x7fd72ac8e290>"
       ]
      },
      {
       "metadata": {},
       "output_type": "display_data",
       "text": [
        "<matplotlib.figure.Figure at 0x7fd72ac8e8d0>"
       ]
      },
      {
       "metadata": {},
       "output_type": "display_data",
       "text": [
        "<matplotlib.figure.Figure at 0x7fd72ac8ef10>"
       ]
      },
      {
       "metadata": {},
       "output_type": "display_data",
       "text": [
        "<matplotlib.figure.Figure at 0x7fd72aca7590>"
       ]
      },
      {
       "metadata": {},
       "output_type": "display_data",
       "text": [
        "<matplotlib.figure.Figure at 0x7fd72aca7bd0>"
       ]
      },
      {
       "metadata": {},
       "output_type": "display_data",
       "text": [
        "<matplotlib.figure.Figure at 0x7fd72aca6250>"
       ]
      },
      {
       "metadata": {},
       "output_type": "display_data",
       "text": [
        "<matplotlib.figure.Figure at 0x7fd72aca6890>"
       ]
      },
      {
       "metadata": {},
       "output_type": "display_data",
       "text": [
        "<matplotlib.figure.Figure at 0x7fd72aca6ed0>"
       ]
      },
      {
       "metadata": {},
       "output_type": "display_data",
       "text": [
        "<matplotlib.figure.Figure at 0x7fd72acba550>"
       ]
      },
      {
       "metadata": {},
       "output_type": "display_data",
       "text": [
        "<matplotlib.figure.Figure at 0x7fd72acbab90>"
       ]
      },
      {
       "metadata": {},
       "output_type": "display_data",
       "text": [
        "<matplotlib.figure.Figure at 0x7fd72ac43210>"
       ]
      },
      {
       "metadata": {},
       "output_type": "display_data",
       "text": [
        "<matplotlib.figure.Figure at 0x7fd72ac43850>"
       ]
      },
      {
       "metadata": {},
       "output_type": "display_data",
       "text": [
        "<matplotlib.figure.Figure at 0x7fd72ac43e90>"
       ]
      },
      {
       "metadata": {},
       "output_type": "display_data",
       "text": [
        "<matplotlib.figure.Figure at 0x7fd72ac54510>"
       ]
      },
      {
       "metadata": {},
       "output_type": "display_data",
       "text": [
        "<matplotlib.figure.Figure at 0x7fd72ac54b50>"
       ]
      },
      {
       "metadata": {},
       "output_type": "display_data",
       "text": [
        "<matplotlib.figure.Figure at 0x7fd72ac5f1d0>"
       ]
      },
      {
       "metadata": {},
       "output_type": "display_data",
       "text": [
        "<matplotlib.figure.Figure at 0x7fd72ac5f810>"
       ]
      },
      {
       "metadata": {},
       "output_type": "display_data",
       "text": [
        "<matplotlib.figure.Figure at 0x7fd72ac5fe50>"
       ]
      },
      {
       "metadata": {},
       "output_type": "display_data",
       "text": [
        "<matplotlib.figure.Figure at 0x7fd72ac6c4d0>"
       ]
      },
      {
       "metadata": {},
       "output_type": "display_data",
       "text": [
        "<matplotlib.figure.Figure at 0x7fd72ac6cb10>"
       ]
      },
      {
       "metadata": {},
       "output_type": "display_data",
       "text": [
        "<matplotlib.figure.Figure at 0x7fd72ac7c190>"
       ]
      },
      {
       "metadata": {},
       "output_type": "display_data",
       "text": [
        "<matplotlib.figure.Figure at 0x7fd72ac7c7d0>"
       ]
      },
      {
       "metadata": {},
       "output_type": "display_data",
       "text": [
        "<matplotlib.figure.Figure at 0x7fd72ac7ce10>"
       ]
      },
      {
       "metadata": {},
       "output_type": "display_data",
       "text": [
        "<matplotlib.figure.Figure at 0x7fd72ac0a490>"
       ]
      },
      {
       "metadata": {},
       "output_type": "display_data",
       "text": [
        "<matplotlib.figure.Figure at 0x7fd72ac0aad0>"
       ]
      },
      {
       "metadata": {},
       "output_type": "display_data",
       "text": [
        "<matplotlib.figure.Figure at 0x7fd72ac17150>"
       ]
      },
      {
       "metadata": {},
       "output_type": "display_data",
       "text": [
        "<matplotlib.figure.Figure at 0x7fd72ac17790>"
       ]
      },
      {
       "metadata": {},
       "output_type": "display_data",
       "text": [
        "<matplotlib.figure.Figure at 0x7fd72ac17dd0>"
       ]
      },
      {
       "metadata": {},
       "output_type": "display_data",
       "text": [
        "<matplotlib.figure.Figure at 0x7fd72ac25450>"
       ]
      },
      {
       "metadata": {},
       "output_type": "display_data",
       "text": [
        "<matplotlib.figure.Figure at 0x7fd72ac25a90>"
       ]
      },
      {
       "metadata": {},
       "output_type": "display_data",
       "text": [
        "<matplotlib.figure.Figure at 0x7fd72ac31110>"
       ]
      }
     ],
     "prompt_number": 90
    },
    {
     "cell_type": "code",
     "collapsed": false,
     "input": [
      "print df.describe()"
     ],
     "language": "python",
     "metadata": {},
     "outputs": [
      {
       "output_type": "stream",
       "stream": "stdout",
       "text": [
        "            class    solidity  Eccentricity   curvature0  curvature1  \\\n",
        "count  583.000000  583.000000    583.000000   583.000000  583.000000   \n",
        "mean     4.200686    0.753444     10.069985   893.442539  224.396226   \n",
        "std      2.620144    0.212051     13.944923   592.602562  117.511595   \n",
        "min      0.000000    0.208078      1.013930   175.000000    8.000000   \n",
        "25%      2.000000    0.566372      1.651344   461.000000  149.500000   \n",
        "50%      4.000000    0.844903      3.930144   740.000000  231.000000   \n",
        "75%      6.000000    0.934924      7.948465   995.000000  295.500000   \n",
        "max      8.000000    0.983580     70.055798  3035.000000  700.000000   \n",
        "\n",
        "       curvature2  curvature3  curvature4  curvature5  curvature6  curvature7  \\\n",
        "count  583.000000  583.000000  583.000000  583.000000  583.000000  583.000000   \n",
        "mean   104.058319   71.123499   58.819897   46.262436   38.533448   29.195540   \n",
        "std     72.934490   58.445662   61.976718   48.256311   47.593408   35.796046   \n",
        "min      0.000000    0.000000    0.000000    0.000000    0.000000    0.000000   \n",
        "25%     32.000000   21.000000   14.500000    8.000000    6.000000    6.000000   \n",
        "50%    112.000000   71.000000   50.000000   30.000000   23.000000   16.000000   \n",
        "75%    151.500000  105.000000   84.000000   70.000000   47.000000   42.000000   \n",
        "max    561.000000  398.000000  480.000000  272.000000  301.000000  245.000000   \n",
        "\n",
        "       curvature8  curvature9     classid  \n",
        "count  583.000000  583.000000  583.000000  \n",
        "mean    17.343053    8.958834    4.200686  \n",
        "std     21.083185    8.012985    2.620144  \n",
        "min      0.000000    1.000000    0.000000  \n",
        "25%      4.000000    4.000000    2.000000  \n",
        "50%      9.000000    7.000000    4.000000  \n",
        "75%     23.500000   11.000000    6.000000  \n",
        "max    177.000000   53.000000    8.000000  \n"
       ]
      }
     ],
     "prompt_number": 91
    },
    {
     "cell_type": "code",
     "collapsed": false,
     "input": [
      "#\n",
      "# Your KNN code here\n",
      "#\n",
      "\n",
      "X = df[['solidity', 'Eccentricity', 'curvature0', 'curvature1', 'curvature2', 'curvature3', \n",
      "    'curvature4', 'curvature5', 'curvature6', 'curvature7', 'curvature8',\n",
      "    'curvature9']].as_matrix()\n",
      "y = df[['classid']].as_matrix()\n",
      "print \"X shape : \", X.shape\n",
      "print \"y shape : \", y.shape\n",
      "\n",
      "\n",
      "from sklearn import cross_validation\n",
      "# train and test are indices arrays containing the indices of train/test samples\n",
      "X_train, X_test = cross_validation.train_test_split(np.arange(X.shape[0]), test_size=0.4, random_state=42)\n",
      "print \"X_train shape : \", X_train.shape\n",
      "print \"X_test shape : \", X_test.shape"
     ],
     "language": "python",
     "metadata": {},
     "outputs": [
      {
       "output_type": "stream",
       "stream": "stdout",
       "text": [
        "X shape :  (583, 12)\n",
        "y shape :  (583, 1)\n",
        "X_train shape :  (349,)\n",
        "X_test shape :  (234,)\n"
       ]
      }
     ],
     "prompt_number": 103
    },
    {
     "cell_type": "code",
     "collapsed": false,
     "input": [
      "from sklearn.neighbors import KNeighborsClassifier\n",
      "knn = KNeighborsClassifier()\n",
      "knn.fit(X[X_train], np.ravel(y[X_train]))\n",
      "KNeighborsClassifier(algorithm='auto', leaf_size=30, metric='minkowski',metric_params=None, n_neighbors=5, p=2, weights='uniform')"
     ],
     "language": "python",
     "metadata": {},
     "outputs": [
      {
       "metadata": {},
       "output_type": "pyout",
       "prompt_number": 107,
       "text": [
        "KNeighborsClassifier(algorithm='auto', leaf_size=30, metric='minkowski',\n",
        "           metric_params=None, n_neighbors=5, p=2, weights='uniform')"
       ]
      }
     ],
     "prompt_number": 107
    },
    {
     "cell_type": "code",
     "collapsed": false,
     "input": [
      "y_pred = knn.predict(X[X_test])\n",
      "y_test = y[X_test]"
     ],
     "language": "python",
     "metadata": {},
     "outputs": [],
     "prompt_number": 111
    },
    {
     "cell_type": "code",
     "collapsed": false,
     "input": [
      "# performance evaluation\n",
      "import sklearn.metrics as skmetrics\n",
      "from sklearn.metrics import confusion_matrix\n",
      "\n",
      "report = skmetrics.classification_report(y_test, y_pred,\n",
      "                                         labels=np.arange(len(np.unique(meta['classid']))),\n",
      "                                         target_names=np.unique(meta['classid']))\n",
      "confmat = confusion_matrix(y_test, y_pred)"
     ],
     "language": "python",
     "metadata": {},
     "outputs": [
      {
       "output_type": "stream",
       "stream": "stderr",
       "text": [
        "/home/rossier/anaconda/lib/python2.7/site-packages/sklearn/metrics/metrics.py:1771: UndefinedMetricWarning: Precision and F-score are ill-defined and being set to 0.0 in labels with no predicted samples.\n",
        "  'precision', 'predicted', average, warn_for)\n",
        "/home/rossier/anaconda/lib/python2.7/site-packages/sklearn/metrics/metrics.py:1773: UndefinedMetricWarning: Recall and F-score are ill-defined and being set to 0.0 in labels with no true samples.\n",
        "  'recall', 'true', average, warn_for)\n"
       ]
      }
     ],
     "prompt_number": 119
    },
    {
     "cell_type": "code",
     "collapsed": false,
     "input": [
      "def plot_confusion_matrix(confmat, labels_names, ax=None, cmap=None):\n",
      "    \"\"\"Utility function to plot a confusion matrix\"\"\"\n",
      "    if ax is None:\n",
      "        ax = pl.subplot(111)\n",
      "    cmim = ax.matshow(confmat, interpolation='nearest', cmap=cmap)\n",
      "\n",
      "    for i in xrange(confmat.shape[0]):\n",
      "        for j in xrange(confmat.shape[1]):\n",
      "            ax.annotate(str(confmat[i, j]), xy=(j, i),\n",
      "                        horizontalalignment='center',\n",
      "                        verticalalignment='center',\n",
      "                        fontsize=8)\n",
      "    ax.set_xticks(np.arange(confmat.shape[0]))\n",
      "    ax.set_xticklabels([labels_names[l] for l in xrange(confmat.shape[0])], rotation='vertical')\n",
      "    ax.set_yticks(np.arange(confmat.shape[1]))\n",
      "    _ = ax.set_yticklabels([labels_names[l] for l in xrange(confmat.shape[1])])\n",
      "    ax.set_xlabel('predicted label')\n",
      "    ax.xaxis.set_label_position('top')\n",
      "    ax.set_ylabel('true label')\n",
      "    pl.colorbar(cmim, shrink=0.7, orientation='horizontal', pad=0.01)"
     ],
     "language": "python",
     "metadata": {},
     "outputs": [],
     "prompt_number": 120
    },
    {
     "cell_type": "code",
     "collapsed": false,
     "input": [
      "pl.figure(figsize=(10, 10))\n",
      "plot_confusion_matrix(confmat, np.unique(meta['classid']), cmap=cm.gray_r)"
     ],
     "language": "python",
     "metadata": {},
     "outputs": [
      {
       "metadata": {},
       "output_type": "display_data",
       "png": "[encoded data removed]",
       "text": [
        "<matplotlib.figure.Figure at 0x7fd72add4e90>"
       ]
      }
     ],
     "prompt_number": 121
    },
    {
     "cell_type": "code",
     "collapsed": false,
     "input": [
      "print report"
     ],
     "language": "python",
     "metadata": {},
     "outputs": [
      {
       "output_type": "stream",
       "stream": "stdout",
       "text": [
        "             precision    recall  f1-score   support\n",
        "\n",
        "      10047       0.69      0.88      0.77        25\n",
        "      10073       1.00      0.97      0.98        30\n",
        "      10092       0.62      0.42      0.50        12\n",
        "      10129       0.61      0.82      0.70        33\n",
        "      10135       0.57      0.39      0.46        31\n",
        "      10168       1.00      0.27      0.43        11\n",
        "      10173       1.00      1.00      1.00        38\n",
        "      10205       0.59      0.70      0.64        23\n",
        "      10237       0.97      1.00      0.98        31\n",
        "      10258       0.00      0.00      0.00         0\n",
        "       1026       0.00      0.00      0.00         0\n",
        "      10265       0.00      0.00      0.00         0\n",
        "      10269       0.00      0.00      0.00         0\n",
        "      10277       0.00      0.00      0.00         0\n",
        "      10278       0.00      0.00      0.00         0\n",
        "       1033       0.00      0.00      0.00         0\n",
        "      10330       0.00      0.00      0.00         0\n",
        "      10343       0.00      0.00      0.00         0\n",
        "      10345       0.00      0.00      0.00         0\n",
        "      10364       0.00      0.00      0.00         0\n",
        "      10378       0.00      0.00      0.00         0\n",
        "      10386       0.00      0.00      0.00         0\n",
        "      10389       0.00      0.00      0.00         0\n",
        "      10410       0.00      0.00      0.00         0\n",
        "      10417       0.00      0.00      0.00         0\n",
        "      10426       0.00      0.00      0.00         0\n",
        "      10509       0.00      0.00      0.00         0\n",
        "      10516       0.00      0.00      0.00         0\n",
        "      10534       0.00      0.00      0.00         0\n",
        "      10540       0.00      0.00      0.00         0\n",
        "      10559       0.00      0.00      0.00         0\n",
        "       1062       0.00      0.00      0.00         0\n",
        "       1066       0.00      0.00      0.00         0\n",
        "       1081       0.00      0.00      0.00         0\n",
        "       1155       0.00      0.00      0.00         0\n",
        "       1160       0.00      0.00      0.00         0\n",
        "       1180       0.00      0.00      0.00         0\n",
        "       1192       0.00      0.00      0.00         0\n",
        "       1211       0.00      0.00      0.00         0\n",
        "       1213       0.00      0.00      0.00         0\n",
        "       1253       0.00      0.00      0.00         0\n",
        "       1268       0.00      0.00      0.00         0\n",
        "       1286       0.00      0.00      0.00         0\n",
        "       1313       0.00      0.00      0.00         0\n",
        "       1329       0.00      0.00      0.00         0\n",
        "       1363       0.00      0.00      0.00         0\n",
        "        139       0.00      0.00      0.00         0\n",
        "       1398       0.00      0.00      0.00         0\n",
        "       1479       0.00      0.00      0.00         0\n",
        "       1480       0.00      0.00      0.00         0\n",
        "       1497       0.00      0.00      0.00         0\n",
        "       1512       0.00      0.00      0.00         0\n",
        "       1550       0.00      0.00      0.00         0\n",
        "       1564       0.00      0.00      0.00         0\n",
        "       1602       0.00      0.00      0.00         0\n",
        "       1610       0.00      0.00      0.00         0\n",
        "       1612       0.00      0.00      0.00         0\n",
        "       1643       0.00      0.00      0.00         0\n",
        "       1657       0.00      0.00      0.00         0\n",
        "       1667       0.00      0.00      0.00         0\n",
        "       1668       0.00      0.00      0.00         0\n",
        "        172       0.00      0.00      0.00         0\n",
        "       1725       0.00      0.00      0.00         0\n",
        "       1728       0.00      0.00      0.00         0\n",
        "       1741       0.00      0.00      0.00         0\n",
        "       1742       0.00      0.00      0.00         0\n",
        "        175       0.00      0.00      0.00         0\n",
        "       1757       0.00      0.00      0.00         0\n",
        "       1762       0.00      0.00      0.00         0\n",
        "       1763       0.00      0.00      0.00         0\n",
        "       1772       0.00      0.00      0.00         0\n",
        "       1778       0.00      0.00      0.00         0\n",
        "       1814       0.00      0.00      0.00         0\n",
        "       1817       0.00      0.00      0.00         0\n",
        "       1826       0.00      0.00      0.00         0\n",
        "       1860       0.00      0.00      0.00         0\n",
        "       1862       0.00      0.00      0.00         0\n",
        "       1902       0.00      0.00      0.00         0\n",
        "       1917       0.00      0.00      0.00         0\n",
        "        192       0.00      0.00      0.00         0\n",
        "       1960       0.00      0.00      0.00         0\n",
        "       1993       0.00      0.00      0.00         0\n",
        "       2023       0.00      0.00      0.00         0\n",
        "       2034       0.00      0.00      0.00         0\n",
        "       2057       0.00      0.00      0.00         0\n",
        "       2059       0.00      0.00      0.00         0\n",
        "       2078       0.00      0.00      0.00         0\n",
        "        208       0.00      0.00      0.00         0\n",
        "       2133       0.00      0.00      0.00         0\n",
        "       2151       0.00      0.00      0.00         0\n",
        "       2160       0.00      0.00      0.00         0\n",
        "       2173       0.00      0.00      0.00         0\n",
        "       2191       0.00      0.00      0.00         0\n",
        "       2208       0.00      0.00      0.00         0\n",
        "       2217       0.00      0.00      0.00         0\n",
        "       2264       0.00      0.00      0.00         0\n",
        "       2294       0.00      0.00      0.00         0\n",
        "        235       0.00      0.00      0.00         0\n",
        "       2377       0.00      0.00      0.00         0\n",
        "       2382       0.00      0.00      0.00         0\n",
        "        239       0.00      0.00      0.00         0\n",
        "       2392       0.00      0.00      0.00         0\n",
        "       2440       0.00      0.00      0.00         0\n",
        "       2473       0.00      0.00      0.00         0\n",
        "       2484       0.00      0.00      0.00         0\n",
        "       2505       0.00      0.00      0.00         0\n",
        "       2559       0.00      0.00      0.00         0\n",
        "       2574       0.00      0.00      0.00         0\n",
        "        258       0.00      0.00      0.00         0\n",
        "       2595       0.00      0.00      0.00         0\n",
        "       2607       0.00      0.00      0.00         0\n",
        "       2664       0.00      0.00      0.00         0\n",
        "       2671       0.00      0.00      0.00         0\n",
        "       2674       0.00      0.00      0.00         0\n",
        "       2691       0.00      0.00      0.00         0\n",
        "       2728       0.00      0.00      0.00         0\n",
        "       2729       0.00      0.00      0.00         0\n",
        "       2732       0.00      0.00      0.00         0\n",
        "       2743       0.00      0.00      0.00         0\n",
        "       2794       0.00      0.00      0.00         0\n",
        "       2807       0.00      0.00      0.00         0\n",
        "       2812       0.00      0.00      0.00         0\n",
        "       2823       0.00      0.00      0.00         0\n",
        "       2832       0.00      0.00      0.00         0\n",
        "       2835       0.00      0.00      0.00         0\n",
        "       2843       0.00      0.00      0.00         0\n",
        "        286       0.00      0.00      0.00         0\n",
        "       2889       0.00      0.00      0.00         0\n",
        "        295       0.00      0.00      0.00         0\n",
        "       2954       0.00      0.00      0.00         0\n",
        "       2967       0.00      0.00      0.00         0\n",
        "       3007       0.00      0.00      0.00         0\n",
        "       3031       0.00      0.00      0.00         0\n",
        "       3039       0.00      0.00      0.00         0\n",
        "       3050       0.00      0.00      0.00         0\n",
        "       3078       0.00      0.00      0.00         0\n",
        "       3089       0.00      0.00      0.00         0\n",
        "       3122       0.00      0.00      0.00         0\n",
        "       3142       0.00      0.00      0.00         0\n",
        "       3145       0.00      0.00      0.00         0\n",
        "       3148       0.00      0.00      0.00         0\n",
        "       3159       0.00      0.00      0.00         0\n",
        "       3163       0.00      0.00      0.00         0\n",
        "       3168       0.00      0.00      0.00         0\n",
        "       3170       0.00      0.00      0.00         0\n",
        "       3178       0.00      0.00      0.00         0\n",
        "       3188       0.00      0.00      0.00         0\n",
        "       3200       0.00      0.00      0.00         0\n",
        "       3207       0.00      0.00      0.00         0\n",
        "       3236       0.00      0.00      0.00         0\n",
        "       3237       0.00      0.00      0.00         0\n",
        "       3253       0.00      0.00      0.00         0\n",
        "       3259       0.00      0.00      0.00         0\n",
        "       3272       0.00      0.00      0.00         0\n",
        "       3287       0.00      0.00      0.00         0\n",
        "       3305       0.00      0.00      0.00         0\n",
        "       3323       0.00      0.00      0.00         0\n",
        "       3332       0.00      0.00      0.00         0\n",
        "       3337       0.00      0.00      0.00         0\n",
        "       3340       0.00      0.00      0.00         0\n",
        "       3353       0.00      0.00      0.00         0\n",
        "       3413       0.00      0.00      0.00         0\n",
        "       3419       0.00      0.00      0.00         0\n",
        "       3422       0.00      0.00      0.00         0\n",
        "       3435       0.00      0.00      0.00         0\n",
        "       3466       0.00      0.00      0.00         0\n",
        "       3474       0.00      0.00      0.00         0\n",
        "       3477       0.00      0.00      0.00         0\n",
        "       3515       0.00      0.00      0.00         0\n",
        "       3563       0.00      0.00      0.00         0\n",
        "       3566       0.00      0.00      0.00         0\n",
        "       3576       0.00      0.00      0.00         0\n",
        "       3601       0.00      0.00      0.00         0\n",
        "       3606       0.00      0.00      0.00         0\n",
        "       3607       0.00      0.00      0.00         0\n",
        "       3608       0.00      0.00      0.00         0\n",
        "       3654       0.00      0.00      0.00         0\n",
        "       3656       0.00      0.00      0.00         0\n",
        "       3669       0.00      0.00      0.00         0\n",
        "        368       0.00      0.00      0.00         0\n",
        "       3734       0.00      0.00      0.00         0\n",
        "       3741       0.00      0.00      0.00         0\n",
        "        375       0.00      0.00      0.00         0\n",
        "       3756       0.00      0.00      0.00         0\n",
        "       3769       0.00      0.00      0.00         0\n",
        "       3779       0.00      0.00      0.00         0\n",
        "       3815       0.00      0.00      0.00         0\n",
        "       3820       0.00      0.00      0.00         0\n",
        "       3826       0.00      0.00      0.00         0\n",
        "       3866       0.00      0.00      0.00         0\n",
        "       3874       0.00      0.00      0.00         0\n",
        "       3920       0.00      0.00      0.00         0\n",
        "       3956       0.00      0.00      0.00         0\n",
        "       3994       0.00      0.00      0.00         0\n",
        "       4004       0.00      0.00      0.00         0\n",
        "       4010       0.00      0.00      0.00         0\n",
        "        402       0.00      0.00      0.00         0\n",
        "       4043       0.00      0.00      0.00         0\n",
        "       4067       0.00      0.00      0.00         0\n",
        "        408       0.00      0.00      0.00         0\n",
        "       4088       0.00      0.00      0.00         0\n",
        "       4098       0.00      0.00      0.00         0\n",
        "       4103       0.00      0.00      0.00         0\n",
        "       4106       0.00      0.00      0.00         0\n",
        "       4110       0.00      0.00      0.00         0\n",
        "       4130       0.00      0.00      0.00         0\n",
        "       4136       0.00      0.00      0.00         0\n",
        "       4143       0.00      0.00      0.00         0\n",
        "       4158       0.00      0.00      0.00         0\n",
        "       4168       0.00      0.00      0.00         0\n",
        "       4199       0.00      0.00      0.00         0\n",
        "        422       0.00      0.00      0.00         0\n",
        "       4229       0.00      0.00      0.00         0\n",
        "        423       0.00      0.00      0.00         0\n",
        "       4251       0.00      0.00      0.00         0\n",
        "       4252       0.00      0.00      0.00         0\n",
        "       4274       0.00      0.00      0.00         0\n",
        "       4321       0.00      0.00      0.00         0\n",
        "       4329       0.00      0.00      0.00         0\n",
        "       4339       0.00      0.00      0.00         0\n",
        "       4342       0.00      0.00      0.00         0\n",
        "       4358       0.00      0.00      0.00         0\n",
        "       4362       0.00      0.00      0.00         0\n",
        "       4393       0.00      0.00      0.00         0\n",
        "       4401       0.00      0.00      0.00         0\n",
        "       4403       0.00      0.00      0.00         0\n",
        "       4414       0.00      0.00      0.00         0\n",
        "       4428       0.00      0.00      0.00         0\n",
        "       4480       0.00      0.00      0.00         0\n",
        "       4485       0.00      0.00      0.00         0\n",
        "       4495       0.00      0.00      0.00         0\n",
        "       4552       0.00      0.00      0.00         0\n",
        "       4559       0.00      0.00      0.00         0\n",
        "        456       0.00      0.00      0.00         0\n",
        "       4562       0.00      0.00      0.00         0\n",
        "       4568       0.00      0.00      0.00         0\n",
        "       4594       0.00      0.00      0.00         0\n",
        "       4598       0.00      0.00      0.00         0\n",
        "       4619       0.00      0.00      0.00         0\n",
        "       4629       0.00      0.00      0.00         0\n",
        "       4644       0.00      0.00      0.00         0\n",
        "        467       0.00      0.00      0.00         0\n",
        "       4672       0.00      0.00      0.00         0\n",
        "       4706       0.00      0.00      0.00         0\n",
        "       4722       0.00      0.00      0.00         0\n",
        "       4734       0.00      0.00      0.00         0\n",
        "       4748       0.00      0.00      0.00         0\n",
        "       4749       0.00      0.00      0.00         0\n",
        "       4771       0.00      0.00      0.00         0\n",
        "       4784       0.00      0.00      0.00         0\n",
        "       4804       0.00      0.00      0.00         0\n",
        "       4859       0.00      0.00      0.00         0\n",
        "       4863       0.00      0.00      0.00         0\n",
        "       4878       0.00      0.00      0.00         0\n",
        "       4901       0.00      0.00      0.00         0\n",
        "       4923       0.00      0.00      0.00         0\n",
        "       4925       0.00      0.00      0.00         0\n",
        "       4931       0.00      0.00      0.00         0\n",
        "       4935       0.00      0.00      0.00         0\n",
        "       4981       0.00      0.00      0.00         0\n",
        "       5030       0.00      0.00      0.00         0\n",
        "       5035       0.00      0.00      0.00         0\n",
        "       5044       0.00      0.00      0.00         0\n",
        "       5064       0.00      0.00      0.00         0\n",
        "       5065       0.00      0.00      0.00         0\n",
        "       5077       0.00      0.00      0.00         0\n",
        "       5083       0.00      0.00      0.00         0\n",
        "       5086       0.00      0.00      0.00         0\n",
        "        509       0.00      0.00      0.00         0\n",
        "       5097       0.00      0.00      0.00         0\n",
        "       5132       0.00      0.00      0.00         0\n",
        "       5147       0.00      0.00      0.00         0\n",
        "       5155       0.00      0.00      0.00         0\n",
        "        517       0.00      0.00      0.00         0\n",
        "       5183       0.00      0.00      0.00         0\n",
        "       5188       0.00      0.00      0.00         0\n",
        "       5196       0.00      0.00      0.00         0\n",
        "       5199       0.00      0.00      0.00         0\n",
        "       5213       0.00      0.00      0.00         0\n",
        "       5224       0.00      0.00      0.00         0\n",
        "       5226       0.00      0.00      0.00         0\n",
        "       5270       0.00      0.00      0.00         0\n",
        "       5275       0.00      0.00      0.00         0\n",
        "       5295       0.00      0.00      0.00         0\n",
        "       5318       0.00      0.00      0.00         0\n",
        "       5320       0.00      0.00      0.00         0\n",
        "       5326       0.00      0.00      0.00         0\n",
        "        533       0.00      0.00      0.00         0\n",
        "       5331       0.00      0.00      0.00         0\n",
        "        534       0.00      0.00      0.00         0\n",
        "       5345       0.00      0.00      0.00         0\n",
        "       5360       0.00      0.00      0.00         0\n",
        "       5361       0.00      0.00      0.00         0\n",
        "       5395       0.00      0.00      0.00         0\n",
        "       5401       0.00      0.00      0.00         0\n",
        "       5404       0.00      0.00      0.00         0\n",
        "       5445       0.00      0.00      0.00         0\n",
        "       5454       0.00      0.00      0.00         0\n",
        "       5479       0.00      0.00      0.00         0\n",
        "        549       0.00      0.00      0.00         0\n",
        "       5498       0.00      0.00      0.00         0\n",
        "       5532       0.00      0.00      0.00         0\n",
        "        554       0.00      0.00      0.00         0\n",
        "       5544       0.00      0.00      0.00         0\n",
        "       5553       0.00      0.00      0.00         0\n",
        "       5567       0.00      0.00      0.00         0\n",
        "       5607       0.00      0.00      0.00         0\n",
        "       5636       0.00      0.00      0.00         0\n",
        "        565       0.00      0.00      0.00         0\n",
        "       5663       0.00      0.00      0.00         0\n",
        "       5666       0.00      0.00      0.00         0\n",
        "       5691       0.00      0.00      0.00         0\n",
        "       5743       0.00      0.00      0.00         0\n",
        "       5752       0.00      0.00      0.00         0\n",
        "       5755       0.00      0.00      0.00         0\n",
        "        576       0.00      0.00      0.00         0\n",
        "       5763       0.00      0.00      0.00         0\n",
        "       5775       0.00      0.00      0.00         0\n",
        "       5795       0.00      0.00      0.00         0\n",
        "       5836       0.00      0.00      0.00         0\n",
        "       5842       0.00      0.00      0.00         0\n",
        "       5848       0.00      0.00      0.00         0\n",
        "       5851       0.00      0.00      0.00         0\n",
        "       5853       0.00      0.00      0.00         0\n",
        "       5858       0.00      0.00      0.00         0\n",
        "        586       0.00      0.00      0.00         0\n",
        "       5882       0.00      0.00      0.00         0\n",
        "       5889       0.00      0.00      0.00         0\n",
        "       5901       0.00      0.00      0.00         0\n",
        "       5918       0.00      0.00      0.00         0\n",
        "       5929       0.00      0.00      0.00         0\n",
        "       5938       0.00      0.00      0.00         0\n",
        "       5940       0.00      0.00      0.00         0\n",
        "       5953       0.00      0.00      0.00         0\n",
        "       5971       0.00      0.00      0.00         0\n",
        "       6008       0.00      0.00      0.00         0\n",
        "       6011       0.00      0.00      0.00         0\n",
        "       6028       0.00      0.00      0.00         0\n",
        "       6031       0.00      0.00      0.00         0\n",
        "       6062       0.00      0.00      0.00         0\n",
        "       6064       0.00      0.00      0.00         0\n",
        "       6102       0.00      0.00      0.00         0\n",
        "       6128       0.00      0.00      0.00         0\n",
        "       6135       0.00      0.00      0.00         0\n",
        "       6142       0.00      0.00      0.00         0\n",
        "       6154       0.00      0.00      0.00         0\n",
        "       6159       0.00      0.00      0.00         0\n",
        "       6162       0.00      0.00      0.00         0\n",
        "       6169       0.00      0.00      0.00         0\n",
        "       6179       0.00      0.00      0.00         0\n",
        "       6190       0.00      0.00      0.00         0\n",
        "       6233       0.00      0.00      0.00         0\n",
        "       6251       0.00      0.00      0.00         0\n",
        "        628       0.00      0.00      0.00         0\n",
        "       6306       0.00      0.00      0.00         0\n",
        "        632       0.00      0.00      0.00         0\n",
        "       6336       0.00      0.00      0.00         0\n",
        "       6342       0.00      0.00      0.00         0\n",
        "       6356       0.00      0.00      0.00         0\n",
        "       6401       0.00      0.00      0.00         0\n",
        "       6442       0.00      0.00      0.00         0\n",
        "       6443       0.00      0.00      0.00         0\n",
        "       6453       0.00      0.00      0.00         0\n",
        "        646       0.00      0.00      0.00         0\n",
        "       6467       0.00      0.00      0.00         0\n",
        "       6468       0.00      0.00      0.00         0\n",
        "        649       0.00      0.00      0.00         0\n",
        "       6490       0.00      0.00      0.00         0\n",
        "       6502       0.00      0.00      0.00         0\n",
        "       6563       0.00      0.00      0.00         0\n",
        "       6565       0.00      0.00      0.00         0\n",
        "       6566       0.00      0.00      0.00         0\n",
        "       6575       0.00      0.00      0.00         0\n",
        "       6579       0.00      0.00      0.00         0\n",
        "        659       0.00      0.00      0.00         0\n",
        "       6593       0.00      0.00      0.00         0\n",
        "       6632       0.00      0.00      0.00         0\n",
        "       6633       0.00      0.00      0.00         0\n",
        "       6641       0.00      0.00      0.00         0\n",
        "       6649       0.00      0.00      0.00         0\n",
        "       6652       0.00      0.00      0.00         0\n",
        "       6674       0.00      0.00      0.00         0\n",
        "       6690       0.00      0.00      0.00         0\n",
        "       6699       0.00      0.00      0.00         0\n",
        "       6702       0.00      0.00      0.00         0\n",
        "       6717       0.00      0.00      0.00         0\n",
        "       6754       0.00      0.00      0.00         0\n",
        "        677       0.00      0.00      0.00         0\n",
        "       6797       0.00      0.00      0.00         0\n",
        "       6815       0.00      0.00      0.00         0\n",
        "       6832       0.00      0.00      0.00         0\n",
        "       6859       0.00      0.00      0.00         0\n",
        "       6876       0.00      0.00      0.00         0\n",
        "       6880       0.00      0.00      0.00         0\n",
        "       6893       0.00      0.00      0.00         0\n",
        "       6914       0.00      0.00      0.00         0\n",
        "        692       0.00      0.00      0.00         0\n",
        "       6940       0.00      0.00      0.00         0\n",
        "       6962       0.00      0.00      0.00         0\n",
        "        698       0.00      0.00      0.00         0\n",
        "       6980       0.00      0.00      0.00         0\n",
        "       6990       0.00      0.00      0.00         0\n",
        "       7005       0.00      0.00      0.00         0\n",
        "        701       0.00      0.00      0.00         0\n",
        "       7011       0.00      0.00      0.00         0\n",
        "       7029       0.00      0.00      0.00         0\n",
        "        703       0.00      0.00      0.00         0\n",
        "        705       0.00      0.00      0.00         0\n",
        "       7052       0.00      0.00      0.00         0\n",
        "        706       0.00      0.00      0.00         0\n",
        "       7069       0.00      0.00      0.00         0\n",
        "       7094       0.00      0.00      0.00         0\n",
        "       7126       0.00      0.00      0.00         0\n",
        "       7162       0.00      0.00      0.00         0\n",
        "        717       0.00      0.00      0.00         0\n",
        "       7177       0.00      0.00      0.00         0\n",
        "       7215       0.00      0.00      0.00         0\n",
        "       7229       0.00      0.00      0.00         0\n",
        "       7256       0.00      0.00      0.00         0\n",
        "       7289       0.00      0.00      0.00         0\n",
        "       7310       0.00      0.00      0.00         0\n",
        "       7317       0.00      0.00      0.00         0\n",
        "       7324       0.00      0.00      0.00         0\n",
        "       7353       0.00      0.00      0.00         0\n",
        "       7363       0.00      0.00      0.00         0\n",
        "       7373       0.00      0.00      0.00         0\n",
        "       7379       0.00      0.00      0.00         0\n",
        "       7381       0.00      0.00      0.00         0\n",
        "       7386       0.00      0.00      0.00         0\n",
        "        742       0.00      0.00      0.00         0\n",
        "       7437       0.00      0.00      0.00         0\n",
        "       7443       0.00      0.00      0.00         0\n",
        "       7445       0.00      0.00      0.00         0\n",
        "        746       0.00      0.00      0.00         0\n",
        "       7481       0.00      0.00      0.00         0\n",
        "         75       0.00      0.00      0.00         0\n",
        "       7501       0.00      0.00      0.00         0\n",
        "       7517       0.00      0.00      0.00         0\n",
        "       7527       0.00      0.00      0.00         0\n",
        "       7529       0.00      0.00      0.00         0\n",
        "       7530       0.00      0.00      0.00         0\n",
        "        755       0.00      0.00      0.00         0\n",
        "       7563       0.00      0.00      0.00         0\n",
        "       7580       0.00      0.00      0.00         0\n",
        "       7606       0.00      0.00      0.00         0\n",
        "       7607       0.00      0.00      0.00         0\n",
        "       7608       0.00      0.00      0.00         0\n",
        "       7610       0.00      0.00      0.00         0\n",
        "       7615       0.00      0.00      0.00         0\n",
        "       7625       0.00      0.00      0.00         0\n",
        "       7627       0.00      0.00      0.00         0\n",
        "        763       0.00      0.00      0.00         0\n",
        "       7642       0.00      0.00      0.00         0\n",
        "       7657       0.00      0.00      0.00         0\n",
        "       7678       0.00      0.00      0.00         0\n",
        "       7679       0.00      0.00      0.00         0\n",
        "        771       0.00      0.00      0.00         0\n",
        "       7746       0.00      0.00      0.00         0\n",
        "       7758       0.00      0.00      0.00         0\n",
        "        776       0.00      0.00      0.00         0\n",
        "       7764       0.00      0.00      0.00         0\n",
        "       7768       0.00      0.00      0.00         0\n",
        "         78       0.00      0.00      0.00         0\n",
        "       7821       0.00      0.00      0.00         0\n",
        "       7860       0.00      0.00      0.00         0\n",
        "       7878       0.00      0.00      0.00         0\n",
        "       7883       0.00      0.00      0.00         0\n",
        "        789       0.00      0.00      0.00         0\n",
        "       7891       0.00      0.00      0.00         0\n",
        "       7892       0.00      0.00      0.00         0\n",
        "       7897       0.00      0.00      0.00         0\n",
        "       7939       0.00      0.00      0.00         0\n",
        "       7947       0.00      0.00      0.00         0\n",
        "       7986       0.00      0.00      0.00         0\n",
        "       8002       0.00      0.00      0.00         0\n",
        "       8009       0.00      0.00      0.00         0\n",
        "        802       0.00      0.00      0.00         0\n",
        "       8026       0.00      0.00      0.00         0\n",
        "       8063       0.00      0.00      0.00         0\n",
        "       8098       0.00      0.00      0.00         0\n",
        "       8114       0.00      0.00      0.00         0\n",
        "       8132       0.00      0.00      0.00         0\n",
        "       8143       0.00      0.00      0.00         0\n",
        "       8151       0.00      0.00      0.00         0\n",
        "       8157       0.00      0.00      0.00         0\n",
        "       8172       0.00      0.00      0.00         0\n",
        "       8179       0.00      0.00      0.00         0\n",
        "       8195       0.00      0.00      0.00         0\n",
        "       8202       0.00      0.00      0.00         0\n",
        "       8213       0.00      0.00      0.00         0\n",
        "       8217       0.00      0.00      0.00         0\n",
        "       8223       0.00      0.00      0.00         0\n",
        "       8247       0.00      0.00      0.00         0\n",
        "       8249       0.00      0.00      0.00         0\n",
        "       8251       0.00      0.00      0.00         0\n",
        "        826       0.00      0.00      0.00         0\n",
        "       8268       0.00      0.00      0.00         0\n",
        "       8313       0.00      0.00      0.00         0\n",
        "       8321       0.00      0.00      0.00         0\n",
        "       8351       0.00      0.00      0.00         0\n",
        "       8387       0.00      0.00      0.00         0\n",
        "       8391       0.00      0.00      0.00         0\n",
        "       8400       0.00      0.00      0.00         0\n",
        "       8406       0.00      0.00      0.00         0\n",
        "        844       0.00      0.00      0.00         0\n",
        "       8444       0.00      0.00      0.00         0\n",
        "       8457       0.00      0.00      0.00         0\n",
        "       8460       0.00      0.00      0.00         0\n",
        "       8523       0.00      0.00      0.00         0\n",
        "       8577       0.00      0.00      0.00         0\n",
        "       8581       0.00      0.00      0.00         0\n",
        "       8635       0.00      0.00      0.00         0\n",
        "       8688       0.00      0.00      0.00         0\n",
        "       8695       0.00      0.00      0.00         0\n",
        "       8699       0.00      0.00      0.00         0\n",
        "       8705       0.00      0.00      0.00         0\n",
        "       8719       0.00      0.00      0.00         0\n",
        "       8722       0.00      0.00      0.00         0\n",
        "       8744       0.00      0.00      0.00         0\n",
        "       8788       0.00      0.00      0.00         0\n",
        "       8804       0.00      0.00      0.00         0\n",
        "       8805       0.00      0.00      0.00         0\n",
        "       8827       0.00      0.00      0.00         0\n",
        "        884       0.00      0.00      0.00         0\n",
        "       8853       0.00      0.00      0.00         0\n",
        "       8861       0.00      0.00      0.00         0\n",
        "       8897       0.00      0.00      0.00         0\n",
        "       8969       0.00      0.00      0.00         0\n",
        "       8987       0.00      0.00      0.00         0\n",
        "         90       0.00      0.00      0.00         0\n",
        "       9031       0.00      0.00      0.00         0\n",
        "       9042       0.00      0.00      0.00         0\n",
        "       9056       0.00      0.00      0.00         0\n",
        "       9097       0.00      0.00      0.00         0\n",
        "       9107       0.00      0.00      0.00         0\n",
        "       9111       0.00      0.00      0.00         0\n",
        "       9127       0.00      0.00      0.00         0\n",
        "       9131       0.00      0.00      0.00         0\n",
        "       9132       0.00      0.00      0.00         0\n",
        "       9253       0.00      0.00      0.00         0\n",
        "       9261       0.00      0.00      0.00         0\n",
        "       9266       0.00      0.00      0.00         0\n",
        "       9267       0.00      0.00      0.00         0\n",
        "       9301       0.00      0.00      0.00         0\n",
        "       9315       0.00      0.00      0.00         0\n",
        "       9323       0.00      0.00      0.00         0\n",
        "       9338       0.00      0.00      0.00         0\n",
        "       9347       0.00      0.00      0.00         0\n",
        "       9375       0.00      0.00      0.00         0\n",
        "       9384       0.00      0.00      0.00         0\n",
        "       9388       0.00      0.00      0.00         0\n",
        "       9410       0.00      0.00      0.00         0\n",
        "       9440       0.00      0.00      0.00         0\n",
        "       9457       0.00      0.00      0.00         0\n",
        "       9458       0.00      0.00      0.00         0\n",
        "       9460       0.00      0.00      0.00         0\n",
        "       9482       0.00      0.00      0.00         0\n",
        "       9493       0.00      0.00      0.00         0\n",
        "         95       0.00      0.00      0.00         0\n",
        "       9507       0.00      0.00      0.00         0\n",
        "        951       0.00      0.00      0.00         0\n",
        "       9521       0.00      0.00      0.00         0\n",
        "       9540       0.00      0.00      0.00         0\n",
        "       9625       0.00      0.00      0.00         0\n",
        "       9628       0.00      0.00      0.00         0\n",
        "       9631       0.00      0.00      0.00         0\n",
        "       9644       0.00      0.00      0.00         0\n",
        "       9656       0.00      0.00      0.00         0\n",
        "       9699       0.00      0.00      0.00         0\n",
        "        970       0.00      0.00      0.00         0\n",
        "        976       0.00      0.00      0.00         0\n",
        "       9765       0.00      0.00      0.00         0\n",
        "       9767       0.00      0.00      0.00         0\n",
        "       9791       0.00      0.00      0.00         0\n",
        "        983       0.00      0.00      0.00         0\n",
        "       9830       0.00      0.00      0.00         0\n",
        "       9852       0.00      0.00      0.00         0\n",
        "       9892       0.00      0.00      0.00         0\n",
        "        991       0.00      0.00      0.00         0\n",
        "       9936       0.00      0.00      0.00         0\n",
        "       9941       0.00      0.00      0.00         0\n",
        "       9946       0.00      0.00      0.00         0\n",
        "       9977       0.00      0.00      0.00         0\n",
        "\n",
        "avg / total       0.79      0.78      0.77       234\n",
        "\n"
       ]
      }
     ],
     "prompt_number": 122
    },
    {
     "cell_type": "heading",
     "level": 2,
     "metadata": {},
     "source": [
      "Multilayer Perceptron with pybrain"
     ]
    },
    {
     "cell_type": "markdown",
     "metadata": {},
     "source": [
      "**pybrain** is a python machine learning library (similar to scikit-learn) that implements artificial neural networks.\n",
      "\n",
      "Install pybrain with: \n",
      "\n",
      "    $ pip install pybrain\n",
      "\n",
      "The pybrain documentation has a tutorial on supervised classification with a feed-forward network :\n",
      "\n",
      "http://pybrain.org/docs/tutorial/fnn.html"
     ]
    },
    {
     "cell_type": "markdown",
     "metadata": {},
     "source": [
      "<p style=\"background-color:#660066; color:#fff;padding:5px; font-weight:bold\">Q: Train a feed-forward neural network to perform plant species classification.</p>\n",
      "    \n",
      "You will most likely need the following pybrain functions :\n",
      "\n",
      "    from pybrain.tools.shortcuts     import buildNetwork\n",
      "    from pybrain.supervised.trainers import BackpropTrainer\n",
      "    from pybrain.structure.modules   import SoftmaxLayer\n",
      "    from pybrain.utilities           import percentError\n",
      "    \n",
      "You have to build a network, then create a trainer for the network :\n",
      "\n",
      "    fnn = buildNetwork(ds_train.indim, n_hidden_units, ds_train.outdim, outclass=SoftmaxLayer)\n",
      "\n",
      "Then, you iterate a fixed number of time (epochs) and call trainer.trainEpochs(1) at each iteration.\n",
      "On each iteration, you should evaluate the performance of your network on you training and test set :\n",
      "\n",
      "    result_train = percentError(trainer.testOnClassData(),\n",
      "                                ds_train['class'] )\n",
      "    result_test = percentError(trainer.testOnClassData(\n",
      "           dataset=ds_test ), ds_test['class'] )\n",
      "           \n",
      "At the end of training, show a plot with the test and train error vs. epochs.\n",
      "\n",
      "The variable containing your network should be called *fnn* and we give you the code to run the trained network on the test set and plot a classification report and confusion matrix."
     ]
    },
    {
     "cell_type": "markdown",
     "metadata": {},
     "source": [
      "<p style=\"background-color:#660066; color:#fff;padding:5px; font-weight:bold\">Q: Play with the BackpropTrainer parameters.</p>\n",
      "Explore the backproptrainer parameters and try to find a good set of parameters. The main parameters are : *learningrate*, *momentum*, the number of hidden units in your network and the number of updates performed by the algorithm (epochs).\n",
      "\n",
      "Start by setting the number of units in the hidden layer (to something small, <20) and the number of epochs (50-150). Play with the learning rate (0.0-1.0) and momentum (0.0-1.0) and verify if the train and test errors decrease with the number of epochs (for example with a plot). You also want to avoid oscillations in the errors.\n",
      "\n",
      "<table>\n",
      "<tr><th>Bad</th><th>Good</th></tr>\n",
      "<tr>\n",
      "    <td><img width=\"300px\" src=\"files/bad_training.png\"></td>\n",
      "    <td><img width=\"300px\" src=\"files/good_training.png\"></td>\n",
      "</tr>\n",
      "</table>\n",
      "\n",
      "Once you have found good values for the learning rate and momentum, you can try modifying the number of epochs and the size of the hidden layer. On the one hand, you should choose a number of epochs so that the errors reaches a plateau, stopping the training when the error does not decrease anymore. On the other hand, you have to make your neural network sufficiently complex to obtain a good classification performance, while keeping it as simple as possible to avoid over-fitting.\n",
      "\n",
      "The classification performance will most likely be close to but lower than what you obtained with k-NN."
     ]
    },
    {
     "cell_type": "markdown",
     "metadata": {},
     "source": [
      "<p style=\"background-color:#660066; color:#fff;padding:5px; font-weight:bold\">Q: Answer the following questions :</p>\n",
      "\n",
      "- How many output units are there in the network you trained ? Why ?\n",
      "- How many parameters (weights and biases) are there in your network ? Why ?\n",
      "    - hint: you can use *fnn.params* to get the parameters of your network"
     ]
    },
    {
     "cell_type": "markdown",
     "metadata": {},
     "source": [
      "*pybrain* uses its own dataset class. To simplify things, we provide example code to transform X_train, y_train, X_test, y_test into a two pybrain dataset objects : *ds_train* and *ds_test* ."
     ]
    },
    {
     "cell_type": "code",
     "collapsed": false,
     "input": [
      "import pybrain\n",
      "from pybrain.datasets import ClassificationDataSet\n",
      "from sklearn.preprocessing import MultiLabelBinarizer\n",
      "\n",
      "# turns integer labels vector like [0, 2, 3, 2] into a binary\n",
      "# matrix [[1, 0, 0, 0],\n",
      "#         [0, 0, 1, 0],\n",
      "#         [0, 0, 0, 1],\n",
      "#         [0, 0, 1, 0]]\n",
      "binarizer = MultiLabelBinarizer().fit(y.reshape(-1, 1))\n",
      "\n",
      "def pybrain_ds_from_Xy(X, y, binarizer):\n",
      "    \"\"\"\n",
      "    Args:\n",
      "        binarizer: A MultiLabelBinarizer instance\n",
      "    \"\"\"\n",
      "    ds = ClassificationDataSet(X.shape[1], nb_classes=len(lencoder.classes_), class_labels=lencoder.classes_)\n",
      "    ds.setField('input', X)\n",
      "    ds.setField('class', y.reshape(-1, 1))\n",
      "    ds.setField('target', binarizer.transform(y.reshape(-1, 1)))\n",
      "    \n",
      "    #print '--'\n",
      "    #print \"class  :\\n\", ds['class'][5:10]\n",
      "    #print \"target :\\n\", ds['target'][5:10]\n",
      "    #print \"y      :\\n\", y[5:10]\n",
      "    \n",
      "    return ds\n",
      "\n",
      "def print_ds(ds):\n",
      "    print \"Number of training patterns: \", len(ds)\n",
      "    print \"Input and output dimensions: \", ds.indim, ds.outdim\n",
      "    print \"First sample (input, target, class):\"\n",
      "    print ds['input'][10], ds['target'][10], ds['class'][10]\n",
      "    print ds['input'][55], ds['target'][55], ds['class'][55]\n",
      "\n",
      "ds_train = pybrain_ds_from_Xy(X_train, y_train, binarizer)\n",
      "ds_test = pybrain_ds_from_Xy(X_test, y_test, binarizer)"
     ],
     "language": "python",
     "metadata": {},
     "outputs": [],
     "prompt_number": 30
    },
    {
     "cell_type": "code",
     "collapsed": false,
     "input": [
      "print '-- train'\n",
      "print_ds(ds_train)\n",
      "print '-- test'\n",
      "print_ds(ds_test)"
     ],
     "language": "python",
     "metadata": {},
     "outputs": [
      {
       "output_type": "stream",
       "stream": "stdout",
       "text": [
        "-- train\n",
        "Number of training patterns:  349\n",
        "Input and output dimensions:  11 9\n",
        "First sample (input, target, class):\n",
        "[ 0.0111   0.84716  0.16694  0.01343  0.00384  0.00863  0.       0.       0.\n",
        "  0.       0.     ] [0 0 1 0 0 0 0 0 0] [2]\n",
        "[ 0.57884  0.99158  0.01101  0.0077   0.01541  0.01431  0.       0.       0.\n",
        "  0.       0.     ] [0 0 0 0 0 0 1 0 0] [6]\n",
        "-- test\n",
        "Number of training patterns:  234\n",
        "Input and output dimensions:  11 9\n",
        "First sample (input, target, class):\n",
        "[ 0.1421   0.6849   0.11302  0.05027  0.07345  0.10874  0.00749  0.00107\n",
        "  0.       0.00071  0.00036] [0 1 0 0 0 0 0 0 0] [1]\n",
        "[ 0.01625  0.93775  0.02365  0.01717  0.02213  0.03777  0.00153  0.       0.\n",
        "  0.       0.     ] [0 0 0 0 0 0 0 0 1] [8]\n"
       ]
      }
     ],
     "prompt_number": 31
    },
    {
     "cell_type": "code",
     "collapsed": false,
     "input": [
      "#\n",
      "# Your neural network code here\n",
      "#"
     ],
     "language": "python",
     "metadata": {},
     "outputs": [],
     "prompt_number": 32
    },
    {
     "cell_type": "code",
     "collapsed": false,
     "input": [
      "out = fnn.activateOnDataset(ds_test)\n",
      "out = out.argmax(axis=1)  # the highest output activation gives the class\n",
      "y_pred_nn = out.reshape(y_test.shape)"
     ],
     "language": "python",
     "metadata": {},
     "outputs": [],
     "prompt_number": 36
    },
    {
     "cell_type": "code",
     "collapsed": false,
     "input": [
      "report_nn = skmetrics.classification_report(y_test, y_pred_nn,\n",
      "                                         labels=np.arange(len(lencoder.classes_)),\n",
      "                                         target_names=lencoder.classes_)\n",
      "confmat_nn = confusion_matrix(y_test, y_pred_nn)"
     ],
     "language": "python",
     "metadata": {},
     "outputs": [
      {
       "output_type": "stream",
       "stream": "stderr",
       "text": [
        "/home/julien/anaconda/envs/mlbd/lib/python2.7/site-packages/sklearn/metrics/metrics.py:1771: UndefinedMetricWarning: Precision and F-score are ill-defined and being set to 0.0 in labels with no predicted samples.\n",
        "  'precision', 'predicted', average, warn_for)\n"
       ]
      }
     ],
     "prompt_number": 37
    },
    {
     "cell_type": "code",
     "collapsed": false,
     "input": [
      "pl.figure(figsize=(10, 10))\n",
      "plot_confusion_matrix(confmat_nn, lencoder.classes_, cmap=cm.gray_r)"
     ],
     "language": "python",
     "metadata": {},
     "outputs": [
      {
       "metadata": {},
       "output_type": "display_data",
       "png": "[encoded data removed]",
       "text": [
        "<matplotlib.figure.Figure at 0x7f561d8db390>"
       ]
      }
     ],
     "prompt_number": 38
    },
    {
     "cell_type": "code",
     "collapsed": false,
     "input": [
      "print report_nn"
     ],
     "language": "python",
     "metadata": {},
     "outputs": [
      {
       "output_type": "stream",
       "stream": "stdout",
       "text": [
        "                         precision    recall  f1-score   support\n",
        "\n",
        "         acer campestre       0.64      1.00      0.78        23\n",
        "    ailanthus altissima       1.00      0.93      0.96        29\n",
        "        alnus glutinosa       0.00      0.00      0.00        12\n",
        "          arbutus unedo       0.75      0.66      0.70        32\n",
        "        castanea sativa       0.73      0.86      0.79        22\n",
        "liquidambar styraciflua       0.00      0.00      0.00        12\n",
        "        nerium oleander       1.00      0.96      0.98        48\n",
        "      quercus pubescens       0.79      0.87      0.83        31\n",
        "     vitex agnus-castus       0.68      1.00      0.81        25\n",
        "\n",
        "            avg / total       0.74      0.80      0.76       234\n",
        "\n"
       ]
      }
     ],
     "prompt_number": 39
    }
   ],
   "metadata": {}
  }
 ]
}