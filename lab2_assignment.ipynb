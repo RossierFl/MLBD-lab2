{
 "metadata": {
  "signature": "sha256:4d547059ac055a88dc301766929518beff53c8950504cd00273eba4698eaa1cb"
 },
 "nbformat": 3,
 "nbformat_minor": 0,
 "worksheets": [
  {
   "cells": [
    {
     "cell_type": "heading",
     "level": 1,
     "metadata": {},
     "source": [
      "MLBD / Lab 2 / Features extraction"
     ]
    },
    {
     "cell_type": "heading",
     "level": 2,
     "metadata": {},
     "source": [
      "Report submission"
     ]
    },
    {
     "cell_type": "markdown",
     "metadata": {},
     "source": [
      "This laboratory will be graded, so you have to submit a report. You can work in groups of up to 3 persons and submit a single zip (max 10 MByte) for each group containing :\n",
      "\n",
      "- a PDF report of about 4 pages (+/- 2 pages) with explanation about the experiments you performed and the results you obtained. This should include answers to the questions of this notebook. Do not forget to include the name of the group members on the front page.\n",
      "- the *.ipnyb* and *.py* (if any) files you used to perform your experiments\n",
      "- **DO NOT** include the data files\n",
      "\n",
      "Submit the zip by email to <a href=\"mailto:julien.rebetez@gmail.com\">julien.rebetez@gmail.com</a> by **Monday 23rd March, 23:59 (swiss time)**. "
     ]
    },
    {
     "cell_type": "heading",
     "level": 2,
     "metadata": {},
     "source": [
      "Introduction"
     ]
    },
    {
     "cell_type": "markdown",
     "metadata": {},
     "source": [
      "In this laboratory, we will work with images of plant leaves. The goal is to identify the plant species from the image.\n",
      "\n",
      "To do so, we will use some concepts that have been presented in the theoretical part of the course :\n",
      "- Feature extraction to turn an image into a vector of features\n",
      "    - This will involve using PCA (Principal Component Analysis)\n",
      "- Multi-Layer Perceptron (a type of artificial neural network) to perform the classification"
     ]
    },
    {
     "cell_type": "heading",
     "level": 3,
     "metadata": {},
     "source": [
      "Dataset information"
     ]
    },
    {
     "cell_type": "markdown",
     "metadata": {},
     "source": [
      "We will use the ImageClef 2012 Plant classification dataset. To simplify things, we have already extracted a small part of the dataset that we will be working on (in the \"data/preprocessed\" directory).\n",
      "\n",
      "The notebook additionals/lab2_preprocess contains the preprocessing code (background substraction, image size normalization) that was used to create the subset of the data used in this laboratory.\n",
      "\n",
      "Note that **it is not required** to download the full dataset. Neither do you need to run the lab2_preprocess notebook as this has already been done for you. But you can have a look if you are interested.\n",
      "\n",
      "The full dataset can be downloaded from : \n",
      "\n",
      "http://www.imageclef.org/2012/plant\n",
      "\n",
      "The direct link is :\n",
      "\n",
      "http://otmedia.lirmm.fr/LifeCLEF/ImageCLEF2011-2012-2013/ImageCLEF2012PlantIdentificationTaskFinalPackage.zip\n",
      "\n",
      "It is interesting to download this dataset and have a look at the files in *data/SomeStatAndHtmlViewBySpecies/TrainAndTestViewsBySpecies*, which gives a nice overview of the type of plants in the dataset.\n",
      "\n",
      "This dataset was originally used in a challenge. In the *OralPresentationsAndPosters* directory, there are some presentations from the teams that participated in the challenge with information about the type of preprocessing, features and classifiers used. This is very interesting if you are looking for inspiration about what you could implement.\n"
     ]
    },
    {
     "cell_type": "markdown",
     "metadata": {},
     "source": [
      "<p style=\"background-color:#bb2222; color:#fff;padding:5px; font-weight:bold\">Note about OpenCV</p>"
     ]
    },
    {
     "cell_type": "markdown",
     "metadata": {},
     "source": [
      "We will use the OpenCV image processing library to extract some features from the images. You can install it using anaconda with the following command :\n",
      "\n",
      "    $ conda install opencv\n",
      "    \n",
      "You should then be able to import the OpenCV python module, called **cv2**."
     ]
    },
    {
     "cell_type": "heading",
     "level": 2,
     "metadata": {},
     "source": [
      "Dataset overview"
     ]
    },
    {
     "cell_type": "code",
     "collapsed": false,
     "input": [
      "import os\n",
      "import cv2 # opencv\n",
      "import pandas as pd\n",
      "import numpy.ma as ma\n",
      "import numpy.linalg as la\n",
      "import skimage\n",
      "import skimage.io\n",
      "import pylab as pl\n",
      "import matplotlib.cm as cm\n",
      "%pylab inline --no-import-all\n",
      "np.set_printoptions(precision=5, suppress=True)"
     ],
     "language": "python",
     "metadata": {},
     "outputs": [
      {
       "output_type": "stream",
       "stream": "stdout",
       "text": [
        "Populating the interactive namespace from numpy and matplotlib\n"
       ]
      }
     ],
     "prompt_number": 37
    },
    {
     "cell_type": "code",
     "collapsed": false,
     "input": [
      "DIR = 'data/preprocessed/'\n",
      "meta = pd.io.pickle.read_pickle(os.path.join(DIR, 'meta.pkl'))\n",
      "\n",
      "def load_img(name):\n",
      "    \"\"\"Loads the given image by name and returns a masked array\"\"\"\n",
      "    img = skimage.io.imread(os.path.join(DIR, 'imgs', name + \".png\"))\n",
      "    img = skimage.img_as_float(img)\n",
      "    img = ma.masked_where(img == 0, img)\n",
      "    # same mask for all 3 axes\n",
      "    mask = np.all(img == 0, axis=2)\n",
      "    img = ma.array(img)\n",
      "    for i in xrange(img.shape[2]):\n",
      "        img.mask[:,:,i] = mask\n",
      "    \n",
      "    return img"
     ],
     "language": "python",
     "metadata": {},
     "outputs": [],
     "prompt_number": 38
    },
    {
     "cell_type": "markdown",
     "metadata": {},
     "source": [
      "The meta dataframe contains information for each image :\n",
      "\n",
      "- *basename* is the filename (without extension) of the image.\n",
      "- *content* gives information about the image content. To simplify the problem, we selected only images of plant leaves on uniform backgrounds, but the original dataset has more variety. \n",
      "- *classid* is the class. We selected 9 classes from the original dataset.\n",
      "- *photo_type* is the type of photo. To simplify, we used only scan and pseudoscan (=uniform background) images"
     ]
    },
    {
     "cell_type": "code",
     "collapsed": false,
     "input": [
      "meta.iloc[:5]"
     ],
     "language": "python",
     "metadata": {},
     "outputs": [
      {
       "html": [
        "<div style=\"max-height:1000px;max-width:1500px;overflow:auto;\">\n",
        "<table border=\"1\" class=\"dataframe\">\n",
        "  <thead>\n",
        "    <tr style=\"text-align: right;\">\n",
        "      <th></th>\n",
        "      <th>basename</th>\n",
        "      <th>content</th>\n",
        "      <th>classid</th>\n",
        "      <th>photo_type</th>\n",
        "    </tr>\n",
        "  </thead>\n",
        "  <tbody>\n",
        "    <tr>\n",
        "      <th>49 </th>\n",
        "      <td> 10047</td>\n",
        "      <td> leaf</td>\n",
        "      <td>     arbutus unedo</td>\n",
        "      <td> pseudoscan</td>\n",
        "    </tr>\n",
        "    <tr>\n",
        "      <th>70 </th>\n",
        "      <td> 10073</td>\n",
        "      <td> leaf</td>\n",
        "      <td>   nerium oleander</td>\n",
        "      <td> pseudoscan</td>\n",
        "    </tr>\n",
        "    <tr>\n",
        "      <th>85 </th>\n",
        "      <td> 10092</td>\n",
        "      <td> leaf</td>\n",
        "      <td>   nerium oleander</td>\n",
        "      <td>       scan</td>\n",
        "    </tr>\n",
        "    <tr>\n",
        "      <th>117</th>\n",
        "      <td> 10129</td>\n",
        "      <td> leaf</td>\n",
        "      <td>    acer campestre</td>\n",
        "      <td>       scan</td>\n",
        "    </tr>\n",
        "    <tr>\n",
        "      <th>123</th>\n",
        "      <td> 10135</td>\n",
        "      <td> leaf</td>\n",
        "      <td> quercus pubescens</td>\n",
        "      <td> pseudoscan</td>\n",
        "    </tr>\n",
        "  </tbody>\n",
        "</table>\n",
        "</div>"
       ],
       "metadata": {},
       "output_type": "pyout",
       "prompt_number": 39,
       "text": [
        "    basename content            classid  photo_type\n",
        "49     10047    leaf      arbutus unedo  pseudoscan\n",
        "70     10073    leaf    nerium oleander  pseudoscan\n",
        "85     10092    leaf    nerium oleander        scan\n",
        "117    10129    leaf     acer campestre        scan\n",
        "123    10135    leaf  quercus pubescens  pseudoscan"
       ]
      }
     ],
     "prompt_number": 39
    },
    {
     "cell_type": "markdown",
     "metadata": {},
     "source": [
      "You can use the *load_img* function to load an image. \n",
      "\n",
      "**masked arrays** Note that we are using [numpy *masked* arrays](http://docs.scipy.org/doc/numpy/reference/maskedarray.html), which are a special type of numpy array that have a mask. The mask is a boolean array that indicates if an entry is valid (mask[i,j] == False) or invalid (mask[i,j] == True). For our images, the background pixels are all masked. You can access the mask by using the .mask attribute of the array. Below, we use img.filled(1) to get a copy of the array with masked values replaced by 1. "
     ]
    },
    {
     "cell_type": "code",
     "collapsed": false,
     "input": [
      "# Show 3 example images\n",
      "examples = [0, 50, 300]\n",
      "\n",
      "pl.figure(figsize=(10, 3))\n",
      "for i, idx in enumerate(examples): \n",
      "    pl.subplot(1, 3, i + 1)\n",
      "    img = load_img(meta.iloc[idx]['basename'])\n",
      "    pl.title(meta.iloc[idx]['classid'])\n",
      "    pl.imshow(img.filled(1))"
     ],
     "language": "python",
     "metadata": {},
     "outputs": [
      {
       "metadata": {},
       "output_type": "display_data",
       "png": "[encoded data removed]",
       "text": [
        "<matplotlib.figure.Figure at 0x7f2f9cab84d0>"
       ]
      }
     ],
     "prompt_number": 40
    },
    {
     "cell_type": "code",
     "collapsed": false,
     "input": [
      "# The classes we will work with\n",
      "print np.unique(meta['classid'])"
     ],
     "language": "python",
     "metadata": {},
     "outputs": [
      {
       "output_type": "stream",
       "stream": "stdout",
       "text": [
        "['acer campestre' 'ailanthus altissima' 'alnus glutinosa' 'arbutus unedo'\n",
        " 'castanea sativa' 'liquidambar styraciflua' 'nerium oleander'\n",
        " 'quercus pubescens' 'vitex agnus-castus']\n"
       ]
      }
     ],
     "prompt_number": 41
    },
    {
     "cell_type": "code",
     "collapsed": false,
     "input": [
      "# You can plot some examples images for a given species\n",
      "import random\n",
      "examples = np.flatnonzero(meta['classid'] == 'acer campestre')\n",
      "\n",
      "for idx in random.sample(examples, 3):\n",
      "    pl.figure()\n",
      "    img = load_img(meta.iloc[idx]['basename'])\n",
      "    pl.title(meta.iloc[idx]['classid'])\n",
      "    pl.imshow(img.filled(1))"
     ],
     "language": "python",
     "metadata": {},
     "outputs": [
      {
       "metadata": {},
       "output_type": "display_data",
       "png": "[encoded data removed]",
       "text": [
        "<matplotlib.figure.Figure at 0x7f2f9e830b50>"
       ]
      },
      {
       "metadata": {},
       "output_type": "display_data",
       "png": "[encoded data removed]",
       "text": [
        "<matplotlib.figure.Figure at 0x7f2f9c636990>"
       ]
      },
      {
       "metadata": {},
       "output_type": "display_data",
       "png": "[encoded data removed]",
       "text": [
        "<matplotlib.figure.Figure at 0x7f2f9c636e10>"
       ]
      }
     ],
     "prompt_number": 42
    },
    {
     "cell_type": "heading",
     "level": 2,
     "metadata": {},
     "source": [
      "Features extraction"
     ]
    },
    {
     "cell_type": "markdown",
     "metadata": {},
     "source": [
      "So, we have images of leaves and we want to train a classifier to automatically determine the species of a leaf.\n",
      "\n",
      "What should we use as input vectors for our classifier ?\n",
      "\n",
      "The bruteforce approach could be to use a flattened version of all the image pixels (you concatenate all the rows in the image). Since we have images that have a size of 512x512, this would result in 262144 (512*512) dimensional input vectors.\n",
      "\n",
      "For most classifiers, this is way too much dimensions. Also, this would mean that if you translate your image by one pixel, the input vector will change dramatically. Later in the course, we will see that deep learning classifiers are able to use data in such an unprocessed form, but for now, we have to extract features.\n",
      "\n",
      "The better approach is to extract features to represent each image. If we ask you to manually classify those images, what will you look at ? Color ? The general shape of the leaf (i.e. elongated, round) ? The texture of the leaf ?\n",
      "\n",
      "We will try to extract features that allow our classifier to use the same kind of hints that a human would use. We will start with two features : *eccentricity* and *curvature*. You will then have to propose and implement a new feature and see how the new information impacts classification performance."
     ]
    },
    {
     "cell_type": "markdown",
     "metadata": {},
     "source": [
      "First, we define some utility functions :"
     ]
    },
    {
     "cell_type": "code",
     "collapsed": false,
     "input": [
      "def get_plant_points(img):\n",
      "    \"\"\"\n",
      "    Given the image of a plant, returns a Nx2 array containing the (x, y) coordinate\n",
      "    of all non-masked points\n",
      "    \"\"\"\n",
      "    # this returns (y, x) tuple\n",
      "    points = np.transpose(np.nonzero(~img.mask)[:2])\n",
      "    # makes that an (x, y) tuple\n",
      "    points = np.roll(points, 1, axis=1)\n",
      "    return points\n",
      "\n",
      "def extract_contour(img):\n",
      "    \"\"\"\n",
      "    Wrapper around OpenCV's contour extraction methods. This returns only the longest\n",
      "    contour\n",
      "    \"\"\"\n",
      "    contours, hierarchy = cv2.findContours(\n",
      "        skimage.img_as_ubyte(~img.mask[:,:,0]),\n",
      "        cv2.RETR_EXTERNAL,\n",
      "        cv2.CHAIN_APPROX_NONE\n",
      "    )\n",
      "\n",
      "    # only take longest contour into account\n",
      "    longest_contour = np.argmax([len(c) for c in contours])\n",
      "    cnt = contours[longest_contour]\n",
      "    cnt = np.squeeze(cnt)\n",
      "    return cnt"
     ],
     "language": "python",
     "metadata": {},
     "outputs": [],
     "prompt_number": 43
    },
    {
     "cell_type": "heading",
     "level": 3,
     "metadata": {},
     "source": [
      "Eccentricity"
     ]
    },
    {
     "cell_type": "markdown",
     "metadata": {},
     "source": [
      "Eccentricity gives us information about how the distribution of the leaf points deviates from a perfect circle.\n",
      "\n",
      "The *get_plant_points* method above gives us the coordinate $(x, y)$ of all foreground (non-masked) points in the image. If we perform PCA on those points, we get two orthogonal (uncorrelated) principal axis (components) which are :\n",
      "\n",
      "- The first axis is the axis with maximum variance\n",
      "- The second axis is orthogonal to the first\n",
      "\n",
      "In addition, each axis (which are the eigenvectors of the covariance matrix of our data) has an associated eigenvalue. The eigenvalue informs us about the relative importance of each axis.\n",
      "\n",
      "We compute the eccentricity as the ratio of the eigenvalues of the two axis. If our points are distributed in a perfect circle, both axes will have equal importance and the ratio will be 1."
     ]
    },
    {
     "cell_type": "code",
     "collapsed": false,
     "input": [
      "from sklearn.decomposition import PCA\n",
      "\n",
      "def eccentricity(img, plot=False):\n",
      "    \"\"\"Compute eccentricity : the ratio of the eigenvalues of principal components\"\"\"\n",
      "    points = get_plant_points(img)\n",
      "    pca = PCA(n_components=2).fit(points)\n",
      "    centroid = pca.mean_\n",
      "    eccentricity = pca.explained_variance_[0] / pca.explained_variance_[1]\n",
      "\n",
      "    if plot:\n",
      "        pl.title('eccentricity : %f' % eccentricity)\n",
      "        pl.imshow(img)\n",
      "        \n",
      "        # direction of the two principal components\n",
      "        d1 = pca.components_[0,:]\n",
      "        d2 = pca.components_[1,:]\n",
      "        \n",
      "        scale = 100\n",
      "        p1 = centroid + scale * d1 * pca.explained_variance_ratio_[0]\n",
      "        pl.plot([centroid[0], p1[0]], [centroid[1], p1[1]], c='r')\n",
      "        \n",
      "        p2 = centroid + scale * d2 * pca.explained_variance_ratio_[1]\n",
      "        pl.plot([centroid[0], p2[0]], [centroid[1], p2[1]], c='y')\n",
      "        \n",
      "        pl.xlim((0, img.shape[1]))\n",
      "        pl.ylim((img.shape[0], 0))\n",
      "        \n",
      "    return eccentricity"
     ],
     "language": "python",
     "metadata": {},
     "outputs": [],
     "prompt_number": 44
    },
    {
     "cell_type": "markdown",
     "metadata": {},
     "source": [
      "First, let's play with circles and ellipses"
     ]
    },
    {
     "cell_type": "code",
     "collapsed": false,
     "input": [
      "import skimage.draw\n",
      "\n",
      "def get_ellipse_image(yradius, xradius):\n",
      "    img = ma.masked_all((512, 512), dtype=np.float)\n",
      "    rr, cc = skimage.draw.ellipse(256, 256, yradius=yradius, xradius=xradius, shape=(512, 512))\n",
      "    img[rr, cc] = 1\n",
      "    return img\n",
      "\n",
      "pl.figure(figsize=(8, 3))\n",
      "pl.subplot(121)\n",
      "# This is a circle\n",
      "eccentricity(get_ellipse_image(64, 64), plot=True)\n",
      "\n",
      "pl.subplot(122)\n",
      "# An ellipse\n",
      "eccentricity(get_ellipse_image(128, 64), plot=True)"
     ],
     "language": "python",
     "metadata": {},
     "outputs": [
      {
       "metadata": {},
       "output_type": "pyout",
       "prompt_number": 45,
       "text": [
        "4.0057977326922609"
       ]
      },
      {
       "metadata": {},
       "output_type": "display_data",
       "png": "[encoded data removed]",
       "text": [
        "<matplotlib.figure.Figure at 0x7f2f9e9fe8d0>"
       ]
      }
     ],
     "prompt_number": 45
    },
    {
     "cell_type": "markdown",
     "metadata": {},
     "source": [
      "Ok so now we can apply eccentricity on our images"
     ]
    },
    {
     "cell_type": "code",
     "collapsed": false,
     "input": [
      "examples = [0, 50, 300]\n",
      "pl.figure(figsize=(10, 3))\n",
      "for i, idx in enumerate(examples): \n",
      "    pl.subplot(1, 3, i + 1)\n",
      "    img = load_img(meta.iloc[idx]['basename'])\n",
      "    eccentricity(img, plot=True)"
     ],
     "language": "python",
     "metadata": {},
     "outputs": [
      {
       "metadata": {},
       "output_type": "display_data",
       "png": "[encoded data removed]",
       "text": [
        "<matplotlib.figure.Figure at 0x7f2f9c910a10>"
       ]
      }
     ],
     "prompt_number": 46
    },
    {
     "cell_type": "heading",
     "level": 3,
     "metadata": {},
     "source": [
      "Curvature"
     ]
    },
    {
     "cell_type": "markdown",
     "metadata": {},
     "source": [
      "We will compute the [curvature](http://en.wikipedia.org/wiki/Curvature#Curvature_of_plane_curves) of the contour of the leaf. This will help describe the \"pointiness\" of the contour.\n",
      "\n",
      "The function does the following steps :\n",
      "\n",
      "- Extract the leaf contour (using OpenCV's contour extraction functions).\n",
      "- Compute the curvature for each point on the contour.\n",
      "- Compute an histogram of all the curvatures of contour points.\n",
      "\n",
      "The final feature vector will be the histogram. The number of bins in the histogram define the dimensionality of the feature vector.\n",
      "\n",
      "There are three parameters that are important when computing our curvature feature :\n",
      "\n",
      "- *step* : To compute curvature for a given point, we need a previous and next point and then use those 3 points to construct a circumcircle, the (inverse of the) radius of which is the curvature. The step determine how far away we pick our previous and next point.\n",
      "\n",
      "<img width=\"200px\" src=\"http://upload.wikimedia.org/wikipedia/commons/thumb/8/84/Osculating_circle.svg/460px-Osculating_circle.svg.png\" />\n",
      "\n",
      "- *nbins* and *vmax* : When computing our histogram of curvatures, we have to decide the number of bins in the histogram. We also have to decide the range of the bins, which will be in [0, vmax] . "
     ]
    },
    {
     "cell_type": "code",
     "collapsed": false,
     "input": [
      "from matplotlib import gridspec\n",
      "\n",
      "def circumcircle_radius(p1, p2, p3):\n",
      "    \"\"\"\n",
      "    Given 3 points of a triangle, computes the radius of the circumcircle\n",
      "    http://www.mathopenref.com/trianglecircumcircle.html\n",
      "\n",
      "    This function can return np.inf if the triangle has an area of zero\n",
      "    \"\"\"\n",
      "    a = la.norm(p2 - p1)\n",
      "    b = la.norm(p3 - p2)\n",
      "    c = la.norm(p1 - p3)\n",
      "    #print a, b, c\n",
      "\n",
      "    # Check for degenerate case (triangle has an area of zero)\n",
      "    denom = np.fabs((a+b+c)*(b+c-a)*(c+a-b)*(a+b-c))\n",
      "    if abs(denom) < 1e-5:\n",
      "        return np.inf\n",
      "    else:\n",
      "        r = (a * b * c)/np.sqrt(denom)\n",
      "        return r\n",
      "\n",
      "def curvature_from_cnt(line, step=10):\n",
      "    \"\"\"\n",
      "    Curvature computation for a line given as a Nx2 array\n",
      "    We assumes the line is closed (ie the last and first point are contiguous)\n",
      "\n",
      "    Each set of 3 consecutive (see step) points on the line forms a triangle\n",
      "    and the radius of the circumcircle of this triangle is the radius of\n",
      "    the curve for that set. The curvature is 1/r where r is this radius.\n",
      "\n",
      "    Taking immediatly consecutive points doesn't work well, so `step` specify\n",
      "    how points triplets are formed : (i-step, i, i+step)\n",
      "    \"\"\"\n",
      "    # Append line end at beginning and beginning at end to simulate closed\n",
      "    # line\n",
      "    l = np.r_[line[-1].reshape(-1, 2),\n",
      "              np.array(line),\n",
      "              line[0].reshape(-1, 2)]\n",
      "    curv = []\n",
      "    linelen = line.shape[0]\n",
      "    for i in xrange(linelen):\n",
      "        # indices in l are shifted by -1\n",
      "        #r = circumcircle_radius(l[i], l[i+1], l[i+2])\n",
      "        r = circumcircle_radius(line[(i-step)%linelen],\n",
      "                                line[i],\n",
      "                                line[(i+step)%linelen])\n",
      "        if np.isinf(r):\n",
      "            # Flat => curvature = 0\n",
      "            curv.append(0)\n",
      "        else:\n",
      "            curv.append(1.0 / r)\n",
      "    return np.array(curv)\n",
      "\n",
      "def curvature(img, step=10, plot=False, gs=None):\n",
      "    cnt = extract_contour(img)\n",
      "    \n",
      "    cvt = curvature_from_cnt(cnt, step=step)\n",
      "    \n",
      "    if plot:\n",
      "        if gs is None:\n",
      "            gs = gridspec.GridSpec(1, 2)\n",
      "        vimg = skimage.img_as_ubyte(img)\n",
      "        cv2.drawContours(vimg, [cnt], 0, (0,255,0), 3)\n",
      "        \n",
      "        pl.subplot(gs[0])\n",
      "        pl.title('contour')\n",
      "        pl.imshow(vimg)\n",
      "        pl.axis('off')\n",
      "        \n",
      "        pl.subplot(gs[1])\n",
      "        pl.title('curvature')\n",
      "        pl.imshow(img)\n",
      "        pl.scatter(cnt[:,0], cnt[:,1], c=cvt, linewidths=0, s=5)\n",
      "        pl.xlim((0, img.shape[1]))\n",
      "        pl.ylim((img.shape[0], 0))\n",
      "        pl.axis('off')\n",
      "        \n",
      "    return cvt"
     ],
     "language": "python",
     "metadata": {},
     "outputs": [],
     "prompt_number": 47
    },
    {
     "cell_type": "markdown",
     "metadata": {},
     "source": [
      "<p style=\"background-color:#660066; color:#fff;padding:5px; font-weight:bold\">Q: Implement the curvature_hist function.</p>\n",
      "\n",
      "This function should take an image as input and return a vector of dimension $n$ representing the histogram of contour curvatures for the given image with $n$ bins. The signature should be :\n",
      "\n",
      "    def curvature_hist(img, step=10, plot=False):\n",
      "        # implement here\n"
     ]
    },
    {
     "cell_type": "code",
     "collapsed": false,
     "input": [
      "#\n",
      "# curvature_hist code\n",
      "#\n",
      "def curvature_hist(img, step=10, plot=False):\n",
      "    cvt = curvature(img, step=10, plot=plot)\n",
      "    hist = np.histogram(cvt,bins=10)\n",
      "    if plot:\n",
      "        pl.figure(figsize=(10, 5))\n",
      "        pl.hist(cvt, bins=10, color='blue')\n",
      "    return hist[0]\n",
      "    "
     ],
     "language": "python",
     "metadata": {},
     "outputs": [],
     "prompt_number": 48
    },
    {
     "cell_type": "code",
     "collapsed": false,
     "input": [
      "m1 = meta['classid'] == 'alnus glutinosa'\n",
      "m2 = meta['classid'] == 'acer campestre'\n",
      "print np.flatnonzero(m1)\n",
      "print np.flatnonzero(m2)"
     ],
     "language": "python",
     "metadata": {},
     "outputs": [
      {
       "output_type": "stream",
       "stream": "stdout",
       "text": [
        "[ 19  44  64 170 178 194 208 214 232 250 286 303 306 313 328 338 421 423\n",
        " 433 444 478 484 507 512 516 537 540 574]\n",
        "[  3   6  11  14  17  24  43  63  78  80  91  95 111 125 126 129 130 146\n",
        " 182 200 213 246 248 264 273 280 281 282 289 290 292 295 307 318 319 325\n",
        " 339 355 360 375 384 411 420 427 430 434 436 453 454 458 460 463 464 465\n",
        " 508 510 513 527 530 531 541 552 555 557 558 562 566]\n"
       ]
      }
     ],
     "prompt_number": 49
    },
    {
     "cell_type": "code",
     "collapsed": false,
     "input": [
      "examples = [1, 13, 7]\n",
      "#examples = [19, 44, 3, 6]\n",
      "for i, idx in enumerate(examples): \n",
      "    pl.figure(figsize=(10, 5))\n",
      "    img = load_img(meta.iloc[idx]['basename'])\n",
      "    c = curvature_hist(img, step=10, plot=True)\n",
      "    print c"
     ],
     "language": "python",
     "metadata": {},
     "outputs": [
      {
       "output_type": "stream",
       "stream": "stdout",
       "text": [
        "[890  36  22  30  48  28   6   4   5   5]\n",
        "[1523  579  178   89   58   69  132  223   13    5]"
       ]
      },
      {
       "output_type": "stream",
       "stream": "stdout",
       "text": [
        "\n",
        "[415 293 132 115  82 107  89  57  31  11]"
       ]
      },
      {
       "output_type": "stream",
       "stream": "stdout",
       "text": [
        "\n"
       ]
      },
      {
       "metadata": {},
       "output_type": "display_data",
       "png": "[encoded data removed]",
       "text": [
        "<matplotlib.figure.Figure at 0x7f2f9cb4b650>"
       ]
      },
      {
       "metadata": {},
       "output_type": "display_data",
       "png": "[encoded data removed]",
       "text": [
        "<matplotlib.figure.Figure at 0x7f2f9c5d2110>"
       ]
      },
      {
       "metadata": {},
       "output_type": "display_data",
       "png": "[encoded data removed]",
       "text": [
        "<matplotlib.figure.Figure at 0x7f2fa8acee90>"
       ]
      },
      {
       "metadata": {},
       "output_type": "display_data",
       "png": "[encoded data removed]",
       "text": [
        "<matplotlib.figure.Figure at 0x7f2f9e8f7150>"
       ]
      },
      {
       "metadata": {},
       "output_type": "display_data",
       "png": "[encoded data removed]",
       "text": [
        "<matplotlib.figure.Figure at 0x7f2f9e83ccd0>"
       ]
      },
      {
       "metadata": {},
       "output_type": "display_data",
       "png": "[encoded data removed]",
       "text": [
        "<matplotlib.figure.Figure at 0x7f2f9eac7690>"
       ]
      }
     ],
     "prompt_number": 50
    },
    {
     "cell_type": "heading",
     "level": 3,
     "metadata": {},
     "source": [
      "Implement your own features"
     ]
    },
    {
     "cell_type": "markdown",
     "metadata": {},
     "source": [
      "http://www.math.uci.edu/icamp/summer/research_11/park/shape_descriptors_survey.pdf"
     ]
    },
    {
     "cell_type": "markdown",
     "metadata": {},
     "source": [
      "<p style=\"background-color:#660066; color:#fff;padding:5px; font-weight:bold\">Q: Implement a new feature</p>\n",
      "\n",
      "Implement a new feature extractor that you think could be useful for this classification task. Explain why your feature extractor is useful. You can look at the presentations accompanying the original dataset for inspiration. You can also start building on the convex hull example below."
     ]
    },
    {
     "cell_type": "code",
     "collapsed": false,
     "input": [
      "# As an example, OpenCV allows you to compute the convex hull of a shape. An idea of feature might be\n",
      "# to compute the ratio of area covered by valid pixels versus the convex hull area\n",
      "cnt = extract_contour(img)\n",
      "hull = cv2.convexHull(cnt)\n",
      "vimg = skimage.img_as_ubyte(img)\n",
      "cv2.drawContours(vimg, [hull], 0, (0,255,0), -1)\n",
      "pl.imshow(vimg)"
     ],
     "language": "python",
     "metadata": {},
     "outputs": [
      {
       "metadata": {},
       "output_type": "pyout",
       "prompt_number": 51,
       "text": [
        "<matplotlib.image.AxesImage at 0x7f2f9eb25a90>"
       ]
      },
      {
       "metadata": {},
       "output_type": "display_data",
       "png": "[encoded data removed]",
       "text": [
        "<matplotlib.figure.Figure at 0x7f2f9ec0d990>"
       ]
      }
     ],
     "prompt_number": 51
    },
    {
     "cell_type": "heading",
     "level": 3,
     "metadata": {},
     "source": [
      "Solidity"
     ]
    },
    {
     "cell_type": "markdown",
     "metadata": {},
     "source": [
      "This feature represents the ratio between convex hull and valid pixel as mentionned above\n",
      "To do this, we have to compute convex hull and contourArea we just need to use the opencv function to do this one, no need to reinvent the wheel :\n",
      "\n"
     ]
    },
    {
     "cell_type": "code",
     "collapsed": false,
     "input": [
      "#\n",
      "# compute_solidity code\n",
      "#\n",
      "def compute_solidity(img,plot=False):\n",
      "    cnt = extract_contour(img)\n",
      "    hull = cv2.convexHull(cnt)\n",
      "    hullValue = cv2.contourArea(hull)\n",
      "    #print \"hull :\",hullValue\n",
      "    contourArea = cv2.contourArea(cnt)\n",
      "    #print \"contourArea :\",contourArea\n",
      "    ratio = contourArea/hullValue\n",
      "    if plot:\n",
      "        vimg = skimage.img_as_ubyte(img)\n",
      "        cv2.drawContours(vimg, [hull], 0, (0,255,0), -1)\n",
      "        cv2.drawContours(vimg, [cnt], 0, (255,0,0), -1)\n",
      "        pl.title('Solidity : %f' % ratio)\n",
      "        pl.imshow(vimg)\n",
      "        #print ratio\n",
      "    return ratio"
     ],
     "language": "python",
     "metadata": {},
     "outputs": [],
     "prompt_number": 52
    },
    {
     "cell_type": "code",
     "collapsed": false,
     "input": [
      "#use the same exemple as histogram\n",
      "examples = [1, 13, 7]\n",
      "#examples = [19, 44, 3, 6]\n",
      "pl.figure(figsize=(10, 3))\n",
      "for i, idx in enumerate(examples):\n",
      "    pl.subplot(1, 3, i + 1)\n",
      "    #pl.figure(figsize=(10, 5))\n",
      "    img = load_img(meta.iloc[idx]['basename'])\n",
      "    solidity = compute_solidity(img, plot=True)\n",
      "    #print solidity"
     ],
     "language": "python",
     "metadata": {},
     "outputs": [
      {
       "metadata": {},
       "output_type": "display_data",
       "png": "[encoded data removed]",
       "text": [
        "<matplotlib.figure.Figure at 0x7f2f9ebb9890>"
       ]
      }
     ],
     "prompt_number": 53
    },
    {
     "cell_type": "markdown",
     "metadata": {},
     "source": [
      "<p style=\"background-color:#660066; color:#fff;padding:5px; font-weight:bold\">Q: Use the features to train and evaluate a k-NN classifier</p>\n",
      "\n",
      "This involves :\n",
      "\n",
      "- Compute the feature vector of each image (by concatenating individual features of the image).\n",
      "- Build a $n$ x $m$ data matrix $X$ with the feature vectors of all the images, where $n$ is the number of images and $m$ the number of features.\n",
      "- Build an integer vector of length $n$, $y$, containing the target class for each image. *sklearn.preprocessing.LabelEncoder* is useful for converting text labels into integers.\n",
      "- Split your dataset into training and test : X_train, X_test, y_train, y_test. *sklearn.cross_validation* has useful utility functions for that.\n",
      "- Normalizing your data. *sklearn.preprocessing.MinMaxScaler* might be useful (or other similar scaler classes)\n",
      "- Build a classifier with *sklearn.neighbors.KNeighborsClassifier* on your training dataset and evaluate on your test dataset.\n",
      "    - this the *y_pred = knn.predict(X_test)* cell\n",
      "\n",
      "After you have evaluated your model **write a short analysis of your results**.\n"
     ]
    },
    {
     "cell_type": "heading",
     "level": 3,
     "metadata": {},
     "source": [
      "Create Dataset"
     ]
    },
    {
     "cell_type": "markdown",
     "metadata": {},
     "source": [
      "Here we simply load the dataset to a matrix X \n",
      "\n",
      "|       \t| Solidity \t| Eccentricity \t| Curvature*10 \t|\n",
      "|-------\t|----------\t|--------------\t|--------------\t|\n",
      "| Leaf1 \t|          \t|              \t|              \t|\n",
      "| Leaf2 \t|          \t|              \t|              \t|\n",
      "| Leaf3 \t|          \t|              \t|              \t|"
     ]
    },
    {
     "cell_type": "markdown",
     "metadata": {},
     "source": [
      "Change textual classes to unique integer to simplify"
     ]
    },
    {
     "cell_type": "code",
     "collapsed": false,
     "input": [
      "from sklearn import preprocessing"
     ],
     "language": "python",
     "metadata": {},
     "outputs": [],
     "prompt_number": 54
    },
    {
     "cell_type": "code",
     "collapsed": false,
     "input": [
      "tel = {}\n",
      "def getUniqueId(classid,init=True):\n",
      "    index = np.unique(meta['classid'])\n",
      "    id = 0\n",
      "    for x in index:\n",
      "        tel[x] = id;\n",
      "        id=id+1\n",
      "    return tel"
     ],
     "language": "python",
     "metadata": {},
     "outputs": [],
     "prompt_number": 55
    },
    {
     "cell_type": "code",
     "collapsed": false,
     "input": [
      "colnames = np.array([\n",
      "    'solidity', 'Eccentricity', 'curvature0', 'curvature1', 'curvature2', 'curvature3', \n",
      "    'curvature4', 'curvature5', 'curvature6', 'curvature7', 'curvature8',\n",
      "    'curvature9','class'\n",
      "])\n",
      "index = len(np.unique(meta['basename']))\n",
      "print index\n",
      "data = []\n",
      "classid = []\n",
      "solidity = []\n",
      "encentricity = []\n",
      "curve_histo = np.matrix((0,1,2,3,4,5,6,7,8,9))\n",
      "#print curve_histo\n",
      "#init\n",
      "id = getUniqueId(-1)\n",
      "for i in range(0,index):\n",
      "    pl.figure(figsize=(10, 5))\n",
      "    img = load_img(meta.iloc[i]['basename'])\n",
      "    classid_tmp = id[meta.iloc[i]['classid']]\n",
      "    classid.append(classid_tmp)\n",
      "    solidity_tmp = compute_solidity(img, plot=False)\n",
      "    solidity.append(solidity_tmp)\n",
      "    eccentricity_tmp = eccentricity(img)\n",
      "    encentricity.append(eccentricity_tmp)\n",
      "    curve_histo_tmp = curvature_hist(img)\n",
      "    curve_histo=np.vstack((curve_histo,np.matrix(curve_histo_tmp)))\n",
      "    \n",
      "\n",
      "data = np.matrix(np.matrix(solidity).T)\n",
      "data = np.concatenate((data,np.matrix(encentricity).T),axis=1)\n",
      "histo = curve_histo[1:len(curve_histo),:]\n",
      "data = np.hstack((data,histo))\n",
      "#print data\n",
      "min_max_scaler = preprocessing.MinMaxScaler()\n",
      "data_norm = min_max_scaler.fit_transform(data)\n",
      "#print data_norm\n",
      "data_norm = np.concatenate((data_norm,np.matrix(classid).T),axis=1)\n",
      "\n",
      "\n",
      "df = pd.DataFrame(data=data_norm, columns=colnames)\n",
      "# Ensure the class column is an int\n",
      "#df['classid'] = data_norm[:,0].astype(np.int)\n",
      "\n",
      "# Pandas dataframes have a nice pretty-printing for ipython notebooks\n",
      "df\n",
      "\n",
      "\n",
      "#df = pd.DataFrame(index=index, columns=colnames)\n",
      "#df = df.fillna(0) # with 0s rather than NaNs\n",
      "\n",
      "#df\n",
      "\n",
      "#for i in df.index:\n",
      "    #do_something(df.ix[i])\n"
     ],
     "language": "python",
     "metadata": {},
     "outputs": [
      {
       "output_type": "stream",
       "stream": "stdout",
       "text": [
        "583\n"
       ]
      },
      {
       "html": [
        "<div style=\"max-height:1000px;max-width:1500px;overflow:auto;\">\n",
        "<table border=\"1\" class=\"dataframe\">\n",
        "  <thead>\n",
        "    <tr style=\"text-align: right;\">\n",
        "      <th></th>\n",
        "      <th>solidity</th>\n",
        "      <th>Eccentricity</th>\n",
        "      <th>curvature0</th>\n",
        "      <th>curvature1</th>\n",
        "      <th>curvature2</th>\n",
        "      <th>curvature3</th>\n",
        "      <th>curvature4</th>\n",
        "      <th>curvature5</th>\n",
        "      <th>curvature6</th>\n",
        "      <th>curvature7</th>\n",
        "      <th>curvature8</th>\n",
        "      <th>curvature9</th>\n",
        "      <th>class</th>\n",
        "    </tr>\n",
        "  </thead>\n",
        "  <tbody>\n",
        "    <tr>\n",
        "      <th>0  </th>\n",
        "      <td> 0.885202</td>\n",
        "      <td> 0.051087</td>\n",
        "      <td> 0.091608</td>\n",
        "      <td> 0.394509</td>\n",
        "      <td> 0.204991</td>\n",
        "      <td> 0.226131</td>\n",
        "      <td> 0.139583</td>\n",
        "      <td> 0.113971</td>\n",
        "      <td> 0.086379</td>\n",
        "      <td> 0.044898</td>\n",
        "      <td> 0.011299</td>\n",
        "      <td> 0.038462</td>\n",
        "      <td> 3</td>\n",
        "    </tr>\n",
        "    <tr>\n",
        "      <th>1  </th>\n",
        "      <td> 0.912117</td>\n",
        "      <td> 0.013638</td>\n",
        "      <td> 0.250000</td>\n",
        "      <td> 0.040462</td>\n",
        "      <td> 0.039216</td>\n",
        "      <td> 0.075377</td>\n",
        "      <td> 0.100000</td>\n",
        "      <td> 0.102941</td>\n",
        "      <td> 0.019934</td>\n",
        "      <td> 0.016327</td>\n",
        "      <td> 0.028249</td>\n",
        "      <td> 0.076923</td>\n",
        "      <td> 6</td>\n",
        "    </tr>\n",
        "    <tr>\n",
        "      <th>2  </th>\n",
        "      <td> 0.945568</td>\n",
        "      <td> 0.645266</td>\n",
        "      <td> 0.236364</td>\n",
        "      <td> 0.091040</td>\n",
        "      <td> 0.005348</td>\n",
        "      <td> 0.007538</td>\n",
        "      <td> 0.004167</td>\n",
        "      <td> 0.018382</td>\n",
        "      <td> 0.016611</td>\n",
        "      <td> 0.020408</td>\n",
        "      <td> 0.045198</td>\n",
        "      <td> 0.192308</td>\n",
        "      <td> 6</td>\n",
        "    </tr>\n",
        "    <tr>\n",
        "      <th>3  </th>\n",
        "      <td> 0.535734</td>\n",
        "      <td> 0.002847</td>\n",
        "      <td> 0.246154</td>\n",
        "      <td> 0.408960</td>\n",
        "      <td> 0.233512</td>\n",
        "      <td> 0.228643</td>\n",
        "      <td> 0.120833</td>\n",
        "      <td> 0.110294</td>\n",
        "      <td> 0.063123</td>\n",
        "      <td> 0.065306</td>\n",
        "      <td> 0.090395</td>\n",
        "      <td> 0.307692</td>\n",
        "      <td> 0</td>\n",
        "    </tr>\n",
        "    <tr>\n",
        "      <th>4  </th>\n",
        "      <td> 0.827965</td>\n",
        "      <td> 0.030178</td>\n",
        "      <td> 0.039161</td>\n",
        "      <td> 0.341040</td>\n",
        "      <td> 0.290553</td>\n",
        "      <td> 0.253769</td>\n",
        "      <td> 0.129167</td>\n",
        "      <td> 0.154412</td>\n",
        "      <td> 0.159468</td>\n",
        "      <td> 0.146939</td>\n",
        "      <td> 0.101695</td>\n",
        "      <td> 0.115385</td>\n",
        "      <td> 7</td>\n",
        "    </tr>\n",
        "    <tr>\n",
        "      <th>5  </th>\n",
        "      <td> 0.936595</td>\n",
        "      <td> 0.446290</td>\n",
        "      <td> 0.247203</td>\n",
        "      <td> 0.078035</td>\n",
        "      <td> 0.014260</td>\n",
        "      <td> 0.007538</td>\n",
        "      <td> 0.006250</td>\n",
        "      <td> 0.014706</td>\n",
        "      <td> 0.009967</td>\n",
        "      <td> 0.024490</td>\n",
        "      <td> 0.045198</td>\n",
        "      <td> 0.096154</td>\n",
        "      <td> 6</td>\n",
        "    </tr>\n",
        "    <tr>\n",
        "      <th>6  </th>\n",
        "      <td> 0.532051</td>\n",
        "      <td> 0.001514</td>\n",
        "      <td> 0.102797</td>\n",
        "      <td> 0.419075</td>\n",
        "      <td> 0.338681</td>\n",
        "      <td> 0.306533</td>\n",
        "      <td> 0.158333</td>\n",
        "      <td> 0.268382</td>\n",
        "      <td> 0.162791</td>\n",
        "      <td> 0.126531</td>\n",
        "      <td> 0.039548</td>\n",
        "      <td> 0.153846</td>\n",
        "      <td> 0</td>\n",
        "    </tr>\n",
        "    <tr>\n",
        "      <th>7  </th>\n",
        "      <td> 0.797444</td>\n",
        "      <td> 0.019167</td>\n",
        "      <td> 0.083916</td>\n",
        "      <td> 0.411850</td>\n",
        "      <td> 0.235294</td>\n",
        "      <td> 0.288945</td>\n",
        "      <td> 0.170833</td>\n",
        "      <td> 0.393382</td>\n",
        "      <td> 0.295681</td>\n",
        "      <td> 0.232653</td>\n",
        "      <td> 0.175141</td>\n",
        "      <td> 0.192308</td>\n",
        "      <td> 7</td>\n",
        "    </tr>\n",
        "    <tr>\n",
        "      <th>8  </th>\n",
        "      <td> 0.629524</td>\n",
        "      <td> 0.004108</td>\n",
        "      <td> 0.075524</td>\n",
        "      <td> 0.244220</td>\n",
        "      <td> 0.117647</td>\n",
        "      <td> 0.085427</td>\n",
        "      <td> 0.060417</td>\n",
        "      <td> 0.113971</td>\n",
        "      <td> 0.066445</td>\n",
        "      <td> 0.016327</td>\n",
        "      <td> 0.005650</td>\n",
        "      <td> 0.057692</td>\n",
        "      <td> 5</td>\n",
        "    </tr>\n",
        "    <tr>\n",
        "      <th>9  </th>\n",
        "      <td> 0.963499</td>\n",
        "      <td> 0.591614</td>\n",
        "      <td> 0.211888</td>\n",
        "      <td> 0.101156</td>\n",
        "      <td> 0.005348</td>\n",
        "      <td> 0.007538</td>\n",
        "      <td> 0.010417</td>\n",
        "      <td> 0.007353</td>\n",
        "      <td> 0.009967</td>\n",
        "      <td> 0.024490</td>\n",
        "      <td> 0.028249</td>\n",
        "      <td> 0.211538</td>\n",
        "      <td> 6</td>\n",
        "    </tr>\n",
        "    <tr>\n",
        "      <th>10 </th>\n",
        "      <td> 0.976748</td>\n",
        "      <td> 0.537063</td>\n",
        "      <td> 0.244755</td>\n",
        "      <td> 0.013006</td>\n",
        "      <td> 0.007130</td>\n",
        "      <td> 0.007538</td>\n",
        "      <td> 0.006250</td>\n",
        "      <td> 0.036765</td>\n",
        "      <td> 0.023256</td>\n",
        "      <td> 0.024490</td>\n",
        "      <td> 0.005650</td>\n",
        "      <td> 0.153846</td>\n",
        "      <td> 6</td>\n",
        "    </tr>\n",
        "    <tr>\n",
        "      <th>11 </th>\n",
        "      <td> 0.322019</td>\n",
        "      <td> 0.022632</td>\n",
        "      <td> 0.221329</td>\n",
        "      <td> 0.196532</td>\n",
        "      <td> 0.147950</td>\n",
        "      <td> 0.135678</td>\n",
        "      <td> 0.116667</td>\n",
        "      <td> 0.139706</td>\n",
        "      <td> 0.076412</td>\n",
        "      <td> 0.085714</td>\n",
        "      <td> 0.005650</td>\n",
        "      <td> 0.173077</td>\n",
        "      <td> 0</td>\n",
        "    </tr>\n",
        "    <tr>\n",
        "      <th>12 </th>\n",
        "      <td> 0.915150</td>\n",
        "      <td> 0.410285</td>\n",
        "      <td> 0.198252</td>\n",
        "      <td> 0.132948</td>\n",
        "      <td> 0.003565</td>\n",
        "      <td> 0.010050</td>\n",
        "      <td> 0.004167</td>\n",
        "      <td> 0.033088</td>\n",
        "      <td> 0.036545</td>\n",
        "      <td> 0.024490</td>\n",
        "      <td> 0.022599</td>\n",
        "      <td> 0.096154</td>\n",
        "      <td> 6</td>\n",
        "    </tr>\n",
        "    <tr>\n",
        "      <th>13 </th>\n",
        "      <td> 0.416221</td>\n",
        "      <td> 0.106450</td>\n",
        "      <td> 0.471329</td>\n",
        "      <td> 0.825145</td>\n",
        "      <td> 0.317291</td>\n",
        "      <td> 0.223618</td>\n",
        "      <td> 0.120833</td>\n",
        "      <td> 0.253676</td>\n",
        "      <td> 0.438538</td>\n",
        "      <td> 0.910204</td>\n",
        "      <td> 0.073446</td>\n",
        "      <td> 0.076923</td>\n",
        "      <td> 1</td>\n",
        "    </tr>\n",
        "    <tr>\n",
        "      <th>14 </th>\n",
        "      <td> 0.748031</td>\n",
        "      <td> 0.002863</td>\n",
        "      <td> 0.084266</td>\n",
        "      <td> 0.468208</td>\n",
        "      <td> 0.219251</td>\n",
        "      <td> 0.216080</td>\n",
        "      <td> 0.095833</td>\n",
        "      <td> 0.216912</td>\n",
        "      <td> 0.169435</td>\n",
        "      <td> 0.228571</td>\n",
        "      <td> 0.141243</td>\n",
        "      <td> 0.211538</td>\n",
        "      <td> 0</td>\n",
        "    </tr>\n",
        "    <tr>\n",
        "      <th>15 </th>\n",
        "      <td> 0.953934</td>\n",
        "      <td> 0.684334</td>\n",
        "      <td> 0.225524</td>\n",
        "      <td> 0.060694</td>\n",
        "      <td> 0.019608</td>\n",
        "      <td> 0.015075</td>\n",
        "      <td> 0.006250</td>\n",
        "      <td> 0.014706</td>\n",
        "      <td> 0.009967</td>\n",
        "      <td> 0.020408</td>\n",
        "      <td> 0.033898</td>\n",
        "      <td> 0.153846</td>\n",
        "      <td> 6</td>\n",
        "    </tr>\n",
        "    <tr>\n",
        "      <th>16 </th>\n",
        "      <td> 0.318811</td>\n",
        "      <td> 0.070974</td>\n",
        "      <td> 0.599301</td>\n",
        "      <td> 0.608382</td>\n",
        "      <td> 0.347594</td>\n",
        "      <td> 0.236181</td>\n",
        "      <td> 0.145833</td>\n",
        "      <td> 0.345588</td>\n",
        "      <td> 0.727575</td>\n",
        "      <td> 0.167347</td>\n",
        "      <td> 0.011299</td>\n",
        "      <td> 0.019231</td>\n",
        "      <td> 1</td>\n",
        "    </tr>\n",
        "    <tr>\n",
        "      <th>17 </th>\n",
        "      <td> 0.476679</td>\n",
        "      <td> 0.004396</td>\n",
        "      <td> 0.186713</td>\n",
        "      <td> 0.312139</td>\n",
        "      <td> 0.167558</td>\n",
        "      <td> 0.190955</td>\n",
        "      <td> 0.150000</td>\n",
        "      <td> 0.150735</td>\n",
        "      <td> 0.132890</td>\n",
        "      <td> 0.130612</td>\n",
        "      <td> 0.090395</td>\n",
        "      <td> 0.153846</td>\n",
        "      <td> 0</td>\n",
        "    </tr>\n",
        "    <tr>\n",
        "      <th>18 </th>\n",
        "      <td> 0.961750</td>\n",
        "      <td> 0.568631</td>\n",
        "      <td> 0.233916</td>\n",
        "      <td> 0.072254</td>\n",
        "      <td> 0.010695</td>\n",
        "      <td> 0.012563</td>\n",
        "      <td> 0.010417</td>\n",
        "      <td> 0.014706</td>\n",
        "      <td> 0.033223</td>\n",
        "      <td> 0.036735</td>\n",
        "      <td> 0.033898</td>\n",
        "      <td> 0.057692</td>\n",
        "      <td> 6</td>\n",
        "    </tr>\n",
        "    <tr>\n",
        "      <th>19 </th>\n",
        "      <td> 0.597859</td>\n",
        "      <td> 0.024690</td>\n",
        "      <td> 0.050699</td>\n",
        "      <td> 0.183526</td>\n",
        "      <td> 0.133690</td>\n",
        "      <td> 0.045226</td>\n",
        "      <td> 0.008333</td>\n",
        "      <td> 0.000000</td>\n",
        "      <td> 0.006645</td>\n",
        "      <td> 0.004082</td>\n",
        "      <td> 0.039548</td>\n",
        "      <td> 0.038462</td>\n",
        "      <td> 2</td>\n",
        "    </tr>\n",
        "    <tr>\n",
        "      <th>20 </th>\n",
        "      <td> 0.787704</td>\n",
        "      <td> 0.025371</td>\n",
        "      <td> 0.065734</td>\n",
        "      <td> 0.434971</td>\n",
        "      <td> 0.370766</td>\n",
        "      <td> 0.351759</td>\n",
        "      <td> 0.260417</td>\n",
        "      <td> 0.352941</td>\n",
        "      <td> 0.212625</td>\n",
        "      <td> 0.310204</td>\n",
        "      <td> 0.242938</td>\n",
        "      <td> 0.307692</td>\n",
        "      <td> 7</td>\n",
        "    </tr>\n",
        "    <tr>\n",
        "      <th>21 </th>\n",
        "      <td> 0.934934</td>\n",
        "      <td> 0.657991</td>\n",
        "      <td> 0.246503</td>\n",
        "      <td> 0.036127</td>\n",
        "      <td> 0.003565</td>\n",
        "      <td> 0.010050</td>\n",
        "      <td> 0.006250</td>\n",
        "      <td> 0.007353</td>\n",
        "      <td> 0.013289</td>\n",
        "      <td> 0.020408</td>\n",
        "      <td> 0.062147</td>\n",
        "      <td> 0.057692</td>\n",
        "      <td> 6</td>\n",
        "    </tr>\n",
        "    <tr>\n",
        "      <th>22 </th>\n",
        "      <td> 0.846495</td>\n",
        "      <td> 0.014707</td>\n",
        "      <td> 0.093357</td>\n",
        "      <td> 0.463873</td>\n",
        "      <td> 0.411765</td>\n",
        "      <td> 0.379397</td>\n",
        "      <td> 0.329167</td>\n",
        "      <td> 0.305147</td>\n",
        "      <td> 0.162791</td>\n",
        "      <td> 0.220408</td>\n",
        "      <td> 0.067797</td>\n",
        "      <td> 0.115385</td>\n",
        "      <td> 7</td>\n",
        "    </tr>\n",
        "    <tr>\n",
        "      <th>23 </th>\n",
        "      <td> 0.944201</td>\n",
        "      <td> 0.548768</td>\n",
        "      <td> 0.187762</td>\n",
        "      <td> 0.213873</td>\n",
        "      <td> 0.024955</td>\n",
        "      <td> 0.012563</td>\n",
        "      <td> 0.006250</td>\n",
        "      <td> 0.022059</td>\n",
        "      <td> 0.009967</td>\n",
        "      <td> 0.020408</td>\n",
        "      <td> 0.079096</td>\n",
        "      <td> 0.115385</td>\n",
        "      <td> 6</td>\n",
        "    </tr>\n",
        "    <tr>\n",
        "      <th>24 </th>\n",
        "      <td> 0.380565</td>\n",
        "      <td> 0.001137</td>\n",
        "      <td> 0.240559</td>\n",
        "      <td> 0.397399</td>\n",
        "      <td> 0.133690</td>\n",
        "      <td> 0.125628</td>\n",
        "      <td> 0.125000</td>\n",
        "      <td> 0.198529</td>\n",
        "      <td> 0.172757</td>\n",
        "      <td> 0.073469</td>\n",
        "      <td> 0.101695</td>\n",
        "      <td> 0.442308</td>\n",
        "      <td> 0</td>\n",
        "    </tr>\n",
        "    <tr>\n",
        "      <th>25 </th>\n",
        "      <td> 0.966384</td>\n",
        "      <td> 0.547202</td>\n",
        "      <td> 0.196503</td>\n",
        "      <td> 0.174855</td>\n",
        "      <td> 0.026738</td>\n",
        "      <td> 0.012563</td>\n",
        "      <td> 0.004167</td>\n",
        "      <td> 0.018382</td>\n",
        "      <td> 0.009967</td>\n",
        "      <td> 0.053061</td>\n",
        "      <td> 0.033898</td>\n",
        "      <td> 0.115385</td>\n",
        "      <td> 6</td>\n",
        "    </tr>\n",
        "    <tr>\n",
        "      <th>26 </th>\n",
        "      <td> 0.902351</td>\n",
        "      <td> 0.095132</td>\n",
        "      <td> 0.100000</td>\n",
        "      <td> 0.283237</td>\n",
        "      <td> 0.204991</td>\n",
        "      <td> 0.208543</td>\n",
        "      <td> 0.056250</td>\n",
        "      <td> 0.036765</td>\n",
        "      <td> 0.023256</td>\n",
        "      <td> 0.032653</td>\n",
        "      <td> 0.005650</td>\n",
        "      <td> 0.153846</td>\n",
        "      <td> 3</td>\n",
        "    </tr>\n",
        "    <tr>\n",
        "      <th>27 </th>\n",
        "      <td> 0.901644</td>\n",
        "      <td> 0.737997</td>\n",
        "      <td> 0.220979</td>\n",
        "      <td> 0.057803</td>\n",
        "      <td> 0.037433</td>\n",
        "      <td> 0.005025</td>\n",
        "      <td> 0.008333</td>\n",
        "      <td> 0.007353</td>\n",
        "      <td> 0.023256</td>\n",
        "      <td> 0.036735</td>\n",
        "      <td> 0.016949</td>\n",
        "      <td> 0.000000</td>\n",
        "      <td> 6</td>\n",
        "    </tr>\n",
        "    <tr>\n",
        "      <th>28 </th>\n",
        "      <td> 0.956452</td>\n",
        "      <td> 0.428245</td>\n",
        "      <td> 0.235664</td>\n",
        "      <td> 0.028902</td>\n",
        "      <td> 0.021390</td>\n",
        "      <td> 0.025126</td>\n",
        "      <td> 0.006250</td>\n",
        "      <td> 0.011029</td>\n",
        "      <td> 0.006645</td>\n",
        "      <td> 0.028571</td>\n",
        "      <td> 0.056497</td>\n",
        "      <td> 0.019231</td>\n",
        "      <td> 6</td>\n",
        "    </tr>\n",
        "    <tr>\n",
        "      <th>29 </th>\n",
        "      <td> 0.951894</td>\n",
        "      <td> 0.080445</td>\n",
        "      <td> 0.052098</td>\n",
        "      <td> 0.322254</td>\n",
        "      <td> 0.240642</td>\n",
        "      <td> 0.216080</td>\n",
        "      <td> 0.135417</td>\n",
        "      <td> 0.183824</td>\n",
        "      <td> 0.192691</td>\n",
        "      <td> 0.130612</td>\n",
        "      <td> 0.124294</td>\n",
        "      <td> 0.519231</td>\n",
        "      <td> 3</td>\n",
        "    </tr>\n",
        "    <tr>\n",
        "      <th>...</th>\n",
        "      <td>...</td>\n",
        "      <td>...</td>\n",
        "      <td>...</td>\n",
        "      <td>...</td>\n",
        "      <td>...</td>\n",
        "      <td>...</td>\n",
        "      <td>...</td>\n",
        "      <td>...</td>\n",
        "      <td>...</td>\n",
        "      <td>...</td>\n",
        "      <td>...</td>\n",
        "      <td>...</td>\n",
        "      <td>...</td>\n",
        "    </tr>\n",
        "    <tr>\n",
        "      <th>553</th>\n",
        "      <td> 0.337631</td>\n",
        "      <td> 0.065557</td>\n",
        "      <td> 0.479021</td>\n",
        "      <td> 0.936416</td>\n",
        "      <td> 0.333333</td>\n",
        "      <td> 0.223618</td>\n",
        "      <td> 0.150000</td>\n",
        "      <td> 0.216912</td>\n",
        "      <td> 0.215947</td>\n",
        "      <td> 0.485714</td>\n",
        "      <td> 0.531073</td>\n",
        "      <td> 0.326923</td>\n",
        "      <td> 1</td>\n",
        "    </tr>\n",
        "    <tr>\n",
        "      <th>554</th>\n",
        "      <td> 0.271601</td>\n",
        "      <td> 0.004173</td>\n",
        "      <td> 0.521678</td>\n",
        "      <td> 0.264451</td>\n",
        "      <td> 0.048128</td>\n",
        "      <td> 0.047739</td>\n",
        "      <td> 0.033333</td>\n",
        "      <td> 0.069853</td>\n",
        "      <td> 0.066445</td>\n",
        "      <td> 0.142857</td>\n",
        "      <td> 0.429379</td>\n",
        "      <td> 0.557692</td>\n",
        "      <td> 8</td>\n",
        "    </tr>\n",
        "    <tr>\n",
        "      <th>555</th>\n",
        "      <td> 0.814199</td>\n",
        "      <td> 0.015654</td>\n",
        "      <td> 0.132517</td>\n",
        "      <td> 0.526012</td>\n",
        "      <td> 0.336898</td>\n",
        "      <td> 0.261307</td>\n",
        "      <td> 0.141667</td>\n",
        "      <td> 0.183824</td>\n",
        "      <td> 0.116279</td>\n",
        "      <td> 0.073469</td>\n",
        "      <td> 0.084746</td>\n",
        "      <td> 0.250000</td>\n",
        "      <td> 0</td>\n",
        "    </tr>\n",
        "    <tr>\n",
        "      <th>556</th>\n",
        "      <td> 0.925395</td>\n",
        "      <td> 0.055295</td>\n",
        "      <td> 0.097552</td>\n",
        "      <td> 0.458092</td>\n",
        "      <td> 0.324421</td>\n",
        "      <td> 0.281407</td>\n",
        "      <td> 0.133333</td>\n",
        "      <td> 0.209559</td>\n",
        "      <td> 0.222591</td>\n",
        "      <td> 0.342857</td>\n",
        "      <td> 0.062147</td>\n",
        "      <td> 0.057692</td>\n",
        "      <td> 4</td>\n",
        "    </tr>\n",
        "    <tr>\n",
        "      <th>557</th>\n",
        "      <td> 0.527710</td>\n",
        "      <td> 0.002647</td>\n",
        "      <td> 0.332867</td>\n",
        "      <td> 0.390173</td>\n",
        "      <td> 0.263815</td>\n",
        "      <td> 0.276382</td>\n",
        "      <td> 0.147917</td>\n",
        "      <td> 0.055147</td>\n",
        "      <td> 0.073090</td>\n",
        "      <td> 0.077551</td>\n",
        "      <td> 0.141243</td>\n",
        "      <td> 0.442308</td>\n",
        "      <td> 0</td>\n",
        "    </tr>\n",
        "    <tr>\n",
        "      <th>558</th>\n",
        "      <td> 0.457568</td>\n",
        "      <td> 0.002613</td>\n",
        "      <td> 0.178671</td>\n",
        "      <td> 0.513006</td>\n",
        "      <td> 0.215686</td>\n",
        "      <td> 0.319095</td>\n",
        "      <td> 0.145833</td>\n",
        "      <td> 0.091912</td>\n",
        "      <td> 0.096346</td>\n",
        "      <td> 0.040816</td>\n",
        "      <td> 0.118644</td>\n",
        "      <td> 0.403846</td>\n",
        "      <td> 0</td>\n",
        "    </tr>\n",
        "    <tr>\n",
        "      <th>559</th>\n",
        "      <td> 0.791413</td>\n",
        "      <td> 0.052643</td>\n",
        "      <td> 0.046853</td>\n",
        "      <td> 0.411850</td>\n",
        "      <td> 0.449198</td>\n",
        "      <td> 0.442211</td>\n",
        "      <td> 0.200000</td>\n",
        "      <td> 0.246324</td>\n",
        "      <td> 0.076412</td>\n",
        "      <td> 0.036735</td>\n",
        "      <td> 0.124294</td>\n",
        "      <td> 0.538462</td>\n",
        "      <td> 7</td>\n",
        "    </tr>\n",
        "    <tr>\n",
        "      <th>560</th>\n",
        "      <td> 0.119134</td>\n",
        "      <td> 0.008559</td>\n",
        "      <td> 0.613636</td>\n",
        "      <td> 0.153179</td>\n",
        "      <td> 0.042781</td>\n",
        "      <td> 0.060302</td>\n",
        "      <td> 0.031250</td>\n",
        "      <td> 0.077206</td>\n",
        "      <td> 0.076412</td>\n",
        "      <td> 0.187755</td>\n",
        "      <td> 0.225989</td>\n",
        "      <td> 0.211538</td>\n",
        "      <td> 8</td>\n",
        "    </tr>\n",
        "    <tr>\n",
        "      <th>561</th>\n",
        "      <td> 0.955052</td>\n",
        "      <td> 0.052159</td>\n",
        "      <td> 0.117832</td>\n",
        "      <td> 0.452312</td>\n",
        "      <td> 0.163993</td>\n",
        "      <td> 0.092965</td>\n",
        "      <td> 0.054167</td>\n",
        "      <td> 0.029412</td>\n",
        "      <td> 0.006645</td>\n",
        "      <td> 0.016327</td>\n",
        "      <td> 0.039548</td>\n",
        "      <td> 0.057692</td>\n",
        "      <td> 3</td>\n",
        "    </tr>\n",
        "    <tr>\n",
        "      <th>562</th>\n",
        "      <td> 0.634512</td>\n",
        "      <td> 0.006089</td>\n",
        "      <td> 0.171329</td>\n",
        "      <td> 0.297688</td>\n",
        "      <td> 0.212121</td>\n",
        "      <td> 0.170854</td>\n",
        "      <td> 0.102083</td>\n",
        "      <td> 0.125000</td>\n",
        "      <td> 0.013289</td>\n",
        "      <td> 0.004082</td>\n",
        "      <td> 0.005650</td>\n",
        "      <td> 0.019231</td>\n",
        "      <td> 0</td>\n",
        "    </tr>\n",
        "    <tr>\n",
        "      <th>563</th>\n",
        "      <td> 0.976781</td>\n",
        "      <td> 0.524121</td>\n",
        "      <td> 0.228322</td>\n",
        "      <td> 0.085260</td>\n",
        "      <td> 0.008913</td>\n",
        "      <td> 0.015075</td>\n",
        "      <td> 0.006250</td>\n",
        "      <td> 0.007353</td>\n",
        "      <td> 0.036545</td>\n",
        "      <td> 0.028571</td>\n",
        "      <td> 0.033898</td>\n",
        "      <td> 0.057692</td>\n",
        "      <td> 6</td>\n",
        "    </tr>\n",
        "    <tr>\n",
        "      <th>564</th>\n",
        "      <td> 0.364655</td>\n",
        "      <td> 0.003212</td>\n",
        "      <td> 0.108741</td>\n",
        "      <td> 0.274566</td>\n",
        "      <td> 0.122995</td>\n",
        "      <td> 0.108040</td>\n",
        "      <td> 0.050000</td>\n",
        "      <td> 0.091912</td>\n",
        "      <td> 0.089701</td>\n",
        "      <td> 0.130612</td>\n",
        "      <td> 0.209040</td>\n",
        "      <td> 0.653846</td>\n",
        "      <td> 5</td>\n",
        "    </tr>\n",
        "    <tr>\n",
        "      <th>565</th>\n",
        "      <td> 0.356294</td>\n",
        "      <td> 0.070456</td>\n",
        "      <td> 0.684266</td>\n",
        "      <td> 0.559249</td>\n",
        "      <td> 0.329768</td>\n",
        "      <td> 0.283920</td>\n",
        "      <td> 0.322917</td>\n",
        "      <td> 0.959559</td>\n",
        "      <td> 0.079734</td>\n",
        "      <td> 0.024490</td>\n",
        "      <td> 0.011299</td>\n",
        "      <td> 0.000000</td>\n",
        "      <td> 1</td>\n",
        "    </tr>\n",
        "    <tr>\n",
        "      <th>566</th>\n",
        "      <td> 0.582282</td>\n",
        "      <td> 0.005088</td>\n",
        "      <td> 0.326923</td>\n",
        "      <td> 0.338150</td>\n",
        "      <td> 0.187166</td>\n",
        "      <td> 0.173367</td>\n",
        "      <td> 0.131250</td>\n",
        "      <td> 0.073529</td>\n",
        "      <td> 0.049834</td>\n",
        "      <td> 0.028571</td>\n",
        "      <td> 0.016949</td>\n",
        "      <td> 0.038462</td>\n",
        "      <td> 0</td>\n",
        "    </tr>\n",
        "    <tr>\n",
        "      <th>567</th>\n",
        "      <td> 0.957877</td>\n",
        "      <td> 0.027523</td>\n",
        "      <td> 0.087063</td>\n",
        "      <td> 0.325145</td>\n",
        "      <td> 0.299465</td>\n",
        "      <td> 0.193467</td>\n",
        "      <td> 0.066667</td>\n",
        "      <td> 0.033088</td>\n",
        "      <td> 0.039867</td>\n",
        "      <td> 0.012245</td>\n",
        "      <td> 0.011299</td>\n",
        "      <td> 0.153846</td>\n",
        "      <td> 3</td>\n",
        "    </tr>\n",
        "    <tr>\n",
        "      <th>568</th>\n",
        "      <td> 0.761998</td>\n",
        "      <td> 0.006780</td>\n",
        "      <td> 0.117483</td>\n",
        "      <td> 0.552023</td>\n",
        "      <td> 0.415330</td>\n",
        "      <td> 0.304020</td>\n",
        "      <td> 0.247917</td>\n",
        "      <td> 0.367647</td>\n",
        "      <td> 0.279070</td>\n",
        "      <td> 0.277551</td>\n",
        "      <td> 0.175141</td>\n",
        "      <td> 0.346154</td>\n",
        "      <td> 7</td>\n",
        "    </tr>\n",
        "    <tr>\n",
        "      <th>569</th>\n",
        "      <td> 0.430398</td>\n",
        "      <td> 0.108070</td>\n",
        "      <td> 0.604545</td>\n",
        "      <td> 0.355491</td>\n",
        "      <td> 0.245989</td>\n",
        "      <td> 0.502513</td>\n",
        "      <td> 0.620833</td>\n",
        "      <td> 0.676471</td>\n",
        "      <td> 0.102990</td>\n",
        "      <td> 0.032653</td>\n",
        "      <td> 0.016949</td>\n",
        "      <td> 0.038462</td>\n",
        "      <td> 1</td>\n",
        "    </tr>\n",
        "    <tr>\n",
        "      <th>570</th>\n",
        "      <td> 0.909570</td>\n",
        "      <td> 0.136623</td>\n",
        "      <td> 0.038462</td>\n",
        "      <td> 0.333815</td>\n",
        "      <td> 0.352941</td>\n",
        "      <td> 0.427136</td>\n",
        "      <td> 0.283333</td>\n",
        "      <td> 0.250000</td>\n",
        "      <td> 0.066445</td>\n",
        "      <td> 0.016327</td>\n",
        "      <td> 0.050847</td>\n",
        "      <td> 0.115385</td>\n",
        "      <td> 4</td>\n",
        "    </tr>\n",
        "    <tr>\n",
        "      <th>571</th>\n",
        "      <td> 0.931215</td>\n",
        "      <td> 0.037277</td>\n",
        "      <td> 0.063986</td>\n",
        "      <td> 0.332370</td>\n",
        "      <td> 0.240642</td>\n",
        "      <td> 0.243719</td>\n",
        "      <td> 0.166667</td>\n",
        "      <td> 0.279412</td>\n",
        "      <td> 0.232558</td>\n",
        "      <td> 0.065306</td>\n",
        "      <td> 0.039548</td>\n",
        "      <td> 0.076923</td>\n",
        "      <td> 3</td>\n",
        "    </tr>\n",
        "    <tr>\n",
        "      <th>572</th>\n",
        "      <td> 0.373140</td>\n",
        "      <td> 0.002340</td>\n",
        "      <td> 0.316434</td>\n",
        "      <td> 0.449422</td>\n",
        "      <td> 0.178253</td>\n",
        "      <td> 0.148241</td>\n",
        "      <td> 0.102083</td>\n",
        "      <td> 0.121324</td>\n",
        "      <td> 0.102990</td>\n",
        "      <td> 0.081633</td>\n",
        "      <td> 0.135593</td>\n",
        "      <td> 0.134615</td>\n",
        "      <td> 5</td>\n",
        "    </tr>\n",
        "    <tr>\n",
        "      <th>573</th>\n",
        "      <td> 0.919618</td>\n",
        "      <td> 0.057356</td>\n",
        "      <td> 0.063636</td>\n",
        "      <td> 0.333815</td>\n",
        "      <td> 0.251337</td>\n",
        "      <td> 0.198492</td>\n",
        "      <td> 0.122917</td>\n",
        "      <td> 0.169118</td>\n",
        "      <td> 0.176080</td>\n",
        "      <td> 0.057143</td>\n",
        "      <td> 0.062147</td>\n",
        "      <td> 0.115385</td>\n",
        "      <td> 3</td>\n",
        "    </tr>\n",
        "    <tr>\n",
        "      <th>574</th>\n",
        "      <td> 0.821247</td>\n",
        "      <td> 0.011532</td>\n",
        "      <td> 0.118881</td>\n",
        "      <td> 0.446532</td>\n",
        "      <td> 0.249554</td>\n",
        "      <td> 0.180905</td>\n",
        "      <td> 0.056250</td>\n",
        "      <td> 0.040441</td>\n",
        "      <td> 0.006645</td>\n",
        "      <td> 0.016327</td>\n",
        "      <td> 0.016949</td>\n",
        "      <td> 0.057692</td>\n",
        "      <td> 2</td>\n",
        "    </tr>\n",
        "    <tr>\n",
        "      <th>575</th>\n",
        "      <td> 0.768735</td>\n",
        "      <td> 0.033567</td>\n",
        "      <td> 0.111538</td>\n",
        "      <td> 0.505780</td>\n",
        "      <td> 0.363636</td>\n",
        "      <td> 0.374372</td>\n",
        "      <td> 0.268750</td>\n",
        "      <td> 0.345588</td>\n",
        "      <td> 0.076412</td>\n",
        "      <td> 0.044898</td>\n",
        "      <td> 0.011299</td>\n",
        "      <td> 0.038462</td>\n",
        "      <td> 7</td>\n",
        "    </tr>\n",
        "    <tr>\n",
        "      <th>576</th>\n",
        "      <td> 0.210379</td>\n",
        "      <td> 0.004309</td>\n",
        "      <td> 0.659441</td>\n",
        "      <td> 0.299133</td>\n",
        "      <td> 0.087344</td>\n",
        "      <td> 0.067839</td>\n",
        "      <td> 0.045833</td>\n",
        "      <td> 0.069853</td>\n",
        "      <td> 0.069767</td>\n",
        "      <td> 0.204082</td>\n",
        "      <td> 0.186441</td>\n",
        "      <td> 0.596154</td>\n",
        "      <td> 8</td>\n",
        "    </tr>\n",
        "    <tr>\n",
        "      <th>577</th>\n",
        "      <td> 0.544459</td>\n",
        "      <td> 0.079396</td>\n",
        "      <td> 0.523077</td>\n",
        "      <td> 0.627168</td>\n",
        "      <td> 0.217469</td>\n",
        "      <td> 0.190955</td>\n",
        "      <td> 0.181250</td>\n",
        "      <td> 0.610294</td>\n",
        "      <td> 0.614618</td>\n",
        "      <td> 0.032653</td>\n",
        "      <td> 0.033898</td>\n",
        "      <td> 0.057692</td>\n",
        "      <td> 1</td>\n",
        "    </tr>\n",
        "    <tr>\n",
        "      <th>578</th>\n",
        "      <td> 0.944394</td>\n",
        "      <td> 0.020647</td>\n",
        "      <td> 0.053147</td>\n",
        "      <td> 0.317919</td>\n",
        "      <td> 0.279857</td>\n",
        "      <td> 0.213568</td>\n",
        "      <td> 0.104167</td>\n",
        "      <td> 0.117647</td>\n",
        "      <td> 0.089701</td>\n",
        "      <td> 0.077551</td>\n",
        "      <td> 0.073446</td>\n",
        "      <td> 0.076923</td>\n",
        "      <td> 3</td>\n",
        "    </tr>\n",
        "    <tr>\n",
        "      <th>579</th>\n",
        "      <td> 0.492585</td>\n",
        "      <td> 0.060874</td>\n",
        "      <td> 0.571329</td>\n",
        "      <td> 0.563584</td>\n",
        "      <td> 0.201426</td>\n",
        "      <td> 0.185930</td>\n",
        "      <td> 0.152083</td>\n",
        "      <td> 0.422794</td>\n",
        "      <td> 0.611296</td>\n",
        "      <td> 0.432653</td>\n",
        "      <td> 0.011299</td>\n",
        "      <td> 0.038462</td>\n",
        "      <td> 1</td>\n",
        "    </tr>\n",
        "    <tr>\n",
        "      <th>580</th>\n",
        "      <td> 0.896916</td>\n",
        "      <td> 0.100828</td>\n",
        "      <td> 0.143357</td>\n",
        "      <td> 0.218208</td>\n",
        "      <td> 0.163993</td>\n",
        "      <td> 0.165829</td>\n",
        "      <td> 0.127083</td>\n",
        "      <td> 0.312500</td>\n",
        "      <td> 0.408638</td>\n",
        "      <td> 0.395918</td>\n",
        "      <td> 0.141243</td>\n",
        "      <td> 0.115385</td>\n",
        "      <td> 4</td>\n",
        "    </tr>\n",
        "    <tr>\n",
        "      <th>581</th>\n",
        "      <td> 0.326423</td>\n",
        "      <td> 0.129011</td>\n",
        "      <td> 0.602448</td>\n",
        "      <td> 0.462428</td>\n",
        "      <td> 0.253119</td>\n",
        "      <td> 0.444724</td>\n",
        "      <td> 0.612500</td>\n",
        "      <td> 0.257353</td>\n",
        "      <td> 0.016611</td>\n",
        "      <td> 0.000000</td>\n",
        "      <td> 0.011299</td>\n",
        "      <td> 0.000000</td>\n",
        "      <td> 1</td>\n",
        "    </tr>\n",
        "    <tr>\n",
        "      <th>582</th>\n",
        "      <td> 0.955907</td>\n",
        "      <td> 0.460412</td>\n",
        "      <td> 0.203846</td>\n",
        "      <td> 0.130058</td>\n",
        "      <td> 0.012478</td>\n",
        "      <td> 0.007538</td>\n",
        "      <td> 0.006250</td>\n",
        "      <td> 0.011029</td>\n",
        "      <td> 0.023256</td>\n",
        "      <td> 0.024490</td>\n",
        "      <td> 0.056497</td>\n",
        "      <td> 0.115385</td>\n",
        "      <td> 6</td>\n",
        "    </tr>\n",
        "  </tbody>\n",
        "</table>\n",
        "<p>583 rows \u00d7 13 columns</p>\n",
        "</div>"
       ],
       "metadata": {},
       "output_type": "pyout",
       "prompt_number": 65,
       "text": [
        "     solidity  Eccentricity  curvature0  curvature1  curvature2  curvature3  \\\n",
        "0    0.885202      0.051087    0.091608    0.394509    0.204991    0.226131   \n",
        "1    0.912117      0.013638    0.250000    0.040462    0.039216    0.075377   \n",
        "2    0.945568      0.645266    0.236364    0.091040    0.005348    0.007538   \n",
        "3    0.535734      0.002847    0.246154    0.408960    0.233512    0.228643   \n",
        "4    0.827965      0.030178    0.039161    0.341040    0.290553    0.253769   \n",
        "5    0.936595      0.446290    0.247203    0.078035    0.014260    0.007538   \n",
        "6    0.532051      0.001514    0.102797    0.419075    0.338681    0.306533   \n",
        "7    0.797444      0.019167    0.083916    0.411850    0.235294    0.288945   \n",
        "8    0.629524      0.004108    0.075524    0.244220    0.117647    0.085427   \n",
        "9    0.963499      0.591614    0.211888    0.101156    0.005348    0.007538   \n",
        "10   0.976748      0.537063    0.244755    0.013006    0.007130    0.007538   \n",
        "11   0.322019      0.022632    0.221329    0.196532    0.147950    0.135678   \n",
        "12   0.915150      0.410285    0.198252    0.132948    0.003565    0.010050   \n",
        "13   0.416221      0.106450    0.471329    0.825145    0.317291    0.223618   \n",
        "14   0.748031      0.002863    0.084266    0.468208    0.219251    0.216080   \n",
        "15   0.953934      0.684334    0.225524    0.060694    0.019608    0.015075   \n",
        "16   0.318811      0.070974    0.599301    0.608382    0.347594    0.236181   \n",
        "17   0.476679      0.004396    0.186713    0.312139    0.167558    0.190955   \n",
        "18   0.961750      0.568631    0.233916    0.072254    0.010695    0.012563   \n",
        "19   0.597859      0.024690    0.050699    0.183526    0.133690    0.045226   \n",
        "20   0.787704      0.025371    0.065734    0.434971    0.370766    0.351759   \n",
        "21   0.934934      0.657991    0.246503    0.036127    0.003565    0.010050   \n",
        "22   0.846495      0.014707    0.093357    0.463873    0.411765    0.379397   \n",
        "23   0.944201      0.548768    0.187762    0.213873    0.024955    0.012563   \n",
        "24   0.380565      0.001137    0.240559    0.397399    0.133690    0.125628   \n",
        "25   0.966384      0.547202    0.196503    0.174855    0.026738    0.012563   \n",
        "26   0.902351      0.095132    0.100000    0.283237    0.204991    0.208543   \n",
        "27   0.901644      0.737997    0.220979    0.057803    0.037433    0.005025   \n",
        "28   0.956452      0.428245    0.235664    0.028902    0.021390    0.025126   \n",
        "29   0.951894      0.080445    0.052098    0.322254    0.240642    0.216080   \n",
        "..        ...           ...         ...         ...         ...         ...   \n",
        "553  0.337631      0.065557    0.479021    0.936416    0.333333    0.223618   \n",
        "554  0.271601      0.004173    0.521678    0.264451    0.048128    0.047739   \n",
        "555  0.814199      0.015654    0.132517    0.526012    0.336898    0.261307   \n",
        "556  0.925395      0.055295    0.097552    0.458092    0.324421    0.281407   \n",
        "557  0.527710      0.002647    0.332867    0.390173    0.263815    0.276382   \n",
        "558  0.457568      0.002613    0.178671    0.513006    0.215686    0.319095   \n",
        "559  0.791413      0.052643    0.046853    0.411850    0.449198    0.442211   \n",
        "560  0.119134      0.008559    0.613636    0.153179    0.042781    0.060302   \n",
        "561  0.955052      0.052159    0.117832    0.452312    0.163993    0.092965   \n",
        "562  0.634512      0.006089    0.171329    0.297688    0.212121    0.170854   \n",
        "563  0.976781      0.524121    0.228322    0.085260    0.008913    0.015075   \n",
        "564  0.364655      0.003212    0.108741    0.274566    0.122995    0.108040   \n",
        "565  0.356294      0.070456    0.684266    0.559249    0.329768    0.283920   \n",
        "566  0.582282      0.005088    0.326923    0.338150    0.187166    0.173367   \n",
        "567  0.957877      0.027523    0.087063    0.325145    0.299465    0.193467   \n",
        "568  0.761998      0.006780    0.117483    0.552023    0.415330    0.304020   \n",
        "569  0.430398      0.108070    0.604545    0.355491    0.245989    0.502513   \n",
        "570  0.909570      0.136623    0.038462    0.333815    0.352941    0.427136   \n",
        "571  0.931215      0.037277    0.063986    0.332370    0.240642    0.243719   \n",
        "572  0.373140      0.002340    0.316434    0.449422    0.178253    0.148241   \n",
        "573  0.919618      0.057356    0.063636    0.333815    0.251337    0.198492   \n",
        "574  0.821247      0.011532    0.118881    0.446532    0.249554    0.180905   \n",
        "575  0.768735      0.033567    0.111538    0.505780    0.363636    0.374372   \n",
        "576  0.210379      0.004309    0.659441    0.299133    0.087344    0.067839   \n",
        "577  0.544459      0.079396    0.523077    0.627168    0.217469    0.190955   \n",
        "578  0.944394      0.020647    0.053147    0.317919    0.279857    0.213568   \n",
        "579  0.492585      0.060874    0.571329    0.563584    0.201426    0.185930   \n",
        "580  0.896916      0.100828    0.143357    0.218208    0.163993    0.165829   \n",
        "581  0.326423      0.129011    0.602448    0.462428    0.253119    0.444724   \n",
        "582  0.955907      0.460412    0.203846    0.130058    0.012478    0.007538   \n",
        "\n",
        "     curvature4  curvature5  curvature6  curvature7  curvature8  curvature9  \\\n",
        "0      0.139583    0.113971    0.086379    0.044898    0.011299    0.038462   \n",
        "1      0.100000    0.102941    0.019934    0.016327    0.028249    0.076923   \n",
        "2      0.004167    0.018382    0.016611    0.020408    0.045198    0.192308   \n",
        "3      0.120833    0.110294    0.063123    0.065306    0.090395    0.307692   \n",
        "4      0.129167    0.154412    0.159468    0.146939    0.101695    0.115385   \n",
        "5      0.006250    0.014706    0.009967    0.024490    0.045198    0.096154   \n",
        "6      0.158333    0.268382    0.162791    0.126531    0.039548    0.153846   \n",
        "7      0.170833    0.393382    0.295681    0.232653    0.175141    0.192308   \n",
        "8      0.060417    0.113971    0.066445    0.016327    0.005650    0.057692   \n",
        "9      0.010417    0.007353    0.009967    0.024490    0.028249    0.211538   \n",
        "10     0.006250    0.036765    0.023256    0.024490    0.005650    0.153846   \n",
        "11     0.116667    0.139706    0.076412    0.085714    0.005650    0.173077   \n",
        "12     0.004167    0.033088    0.036545    0.024490    0.022599    0.096154   \n",
        "13     0.120833    0.253676    0.438538    0.910204    0.073446    0.076923   \n",
        "14     0.095833    0.216912    0.169435    0.228571    0.141243    0.211538   \n",
        "15     0.006250    0.014706    0.009967    0.020408    0.033898    0.153846   \n",
        "16     0.145833    0.345588    0.727575    0.167347    0.011299    0.019231   \n",
        "17     0.150000    0.150735    0.132890    0.130612    0.090395    0.153846   \n",
        "18     0.010417    0.014706    0.033223    0.036735    0.033898    0.057692   \n",
        "19     0.008333    0.000000    0.006645    0.004082    0.039548    0.038462   \n",
        "20     0.260417    0.352941    0.212625    0.310204    0.242938    0.307692   \n",
        "21     0.006250    0.007353    0.013289    0.020408    0.062147    0.057692   \n",
        "22     0.329167    0.305147    0.162791    0.220408    0.067797    0.115385   \n",
        "23     0.006250    0.022059    0.009967    0.020408    0.079096    0.115385   \n",
        "24     0.125000    0.198529    0.172757    0.073469    0.101695    0.442308   \n",
        "25     0.004167    0.018382    0.009967    0.053061    0.033898    0.115385   \n",
        "26     0.056250    0.036765    0.023256    0.032653    0.005650    0.153846   \n",
        "27     0.008333    0.007353    0.023256    0.036735    0.016949    0.000000   \n",
        "28     0.006250    0.011029    0.006645    0.028571    0.056497    0.019231   \n",
        "29     0.135417    0.183824    0.192691    0.130612    0.124294    0.519231   \n",
        "..          ...         ...         ...         ...         ...         ...   \n",
        "553    0.150000    0.216912    0.215947    0.485714    0.531073    0.326923   \n",
        "554    0.033333    0.069853    0.066445    0.142857    0.429379    0.557692   \n",
        "555    0.141667    0.183824    0.116279    0.073469    0.084746    0.250000   \n",
        "556    0.133333    0.209559    0.222591    0.342857    0.062147    0.057692   \n",
        "557    0.147917    0.055147    0.073090    0.077551    0.141243    0.442308   \n",
        "558    0.145833    0.091912    0.096346    0.040816    0.118644    0.403846   \n",
        "559    0.200000    0.246324    0.076412    0.036735    0.124294    0.538462   \n",
        "560    0.031250    0.077206    0.076412    0.187755    0.225989    0.211538   \n",
        "561    0.054167    0.029412    0.006645    0.016327    0.039548    0.057692   \n",
        "562    0.102083    0.125000    0.013289    0.004082    0.005650    0.019231   \n",
        "563    0.006250    0.007353    0.036545    0.028571    0.033898    0.057692   \n",
        "564    0.050000    0.091912    0.089701    0.130612    0.209040    0.653846   \n",
        "565    0.322917    0.959559    0.079734    0.024490    0.011299    0.000000   \n",
        "566    0.131250    0.073529    0.049834    0.028571    0.016949    0.038462   \n",
        "567    0.066667    0.033088    0.039867    0.012245    0.011299    0.153846   \n",
        "568    0.247917    0.367647    0.279070    0.277551    0.175141    0.346154   \n",
        "569    0.620833    0.676471    0.102990    0.032653    0.016949    0.038462   \n",
        "570    0.283333    0.250000    0.066445    0.016327    0.050847    0.115385   \n",
        "571    0.166667    0.279412    0.232558    0.065306    0.039548    0.076923   \n",
        "572    0.102083    0.121324    0.102990    0.081633    0.135593    0.134615   \n",
        "573    0.122917    0.169118    0.176080    0.057143    0.062147    0.115385   \n",
        "574    0.056250    0.040441    0.006645    0.016327    0.016949    0.057692   \n",
        "575    0.268750    0.345588    0.076412    0.044898    0.011299    0.038462   \n",
        "576    0.045833    0.069853    0.069767    0.204082    0.186441    0.596154   \n",
        "577    0.181250    0.610294    0.614618    0.032653    0.033898    0.057692   \n",
        "578    0.104167    0.117647    0.089701    0.077551    0.073446    0.076923   \n",
        "579    0.152083    0.422794    0.611296    0.432653    0.011299    0.038462   \n",
        "580    0.127083    0.312500    0.408638    0.395918    0.141243    0.115385   \n",
        "581    0.612500    0.257353    0.016611    0.000000    0.011299    0.000000   \n",
        "582    0.006250    0.011029    0.023256    0.024490    0.056497    0.115385   \n",
        "\n",
        "     class  \n",
        "0        3  \n",
        "1        6  \n",
        "2        6  \n",
        "3        0  \n",
        "4        7  \n",
        "5        6  \n",
        "6        0  \n",
        "7        7  \n",
        "8        5  \n",
        "9        6  \n",
        "10       6  \n",
        "11       0  \n",
        "12       6  \n",
        "13       1  \n",
        "14       0  \n",
        "15       6  \n",
        "16       1  \n",
        "17       0  \n",
        "18       6  \n",
        "19       2  \n",
        "20       7  \n",
        "21       6  \n",
        "22       7  \n",
        "23       6  \n",
        "24       0  \n",
        "25       6  \n",
        "26       3  \n",
        "27       6  \n",
        "28       6  \n",
        "29       3  \n",
        "..     ...  \n",
        "553      1  \n",
        "554      8  \n",
        "555      0  \n",
        "556      4  \n",
        "557      0  \n",
        "558      0  \n",
        "559      7  \n",
        "560      8  \n",
        "561      3  \n",
        "562      0  \n",
        "563      6  \n",
        "564      5  \n",
        "565      1  \n",
        "566      0  \n",
        "567      3  \n",
        "568      7  \n",
        "569      1  \n",
        "570      4  \n",
        "571      3  \n",
        "572      5  \n",
        "573      3  \n",
        "574      2  \n",
        "575      7  \n",
        "576      8  \n",
        "577      1  \n",
        "578      3  \n",
        "579      1  \n",
        "580      4  \n",
        "581      1  \n",
        "582      6  \n",
        "\n",
        "[583 rows x 13 columns]"
       ]
      },
      {
       "metadata": {},
       "output_type": "display_data",
       "text": [
        "<matplotlib.figure.Figure at 0x7f2f9cb4b810>"
       ]
      },
      {
       "metadata": {},
       "output_type": "display_data",
       "text": [
        "<matplotlib.figure.Figure at 0x7f2f9ca91ad0>"
       ]
      },
      {
       "metadata": {},
       "output_type": "display_data",
       "text": [
        "<matplotlib.figure.Figure at 0x7f2fd5610890>"
       ]
      },
      {
       "metadata": {},
       "output_type": "display_data",
       "text": [
        "<matplotlib.figure.Figure at 0x7f2f9c925dd0>"
       ]
      },
      {
       "metadata": {},
       "output_type": "display_data",
       "text": [
        "<matplotlib.figure.Figure at 0x7f2f9c925490>"
       ]
      },
      {
       "metadata": {},
       "output_type": "display_data",
       "text": [
        "<matplotlib.figure.Figure at 0x7f2f9e9bee90>"
       ]
      },
      {
       "metadata": {},
       "output_type": "display_data",
       "text": [
        "<matplotlib.figure.Figure at 0x7f2f9e9be390>"
       ]
      },
      {
       "metadata": {},
       "output_type": "display_data",
       "text": [
        "<matplotlib.figure.Figure at 0x7f2f9cb83e90>"
       ]
      },
      {
       "metadata": {},
       "output_type": "display_data",
       "text": [
        "<matplotlib.figure.Figure at 0x7f2f9cb83650>"
       ]
      },
      {
       "metadata": {},
       "output_type": "display_data",
       "text": [
        "<matplotlib.figure.Figure at 0x7f2f9cafcb90>"
       ]
      },
      {
       "metadata": {},
       "output_type": "display_data",
       "text": [
        "<matplotlib.figure.Figure at 0x7f2f9cafc290>"
       ]
      },
      {
       "metadata": {},
       "output_type": "display_data",
       "text": [
        "<matplotlib.figure.Figure at 0x7f2f9c9a8d10>"
       ]
      },
      {
       "metadata": {},
       "output_type": "display_data",
       "text": [
        "<matplotlib.figure.Figure at 0x7f2f9c9a8650>"
       ]
      },
      {
       "metadata": {},
       "output_type": "display_data",
       "text": [
        "<matplotlib.figure.Figure at 0x7f2f9cb97290>"
       ]
      },
      {
       "metadata": {},
       "output_type": "display_data",
       "text": [
        "<matplotlib.figure.Figure at 0x7f2f9cb976d0>"
       ]
      },
      {
       "metadata": {},
       "output_type": "display_data",
       "text": [
        "<matplotlib.figure.Figure at 0x7f2f9ec08150>"
       ]
      },
      {
       "metadata": {},
       "output_type": "display_data",
       "text": [
        "<matplotlib.figure.Figure at 0x7f2f9ec08550>"
       ]
      },
      {
       "metadata": {},
       "output_type": "display_data",
       "text": [
        "<matplotlib.figure.Figure at 0x7f2f9cc1e810>"
       ]
      },
      {
       "metadata": {},
       "output_type": "display_data",
       "text": [
        "<matplotlib.figure.Figure at 0x7f2f9cc1ea90>"
       ]
      },
      {
       "metadata": {},
       "output_type": "display_data",
       "text": [
        "<matplotlib.figure.Figure at 0x7f2f9e9d35d0>"
       ]
      },
      {
       "metadata": {},
       "output_type": "display_data",
       "text": [
        "<matplotlib.figure.Figure at 0x7f2f9e9d3b50>"
       ]
      },
      {
       "metadata": {},
       "output_type": "display_data",
       "text": [
        "<matplotlib.figure.Figure at 0x7f2f9e9d3910>"
       ]
      },
      {
       "metadata": {},
       "output_type": "display_data",
       "text": [
        "<matplotlib.figure.Figure at 0x7f2f9e6bb610>"
       ]
      },
      {
       "metadata": {},
       "output_type": "display_data",
       "text": [
        "<matplotlib.figure.Figure at 0x7f2f9cca1590>"
       ]
      },
      {
       "metadata": {},
       "output_type": "display_data",
       "text": [
        "<matplotlib.figure.Figure at 0x7f2f9cca1890>"
       ]
      },
      {
       "metadata": {},
       "output_type": "display_data",
       "text": [
        "<matplotlib.figure.Figure at 0x7f2f9cca1350>"
       ]
      },
      {
       "metadata": {},
       "output_type": "display_data",
       "text": [
        "<matplotlib.figure.Figure at 0x7f2f9c0bd5d0>"
       ]
      },
      {
       "metadata": {},
       "output_type": "display_data",
       "text": [
        "<matplotlib.figure.Figure at 0x7f2f9c0bdb50>"
       ]
      },
      {
       "metadata": {},
       "output_type": "display_data",
       "text": [
        "<matplotlib.figure.Figure at 0x7f2f9e6e1a10>"
       ]
      },
      {
       "metadata": {},
       "output_type": "display_data",
       "text": [
        "<matplotlib.figure.Figure at 0x7f2f9e6e1690>"
       ]
      },
      {
       "metadata": {},
       "output_type": "display_data",
       "text": [
        "<matplotlib.figure.Figure at 0x7f2f9c6898d0>"
       ]
      },
      {
       "metadata": {},
       "output_type": "display_data",
       "text": [
        "<matplotlib.figure.Figure at 0x7f2f9c689510>"
       ]
      },
      {
       "metadata": {},
       "output_type": "display_data",
       "text": [
        "<matplotlib.figure.Figure at 0x7f2f9e826790>"
       ]
      },
      {
       "metadata": {},
       "output_type": "display_data",
       "text": [
        "<matplotlib.figure.Figure at 0x7f2f9e826f90>"
       ]
      },
      {
       "metadata": {},
       "output_type": "display_data",
       "text": [
        "<matplotlib.figure.Figure at 0x7f2f9e826ad0>"
       ]
      },
      {
       "metadata": {},
       "output_type": "display_data",
       "text": [
        "<matplotlib.figure.Figure at 0x7f2f9eab8610>"
       ]
      },
      {
       "metadata": {},
       "output_type": "display_data",
       "text": [
        "<matplotlib.figure.Figure at 0x7f2f9eab84d0>"
       ]
      },
      {
       "metadata": {},
       "output_type": "display_data",
       "text": [
        "<matplotlib.figure.Figure at 0x7f2f9e81fed0>"
       ]
      },
      {
       "metadata": {},
       "output_type": "display_data",
       "text": [
        "<matplotlib.figure.Figure at 0x7f2f9e81f410>"
       ]
      },
      {
       "metadata": {},
       "output_type": "display_data",
       "text": [
        "<matplotlib.figure.Figure at 0x7f2f9ea71050>"
       ]
      },
      {
       "metadata": {},
       "output_type": "display_data",
       "text": [
        "<matplotlib.figure.Figure at 0x7f2f9ea71790>"
       ]
      },
      {
       "metadata": {},
       "output_type": "display_data",
       "text": [
        "<matplotlib.figure.Figure at 0x7f2f9cdfd3d0>"
       ]
      },
      {
       "metadata": {},
       "output_type": "display_data",
       "text": [
        "<matplotlib.figure.Figure at 0x7f2f9cdfdb90>"
       ]
      },
      {
       "metadata": {},
       "output_type": "display_data",
       "text": [
        "<matplotlib.figure.Figure at 0x7f2f9cdfd510>"
       ]
      },
      {
       "metadata": {},
       "output_type": "display_data",
       "text": [
        "<matplotlib.figure.Figure at 0x7f2f9e95f2d0>"
       ]
      },
      {
       "metadata": {},
       "output_type": "display_data",
       "text": [
        "<matplotlib.figure.Figure at 0x7f2f9e95f850>"
       ]
      },
      {
       "metadata": {},
       "output_type": "display_data",
       "text": [
        "<matplotlib.figure.Figure at 0x7f2f9c99ec90>"
       ]
      },
      {
       "metadata": {},
       "output_type": "display_data",
       "text": [
        "<matplotlib.figure.Figure at 0x7f2f9c99e110>"
       ]
      },
      {
       "metadata": {},
       "output_type": "display_data",
       "text": [
        "<matplotlib.figure.Figure at 0x7f2f9e7d1710>"
       ]
      },
      {
       "metadata": {},
       "output_type": "display_data",
       "text": [
        "<matplotlib.figure.Figure at 0x7f2f9e7d1190>"
       ]
      },
      {
       "metadata": {},
       "output_type": "display_data",
       "text": [
        "<matplotlib.figure.Figure at 0x7f2f9c83f110>"
       ]
      },
      {
       "metadata": {},
       "output_type": "display_data",
       "text": [
        "<matplotlib.figure.Figure at 0x7f2f9c83fc10>"
       ]
      },
      {
       "metadata": {},
       "output_type": "display_data",
       "text": [
        "<matplotlib.figure.Figure at 0x7f2f9cdadf10>"
       ]
      },
      {
       "metadata": {},
       "output_type": "display_data",
       "text": [
        "<matplotlib.figure.Figure at 0x7f2f9ceb01d0>"
       ]
      },
      {
       "metadata": {},
       "output_type": "display_data",
       "text": [
        "<matplotlib.figure.Figure at 0x7f2f9ceb0e90>"
       ]
      },
      {
       "metadata": {},
       "output_type": "display_data",
       "text": [
        "<matplotlib.figure.Figure at 0x7f2f9c771c10>"
       ]
      },
      {
       "metadata": {},
       "output_type": "display_data",
       "text": [
        "<matplotlib.figure.Figure at 0x7f2f9c771050>"
       ]
      },
      {
       "metadata": {},
       "output_type": "display_data",
       "text": [
        "<matplotlib.figure.Figure at 0x7f2f9eb08dd0>"
       ]
      },
      {
       "metadata": {},
       "output_type": "display_data",
       "text": [
        "<matplotlib.figure.Figure at 0x7f2f9eb08950>"
       ]
      },
      {
       "metadata": {},
       "output_type": "display_data",
       "text": [
        "<matplotlib.figure.Figure at 0x7f2f9ce76410>"
       ]
      },
      {
       "metadata": {},
       "output_type": "display_data",
       "text": [
        "<matplotlib.figure.Figure at 0x7f2f9ce76890>"
       ]
      },
      {
       "metadata": {},
       "output_type": "display_data",
       "text": [
        "<matplotlib.figure.Figure at 0x7f2f9cb92910>"
       ]
      },
      {
       "metadata": {},
       "output_type": "display_data",
       "text": [
        "<matplotlib.figure.Figure at 0x7f2f9cb92f10>"
       ]
      },
      {
       "metadata": {},
       "output_type": "display_data",
       "text": [
        "<matplotlib.figure.Figure at 0x7f2f9e6f2190>"
       ]
      },
      {
       "metadata": {},
       "output_type": "display_data",
       "text": [
        "<matplotlib.figure.Figure at 0x7f2f9e6f2790>"
       ]
      },
      {
       "metadata": {},
       "output_type": "display_data",
       "text": [
        "<matplotlib.figure.Figure at 0x7f2f9e8d8750>"
       ]
      },
      {
       "metadata": {},
       "output_type": "display_data",
       "text": [
        "<matplotlib.figure.Figure at 0x7f2f9e8d8890>"
       ]
      },
      {
       "metadata": {},
       "output_type": "display_data",
       "text": [
        "<matplotlib.figure.Figure at 0x7f2f9e8d8050>"
       ]
      },
      {
       "metadata": {},
       "output_type": "display_data",
       "text": [
        "<matplotlib.figure.Figure at 0x7f2f9ea04e50>"
       ]
      },
      {
       "metadata": {},
       "output_type": "display_data",
       "text": [
        "<matplotlib.figure.Figure at 0x7f2f9ea042d0>"
       ]
      },
      {
       "metadata": {},
       "output_type": "display_data",
       "text": [
        "<matplotlib.figure.Figure at 0x7f2f9eca4c10>"
       ]
      },
      {
       "metadata": {},
       "output_type": "display_data",
       "text": [
        "<matplotlib.figure.Figure at 0x7f2f9eca47d0>"
       ]
      },
      {
       "metadata": {},
       "output_type": "display_data",
       "text": [
        "<matplotlib.figure.Figure at 0x7f2f9eca4e10>"
       ]
      },
      {
       "metadata": {},
       "output_type": "display_data",
       "text": [
        "<matplotlib.figure.Figure at 0x7f2f9cc2c190>"
       ]
      },
      {
       "metadata": {},
       "output_type": "display_data",
       "text": [
        "<matplotlib.figure.Figure at 0x7f2f9cc2cf50>"
       ]
      },
      {
       "metadata": {},
       "output_type": "display_data",
       "text": [
        "<matplotlib.figure.Figure at 0x7f2f9c697150>"
       ]
      },
      {
       "metadata": {},
       "output_type": "display_data",
       "text": [
        "<matplotlib.figure.Figure at 0x7f2f9c697bd0>"
       ]
      },
      {
       "metadata": {},
       "output_type": "display_data",
       "text": [
        "<matplotlib.figure.Figure at 0x7f2f9e6e9350>"
       ]
      },
      {
       "metadata": {},
       "output_type": "display_data",
       "text": [
        "<matplotlib.figure.Figure at 0x7f2f9e6e9f10>"
       ]
      },
      {
       "metadata": {},
       "output_type": "display_data",
       "text": [
        "<matplotlib.figure.Figure at 0x7f2f9e6e91d0>"
       ]
      },
      {
       "metadata": {},
       "output_type": "display_data",
       "text": [
        "<matplotlib.figure.Figure at 0x7f2f9cd07c10>"
       ]
      },
      {
       "metadata": {},
       "output_type": "display_data",
       "text": [
        "<matplotlib.figure.Figure at 0x7f2f9cd07a50>"
       ]
      },
      {
       "metadata": {},
       "output_type": "display_data",
       "text": [
        "<matplotlib.figure.Figure at 0x7f2f9eb7c550>"
       ]
      },
      {
       "metadata": {},
       "output_type": "display_data",
       "text": [
        "<matplotlib.figure.Figure at 0x7f2f9eb7cdd0>"
       ]
      },
      {
       "metadata": {},
       "output_type": "display_data",
       "text": [
        "<matplotlib.figure.Figure at 0x7f2f9c721e90>"
       ]
      },
      {
       "metadata": {},
       "output_type": "display_data",
       "text": [
        "<matplotlib.figure.Figure at 0x7f2f9c721990>"
       ]
      },
      {
       "metadata": {},
       "output_type": "display_data",
       "text": [
        "<matplotlib.figure.Figure at 0x7f2f9cc5c7d0>"
       ]
      },
      {
       "metadata": {},
       "output_type": "display_data",
       "text": [
        "<matplotlib.figure.Figure at 0x7f2f9cc5c850>"
       ]
      },
      {
       "metadata": {},
       "output_type": "display_data",
       "text": [
        "<matplotlib.figure.Figure at 0x7f2f9cc5c590>"
       ]
      },
      {
       "metadata": {},
       "output_type": "display_data",
       "text": [
        "<matplotlib.figure.Figure at 0x7f2f9cd2fa50>"
       ]
      },
      {
       "metadata": {},
       "output_type": "display_data",
       "text": [
        "<matplotlib.figure.Figure at 0x7f2f9cd2fe90>"
       ]
      },
      {
       "metadata": {},
       "output_type": "display_data",
       "text": [
        "<matplotlib.figure.Figure at 0x7f2f9e83ced0>"
       ]
      },
      {
       "metadata": {},
       "output_type": "display_data",
       "text": [
        "<matplotlib.figure.Figure at 0x7f2f9e83c790>"
       ]
      },
      {
       "metadata": {},
       "output_type": "display_data",
       "text": [
        "<matplotlib.figure.Figure at 0x7f2f9ce3f890>"
       ]
      },
      {
       "metadata": {},
       "output_type": "display_data",
       "text": [
        "<matplotlib.figure.Figure at 0x7f2f9ce3fbd0>"
       ]
      },
      {
       "metadata": {},
       "output_type": "display_data",
       "text": [
        "<matplotlib.figure.Figure at 0x7f2f9c6f8990>"
       ]
      },
      {
       "metadata": {},
       "output_type": "display_data",
       "text": [
        "<matplotlib.figure.Figure at 0x7f2f9c6f8790>"
       ]
      },
      {
       "metadata": {},
       "output_type": "display_data",
       "text": [
        "<matplotlib.figure.Figure at 0x7f2f9c7074d0>"
       ]
      },
      {
       "metadata": {},
       "output_type": "display_data",
       "text": [
        "<matplotlib.figure.Figure at 0x7f2f9c7076d0>"
       ]
      },
      {
       "metadata": {},
       "output_type": "display_data",
       "text": [
        "<matplotlib.figure.Figure at 0x7f2f9c707710>"
       ]
      },
      {
       "metadata": {},
       "output_type": "display_data",
       "text": [
        "<matplotlib.figure.Figure at 0x7f2f9c76afd0>"
       ]
      },
      {
       "metadata": {},
       "output_type": "display_data",
       "text": [
        "<matplotlib.figure.Figure at 0x7f2f9c76ae90>"
       ]
      },
      {
       "metadata": {},
       "output_type": "display_data",
       "text": [
        "<matplotlib.figure.Figure at 0x7f2f9c75cad0>"
       ]
      },
      {
       "metadata": {},
       "output_type": "display_data",
       "text": [
        "<matplotlib.figure.Figure at 0x7f2f9c75c210>"
       ]
      },
      {
       "metadata": {},
       "output_type": "display_data",
       "text": [
        "<matplotlib.figure.Figure at 0x7f2f9c722510>"
       ]
      },
      {
       "metadata": {},
       "output_type": "display_data",
       "text": [
        "<matplotlib.figure.Figure at 0x7f2f9c722090>"
       ]
      },
      {
       "metadata": {},
       "output_type": "display_data",
       "text": [
        "<matplotlib.figure.Figure at 0x7f2f9c750890>"
       ]
      },
      {
       "metadata": {},
       "output_type": "display_data",
       "text": [
        "<matplotlib.figure.Figure at 0x7f2f9c750ed0>"
       ]
      },
      {
       "metadata": {},
       "output_type": "display_data",
       "text": [
        "<matplotlib.figure.Figure at 0x7f2f9c7509d0>"
       ]
      },
      {
       "metadata": {},
       "output_type": "display_data",
       "text": [
        "<matplotlib.figure.Figure at 0x7f2f9ecc7710>"
       ]
      },
      {
       "metadata": {},
       "output_type": "display_data",
       "text": [
        "<matplotlib.figure.Figure at 0x7f2f9ecc7390>"
       ]
      },
      {
       "metadata": {},
       "output_type": "display_data",
       "text": [
        "<matplotlib.figure.Figure at 0x7f2f9e760c50>"
       ]
      },
      {
       "metadata": {},
       "output_type": "display_data",
       "text": [
        "<matplotlib.figure.Figure at 0x7f2f9e760290>"
       ]
      },
      {
       "metadata": {},
       "output_type": "display_data",
       "text": [
        "<matplotlib.figure.Figure at 0x7f2f9e9ced10>"
       ]
      },
      {
       "metadata": {},
       "output_type": "display_data",
       "text": [
        "<matplotlib.figure.Figure at 0x7f2f9e9cedd0>"
       ]
      },
      {
       "metadata": {},
       "output_type": "display_data",
       "text": [
        "<matplotlib.figure.Figure at 0x7f2f9e9cecd0>"
       ]
      },
      {
       "metadata": {},
       "output_type": "display_data",
       "text": [
        "<matplotlib.figure.Figure at 0x7f2f9ecca3d0>"
       ]
      },
      {
       "metadata": {},
       "output_type": "display_data",
       "text": [
        "<matplotlib.figure.Figure at 0x7f2f9ecca490>"
       ]
      },
      {
       "metadata": {},
       "output_type": "display_data",
       "text": [
        "<matplotlib.figure.Figure at 0x7f2f9e848190>"
       ]
      },
      {
       "metadata": {},
       "output_type": "display_data",
       "text": [
        "<matplotlib.figure.Figure at 0x7f2f9e848790>"
       ]
      },
      {
       "metadata": {},
       "output_type": "display_data",
       "text": [
        "<matplotlib.figure.Figure at 0x7f2f9e6c4c10>"
       ]
      },
      {
       "metadata": {},
       "output_type": "display_data",
       "text": [
        "<matplotlib.figure.Figure at 0x7f2f9e6c4d10>"
       ]
      },
      {
       "metadata": {},
       "output_type": "display_data",
       "text": [
        "<matplotlib.figure.Figure at 0x7f2f9e95e050>"
       ]
      },
      {
       "metadata": {},
       "output_type": "display_data",
       "text": [
        "<matplotlib.figure.Figure at 0x7f2f9e95e2d0>"
       ]
      },
      {
       "metadata": {},
       "output_type": "display_data",
       "text": [
        "<matplotlib.figure.Figure at 0x7f2f9e95e410>"
       ]
      },
      {
       "metadata": {},
       "output_type": "display_data",
       "text": [
        "<matplotlib.figure.Figure at 0x7f2f9ce57e90>"
       ]
      },
      {
       "metadata": {},
       "output_type": "display_data",
       "text": [
        "<matplotlib.figure.Figure at 0x7f2f9ce57150>"
       ]
      },
      {
       "metadata": {},
       "output_type": "display_data",
       "text": [
        "<matplotlib.figure.Figure at 0x7f2f9e74d850>"
       ]
      },
      {
       "metadata": {},
       "output_type": "display_data",
       "text": [
        "<matplotlib.figure.Figure at 0x7f2f9e74d450>"
       ]
      },
      {
       "metadata": {},
       "output_type": "display_data",
       "text": [
        "<matplotlib.figure.Figure at 0x7f2f9e947ed0>"
       ]
      },
      {
       "metadata": {},
       "output_type": "display_data",
       "text": [
        "<matplotlib.figure.Figure at 0x7f2f9e947090>"
       ]
      },
      {
       "metadata": {},
       "output_type": "display_data",
       "text": [
        "<matplotlib.figure.Figure at 0x7f2f9e7dd390>"
       ]
      },
      {
       "metadata": {},
       "output_type": "display_data",
       "text": [
        "<matplotlib.figure.Figure at 0x7f2f9e7dda50>"
       ]
      },
      {
       "metadata": {},
       "output_type": "display_data",
       "text": [
        "<matplotlib.figure.Figure at 0x7f2f9ce68450>"
       ]
      },
      {
       "metadata": {},
       "output_type": "display_data",
       "text": [
        "<matplotlib.figure.Figure at 0x7f2f9ce68b10>"
       ]
      },
      {
       "metadata": {},
       "output_type": "display_data",
       "text": [
        "<matplotlib.figure.Figure at 0x7f2f9e70c710>"
       ]
      },
      {
       "metadata": {},
       "output_type": "display_data",
       "text": [
        "<matplotlib.figure.Figure at 0x7f2f9e70ccd0>"
       ]
      },
      {
       "metadata": {},
       "output_type": "display_data",
       "text": [
        "<matplotlib.figure.Figure at 0x7f2f9c99f610>"
       ]
      },
      {
       "metadata": {},
       "output_type": "display_data",
       "text": [
        "<matplotlib.figure.Figure at 0x7f2f9c99fd90>"
       ]
      },
      {
       "metadata": {},
       "output_type": "display_data",
       "text": [
        "<matplotlib.figure.Figure at 0x7f2f9c99f650>"
       ]
      },
      {
       "metadata": {},
       "output_type": "display_data",
       "text": [
        "<matplotlib.figure.Figure at 0x7f2f9ecb9550>"
       ]
      },
      {
       "metadata": {},
       "output_type": "display_data",
       "text": [
        "<matplotlib.figure.Figure at 0x7f2f9ecb9610>"
       ]
      },
      {
       "metadata": {},
       "output_type": "display_data",
       "text": [
        "<matplotlib.figure.Figure at 0x7f2f9eba6050>"
       ]
      },
      {
       "metadata": {},
       "output_type": "display_data",
       "text": [
        "<matplotlib.figure.Figure at 0x7f2f9eba6950>"
       ]
      },
      {
       "metadata": {},
       "output_type": "display_data",
       "text": [
        "<matplotlib.figure.Figure at 0x7f2f9e9d0dd0>"
       ]
      },
      {
       "metadata": {},
       "output_type": "display_data",
       "text": [
        "<matplotlib.figure.Figure at 0x7f2f9e71ced0>"
       ]
      },
      {
       "metadata": {},
       "output_type": "display_data",
       "text": [
        "<matplotlib.figure.Figure at 0x7f2f9e71cb10>"
       ]
      },
      {
       "metadata": {},
       "output_type": "display_data",
       "text": [
        "<matplotlib.figure.Figure at 0x7f2f9ec24a50>"
       ]
      },
      {
       "metadata": {},
       "output_type": "display_data",
       "text": [
        "<matplotlib.figure.Figure at 0x7f2f9ec24d50>"
       ]
      },
      {
       "metadata": {},
       "output_type": "display_data",
       "text": [
        "<matplotlib.figure.Figure at 0x7f2f9eaeecd0>"
       ]
      },
      {
       "metadata": {},
       "output_type": "display_data",
       "text": [
        "<matplotlib.figure.Figure at 0x7f2f9eaee090>"
       ]
      },
      {
       "metadata": {},
       "output_type": "display_data",
       "text": [
        "<matplotlib.figure.Figure at 0x7f2f9eac7050>"
       ]
      },
      {
       "metadata": {},
       "output_type": "display_data",
       "text": [
        "<matplotlib.figure.Figure at 0x7f2f9eac7c10>"
       ]
      },
      {
       "metadata": {},
       "output_type": "display_data",
       "text": [
        "<matplotlib.figure.Figure at 0x7f2f9eac7d10>"
       ]
      },
      {
       "metadata": {},
       "output_type": "display_data",
       "text": [
        "<matplotlib.figure.Figure at 0x7f2f9ebf4390>"
       ]
      },
      {
       "metadata": {},
       "output_type": "display_data",
       "text": [
        "<matplotlib.figure.Figure at 0x7f2f9ebf4090>"
       ]
      },
      {
       "metadata": {},
       "output_type": "display_data",
       "text": [
        "<matplotlib.figure.Figure at 0x7f2f9e723690>"
       ]
      },
      {
       "metadata": {},
       "output_type": "display_data",
       "text": [
        "<matplotlib.figure.Figure at 0x7f2f9e723f10>"
       ]
      },
      {
       "metadata": {},
       "output_type": "display_data",
       "text": [
        "<matplotlib.figure.Figure at 0x7f2f9e9f4a50>"
       ]
      },
      {
       "metadata": {},
       "output_type": "display_data",
       "text": [
        "<matplotlib.figure.Figure at 0x7f2f9e9f4f90>"
       ]
      },
      {
       "metadata": {},
       "output_type": "display_data",
       "text": [
        "<matplotlib.figure.Figure at 0x7f2f9f37f5d0>"
       ]
      },
      {
       "metadata": {},
       "output_type": "display_data",
       "text": [
        "<matplotlib.figure.Figure at 0x7f2f9f37ffd0>"
       ]
      },
      {
       "metadata": {},
       "output_type": "display_data",
       "text": [
        "<matplotlib.figure.Figure at 0x7f2fa8b0c910>"
       ]
      },
      {
       "metadata": {},
       "output_type": "display_data",
       "text": [
        "<matplotlib.figure.Figure at 0x7f2f9e739d50>"
       ]
      },
      {
       "metadata": {},
       "output_type": "display_data",
       "text": [
        "<matplotlib.figure.Figure at 0x7f2f9e739190>"
       ]
      },
      {
       "metadata": {},
       "output_type": "display_data",
       "text": [
        "<matplotlib.figure.Figure at 0x7f2f9ec653d0>"
       ]
      },
      {
       "metadata": {},
       "output_type": "display_data",
       "text": [
        "<matplotlib.figure.Figure at 0x7f2f9ec65050>"
       ]
      },
      {
       "metadata": {},
       "output_type": "display_data",
       "text": [
        "<matplotlib.figure.Figure at 0x7f2f9e9ea750>"
       ]
      },
      {
       "metadata": {},
       "output_type": "display_data",
       "text": [
        "<matplotlib.figure.Figure at 0x7f2f9e8f7210>"
       ]
      },
      {
       "metadata": {},
       "output_type": "display_data",
       "text": [
        "<matplotlib.figure.Figure at 0x7f2f9e8f7f90>"
       ]
      },
      {
       "metadata": {},
       "output_type": "display_data",
       "text": [
        "<matplotlib.figure.Figure at 0x7f2f9e8f7ad0>"
       ]
      },
      {
       "metadata": {},
       "output_type": "display_data",
       "text": [
        "<matplotlib.figure.Figure at 0x7f2f9e7b6c90>"
       ]
      },
      {
       "metadata": {},
       "output_type": "display_data",
       "text": [
        "<matplotlib.figure.Figure at 0x7f2f9e7b6690>"
       ]
      },
      {
       "metadata": {},
       "output_type": "display_data",
       "text": [
        "<matplotlib.figure.Figure at 0x7f2f9e9b3890>"
       ]
      },
      {
       "metadata": {},
       "output_type": "display_data",
       "text": [
        "<matplotlib.figure.Figure at 0x7f2f9e9b3e90>"
       ]
      },
      {
       "metadata": {},
       "output_type": "display_data",
       "text": [
        "<matplotlib.figure.Figure at 0x7f2f9eb962d0>"
       ]
      },
      {
       "metadata": {},
       "output_type": "display_data",
       "text": [
        "<matplotlib.figure.Figure at 0x7f2f9eb96990>"
       ]
      },
      {
       "metadata": {},
       "output_type": "display_data",
       "text": [
        "<matplotlib.figure.Figure at 0x7f2f9e72fd90>"
       ]
      },
      {
       "metadata": {},
       "output_type": "display_data",
       "text": [
        "<matplotlib.figure.Figure at 0x7f2f9e72ff90>"
       ]
      },
      {
       "metadata": {},
       "output_type": "display_data",
       "text": [
        "<matplotlib.figure.Figure at 0x7f2f9ec841d0>"
       ]
      },
      {
       "metadata": {},
       "output_type": "display_data",
       "text": [
        "<matplotlib.figure.Figure at 0x7f2f9ec84a50>"
       ]
      },
      {
       "metadata": {},
       "output_type": "display_data",
       "text": [
        "<matplotlib.figure.Figure at 0x7f2f9e93a050>"
       ]
      },
      {
       "metadata": {},
       "output_type": "display_data",
       "text": [
        "<matplotlib.figure.Figure at 0x7f2f9e93aad0>"
       ]
      },
      {
       "metadata": {},
       "output_type": "display_data",
       "text": [
        "<matplotlib.figure.Figure at 0x7f2f9e78f0d0>"
       ]
      },
      {
       "metadata": {},
       "output_type": "display_data",
       "text": [
        "<matplotlib.figure.Figure at 0x7f2f9e78f590>"
       ]
      },
      {
       "metadata": {},
       "output_type": "display_data",
       "text": [
        "<matplotlib.figure.Figure at 0x7f2fa8b67050>"
       ]
      },
      {
       "metadata": {},
       "output_type": "display_data",
       "text": [
        "<matplotlib.figure.Figure at 0x7f2f9e9a6290>"
       ]
      },
      {
       "metadata": {},
       "output_type": "display_data",
       "text": [
        "<matplotlib.figure.Figure at 0x7f2f9e9a6b90>"
       ]
      },
      {
       "metadata": {},
       "output_type": "display_data",
       "text": [
        "<matplotlib.figure.Figure at 0x7f2f9e7ec4d0>"
       ]
      },
      {
       "metadata": {},
       "output_type": "display_data",
       "text": [
        "<matplotlib.figure.Figure at 0x7f2f9e7ec7d0>"
       ]
      },
      {
       "metadata": {},
       "output_type": "display_data",
       "text": [
        "<matplotlib.figure.Figure at 0x7f2f9ebeb4d0>"
       ]
      },
      {
       "metadata": {},
       "output_type": "display_data",
       "text": [
        "<matplotlib.figure.Figure at 0x7f2f9ebeb090>"
       ]
      },
      {
       "metadata": {},
       "output_type": "display_data",
       "text": [
        "<matplotlib.figure.Figure at 0x7f2f9ebebad0>"
       ]
      },
      {
       "metadata": {},
       "output_type": "display_data",
       "text": [
        "<matplotlib.figure.Figure at 0x7f2f9ce8c110>"
       ]
      },
      {
       "metadata": {},
       "output_type": "display_data",
       "text": [
        "<matplotlib.figure.Figure at 0x7f2f9ce8ca90>"
       ]
      },
      {
       "metadata": {},
       "output_type": "display_data",
       "text": [
        "<matplotlib.figure.Figure at 0x7f2f9e6fee90>"
       ]
      },
      {
       "metadata": {},
       "output_type": "display_data",
       "text": [
        "<matplotlib.figure.Figure at 0x7f2f9e6fe210>"
       ]
      },
      {
       "metadata": {},
       "output_type": "display_data",
       "text": [
        "<matplotlib.figure.Figure at 0x7f2f9e713050>"
       ]
      },
      {
       "metadata": {},
       "output_type": "display_data",
       "text": [
        "<matplotlib.figure.Figure at 0x7f2f9e7136d0>"
       ]
      },
      {
       "metadata": {},
       "output_type": "display_data",
       "text": [
        "<matplotlib.figure.Figure at 0x7f2f9e943610>"
       ]
      },
      {
       "metadata": {},
       "output_type": "display_data",
       "text": [
        "<matplotlib.figure.Figure at 0x7f2f9e943e50>"
       ]
      },
      {
       "metadata": {},
       "output_type": "display_data",
       "text": [
        "<matplotlib.figure.Figure at 0x7f2f9e9432d0>"
       ]
      },
      {
       "metadata": {},
       "output_type": "display_data",
       "text": [
        "<matplotlib.figure.Figure at 0x7f2f9e96a0d0>"
       ]
      },
      {
       "metadata": {},
       "output_type": "display_data",
       "text": [
        "<matplotlib.figure.Figure at 0x7f2f9e96a490>"
       ]
      },
      {
       "metadata": {},
       "output_type": "display_data",
       "text": [
        "<matplotlib.figure.Figure at 0x7f2f9e92ae90>"
       ]
      },
      {
       "metadata": {},
       "output_type": "display_data",
       "text": [
        "<matplotlib.figure.Figure at 0x7f2f9e92a410>"
       ]
      },
      {
       "metadata": {},
       "output_type": "display_data",
       "text": [
        "<matplotlib.figure.Figure at 0x7f2f9e705c10>"
       ]
      },
      {
       "metadata": {},
       "output_type": "display_data",
       "text": [
        "<matplotlib.figure.Figure at 0x7f2f9e705810>"
       ]
      },
      {
       "metadata": {},
       "output_type": "display_data",
       "text": [
        "<matplotlib.figure.Figure at 0x7f2f9e784c10>"
       ]
      },
      {
       "metadata": {},
       "output_type": "display_data",
       "text": [
        "<matplotlib.figure.Figure at 0x7f2f9e7840d0>"
       ]
      },
      {
       "metadata": {},
       "output_type": "display_data",
       "text": [
        "<matplotlib.figure.Figure at 0x7f2f9e8fb910>"
       ]
      },
      {
       "metadata": {},
       "output_type": "display_data",
       "text": [
        "<matplotlib.figure.Figure at 0x7f2f9e8fba50>"
       ]
      },
      {
       "metadata": {},
       "output_type": "display_data",
       "text": [
        "<matplotlib.figure.Figure at 0x7f2f9ec9bd90>"
       ]
      },
      {
       "metadata": {},
       "output_type": "display_data",
       "text": [
        "<matplotlib.figure.Figure at 0x7f2f9ec9b610>"
       ]
      },
      {
       "metadata": {},
       "output_type": "display_data",
       "text": [
        "<matplotlib.figure.Figure at 0x7f2f9ec9ba90>"
       ]
      },
      {
       "metadata": {},
       "output_type": "display_data",
       "text": [
        "<matplotlib.figure.Figure at 0x7f2f9e9a5310>"
       ]
      },
      {
       "metadata": {},
       "output_type": "display_data",
       "text": [
        "<matplotlib.figure.Figure at 0x7f2f9e9a5550>"
       ]
      },
      {
       "metadata": {},
       "output_type": "display_data",
       "text": [
        "<matplotlib.figure.Figure at 0x7f2f9e9a5590>"
       ]
      },
      {
       "metadata": {},
       "output_type": "display_data",
       "text": [
        "<matplotlib.figure.Figure at 0x7f2f9e796610>"
       ]
      },
      {
       "metadata": {},
       "output_type": "display_data",
       "text": [
        "<matplotlib.figure.Figure at 0x7f2f9e796ad0>"
       ]
      },
      {
       "metadata": {},
       "output_type": "display_data",
       "text": [
        "<matplotlib.figure.Figure at 0x7f2f9e89f510>"
       ]
      },
      {
       "metadata": {},
       "output_type": "display_data",
       "text": [
        "<matplotlib.figure.Figure at 0x7f2f9e89fc90>"
       ]
      },
      {
       "metadata": {},
       "output_type": "display_data",
       "text": [
        "<matplotlib.figure.Figure at 0x7f2f9e7a0c10>"
       ]
      },
      {
       "metadata": {},
       "output_type": "display_data",
       "text": [
        "<matplotlib.figure.Figure at 0x7f2f9e7a0ad0>"
       ]
      },
      {
       "metadata": {},
       "output_type": "display_data",
       "text": [
        "<matplotlib.figure.Figure at 0x7f2f9e7a0190>"
       ]
      },
      {
       "metadata": {},
       "output_type": "display_data",
       "text": [
        "<matplotlib.figure.Figure at 0x7f2f9e97c750>"
       ]
      },
      {
       "metadata": {},
       "output_type": "display_data",
       "text": [
        "<matplotlib.figure.Figure at 0x7f2f9e97c210>"
       ]
      },
      {
       "metadata": {},
       "output_type": "display_data",
       "text": [
        "<matplotlib.figure.Figure at 0x7f2f9ca91a50>"
       ]
      },
      {
       "metadata": {},
       "output_type": "display_data",
       "text": [
        "<matplotlib.figure.Figure at 0x7f2f9ca91050>"
       ]
      },
      {
       "metadata": {},
       "output_type": "display_data",
       "text": [
        "<matplotlib.figure.Figure at 0x7f2f9cb4b3d0>"
       ]
      },
      {
       "metadata": {},
       "output_type": "display_data",
       "text": [
        "<matplotlib.figure.Figure at 0x7f2f9cb4b7d0>"
       ]
      },
      {
       "metadata": {},
       "output_type": "display_data",
       "text": [
        "<matplotlib.figure.Figure at 0x7f2f9e909d10>"
       ]
      },
      {
       "metadata": {},
       "output_type": "display_data",
       "text": [
        "<matplotlib.figure.Figure at 0x7f2f9e909a90>"
       ]
      },
      {
       "metadata": {},
       "output_type": "display_data",
       "text": [
        "<matplotlib.figure.Figure at 0x7f2f9e909a10>"
       ]
      },
      {
       "metadata": {},
       "output_type": "display_data",
       "text": [
        "<matplotlib.figure.Figure at 0x7f2f9ebaa990>"
       ]
      },
      {
       "metadata": {},
       "output_type": "display_data",
       "text": [
        "<matplotlib.figure.Figure at 0x7f2f9ebaaa90>"
       ]
      },
      {
       "metadata": {},
       "output_type": "display_data",
       "text": [
        "<matplotlib.figure.Figure at 0x7f2f9c900810>"
       ]
      },
      {
       "metadata": {},
       "output_type": "display_data",
       "text": [
        "<matplotlib.figure.Figure at 0x7f2f9c900050>"
       ]
      },
      {
       "metadata": {},
       "output_type": "display_data",
       "text": [
        "<matplotlib.figure.Figure at 0x7f2f9eaac590>"
       ]
      },
      {
       "metadata": {},
       "output_type": "display_data",
       "text": [
        "<matplotlib.figure.Figure at 0x7f2f9eaac6d0>"
       ]
      },
      {
       "metadata": {},
       "output_type": "display_data",
       "text": [
        "<matplotlib.figure.Figure at 0x7f2fa8fc3290>"
       ]
      },
      {
       "metadata": {},
       "output_type": "display_data",
       "text": [
        "<matplotlib.figure.Figure at 0x7f2f9c698690>"
       ]
      },
      {
       "metadata": {},
       "output_type": "display_data",
       "text": [
        "<matplotlib.figure.Figure at 0x7f2f9c698290>"
       ]
      },
      {
       "metadata": {},
       "output_type": "display_data",
       "text": [
        "<matplotlib.figure.Figure at 0x7f2f9c698e50>"
       ]
      },
      {
       "metadata": {},
       "output_type": "display_data",
       "text": [
        "<matplotlib.figure.Figure at 0x7f2f9ccbd650>"
       ]
      },
      {
       "metadata": {},
       "output_type": "display_data",
       "text": [
        "<matplotlib.figure.Figure at 0x7f2f9ccbd310>"
       ]
      },
      {
       "metadata": {},
       "output_type": "display_data",
       "text": [
        "<matplotlib.figure.Figure at 0x7f2f9ccba7d0>"
       ]
      },
      {
       "metadata": {},
       "output_type": "display_data",
       "text": [
        "<matplotlib.figure.Figure at 0x7f2f9ccba3d0>"
       ]
      },
      {
       "metadata": {},
       "output_type": "display_data",
       "text": [
        "<matplotlib.figure.Figure at 0x7f2f9c93b9d0>"
       ]
      },
      {
       "metadata": {},
       "output_type": "display_data",
       "text": [
        "<matplotlib.figure.Figure at 0x7f2f9c93bed0>"
       ]
      },
      {
       "metadata": {},
       "output_type": "display_data",
       "text": [
        "<matplotlib.figure.Figure at 0x7f2fa8ae4cd0>"
       ]
      },
      {
       "metadata": {},
       "output_type": "display_data",
       "text": [
        "<matplotlib.figure.Figure at 0x7f2f9eaa2f90>"
       ]
      },
      {
       "metadata": {},
       "output_type": "display_data",
       "text": [
        "<matplotlib.figure.Figure at 0x7f2fa8ca9090>"
       ]
      },
      {
       "metadata": {},
       "output_type": "display_data",
       "text": [
        "<matplotlib.figure.Figure at 0x7f2fa8d0c310>"
       ]
      },
      {
       "metadata": {},
       "output_type": "display_data",
       "text": [
        "<matplotlib.figure.Figure at 0x7f2fa8c5a250>"
       ]
      },
      {
       "metadata": {},
       "output_type": "display_data",
       "text": [
        "<matplotlib.figure.Figure at 0x7f2fa8b39950>"
       ]
      },
      {
       "metadata": {},
       "output_type": "display_data",
       "text": [
        "<matplotlib.figure.Figure at 0x7f2f9cd74590>"
       ]
      },
      {
       "metadata": {},
       "output_type": "display_data",
       "text": [
        "<matplotlib.figure.Figure at 0x7f2f9ea81a50>"
       ]
      },
      {
       "metadata": {},
       "output_type": "display_data",
       "text": [
        "<matplotlib.figure.Figure at 0x7f2f9e7c28d0>"
       ]
      },
      {
       "metadata": {},
       "output_type": "display_data",
       "text": [
        "<matplotlib.figure.Figure at 0x7f2f9e7c2f90>"
       ]
      },
      {
       "metadata": {},
       "output_type": "display_data",
       "text": [
        "<matplotlib.figure.Figure at 0x7f2f9cd985d0>"
       ]
      },
      {
       "metadata": {},
       "output_type": "display_data",
       "text": [
        "<matplotlib.figure.Figure at 0x7f2f9ce18250>"
       ]
      },
      {
       "metadata": {},
       "output_type": "display_data",
       "text": [
        "<matplotlib.figure.Figure at 0x7f2f9cddbf50>"
       ]
      },
      {
       "metadata": {},
       "output_type": "display_data",
       "text": [
        "<matplotlib.figure.Figure at 0x7f2fa8b03f10>"
       ]
      },
      {
       "metadata": {},
       "output_type": "display_data",
       "text": [
        "<matplotlib.figure.Figure at 0x7f2f9ec0d950>"
       ]
      },
      {
       "metadata": {},
       "output_type": "display_data",
       "text": [
        "<matplotlib.figure.Figure at 0x7f2f9ec0de90>"
       ]
      },
      {
       "metadata": {},
       "output_type": "display_data",
       "text": [
        "<matplotlib.figure.Figure at 0x7f2f9eaaaf90>"
       ]
      },
      {
       "metadata": {},
       "output_type": "display_data",
       "text": [
        "<matplotlib.figure.Figure at 0x7f2f9eaaaed0>"
       ]
      },
      {
       "metadata": {},
       "output_type": "display_data",
       "text": [
        "<matplotlib.figure.Figure at 0x7f2f9e6cf0d0>"
       ]
      },
      {
       "metadata": {},
       "output_type": "display_data",
       "text": [
        "<matplotlib.figure.Figure at 0x7f2f9e6cfb90>"
       ]
      },
      {
       "metadata": {},
       "output_type": "display_data",
       "text": [
        "<matplotlib.figure.Figure at 0x7f2f9ca919d0>"
       ]
      },
      {
       "metadata": {},
       "output_type": "display_data",
       "text": [
        "<matplotlib.figure.Figure at 0x7f2f9ce71450>"
       ]
      },
      {
       "metadata": {},
       "output_type": "display_data",
       "text": [
        "<matplotlib.figure.Figure at 0x7f2f9cb00210>"
       ]
      },
      {
       "metadata": {},
       "output_type": "display_data",
       "text": [
        "<matplotlib.figure.Figure at 0x7f2f9cb00050>"
       ]
      },
      {
       "metadata": {},
       "output_type": "display_data",
       "text": [
        "<matplotlib.figure.Figure at 0x7f2f9c5ddc50>"
       ]
      },
      {
       "metadata": {},
       "output_type": "display_data",
       "text": [
        "<matplotlib.figure.Figure at 0x7f2f9c5dd2d0>"
       ]
      },
      {
       "metadata": {},
       "output_type": "display_data",
       "text": [
        "<matplotlib.figure.Figure at 0x7f2f9c5dd7d0>"
       ]
      },
      {
       "metadata": {},
       "output_type": "display_data",
       "text": [
        "<matplotlib.figure.Figure at 0x7f2f9ce37590>"
       ]
      },
      {
       "metadata": {},
       "output_type": "display_data",
       "text": [
        "<matplotlib.figure.Figure at 0x7f2f9ce60450>"
       ]
      },
      {
       "metadata": {},
       "output_type": "display_data",
       "text": [
        "<matplotlib.figure.Figure at 0x7f2f9ce607d0>"
       ]
      },
      {
       "metadata": {},
       "output_type": "display_data",
       "text": [
        "<matplotlib.figure.Figure at 0x7f2f9c5b9ed0>"
       ]
      },
      {
       "metadata": {},
       "output_type": "display_data",
       "text": [
        "<matplotlib.figure.Figure at 0x7f2f9c5b9b10>"
       ]
      },
      {
       "metadata": {},
       "output_type": "display_data",
       "text": [
        "<matplotlib.figure.Figure at 0x7f2f9c5b96d0>"
       ]
      },
      {
       "metadata": {},
       "output_type": "display_data",
       "text": [
        "<matplotlib.figure.Figure at 0x7f2f9c98ff90>"
       ]
      },
      {
       "metadata": {},
       "output_type": "display_data",
       "text": [
        "<matplotlib.figure.Figure at 0x7f2f9c5d2750>"
       ]
      },
      {
       "metadata": {},
       "output_type": "display_data",
       "text": [
        "<matplotlib.figure.Figure at 0x7f2f9c5d2150>"
       ]
      },
      {
       "metadata": {},
       "output_type": "display_data",
       "text": [
        "<matplotlib.figure.Figure at 0x7f2f9e6d9810>"
       ]
      },
      {
       "metadata": {},
       "output_type": "display_data",
       "text": [
        "<matplotlib.figure.Figure at 0x7f2f9e6d9110>"
       ]
      },
      {
       "metadata": {},
       "output_type": "display_data",
       "text": [
        "<matplotlib.figure.Figure at 0x7f2f9c949410>"
       ]
      },
      {
       "metadata": {},
       "output_type": "display_data",
       "text": [
        "<matplotlib.figure.Figure at 0x7f2f9c949d50>"
       ]
      },
      {
       "metadata": {},
       "output_type": "display_data",
       "text": [
        "<matplotlib.figure.Figure at 0x7f2f9c949f50>"
       ]
      },
      {
       "metadata": {},
       "output_type": "display_data",
       "text": [
        "<matplotlib.figure.Figure at 0x7f2f9c8ea150>"
       ]
      },
      {
       "metadata": {},
       "output_type": "display_data",
       "text": [
        "<matplotlib.figure.Figure at 0x7f2f9c8ea510>"
       ]
      },
      {
       "metadata": {},
       "output_type": "display_data",
       "text": [
        "<matplotlib.figure.Figure at 0x7f2f9cd01b50>"
       ]
      },
      {
       "metadata": {},
       "output_type": "display_data",
       "text": [
        "<matplotlib.figure.Figure at 0x7f2f9cd01510>"
       ]
      },
      {
       "metadata": {},
       "output_type": "display_data",
       "text": [
        "<matplotlib.figure.Figure at 0x7f2f9c9101d0>"
       ]
      },
      {
       "metadata": {},
       "output_type": "display_data",
       "text": [
        "<matplotlib.figure.Figure at 0x7f2f9c910250>"
       ]
      },
      {
       "metadata": {},
       "output_type": "display_data",
       "text": [
        "<matplotlib.figure.Figure at 0x7f2f9c910690>"
       ]
      },
      {
       "metadata": {},
       "output_type": "display_data",
       "text": [
        "<matplotlib.figure.Figure at 0x7f2f9ce0d110>"
       ]
      },
      {
       "metadata": {},
       "output_type": "display_data",
       "text": [
        "<matplotlib.figure.Figure at 0x7f2f9ce0d050>"
       ]
      },
      {
       "metadata": {},
       "output_type": "display_data",
       "text": [
        "<matplotlib.figure.Figure at 0x7f2f9c920ad0>"
       ]
      },
      {
       "metadata": {},
       "output_type": "display_data",
       "text": [
        "<matplotlib.figure.Figure at 0x7f2f9c920ed0>"
       ]
      },
      {
       "metadata": {},
       "output_type": "display_data",
       "text": [
        "<matplotlib.figure.Figure at 0x7f2f9e7588d0>"
       ]
      },
      {
       "metadata": {},
       "output_type": "display_data",
       "text": [
        "<matplotlib.figure.Figure at 0x7f2f9e758710>"
       ]
      },
      {
       "metadata": {},
       "output_type": "display_data",
       "text": [
        "<matplotlib.figure.Figure at 0x7f2f9e758f90>"
       ]
      },
      {
       "metadata": {},
       "output_type": "display_data",
       "text": [
        "<matplotlib.figure.Figure at 0x7f2f9cbbf150>"
       ]
      },
      {
       "metadata": {},
       "output_type": "display_data",
       "text": [
        "<matplotlib.figure.Figure at 0x7f2f9cc0f150>"
       ]
      },
      {
       "metadata": {},
       "output_type": "display_data",
       "text": [
        "<matplotlib.figure.Figure at 0x7f2f9cc0fd50>"
       ]
      },
      {
       "metadata": {},
       "output_type": "display_data",
       "text": [
        "<matplotlib.figure.Figure at 0x7f2f9cd41490>"
       ]
      },
      {
       "metadata": {},
       "output_type": "display_data",
       "text": [
        "<matplotlib.figure.Figure at 0x7f2f9cd6d510>"
       ]
      },
      {
       "metadata": {},
       "output_type": "display_data",
       "text": [
        "<matplotlib.figure.Figure at 0x7f2f9cd6d410>"
       ]
      },
      {
       "metadata": {},
       "output_type": "display_data",
       "text": [
        "<matplotlib.figure.Figure at 0x7f2f9c8e86d0>"
       ]
      },
      {
       "metadata": {},
       "output_type": "display_data",
       "text": [
        "<matplotlib.figure.Figure at 0x7f2f9c8e8a50>"
       ]
      },
      {
       "metadata": {},
       "output_type": "display_data",
       "text": [
        "<matplotlib.figure.Figure at 0x7f2f9cc19e90>"
       ]
      },
      {
       "metadata": {},
       "output_type": "display_data",
       "text": [
        "<matplotlib.figure.Figure at 0x7f2f9cc19c50>"
       ]
      },
      {
       "metadata": {},
       "output_type": "display_data",
       "text": [
        "<matplotlib.figure.Figure at 0x7f2f9c6b3cd0>"
       ]
      },
      {
       "metadata": {},
       "output_type": "display_data",
       "text": [
        "<matplotlib.figure.Figure at 0x7f2f9c6b3f50>"
       ]
      },
      {
       "metadata": {},
       "output_type": "display_data",
       "text": [
        "<matplotlib.figure.Figure at 0x7f2f9ebdb150>"
       ]
      },
      {
       "metadata": {},
       "output_type": "display_data",
       "text": [
        "<matplotlib.figure.Figure at 0x7f2f9ebd2d90>"
       ]
      },
      {
       "metadata": {},
       "output_type": "display_data",
       "text": [
        "<matplotlib.figure.Figure at 0x7f2f9ebd2dd0>"
       ]
      },
      {
       "metadata": {},
       "output_type": "display_data",
       "text": [
        "<matplotlib.figure.Figure at 0x7f2f9e9e3390>"
       ]
      },
      {
       "metadata": {},
       "output_type": "display_data",
       "text": [
        "<matplotlib.figure.Figure at 0x7f2f9e9e32d0>"
       ]
      },
      {
       "metadata": {},
       "output_type": "display_data",
       "text": [
        "<matplotlib.figure.Figure at 0x7f2f9e9e3690>"
       ]
      },
      {
       "metadata": {},
       "output_type": "display_data",
       "text": [
        "<matplotlib.figure.Figure at 0x7f2f9cbf3290>"
       ]
      },
      {
       "metadata": {},
       "output_type": "display_data",
       "text": [
        "<matplotlib.figure.Figure at 0x7f2f9cbf3a10>"
       ]
      },
      {
       "metadata": {},
       "output_type": "display_data",
       "text": [
        "<matplotlib.figure.Figure at 0x7f2f9e9be5d0>"
       ]
      },
      {
       "metadata": {},
       "output_type": "display_data",
       "text": [
        "<matplotlib.figure.Figure at 0x7f2f9ebfeed0>"
       ]
      },
      {
       "metadata": {},
       "output_type": "display_data",
       "text": [
        "<matplotlib.figure.Figure at 0x7f2f9ebfeb90>"
       ]
      },
      {
       "metadata": {},
       "output_type": "display_data",
       "text": [
        "<matplotlib.figure.Figure at 0x7f2f9ebfe390>"
       ]
      },
      {
       "metadata": {},
       "output_type": "display_data",
       "text": [
        "<matplotlib.figure.Figure at 0x7f2f9ccb8990>"
       ]
      },
      {
       "metadata": {},
       "output_type": "display_data",
       "text": [
        "<matplotlib.figure.Figure at 0x7f2f9ccb82d0>"
       ]
      },
      {
       "metadata": {},
       "output_type": "display_data",
       "text": [
        "<matplotlib.figure.Figure at 0x7f2f9ec27490>"
       ]
      },
      {
       "metadata": {},
       "output_type": "display_data",
       "text": [
        "<matplotlib.figure.Figure at 0x7f2f9ec27550>"
       ]
      },
      {
       "metadata": {},
       "output_type": "display_data",
       "text": [
        "<matplotlib.figure.Figure at 0x7f2f9ea149d0>"
       ]
      },
      {
       "metadata": {},
       "output_type": "display_data",
       "text": [
        "<matplotlib.figure.Figure at 0x7f2f9ea14ad0>"
       ]
      },
      {
       "metadata": {},
       "output_type": "display_data",
       "text": [
        "<matplotlib.figure.Figure at 0x7f2f9ce9da50>"
       ]
      },
      {
       "metadata": {},
       "output_type": "display_data",
       "text": [
        "<matplotlib.figure.Figure at 0x7f2f9ce9d1d0>"
       ]
      },
      {
       "metadata": {},
       "output_type": "display_data",
       "text": [
        "<matplotlib.figure.Figure at 0x7f2f9cea6890>"
       ]
      },
      {
       "metadata": {},
       "output_type": "display_data",
       "text": [
        "<matplotlib.figure.Figure at 0x7f2f9cea6710>"
       ]
      },
      {
       "metadata": {},
       "output_type": "display_data",
       "text": [
        "<matplotlib.figure.Figure at 0x7f2f9cea6f50>"
       ]
      },
      {
       "metadata": {},
       "output_type": "display_data",
       "text": [
        "<matplotlib.figure.Figure at 0x7f2f9ebb9fd0>"
       ]
      },
      {
       "metadata": {},
       "output_type": "display_data",
       "text": [
        "<matplotlib.figure.Figure at 0x7f2f9c9e5290>"
       ]
      },
      {
       "metadata": {},
       "output_type": "display_data",
       "text": [
        "<matplotlib.figure.Figure at 0x7f2f9cb84c10>"
       ]
      },
      {
       "metadata": {},
       "output_type": "display_data",
       "text": [
        "<matplotlib.figure.Figure at 0x7f2f9cb84850>"
       ]
      },
      {
       "metadata": {},
       "output_type": "display_data",
       "text": [
        "<matplotlib.figure.Figure at 0x7f2f9c6acad0>"
       ]
      },
      {
       "metadata": {},
       "output_type": "display_data",
       "text": [
        "<matplotlib.figure.Figure at 0x7f2f9c6ac1d0>"
       ]
      },
      {
       "metadata": {},
       "output_type": "display_data",
       "text": [
        "<matplotlib.figure.Figure at 0x7f2f9e9bfad0>"
       ]
      },
      {
       "metadata": {},
       "output_type": "display_data",
       "text": [
        "<matplotlib.figure.Figure at 0x7f2f9e9bf590>"
       ]
      },
      {
       "metadata": {},
       "output_type": "display_data",
       "text": [
        "<matplotlib.figure.Figure at 0x7f2f9ea8e790>"
       ]
      },
      {
       "metadata": {},
       "output_type": "display_data",
       "text": [
        "<matplotlib.figure.Figure at 0x7f2f9ea8e550>"
       ]
      },
      {
       "metadata": {},
       "output_type": "display_data",
       "text": [
        "<matplotlib.figure.Figure at 0x7f2f9ca97410>"
       ]
      },
      {
       "metadata": {},
       "output_type": "display_data",
       "text": [
        "<matplotlib.figure.Figure at 0x7f2f9ca97210>"
       ]
      },
      {
       "metadata": {},
       "output_type": "display_data",
       "text": [
        "<matplotlib.figure.Figure at 0x7f2f9ec92f50>"
       ]
      },
      {
       "metadata": {},
       "output_type": "display_data",
       "text": [
        "<matplotlib.figure.Figure at 0x7f2f9ec920d0>"
       ]
      },
      {
       "metadata": {},
       "output_type": "display_data",
       "text": [
        "<matplotlib.figure.Figure at 0x7f2f9ec92e90>"
       ]
      },
      {
       "metadata": {},
       "output_type": "display_data",
       "text": [
        "<matplotlib.figure.Figure at 0x7f2f9e9fe1d0>"
       ]
      },
      {
       "metadata": {},
       "output_type": "display_data",
       "text": [
        "<matplotlib.figure.Figure at 0x7f2f9e9fedd0>"
       ]
      },
      {
       "metadata": {},
       "output_type": "display_data",
       "text": [
        "<matplotlib.figure.Figure at 0x7f2f9e8efc50>"
       ]
      },
      {
       "metadata": {},
       "output_type": "display_data",
       "text": [
        "<matplotlib.figure.Figure at 0x7f2f9e8efcd0>"
       ]
      },
      {
       "metadata": {},
       "output_type": "display_data",
       "text": [
        "<matplotlib.figure.Figure at 0x7f2f9c6265d0>"
       ]
      },
      {
       "metadata": {},
       "output_type": "display_data",
       "text": [
        "<matplotlib.figure.Figure at 0x7f2f9c626f10>"
       ]
      },
      {
       "metadata": {},
       "output_type": "display_data",
       "text": [
        "<matplotlib.figure.Figure at 0x7f2f9c5d1310>"
       ]
      },
      {
       "metadata": {},
       "output_type": "display_data",
       "text": [
        "<matplotlib.figure.Figure at 0x7f2f9c5d1bd0>"
       ]
      },
      {
       "metadata": {},
       "output_type": "display_data",
       "text": [
        "<matplotlib.figure.Figure at 0x7f2f9c5cbd10>"
       ]
      },
      {
       "metadata": {},
       "output_type": "display_data",
       "text": [
        "<matplotlib.figure.Figure at 0x7f2f9c5cb3d0>"
       ]
      },
      {
       "metadata": {},
       "output_type": "display_data",
       "text": [
        "<matplotlib.figure.Figure at 0x7f2f9c931590>"
       ]
      },
      {
       "metadata": {},
       "output_type": "display_data",
       "text": [
        "<matplotlib.figure.Figure at 0x7f2f9c931250>"
       ]
      },
      {
       "metadata": {},
       "output_type": "display_data",
       "text": [
        "<matplotlib.figure.Figure at 0x7f2f9c87df10>"
       ]
      },
      {
       "metadata": {},
       "output_type": "display_data",
       "text": [
        "<matplotlib.figure.Figure at 0x7f2f9c87d350>"
       ]
      },
      {
       "metadata": {},
       "output_type": "display_data",
       "text": [
        "<matplotlib.figure.Figure at 0x7f2f9c87d510>"
       ]
      },
      {
       "metadata": {},
       "output_type": "display_data",
       "text": [
        "<matplotlib.figure.Figure at 0x7f2f9c820890>"
       ]
      },
      {
       "metadata": {},
       "output_type": "display_data",
       "text": [
        "<matplotlib.figure.Figure at 0x7f2f9c820110>"
       ]
      },
      {
       "metadata": {},
       "output_type": "display_data",
       "text": [
        "<matplotlib.figure.Figure at 0x7f2f9c8289d0>"
       ]
      },
      {
       "metadata": {},
       "output_type": "display_data",
       "text": [
        "<matplotlib.figure.Figure at 0x7f2f9c828d90>"
       ]
      },
      {
       "metadata": {},
       "output_type": "display_data",
       "text": [
        "<matplotlib.figure.Figure at 0x7f2f9c828e90>"
       ]
      },
      {
       "metadata": {},
       "output_type": "display_data",
       "text": [
        "<matplotlib.figure.Figure at 0x7f2f9c803ad0>"
       ]
      },
      {
       "metadata": {},
       "output_type": "display_data",
       "text": [
        "<matplotlib.figure.Figure at 0x7f2f9c8039d0>"
       ]
      },
      {
       "metadata": {},
       "output_type": "display_data",
       "text": [
        "<matplotlib.figure.Figure at 0x7f2f9ca19110>"
       ]
      },
      {
       "metadata": {},
       "output_type": "display_data",
       "text": [
        "<matplotlib.figure.Figure at 0x7f2f9ca19690>"
       ]
      },
      {
       "metadata": {},
       "output_type": "display_data",
       "text": [
        "<matplotlib.figure.Figure at 0x7f2f9ca19a10>"
       ]
      },
      {
       "metadata": {},
       "output_type": "display_data",
       "text": [
        "<matplotlib.figure.Figure at 0x7f2f9c9fb890>"
       ]
      },
      {
       "metadata": {},
       "output_type": "display_data",
       "text": [
        "<matplotlib.figure.Figure at 0x7f2f9c9fbfd0>"
       ]
      },
      {
       "metadata": {},
       "output_type": "display_data",
       "text": [
        "<matplotlib.figure.Figure at 0x7f2f9c656b90>"
       ]
      },
      {
       "metadata": {},
       "output_type": "display_data",
       "text": [
        "<matplotlib.figure.Figure at 0x7f2f9c656990>"
       ]
      },
      {
       "metadata": {},
       "output_type": "display_data",
       "text": [
        "<matplotlib.figure.Figure at 0x7f2f9ca30090>"
       ]
      },
      {
       "metadata": {},
       "output_type": "display_data",
       "text": [
        "<matplotlib.figure.Figure at 0x7f2f9ca305d0>"
       ]
      },
      {
       "metadata": {},
       "output_type": "display_data",
       "text": [
        "<matplotlib.figure.Figure at 0x7f2f9ca30310>"
       ]
      },
      {
       "metadata": {},
       "output_type": "display_data",
       "text": [
        "<matplotlib.figure.Figure at 0x7f2f9c64ded0>"
       ]
      },
      {
       "metadata": {},
       "output_type": "display_data",
       "text": [
        "<matplotlib.figure.Figure at 0x7f2f9c64d190>"
       ]
      },
      {
       "metadata": {},
       "output_type": "display_data",
       "text": [
        "<matplotlib.figure.Figure at 0x7f2f9c0d4a50>"
       ]
      },
      {
       "metadata": {},
       "output_type": "display_data",
       "text": [
        "<matplotlib.figure.Figure at 0x7f2f9c0d4650>"
       ]
      },
      {
       "metadata": {},
       "output_type": "display_data",
       "text": [
        "<matplotlib.figure.Figure at 0x7f2f9c0d4890>"
       ]
      },
      {
       "metadata": {},
       "output_type": "display_data",
       "text": [
        "<matplotlib.figure.Figure at 0x7f2f9c0d65d0>"
       ]
      },
      {
       "metadata": {},
       "output_type": "display_data",
       "text": [
        "<matplotlib.figure.Figure at 0x7f2f9c0d6090>"
       ]
      },
      {
       "metadata": {},
       "output_type": "display_data",
       "text": [
        "<matplotlib.figure.Figure at 0x7f2f9c665b90>"
       ]
      },
      {
       "metadata": {},
       "output_type": "display_data",
       "text": [
        "<matplotlib.figure.Figure at 0x7f2f9c665890>"
       ]
      },
      {
       "metadata": {},
       "output_type": "display_data",
       "text": [
        "<matplotlib.figure.Figure at 0x7f2f9c665f90>"
       ]
      },
      {
       "metadata": {},
       "output_type": "display_data",
       "text": [
        "<matplotlib.figure.Figure at 0x7f2f9c0e7d90>"
       ]
      },
      {
       "metadata": {},
       "output_type": "display_data",
       "text": [
        "<matplotlib.figure.Figure at 0x7f2f9c0e7450>"
       ]
      },
      {
       "metadata": {},
       "output_type": "display_data",
       "text": [
        "<matplotlib.figure.Figure at 0x7f2f9ca66690>"
       ]
      },
      {
       "metadata": {},
       "output_type": "display_data",
       "text": [
        "<matplotlib.figure.Figure at 0x7f2f9ca66250>"
       ]
      },
      {
       "metadata": {},
       "output_type": "display_data",
       "text": [
        "<matplotlib.figure.Figure at 0x7f2f9c0dfb50>"
       ]
      },
      {
       "metadata": {},
       "output_type": "display_data",
       "text": [
        "<matplotlib.figure.Figure at 0x7f2f9c0df490>"
       ]
      },
      {
       "metadata": {},
       "output_type": "display_data",
       "text": [
        "<matplotlib.figure.Figure at 0x7f2f9c0df250>"
       ]
      },
      {
       "metadata": {},
       "output_type": "display_data",
       "text": [
        "<matplotlib.figure.Figure at 0x7f2f9ca67990>"
       ]
      },
      {
       "metadata": {},
       "output_type": "display_data",
       "text": [
        "<matplotlib.figure.Figure at 0x7f2f9ca67810>"
       ]
      },
      {
       "metadata": {},
       "output_type": "display_data",
       "text": [
        "<matplotlib.figure.Figure at 0x7f2f9c9a7150>"
       ]
      },
      {
       "metadata": {},
       "output_type": "display_data",
       "text": [
        "<matplotlib.figure.Figure at 0x7f2f9c9a7090>"
       ]
      },
      {
       "metadata": {},
       "output_type": "display_data",
       "text": [
        "<matplotlib.figure.Figure at 0x7f2f9c9a73d0>"
       ]
      },
      {
       "metadata": {},
       "output_type": "display_data",
       "text": [
        "<matplotlib.figure.Figure at 0x7f2f9c9b17d0>"
       ]
      },
      {
       "metadata": {},
       "output_type": "display_data",
       "text": [
        "<matplotlib.figure.Figure at 0x7f2f9c9b1110>"
       ]
      },
      {
       "metadata": {},
       "output_type": "display_data",
       "text": [
        "<matplotlib.figure.Figure at 0x7f2f9c9acc10>"
       ]
      },
      {
       "metadata": {},
       "output_type": "display_data",
       "text": [
        "<matplotlib.figure.Figure at 0x7f2f9c9ac910>"
       ]
      },
      {
       "metadata": {},
       "output_type": "display_data",
       "text": [
        "<matplotlib.figure.Figure at 0x7f2f9c9ac150>"
       ]
      },
      {
       "metadata": {},
       "output_type": "display_data",
       "text": [
        "<matplotlib.figure.Figure at 0x7f2f9eb66bd0>"
       ]
      },
      {
       "metadata": {},
       "output_type": "display_data",
       "text": [
        "<matplotlib.figure.Figure at 0x7f2f9eb66050>"
       ]
      },
      {
       "metadata": {},
       "output_type": "display_data",
       "text": [
        "<matplotlib.figure.Figure at 0x7f2f9ca42dd0>"
       ]
      },
      {
       "metadata": {},
       "output_type": "display_data",
       "text": [
        "<matplotlib.figure.Figure at 0x7f2f9ca42790>"
       ]
      },
      {
       "metadata": {},
       "output_type": "display_data",
       "text": [
        "<matplotlib.figure.Figure at 0x7f2f9eb5b5d0>"
       ]
      },
      {
       "metadata": {},
       "output_type": "display_data",
       "text": [
        "<matplotlib.figure.Figure at 0x7f2f9eb5b150>"
       ]
      },
      {
       "metadata": {},
       "output_type": "display_data",
       "text": [
        "<matplotlib.figure.Figure at 0x7f2f9eb5b650>"
       ]
      },
      {
       "metadata": {},
       "output_type": "display_data",
       "text": [
        "<matplotlib.figure.Figure at 0x7f2f9eb3a890>"
       ]
      },
      {
       "metadata": {},
       "output_type": "display_data",
       "text": [
        "<matplotlib.figure.Figure at 0x7f2f9eb3a910>"
       ]
      },
      {
       "metadata": {},
       "output_type": "display_data",
       "text": [
        "<matplotlib.figure.Figure at 0x7f2f9c130290>"
       ]
      },
      {
       "metadata": {},
       "output_type": "display_data",
       "text": [
        "<matplotlib.figure.Figure at 0x7f2f9c130d50>"
       ]
      },
      {
       "metadata": {},
       "output_type": "display_data",
       "text": [
        "<matplotlib.figure.Figure at 0x7f2f9c130190>"
       ]
      },
      {
       "metadata": {},
       "output_type": "display_data",
       "text": [
        "<matplotlib.figure.Figure at 0x7f2f9eb56b10>"
       ]
      },
      {
       "metadata": {},
       "output_type": "display_data",
       "text": [
        "<matplotlib.figure.Figure at 0x7f2f9eb56510>"
       ]
      },
      {
       "metadata": {},
       "output_type": "display_data",
       "text": [
        "<matplotlib.figure.Figure at 0x7f2f9c122b50>"
       ]
      },
      {
       "metadata": {},
       "output_type": "display_data",
       "text": [
        "<matplotlib.figure.Figure at 0x7f2f9c122c10>"
       ]
      },
      {
       "metadata": {},
       "output_type": "display_data",
       "text": [
        "<matplotlib.figure.Figure at 0x7f2f9c122210>"
       ]
      },
      {
       "metadata": {},
       "output_type": "display_data",
       "text": [
        "<matplotlib.figure.Figure at 0x7f2f9c5dcfd0>"
       ]
      },
      {
       "metadata": {},
       "output_type": "display_data",
       "text": [
        "<matplotlib.figure.Figure at 0x7f2f9c5dc590>"
       ]
      },
      {
       "metadata": {},
       "output_type": "display_data",
       "text": [
        "<matplotlib.figure.Figure at 0x7f2f9cd03c10>"
       ]
      },
      {
       "metadata": {},
       "output_type": "display_data",
       "text": [
        "<matplotlib.figure.Figure at 0x7f2f9cd032d0>"
       ]
      },
      {
       "metadata": {},
       "output_type": "display_data",
       "text": [
        "<matplotlib.figure.Figure at 0x7f2f9c1298d0>"
       ]
      },
      {
       "metadata": {},
       "output_type": "display_data",
       "text": [
        "<matplotlib.figure.Figure at 0x7f2f9c129a90>"
       ]
      },
      {
       "metadata": {},
       "output_type": "display_data",
       "text": [
        "<matplotlib.figure.Figure at 0x7f2f9c1295d0>"
       ]
      },
      {
       "metadata": {},
       "output_type": "display_data",
       "text": [
        "<matplotlib.figure.Figure at 0x7f2f9c5c1f90>"
       ]
      },
      {
       "metadata": {},
       "output_type": "display_data",
       "text": [
        "<matplotlib.figure.Figure at 0x7f2f9c5c1250>"
       ]
      },
      {
       "metadata": {},
       "output_type": "display_data",
       "text": [
        "<matplotlib.figure.Figure at 0x7f2f9cd16c50>"
       ]
      },
      {
       "metadata": {},
       "output_type": "display_data",
       "text": [
        "<matplotlib.figure.Figure at 0x7f2f9cd165d0>"
       ]
      },
      {
       "metadata": {},
       "output_type": "display_data",
       "text": [
        "<matplotlib.figure.Figure at 0x7f2f9ca50950>"
       ]
      },
      {
       "metadata": {},
       "output_type": "display_data",
       "text": [
        "<matplotlib.figure.Figure at 0x7f2f9ca50e50>"
       ]
      },
      {
       "metadata": {},
       "output_type": "display_data",
       "text": [
        "<matplotlib.figure.Figure at 0x7f2f9ca50750>"
       ]
      },
      {
       "metadata": {},
       "output_type": "display_data",
       "text": [
        "<matplotlib.figure.Figure at 0x7f2f9ca4db90>"
       ]
      },
      {
       "metadata": {},
       "output_type": "display_data",
       "text": [
        "<matplotlib.figure.Figure at 0x7f2f9ca4dd10>"
       ]
      },
      {
       "metadata": {},
       "output_type": "display_data",
       "text": [
        "<matplotlib.figure.Figure at 0x7f2f9ca371d0>"
       ]
      },
      {
       "metadata": {},
       "output_type": "display_data",
       "text": [
        "<matplotlib.figure.Figure at 0x7f2f9ca37c10>"
       ]
      },
      {
       "metadata": {},
       "output_type": "display_data",
       "text": [
        "<matplotlib.figure.Figure at 0x7f2f9ce844d0>"
       ]
      },
      {
       "metadata": {},
       "output_type": "display_data",
       "text": [
        "<matplotlib.figure.Figure at 0x7f2f9ce84c50>"
       ]
      },
      {
       "metadata": {},
       "output_type": "display_data",
       "text": [
        "<matplotlib.figure.Figure at 0x7f2f9cbb0650>"
       ]
      },
      {
       "metadata": {},
       "output_type": "display_data",
       "text": [
        "<matplotlib.figure.Figure at 0x7f2f9cbb0490>"
       ]
      },
      {
       "metadata": {},
       "output_type": "display_data",
       "text": [
        "<matplotlib.figure.Figure at 0x7f2f9ea9ff50>"
       ]
      },
      {
       "metadata": {},
       "output_type": "display_data",
       "text": [
        "<matplotlib.figure.Figure at 0x7f2f9ea9ff90>"
       ]
      },
      {
       "metadata": {},
       "output_type": "display_data",
       "text": [
        "<matplotlib.figure.Figure at 0x7f2f9c824ed0>"
       ]
      },
      {
       "metadata": {},
       "output_type": "display_data",
       "text": [
        "<matplotlib.figure.Figure at 0x7f2f9c824ad0>"
       ]
      },
      {
       "metadata": {},
       "output_type": "display_data",
       "text": [
        "<matplotlib.figure.Figure at 0x7f2f9cb99ad0>"
       ]
      },
      {
       "metadata": {},
       "output_type": "display_data",
       "text": [
        "<matplotlib.figure.Figure at 0x7f2f9cb999d0>"
       ]
      },
      {
       "metadata": {},
       "output_type": "display_data",
       "text": [
        "<matplotlib.figure.Figure at 0x7f2f9ec073d0>"
       ]
      },
      {
       "metadata": {},
       "output_type": "display_data",
       "text": [
        "<matplotlib.figure.Figure at 0x7f2f9ec07310>"
       ]
      },
      {
       "metadata": {},
       "output_type": "display_data",
       "text": [
        "<matplotlib.figure.Figure at 0x7f2f9e9f3c90>"
       ]
      },
      {
       "metadata": {},
       "output_type": "display_data",
       "text": [
        "<matplotlib.figure.Figure at 0x7f2f9e9f3290>"
       ]
      },
      {
       "metadata": {},
       "output_type": "display_data",
       "text": [
        "<matplotlib.figure.Figure at 0x7f2f9c5c08d0>"
       ]
      },
      {
       "metadata": {},
       "output_type": "display_data",
       "text": [
        "<matplotlib.figure.Figure at 0x7f2f9c5c0210>"
       ]
      },
      {
       "metadata": {},
       "output_type": "display_data",
       "text": [
        "<matplotlib.figure.Figure at 0x7f2f9c670290>"
       ]
      },
      {
       "metadata": {},
       "output_type": "display_data",
       "text": [
        "<matplotlib.figure.Figure at 0x7f2f9c6708d0>"
       ]
      },
      {
       "metadata": {},
       "output_type": "display_data",
       "text": [
        "<matplotlib.figure.Figure at 0x7f2f9c670f10>"
       ]
      },
      {
       "metadata": {},
       "output_type": "display_data",
       "text": [
        "<matplotlib.figure.Figure at 0x7f2f9c65e590>"
       ]
      },
      {
       "metadata": {},
       "output_type": "display_data",
       "text": [
        "<matplotlib.figure.Figure at 0x7f2f9c65ebd0>"
       ]
      },
      {
       "metadata": {},
       "output_type": "display_data",
       "text": [
        "<matplotlib.figure.Figure at 0x7f2f9c659250>"
       ]
      },
      {
       "metadata": {},
       "output_type": "display_data",
       "text": [
        "<matplotlib.figure.Figure at 0x7f2f9c659890>"
       ]
      },
      {
       "metadata": {},
       "output_type": "display_data",
       "text": [
        "<matplotlib.figure.Figure at 0x7f2f9c659ed0>"
       ]
      },
      {
       "metadata": {},
       "output_type": "display_data",
       "text": [
        "<matplotlib.figure.Figure at 0x7f2f9ca05550>"
       ]
      },
      {
       "metadata": {},
       "output_type": "display_data",
       "text": [
        "<matplotlib.figure.Figure at 0x7f2f9ca05b90>"
       ]
      },
      {
       "metadata": {},
       "output_type": "display_data",
       "text": [
        "<matplotlib.figure.Figure at 0x7f2f9ca21210>"
       ]
      },
      {
       "metadata": {},
       "output_type": "display_data",
       "text": [
        "<matplotlib.figure.Figure at 0x7f2f9ca21850>"
       ]
      },
      {
       "metadata": {},
       "output_type": "display_data",
       "text": [
        "<matplotlib.figure.Figure at 0x7f2f9ca21e90>"
       ]
      },
      {
       "metadata": {},
       "output_type": "display_data",
       "text": [
        "<matplotlib.figure.Figure at 0x7f2f9eb4f510>"
       ]
      },
      {
       "metadata": {},
       "output_type": "display_data",
       "text": [
        "<matplotlib.figure.Figure at 0x7f2f9eb4fb50>"
       ]
      },
      {
       "metadata": {},
       "output_type": "display_data",
       "text": [
        "<matplotlib.figure.Figure at 0x7f2f9eb471d0>"
       ]
      },
      {
       "metadata": {},
       "output_type": "display_data",
       "text": [
        "<matplotlib.figure.Figure at 0x7f2f9eb47810>"
       ]
      },
      {
       "metadata": {},
       "output_type": "display_data",
       "text": [
        "<matplotlib.figure.Figure at 0x7f2f9eb47e50>"
       ]
      },
      {
       "metadata": {},
       "output_type": "display_data",
       "text": [
        "<matplotlib.figure.Figure at 0x7f2f9eb5d4d0>"
       ]
      },
      {
       "metadata": {},
       "output_type": "display_data",
       "text": [
        "<matplotlib.figure.Figure at 0x7f2f9eb5db10>"
       ]
      },
      {
       "metadata": {},
       "output_type": "display_data",
       "text": [
        "<matplotlib.figure.Figure at 0x7f2f9caad190>"
       ]
      },
      {
       "metadata": {},
       "output_type": "display_data",
       "text": [
        "<matplotlib.figure.Figure at 0x7f2f9caad7d0>"
       ]
      },
      {
       "metadata": {},
       "output_type": "display_data",
       "text": [
        "<matplotlib.figure.Figure at 0x7f2f9caade10>"
       ]
      },
      {
       "metadata": {},
       "output_type": "display_data",
       "text": [
        "<matplotlib.figure.Figure at 0x7f2f9caa1490>"
       ]
      },
      {
       "metadata": {},
       "output_type": "display_data",
       "text": [
        "<matplotlib.figure.Figure at 0x7f2f9caa1ad0>"
       ]
      },
      {
       "metadata": {},
       "output_type": "display_data",
       "text": [
        "<matplotlib.figure.Figure at 0x7f2f9ca9b150>"
       ]
      },
      {
       "metadata": {},
       "output_type": "display_data",
       "text": [
        "<matplotlib.figure.Figure at 0x7f2f9ca9b790>"
       ]
      },
      {
       "metadata": {},
       "output_type": "display_data",
       "text": [
        "<matplotlib.figure.Figure at 0x7f2f9ca9bdd0>"
       ]
      },
      {
       "metadata": {},
       "output_type": "display_data",
       "text": [
        "<matplotlib.figure.Figure at 0x7f2f9cbbd450>"
       ]
      },
      {
       "metadata": {},
       "output_type": "display_data",
       "text": [
        "<matplotlib.figure.Figure at 0x7f2f9cbbda90>"
       ]
      },
      {
       "metadata": {},
       "output_type": "display_data",
       "text": [
        "<matplotlib.figure.Figure at 0x7f2f9cbcc110>"
       ]
      },
      {
       "metadata": {},
       "output_type": "display_data",
       "text": [
        "<matplotlib.figure.Figure at 0x7f2f9cbcc750>"
       ]
      },
      {
       "metadata": {},
       "output_type": "display_data",
       "text": [
        "<matplotlib.figure.Figure at 0x7f2f9cbccd90>"
       ]
      },
      {
       "metadata": {},
       "output_type": "display_data",
       "text": [
        "<matplotlib.figure.Figure at 0x7f2f9ccf1410>"
       ]
      },
      {
       "metadata": {},
       "output_type": "display_data",
       "text": [
        "<matplotlib.figure.Figure at 0x7f2f9ccf1a50>"
       ]
      },
      {
       "metadata": {},
       "output_type": "display_data",
       "text": [
        "<matplotlib.figure.Figure at 0x7f2f9cccc0d0>"
       ]
      },
      {
       "metadata": {},
       "output_type": "display_data",
       "text": [
        "<matplotlib.figure.Figure at 0x7f2f9cccc710>"
       ]
      },
      {
       "metadata": {},
       "output_type": "display_data",
       "text": [
        "<matplotlib.figure.Figure at 0x7f2f9ccccd50>"
       ]
      },
      {
       "metadata": {},
       "output_type": "display_data",
       "text": [
        "<matplotlib.figure.Figure at 0x7f2f9cce23d0>"
       ]
      },
      {
       "metadata": {},
       "output_type": "display_data",
       "text": [
        "<matplotlib.figure.Figure at 0x7f2f9cce2a10>"
       ]
      },
      {
       "metadata": {},
       "output_type": "display_data",
       "text": [
        "<matplotlib.figure.Figure at 0x7f2f9c802090>"
       ]
      },
      {
       "metadata": {},
       "output_type": "display_data",
       "text": [
        "<matplotlib.figure.Figure at 0x7f2f9c8026d0>"
       ]
      },
      {
       "metadata": {},
       "output_type": "display_data",
       "text": [
        "<matplotlib.figure.Figure at 0x7f2f9c802d10>"
       ]
      },
      {
       "metadata": {},
       "output_type": "display_data",
       "text": [
        "<matplotlib.figure.Figure at 0x7f2f9c81d390>"
       ]
      },
      {
       "metadata": {},
       "output_type": "display_data",
       "text": [
        "<matplotlib.figure.Figure at 0x7f2f9c81d9d0>"
       ]
      },
      {
       "metadata": {},
       "output_type": "display_data",
       "text": [
        "<matplotlib.figure.Figure at 0x7f2f9c800050>"
       ]
      },
      {
       "metadata": {},
       "output_type": "display_data",
       "text": [
        "<matplotlib.figure.Figure at 0x7f2f9c800690>"
       ]
      },
      {
       "metadata": {},
       "output_type": "display_data",
       "text": [
        "<matplotlib.figure.Figure at 0x7f2f9c800cd0>"
       ]
      },
      {
       "metadata": {},
       "output_type": "display_data",
       "text": [
        "<matplotlib.figure.Figure at 0x7f2f9ea6f350>"
       ]
      },
      {
       "metadata": {},
       "output_type": "display_data",
       "text": [
        "<matplotlib.figure.Figure at 0x7f2f9ea6f990>"
       ]
      },
      {
       "metadata": {},
       "output_type": "display_data",
       "text": [
        "<matplotlib.figure.Figure at 0x7f2f9ea6ffd0>"
       ]
      },
      {
       "metadata": {},
       "output_type": "display_data",
       "text": [
        "<matplotlib.figure.Figure at 0x7f2f9ea61650>"
       ]
      },
      {
       "metadata": {},
       "output_type": "display_data",
       "text": [
        "<matplotlib.figure.Figure at 0x7f2f9ea61c90>"
       ]
      },
      {
       "metadata": {},
       "output_type": "display_data",
       "text": [
        "<matplotlib.figure.Figure at 0x7f2f9c947310>"
       ]
      },
      {
       "metadata": {},
       "output_type": "display_data",
       "text": [
        "<matplotlib.figure.Figure at 0x7f2f9c947950>"
       ]
      },
      {
       "metadata": {},
       "output_type": "display_data",
       "text": [
        "<matplotlib.figure.Figure at 0x7f2f9c947f90>"
       ]
      },
      {
       "metadata": {},
       "output_type": "display_data",
       "text": [
        "<matplotlib.figure.Figure at 0x7f2f9c970610>"
       ]
      },
      {
       "metadata": {},
       "output_type": "display_data",
       "text": [
        "<matplotlib.figure.Figure at 0x7f2f9c970c50>"
       ]
      },
      {
       "metadata": {},
       "output_type": "display_data",
       "text": [
        "<matplotlib.figure.Figure at 0x7f2f9c9452d0>"
       ]
      },
      {
       "metadata": {},
       "output_type": "display_data",
       "text": [
        "<matplotlib.figure.Figure at 0x7f2f9c945910>"
       ]
      },
      {
       "metadata": {},
       "output_type": "display_data",
       "text": [
        "<matplotlib.figure.Figure at 0x7f2f9c945f50>"
       ]
      },
      {
       "metadata": {},
       "output_type": "display_data",
       "text": [
        "<matplotlib.figure.Figure at 0x7f2f9c8345d0>"
       ]
      },
      {
       "metadata": {},
       "output_type": "display_data",
       "text": [
        "<matplotlib.figure.Figure at 0x7f2f9c834c10>"
       ]
      },
      {
       "metadata": {},
       "output_type": "display_data",
       "text": [
        "<matplotlib.figure.Figure at 0x7f2f9c847290>"
       ]
      },
      {
       "metadata": {},
       "output_type": "display_data",
       "text": [
        "<matplotlib.figure.Figure at 0x7f2f9c8478d0>"
       ]
      },
      {
       "metadata": {},
       "output_type": "display_data",
       "text": [
        "<matplotlib.figure.Figure at 0x7f2f9c847f10>"
       ]
      },
      {
       "metadata": {},
       "output_type": "display_data",
       "text": [
        "<matplotlib.figure.Figure at 0x7f2f9c870590>"
       ]
      },
      {
       "metadata": {},
       "output_type": "display_data",
       "text": [
        "<matplotlib.figure.Figure at 0x7f2f9c870bd0>"
       ]
      },
      {
       "metadata": {},
       "output_type": "display_data",
       "text": [
        "<matplotlib.figure.Figure at 0x7f2f9c9d7250>"
       ]
      },
      {
       "metadata": {},
       "output_type": "display_data",
       "text": [
        "<matplotlib.figure.Figure at 0x7f2f9c9d7890>"
       ]
      },
      {
       "metadata": {},
       "output_type": "display_data",
       "text": [
        "<matplotlib.figure.Figure at 0x7f2f9c9d7ed0>"
       ]
      },
      {
       "metadata": {},
       "output_type": "display_data",
       "text": [
        "<matplotlib.figure.Figure at 0x7f2f9c9bb550>"
       ]
      },
      {
       "metadata": {},
       "output_type": "display_data",
       "text": [
        "<matplotlib.figure.Figure at 0x7f2f9c9bbb90>"
       ]
      },
      {
       "metadata": {},
       "output_type": "display_data",
       "text": [
        "<matplotlib.figure.Figure at 0x7f2f9c9c5210>"
       ]
      },
      {
       "metadata": {},
       "output_type": "display_data",
       "text": [
        "<matplotlib.figure.Figure at 0x7f2f9c9c5850>"
       ]
      },
      {
       "metadata": {},
       "output_type": "display_data",
       "text": [
        "<matplotlib.figure.Figure at 0x7f2f9c9c5e90>"
       ]
      },
      {
       "metadata": {},
       "output_type": "display_data",
       "text": [
        "<matplotlib.figure.Figure at 0x7f2f9eccc510>"
       ]
      },
      {
       "metadata": {},
       "output_type": "display_data",
       "text": [
        "<matplotlib.figure.Figure at 0x7f2f9ecccb50>"
       ]
      },
      {
       "metadata": {},
       "output_type": "display_data",
       "text": [
        "<matplotlib.figure.Figure at 0x7f2f9ecc01d0>"
       ]
      },
      {
       "metadata": {},
       "output_type": "display_data",
       "text": [
        "<matplotlib.figure.Figure at 0x7f2f9ecc0810>"
       ]
      },
      {
       "metadata": {},
       "output_type": "display_data",
       "text": [
        "<matplotlib.figure.Figure at 0x7f2f9ecc0e50>"
       ]
      },
      {
       "metadata": {},
       "output_type": "display_data",
       "text": [
        "<matplotlib.figure.Figure at 0x7f2f9ecdd4d0>"
       ]
      },
      {
       "metadata": {},
       "output_type": "display_data",
       "text": [
        "<matplotlib.figure.Figure at 0x7f2f9ecddb10>"
       ]
      },
      {
       "metadata": {},
       "output_type": "display_data",
       "text": [
        "<matplotlib.figure.Figure at 0x7f2f9c913190>"
       ]
      },
      {
       "metadata": {},
       "output_type": "display_data",
       "text": [
        "<matplotlib.figure.Figure at 0x7f2f9c9137d0>"
       ]
      },
      {
       "metadata": {},
       "output_type": "display_data",
       "text": [
        "<matplotlib.figure.Figure at 0x7f2f9c913e10>"
       ]
      },
      {
       "metadata": {},
       "output_type": "display_data",
       "text": [
        "<matplotlib.figure.Figure at 0x7f2f9c923490>"
       ]
      },
      {
       "metadata": {},
       "output_type": "display_data",
       "text": [
        "<matplotlib.figure.Figure at 0x7f2f9c923ad0>"
       ]
      },
      {
       "metadata": {},
       "output_type": "display_data",
       "text": [
        "<matplotlib.figure.Figure at 0x7f2f9e8f2c50>"
       ]
      },
      {
       "metadata": {},
       "output_type": "display_data",
       "text": [
        "<matplotlib.figure.Figure at 0x7f2f9e8f21d0>"
       ]
      },
      {
       "metadata": {},
       "output_type": "display_data",
       "text": [
        "<matplotlib.figure.Figure at 0x7f2f9e8f2450>"
       ]
      },
      {
       "metadata": {},
       "output_type": "display_data",
       "text": [
        "<matplotlib.figure.Figure at 0x7f2f9e8c8450>"
       ]
      },
      {
       "metadata": {},
       "output_type": "display_data",
       "text": [
        "<matplotlib.figure.Figure at 0x7f2f9e8c8a90>"
       ]
      },
      {
       "metadata": {},
       "output_type": "display_data",
       "text": [
        "<matplotlib.figure.Figure at 0x7f2f9e8c7110>"
       ]
      },
      {
       "metadata": {},
       "output_type": "display_data",
       "text": [
        "<matplotlib.figure.Figure at 0x7f2f9e8c7750>"
       ]
      },
      {
       "metadata": {},
       "output_type": "display_data",
       "text": [
        "<matplotlib.figure.Figure at 0x7f2f9e8c7d90>"
       ]
      },
      {
       "metadata": {},
       "output_type": "display_data",
       "text": [
        "<matplotlib.figure.Figure at 0x7f2f9cc47410>"
       ]
      },
      {
       "metadata": {},
       "output_type": "display_data",
       "text": [
        "<matplotlib.figure.Figure at 0x7f2f9cc47a50>"
       ]
      },
      {
       "metadata": {},
       "output_type": "display_data",
       "text": [
        "<matplotlib.figure.Figure at 0x7f2f9cc3d0d0>"
       ]
      },
      {
       "metadata": {},
       "output_type": "display_data",
       "text": [
        "<matplotlib.figure.Figure at 0x7f2f9cc3d710>"
       ]
      },
      {
       "metadata": {},
       "output_type": "display_data",
       "text": [
        "<matplotlib.figure.Figure at 0x7f2f9cc3dd50>"
       ]
      },
      {
       "metadata": {},
       "output_type": "display_data",
       "text": [
        "<matplotlib.figure.Figure at 0x7f2f9cc453d0>"
       ]
      },
      {
       "metadata": {},
       "output_type": "display_data",
       "text": [
        "<matplotlib.figure.Figure at 0x7f2f9cc45a10>"
       ]
      },
      {
       "metadata": {},
       "output_type": "display_data",
       "text": [
        "<matplotlib.figure.Figure at 0x7f2f9cac5090>"
       ]
      },
      {
       "metadata": {},
       "output_type": "display_data",
       "text": [
        "<matplotlib.figure.Figure at 0x7f2f9cac56d0>"
       ]
      },
      {
       "metadata": {},
       "output_type": "display_data",
       "text": [
        "<matplotlib.figure.Figure at 0x7f2f9cac5d10>"
       ]
      },
      {
       "metadata": {},
       "output_type": "display_data",
       "text": [
        "<matplotlib.figure.Figure at 0x7f2f9cacb390>"
       ]
      },
      {
       "metadata": {},
       "output_type": "display_data",
       "text": [
        "<matplotlib.figure.Figure at 0x7f2f9cacb9d0>"
       ]
      },
      {
       "metadata": {},
       "output_type": "display_data",
       "text": [
        "<matplotlib.figure.Figure at 0x7f2f9cae8050>"
       ]
      },
      {
       "metadata": {},
       "output_type": "display_data",
       "text": [
        "<matplotlib.figure.Figure at 0x7f2f9cae8690>"
       ]
      },
      {
       "metadata": {},
       "output_type": "display_data",
       "text": [
        "<matplotlib.figure.Figure at 0x7f2f9cae8cd0>"
       ]
      },
      {
       "metadata": {},
       "output_type": "display_data",
       "text": [
        "<matplotlib.figure.Figure at 0x7f2f9cc76350>"
       ]
      },
      {
       "metadata": {},
       "output_type": "display_data",
       "text": [
        "<matplotlib.figure.Figure at 0x7f2f9cc76990>"
       ]
      },
      {
       "metadata": {},
       "output_type": "display_data",
       "text": [
        "<matplotlib.figure.Figure at 0x7f2f9cc76fd0>"
       ]
      },
      {
       "metadata": {},
       "output_type": "display_data",
       "text": [
        "<matplotlib.figure.Figure at 0x7f2f9ccaa650>"
       ]
      },
      {
       "metadata": {},
       "output_type": "display_data",
       "text": [
        "<matplotlib.figure.Figure at 0x7f2f9ccaac90>"
       ]
      },
      {
       "metadata": {},
       "output_type": "display_data",
       "text": [
        "<matplotlib.figure.Figure at 0x7f2f9cc9a310>"
       ]
      },
      {
       "metadata": {},
       "output_type": "display_data",
       "text": [
        "<matplotlib.figure.Figure at 0x7f2f9cc9a950>"
       ]
      }
     ],
     "prompt_number": 65
    },
    {
     "cell_type": "code",
     "collapsed": false,
     "input": [
      "print df.describe()"
     ],
     "language": "python",
     "metadata": {},
     "outputs": [
      {
       "output_type": "stream",
       "stream": "stdout",
       "text": [
        "         solidity  Eccentricity  curvature0  curvature1  curvature2  \\\n",
        "count  583.000000    583.000000  583.000000  583.000000  583.000000   \n",
        "mean     0.703242      0.131168    0.251204    0.312711    0.185487   \n",
        "std      0.273437      0.201978    0.207204    0.169814    0.130008   \n",
        "min      0.000000      0.000000    0.000000    0.000000    0.000000   \n",
        "25%      0.462016      0.009232    0.100000    0.204480    0.057041   \n",
        "50%      0.821177      0.042238    0.197552    0.322254    0.199643   \n",
        "75%      0.937259      0.100440    0.286713    0.415462    0.270053   \n",
        "max      1.000000      1.000000    1.000000    1.000000    1.000000   \n",
        "\n",
        "       curvature3  curvature4  curvature5  curvature6  curvature7  curvature8  \\\n",
        "count  583.000000  583.000000  583.000000  583.000000  583.000000  583.000000   \n",
        "mean     0.178702    0.122541    0.170082    0.128018    0.119165    0.097983   \n",
        "std      0.146848    0.129118    0.177413    0.158118    0.146106    0.119114   \n",
        "min      0.000000    0.000000    0.000000    0.000000    0.000000    0.000000   \n",
        "25%      0.052764    0.030208    0.029412    0.019934    0.024490    0.022599   \n",
        "50%      0.178392    0.104167    0.110294    0.076412    0.065306    0.050847   \n",
        "75%      0.263819    0.175000    0.257353    0.156146    0.171429    0.132768   \n",
        "max      1.000000    1.000000    1.000000    1.000000    1.000000    1.000000   \n",
        "\n",
        "       curvature9       class  \n",
        "count  583.000000  583.000000  \n",
        "mean     0.153054    4.200686  \n",
        "std      0.154096    2.620144  \n",
        "min      0.000000    0.000000  \n",
        "25%      0.057692    2.000000  \n",
        "50%      0.115385    4.000000  \n",
        "75%      0.192308    6.000000  \n",
        "max      1.000000    8.000000  \n"
       ]
      }
     ],
     "prompt_number": 66
    },
    {
     "cell_type": "code",
     "collapsed": false,
     "input": [
      "#\n",
      "# Your KNN code here\n",
      "#\n",
      "\n",
      "X = df[['solidity', 'Eccentricity', 'curvature0', 'curvature1', 'curvature2', 'curvature3', \n",
      "    'curvature4', 'curvature5', 'curvature6', 'curvature7', 'curvature8',\n",
      "    'curvature9']].as_matrix()\n",
      "y = df[['class']].as_matrix()\n",
      "print \"X shape : \", X.shape\n",
      "print \"y shape : \", y.shape\n",
      "\n",
      "\n",
      "from sklearn import cross_validation\n",
      "# train and test are indices arrays containing the indices of train/test samples\n",
      "X_train, X_test = cross_validation.train_test_split(np.arange(X.shape[0]), test_size=0.4, random_state=42)\n",
      "print \"X_train shape : \", X_train.shape\n",
      "print \"X_test shape : \", X_test.shape"
     ],
     "language": "python",
     "metadata": {},
     "outputs": [
      {
       "output_type": "stream",
       "stream": "stdout",
       "text": [
        "X shape :  (583, 12)\n",
        "y shape :  (583, 1)\n",
        "X_train shape :  (349,)\n",
        "X_test shape :  (234,)\n"
       ]
      }
     ],
     "prompt_number": 74
    },
    {
     "cell_type": "code",
     "collapsed": false,
     "input": [
      "from sklearn.neighbors import KNeighborsClassifier\n",
      "knn = KNeighborsClassifier()\n",
      "knn.fit(X[X_train], np.ravel(y[X_train]))\n",
      "KNeighborsClassifier(algorithm='auto', leaf_size=30, metric='minkowski',metric_params=None, n_neighbors=9, p=2, weights='uniform')"
     ],
     "language": "python",
     "metadata": {},
     "outputs": [
      {
       "metadata": {},
       "output_type": "pyout",
       "prompt_number": 75,
       "text": [
        "KNeighborsClassifier(algorithm='auto', leaf_size=30, metric='minkowski',\n",
        "           metric_params=None, n_neighbors=9, p=2, weights='uniform')"
       ]
      }
     ],
     "prompt_number": 75
    },
    {
     "cell_type": "code",
     "collapsed": false,
     "input": [
      "y_pred = knn.predict(X[X_test])\n",
      "y_test = y[X_test]"
     ],
     "language": "python",
     "metadata": {},
     "outputs": [],
     "prompt_number": 76
    },
    {
     "cell_type": "code",
     "collapsed": false,
     "input": [
      "# performance evaluation\n",
      "import sklearn.metrics as skmetrics\n",
      "from sklearn.metrics import confusion_matrix\n",
      "\n",
      "report = skmetrics.classification_report(y_test, y_pred,\n",
      "                                         labels=np.arange(len(np.unique(meta['classid']))),\n",
      "                                         target_names=np.unique(meta['classid']))\n",
      "confmat = confusion_matrix(y_test, y_pred)"
     ],
     "language": "python",
     "metadata": {},
     "outputs": [],
     "prompt_number": 77
    },
    {
     "cell_type": "code",
     "collapsed": false,
     "input": [
      "def plot_confusion_matrix(confmat, labels_names, ax=None, cmap=None):\n",
      "    \"\"\"Utility function to plot a confusion matrix\"\"\"\n",
      "    if ax is None:\n",
      "        ax = pl.subplot(111)\n",
      "    cmim = ax.matshow(confmat, interpolation='nearest', cmap=cmap)\n",
      "\n",
      "    for i in xrange(confmat.shape[0]):\n",
      "        for j in xrange(confmat.shape[1]):\n",
      "            ax.annotate(str(confmat[i, j]), xy=(j, i),\n",
      "                        horizontalalignment='center',\n",
      "                        verticalalignment='center',\n",
      "                        fontsize=8)\n",
      "    ax.set_xticks(np.arange(confmat.shape[0]))\n",
      "    ax.set_xticklabels([labels_names[l] for l in xrange(confmat.shape[0])], rotation='vertical')\n",
      "    ax.set_yticks(np.arange(confmat.shape[1]))\n",
      "    _ = ax.set_yticklabels([labels_names[l] for l in xrange(confmat.shape[1])])\n",
      "    ax.set_xlabel('predicted label')\n",
      "    ax.xaxis.set_label_position('top')\n",
      "    ax.set_ylabel('true label')\n",
      "    pl.colorbar(cmim, shrink=0.7, orientation='horizontal', pad=0.01)"
     ],
     "language": "python",
     "metadata": {},
     "outputs": [],
     "prompt_number": 78
    },
    {
     "cell_type": "code",
     "collapsed": false,
     "input": [
      "pl.figure(figsize=(10, 10))\n",
      "plot_confusion_matrix(confmat, np.unique(meta['classid']), cmap=cm.gray_r)"
     ],
     "language": "python",
     "metadata": {},
     "outputs": [
      {
       "metadata": {},
       "output_type": "display_data",
       "png": "[encoded data removed]",
       "text": [
        "<matplotlib.figure.Figure at 0x7f2f9ccaac10>"
       ]
      }
     ],
     "prompt_number": 79
    },
    {
     "cell_type": "code",
     "collapsed": false,
     "input": [
      "print report"
     ],
     "language": "python",
     "metadata": {},
     "outputs": [
      {
       "output_type": "stream",
       "stream": "stdout",
       "text": [
        "                         precision    recall  f1-score   support\n",
        "\n",
        "         acer campestre       0.80      0.96      0.87        25\n",
        "    ailanthus altissima       1.00      0.93      0.97        30\n",
        "        alnus glutinosa       0.67      0.50      0.57        12\n",
        "          arbutus unedo       0.71      0.88      0.78        33\n",
        "        castanea sativa       0.79      0.61      0.69        31\n",
        "liquidambar styraciflua       1.00      0.55      0.71        11\n",
        "        nerium oleander       1.00      1.00      1.00        38\n",
        "      quercus pubescens       0.76      0.83      0.79        23\n",
        "     vitex agnus-castus       0.94      1.00      0.97        31\n",
        "\n",
        "            avg / total       0.86      0.85      0.85       234\n",
        "\n"
       ]
      }
     ],
     "prompt_number": 80
    },
    {
     "cell_type": "heading",
     "level": 2,
     "metadata": {},
     "source": [
      "Multilayer Perceptron with pybrain"
     ]
    },
    {
     "cell_type": "markdown",
     "metadata": {},
     "source": [
      "**pybrain** is a python machine learning library (similar to scikit-learn) that implements artificial neural networks.\n",
      "\n",
      "Install pybrain with: \n",
      "\n",
      "    $ pip install pybrain\n",
      "\n",
      "The pybrain documentation has a tutorial on supervised classification with a feed-forward network :\n",
      "\n",
      "http://pybrain.org/docs/tutorial/fnn.html"
     ]
    },
    {
     "cell_type": "markdown",
     "metadata": {},
     "source": [
      "<p style=\"background-color:#660066; color:#fff;padding:5px; font-weight:bold\">Q: Train a feed-forward neural network to perform plant species classification.</p>\n",
      "    \n",
      "You will most likely need the following pybrain functions :\n",
      "\n",
      "    from pybrain.tools.shortcuts     import buildNetwork\n",
      "    from pybrain.supervised.trainers import BackpropTrainer\n",
      "    from pybrain.structure.modules   import SoftmaxLayer\n",
      "    from pybrain.utilities           import percentError\n",
      "    \n",
      "You have to build a network, then create a trainer for the network :\n",
      "\n",
      "    fnn = buildNetwork(ds_train.indim, n_hidden_units, ds_train.outdim, outclass=SoftmaxLayer)\n",
      "\n",
      "Then, you iterate a fixed number of time (epochs) and call trainer.trainEpochs(1) at each iteration.\n",
      "On each iteration, you should evaluate the performance of your network on you training and test set :\n",
      "\n",
      "    result_train = percentError(trainer.testOnClassData(),\n",
      "                                ds_train['class'] )\n",
      "    result_test = percentError(trainer.testOnClassData(\n",
      "           dataset=ds_test ), ds_test['class'] )\n",
      "           \n",
      "At the end of training, show a plot with the test and train error vs. epochs.\n",
      "\n",
      "The variable containing your network should be called *fnn* and we give you the code to run the trained network on the test set and plot a classification report and confusion matrix."
     ]
    },
    {
     "cell_type": "markdown",
     "metadata": {},
     "source": [
      "<p style=\"background-color:#660066; color:#fff;padding:5px; font-weight:bold\">Q: Play with the BackpropTrainer parameters.</p>\n",
      "Explore the backproptrainer parameters and try to find a good set of parameters. The main parameters are : *learningrate*, *momentum*, the number of hidden units in your network and the number of updates performed by the algorithm (epochs).\n",
      "\n",
      "Start by setting the number of units in the hidden layer (to something small, <20) and the number of epochs (50-150). Play with the learning rate (0.0-1.0) and momentum (0.0-1.0) and verify if the train and test errors decrease with the number of epochs (for example with a plot). You also want to avoid oscillations in the errors.\n",
      "\n",
      "<table>\n",
      "<tr><th>Bad</th><th>Good</th></tr>\n",
      "<tr>\n",
      "    <td><img width=\"300px\" src=\"files/bad_training.png\"></td>\n",
      "    <td><img width=\"300px\" src=\"files/good_training.png\"></td>\n",
      "</tr>\n",
      "</table>\n",
      "\n",
      "Once you have found good values for the learning rate and momentum, you can try modifying the number of epochs and the size of the hidden layer. On the one hand, you should choose a number of epochs so that the errors reaches a plateau, stopping the training when the error does not decrease anymore. On the other hand, you have to make your neural network sufficiently complex to obtain a good classification performance, while keeping it as simple as possible to avoid over-fitting.\n",
      "\n",
      "The classification performance will most likely be close to but lower than what you obtained with k-NN."
     ]
    },
    {
     "cell_type": "markdown",
     "metadata": {},
     "source": [
      "<p style=\"background-color:#660066; color:#fff;padding:5px; font-weight:bold\">Q: Answer the following questions :</p>\n",
      "\n",
      "- How many output units are there in the network you trained ? Why ?\n",
      "- How many parameters (weights and biases) are there in your network ? Why ?\n",
      "    - hint: you can use *fnn.params* to get the parameters of your network"
     ]
    },
    {
     "cell_type": "markdown",
     "metadata": {},
     "source": [
      "*pybrain* uses its own dataset class. To simplify things, we provide example code to transform X_train, y_train, X_test, y_test into a two pybrain dataset objects : *ds_train* and *ds_test* ."
     ]
    },
    {
     "cell_type": "code",
     "collapsed": false,
     "input": [
      "import pybrain\n",
      "from pybrain.datasets import ClassificationDataSet\n",
      "from sklearn.preprocessing import MultiLabelBinarizer\n",
      "\n",
      "# turns integer labels vector like [0, 2, 3, 2] into a binary\n",
      "# matrix [[1, 0, 0, 0],\n",
      "#         [0, 0, 1, 0],\n",
      "#         [0, 0, 0, 1],\n",
      "#         [0, 0, 1, 0]]\n",
      "binarizer = MultiLabelBinarizer().fit(y.reshape(-1, 1))\n",
      "\n",
      "def pybrain_ds_from_Xy(X, y, binarizer):\n",
      "    \"\"\"\n",
      "    Args:\n",
      "        binarizer: A MultiLabelBinarizer instance\n",
      "    \"\"\"\n",
      "    ds = ClassificationDataSet(X.shape[1], nb_classes=len(lencoder.classes_), class_labels=lencoder.classes_)\n",
      "    ds.setField('input', X)\n",
      "    ds.setField('class', y.reshape(-1, 1))\n",
      "    ds.setField('target', binarizer.transform(y.reshape(-1, 1)))\n",
      "    \n",
      "    #print '--'\n",
      "    #print \"class  :\\n\", ds['class'][5:10]\n",
      "    #print \"target :\\n\", ds['target'][5:10]\n",
      "    #print \"y      :\\n\", y[5:10]\n",
      "    \n",
      "    return ds\n",
      "\n",
      "def print_ds(ds):\n",
      "    print \"Number of training patterns: \", len(ds)\n",
      "    print \"Input and output dimensions: \", ds.indim, ds.outdim\n",
      "    print \"First sample (input, target, class):\"\n",
      "    print ds['input'][10], ds['target'][10], ds['class'][10]\n",
      "    print ds['input'][55], ds['target'][55], ds['class'][55]\n",
      "\n",
      "ds_train = pybrain_ds_from_Xy(X_train, y_train, binarizer)\n",
      "ds_test = pybrain_ds_from_Xy(X_test, y_test, binarizer)"
     ],
     "language": "python",
     "metadata": {},
     "outputs": []
    },
    {
     "cell_type": "code",
     "collapsed": false,
     "input": [
      "print '-- train'\n",
      "print_ds(ds_train)\n",
      "print '-- test'\n",
      "print_ds(ds_test)"
     ],
     "language": "python",
     "metadata": {},
     "outputs": []
    },
    {
     "cell_type": "code",
     "collapsed": false,
     "input": [
      "#\n",
      "# Your neural network code here\n",
      "#\n",
      "\n",
      "from pybrain.tools.shortcuts     import buildNetwork\n",
      "from pybrain.supervised.trainers import BackpropTrainer\n",
      "from pybrain.structure.modules   import SoftmaxLayer\n",
      "from pybrain.utilities           import percentError\n",
      "\n",
      "\n",
      "X_IN = df[['solidity', 'Eccentricity', 'curvature0', 'curvature1', 'curvature2', 'curvature3', \n",
      "    'curvature4', 'curvature5', 'curvature6', 'curvature7', 'curvature8',\n",
      "    'curvature9']].as_matrix()\n",
      "\n",
      "y_OUT = df[['classid']].as_matrix()\n",
      "\n",
      "nbrOut = len(meta['classid'])\n",
      "nbrIn = len(X_IN)\n",
      "\n",
      "alldata = pybrain_ds_from_Xy(X_IN,y_OUT,binarizer)\n",
      "tstdata, trndata = alldata.splitWithProportion( 0.25 )\n",
      "trndata._convertToOneOfMany( )\n",
      "tstdata._convertToOneOfMany( )\n",
      " \n",
      "n_hidden_units = 5\n",
      "\n",
      "fnn =  buildNetwork(trndata.indim, n_hidden_units, trndata.outdim, outclass=SoftmaxLayer)\n",
      "trainer = BackpropTrainer( fnn, dataset=trndata, momentum=0.1, verbose=True, weightdecay=0.01)\n",
      "\n",
      "for i in range(20):\n",
      "    trainer.trainEpochs( 1 )\n",
      "\n"
     ],
     "language": "python",
     "metadata": {},
     "outputs": []
    },
    {
     "cell_type": "code",
     "collapsed": false,
     "input": [
      "out = fnn.activateOnDataset(ds_test)\n",
      "out = out.argmax(axis=1)  # the highest output activation gives the class\n",
      "y_pred_nn = out.reshape(y_test.shape)"
     ],
     "language": "python",
     "metadata": {},
     "outputs": []
    },
    {
     "cell_type": "code",
     "collapsed": false,
     "input": [
      "report_nn = skmetrics.classification_report(y_test, y_pred_nn,\n",
      "                                         labels=np.arange(len(lencoder.classes_)),\n",
      "                                         target_names=lencoder.classes_)\n",
      "confmat_nn = confusion_matrix(y_test, y_pred_nn)"
     ],
     "language": "python",
     "metadata": {},
     "outputs": []
    },
    {
     "cell_type": "code",
     "collapsed": false,
     "input": [
      "pl.figure(figsize=(10, 10))\n",
      "plot_confusion_matrix(confmat_nn, lencoder.classes_, cmap=cm.gray_r)"
     ],
     "language": "python",
     "metadata": {},
     "outputs": []
    },
    {
     "cell_type": "code",
     "collapsed": false,
     "input": [
      "print report_nn"
     ],
     "language": "python",
     "metadata": {},
     "outputs": []
    }
   ],
   "metadata": {}
  }
 ]
}